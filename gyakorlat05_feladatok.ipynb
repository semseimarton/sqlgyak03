{
    "metadata": {
        "kernelspec": {
            "name": "SQL",
            "display_name": "SQL",
            "language": "sql"
        },
        "language_info": {
            "name": "sql",
            "version": ""
        }
    },
    "nbformat_minor": 2,
    "nbformat": 4,
    "cells": [
        {
            "cell_type": "markdown",
            "source": [
                "1. <span style=\"color: rgb(36, 41, 47); font-family: -apple-system, BlinkMacSystemFont, &quot;Segoe UI&quot;, Helvetica, Arial, sans-serif, &quot;Apple Color Emoji&quot;, &quot;Segoe UI Emoji&quot;; font-size: 16px;\">Készítsünk listát éves bontásban norbert2 azonosítójú ügyfél rendeléseinek értékéről!</span>\n",
                "\n",
                "1. A lista megfelelően jelölve tartalmazza a végösszeget is!"
            ],
            "metadata": {
                "azdata_cell_guid": "363cd270-6577-449b-9c89-d4b7c7972d52"
            },
            "attachments": {}
        },
        {
            "cell_type": "code",
            "source": [
                "SELECT  IIF(GROUPING_ID(YEAR(r.REND_DATUM)) = 1,\r\n",
                "        'Összesen', CAST(YEAR(r.REND_DATUM) as NVARCHAR(4))),\r\n",
                "        SUM(rt.MENNYISEG * rt.EGYSEGAR)\r\n",
                "FROM Rendeles r JOIN Rendeles_tetel rt\r\n",
                "    ON r.SORSZAM = rt.SORSZAM\r\n",
                "WHERE r.[LOGIN] = 'norbert2'\r\n",
                "GROUP BY ROLLUP(YEAR(r.REND_DATUM))"
            ],
            "metadata": {
                "azdata_cell_guid": "6ab9f633-a3b5-48c9-a1dc-4fb8235ae85b",
                "language": "sql"
            },
            "outputs": [
                {
                    "output_type": "display_data",
                    "data": {
                        "text/html": "(3 rows affected)"
                    },
                    "metadata": {}
                },
                {
                    "output_type": "display_data",
                    "data": {
                        "text/html": "Total execution time: 00:00:00.018"
                    },
                    "metadata": {}
                },
                {
                    "output_type": "execute_result",
                    "metadata": {},
                    "execution_count": 2,
                    "data": {
                        "application/vnd.dataresource+json": {
                            "schema": {
                                "fields": [
                                    {
                                        "name": "(No column name)"
                                    },
                                    {
                                        "name": "(No column name)"
                                    }
                                ]
                            },
                            "data": [
                                {
                                    "(No column name)": "483473"
                                },
                                {
                                    "(No column name)": "614340"
                                },
                                {
                                    "(No column name)": "1097813"
                                }
                            ]
                        },
                        "text/html": [
                            "<table>",
                            "<tr><th>(No column name)</th><th>(No column name)</th></tr>",
                            "<tr><td>2015</td><td>483473</td></tr>",
                            "<tr><td>2017</td><td>614340</td></tr>",
                            "<tr><td>Összesen</td><td>1097813</td></tr>",
                            "</table>"
                        ]
                    }
                }
            ],
            "execution_count": 2
        },
        {
            "cell_type": "markdown",
            "source": [
                "2. <span style=\"color: rgb(36, 41, 47); font-family: -apple-system, BlinkMacSystemFont, &quot;Segoe UI&quot;, Helvetica, Arial, sans-serif, &quot;Apple Color Emoji&quot;, &quot;Segoe UI Emoji&quot;; font-size: 16px;\">Készítsünk listát szállítási dátumonként, azon belül szállítási módonként az egyes rendelések összmennyiségéről!</span>\n",
                "\n",
                "1. Csak azokat a termékeket vegyük figyelembe, amelyek mennyiségi egysége db!\n",
                "2. A listát szűrjük úgy, hogy az csak a részösszeg sorokat és a végösszeget tartalmazza!"
            ],
            "metadata": {
                "azdata_cell_guid": "ea75c103-911f-41a3-a32c-3d40fb3e4e4a"
            },
            "attachments": {}
        },
        {
            "cell_type": "code",
            "source": [
                "SELECT r.SZALL_DATUM,\r\n",
                "r.SZALL_MOD\r\n",
                "FROM Rendeles r JOIN Rendeles_tetel rt\r\n",
                "    ON r.SORSZAM = rt.SORSZAM\r\n",
                "    JOIN Termek t ON rt.TERMEKKOD = t.TERMEKKOD\r\n",
                "WHERE t.MEGYS = 'db'\r\n",
                "GROUP BY ROLLUP(r.SZALL_DATUM, r.SZALL_MOD)\r\n",
                "HAVING GROUPING_ID(r.SZALL_DATUM, r.SZALL_MOD) > 0"
            ],
            "metadata": {
                "azdata_cell_guid": "222b9618-a8e8-42b4-a8e8-d002257122b7",
                "language": "sql"
            },
            "outputs": [
                {
                    "output_type": "display_data",
                    "data": {
                        "text/html": "(711 rows affected)"
                    },
                    "metadata": {}
                },
                {
                    "output_type": "display_data",
                    "data": {
                        "text/html": "Total execution time: 00:00:00.205"
                    },
                    "metadata": {}
                },
                {
                    "output_type": "execute_result",
                    "metadata": {},
                    "execution_count": 3,
                    "data": {
                        "application/vnd.dataresource+json": {
                            "schema": {
                                "fields": [
                                    {
                                        "name": "SZALL_DATUM"
                                    },
                                    {
                                        "name": "SZALL_MOD"
                                    }
                                ]
                            },
                            "data": [
                                {
                                    "SZALL_DATUM": "2015-05-03",
                                    "SZALL_MOD": "NULL"
                                },
                                {
                                    "SZALL_DATUM": "2015-05-04",
                                    "SZALL_MOD": "NULL"
                                },
                                {
                                    "SZALL_DATUM": "2015-05-05",
                                    "SZALL_MOD": "NULL"
                                },
                                {
                                    "SZALL_DATUM": "2015-05-06",
                                    "SZALL_MOD": "NULL"
                                },
                                {
                                    "SZALL_DATUM": "2015-05-07",
                                    "SZALL_MOD": "NULL"
                                },
                                {
                                    "SZALL_DATUM": "2015-05-08",
                                    "SZALL_MOD": "NULL"
                                },
                                {
                                    "SZALL_DATUM": "2015-05-09",
                                    "SZALL_MOD": "NULL"
                                },
                                {
                                    "SZALL_DATUM": "2015-05-10",
                                    "SZALL_MOD": "NULL"
                                },
                                {
                                    "SZALL_DATUM": "2015-05-11",
                                    "SZALL_MOD": "NULL"
                                },
                                {
                                    "SZALL_DATUM": "2015-05-12",
                                    "SZALL_MOD": "NULL"
                                },
                                {
                                    "SZALL_DATUM": "2015-05-13",
                                    "SZALL_MOD": "NULL"
                                },
                                {
                                    "SZALL_DATUM": "2015-05-14",
                                    "SZALL_MOD": "NULL"
                                },
                                {
                                    "SZALL_DATUM": "2015-05-15",
                                    "SZALL_MOD": "NULL"
                                },
                                {
                                    "SZALL_DATUM": "2015-05-16",
                                    "SZALL_MOD": "NULL"
                                },
                                {
                                    "SZALL_DATUM": "2015-05-17",
                                    "SZALL_MOD": "NULL"
                                },
                                {
                                    "SZALL_DATUM": "2015-05-18",
                                    "SZALL_MOD": "NULL"
                                },
                                {
                                    "SZALL_DATUM": "2015-05-19",
                                    "SZALL_MOD": "NULL"
                                },
                                {
                                    "SZALL_DATUM": "2015-05-20",
                                    "SZALL_MOD": "NULL"
                                },
                                {
                                    "SZALL_DATUM": "2015-05-21",
                                    "SZALL_MOD": "NULL"
                                },
                                {
                                    "SZALL_DATUM": "2015-05-22",
                                    "SZALL_MOD": "NULL"
                                },
                                {
                                    "SZALL_DATUM": "2015-05-23",
                                    "SZALL_MOD": "NULL"
                                },
                                {
                                    "SZALL_DATUM": "2015-05-24",
                                    "SZALL_MOD": "NULL"
                                },
                                {
                                    "SZALL_DATUM": "2015-05-25",
                                    "SZALL_MOD": "NULL"
                                },
                                {
                                    "SZALL_DATUM": "2015-05-26",
                                    "SZALL_MOD": "NULL"
                                },
                                {
                                    "SZALL_DATUM": "2015-05-27",
                                    "SZALL_MOD": "NULL"
                                },
                                {
                                    "SZALL_DATUM": "2015-05-28",
                                    "SZALL_MOD": "NULL"
                                },
                                {
                                    "SZALL_DATUM": "2015-05-29",
                                    "SZALL_MOD": "NULL"
                                },
                                {
                                    "SZALL_DATUM": "2015-05-30",
                                    "SZALL_MOD": "NULL"
                                },
                                {
                                    "SZALL_DATUM": "2015-05-31",
                                    "SZALL_MOD": "NULL"
                                },
                                {
                                    "SZALL_DATUM": "2015-06-01",
                                    "SZALL_MOD": "NULL"
                                },
                                {
                                    "SZALL_DATUM": "2015-06-02",
                                    "SZALL_MOD": "NULL"
                                },
                                {
                                    "SZALL_DATUM": "2015-06-03",
                                    "SZALL_MOD": "NULL"
                                },
                                {
                                    "SZALL_DATUM": "2015-06-04",
                                    "SZALL_MOD": "NULL"
                                },
                                {
                                    "SZALL_DATUM": "2015-06-05",
                                    "SZALL_MOD": "NULL"
                                },
                                {
                                    "SZALL_DATUM": "2015-06-06",
                                    "SZALL_MOD": "NULL"
                                },
                                {
                                    "SZALL_DATUM": "2015-06-07",
                                    "SZALL_MOD": "NULL"
                                },
                                {
                                    "SZALL_DATUM": "2015-06-08",
                                    "SZALL_MOD": "NULL"
                                },
                                {
                                    "SZALL_DATUM": "2015-06-09",
                                    "SZALL_MOD": "NULL"
                                },
                                {
                                    "SZALL_DATUM": "2015-06-10",
                                    "SZALL_MOD": "NULL"
                                },
                                {
                                    "SZALL_DATUM": "2015-06-11",
                                    "SZALL_MOD": "NULL"
                                },
                                {
                                    "SZALL_DATUM": "2015-06-12",
                                    "SZALL_MOD": "NULL"
                                },
                                {
                                    "SZALL_DATUM": "2015-06-13",
                                    "SZALL_MOD": "NULL"
                                },
                                {
                                    "SZALL_DATUM": "2015-06-14",
                                    "SZALL_MOD": "NULL"
                                },
                                {
                                    "SZALL_DATUM": "2015-06-15",
                                    "SZALL_MOD": "NULL"
                                },
                                {
                                    "SZALL_DATUM": "2015-06-16",
                                    "SZALL_MOD": "NULL"
                                },
                                {
                                    "SZALL_DATUM": "2015-06-17",
                                    "SZALL_MOD": "NULL"
                                },
                                {
                                    "SZALL_DATUM": "2015-06-18",
                                    "SZALL_MOD": "NULL"
                                },
                                {
                                    "SZALL_DATUM": "2015-06-19",
                                    "SZALL_MOD": "NULL"
                                },
                                {
                                    "SZALL_DATUM": "2015-06-20",
                                    "SZALL_MOD": "NULL"
                                },
                                {
                                    "SZALL_DATUM": "2015-06-21",
                                    "SZALL_MOD": "NULL"
                                },
                                {
                                    "SZALL_DATUM": "2015-06-22",
                                    "SZALL_MOD": "NULL"
                                },
                                {
                                    "SZALL_DATUM": "2015-06-23",
                                    "SZALL_MOD": "NULL"
                                },
                                {
                                    "SZALL_DATUM": "2015-06-24",
                                    "SZALL_MOD": "NULL"
                                },
                                {
                                    "SZALL_DATUM": "2015-06-25",
                                    "SZALL_MOD": "NULL"
                                },
                                {
                                    "SZALL_DATUM": "2015-06-26",
                                    "SZALL_MOD": "NULL"
                                },
                                {
                                    "SZALL_DATUM": "2015-06-27",
                                    "SZALL_MOD": "NULL"
                                },
                                {
                                    "SZALL_DATUM": "2015-06-28",
                                    "SZALL_MOD": "NULL"
                                },
                                {
                                    "SZALL_DATUM": "2015-06-29",
                                    "SZALL_MOD": "NULL"
                                },
                                {
                                    "SZALL_DATUM": "2015-06-30",
                                    "SZALL_MOD": "NULL"
                                },
                                {
                                    "SZALL_DATUM": "2015-07-01",
                                    "SZALL_MOD": "NULL"
                                },
                                {
                                    "SZALL_DATUM": "2015-07-02",
                                    "SZALL_MOD": "NULL"
                                },
                                {
                                    "SZALL_DATUM": "2015-07-03",
                                    "SZALL_MOD": "NULL"
                                },
                                {
                                    "SZALL_DATUM": "2015-07-04",
                                    "SZALL_MOD": "NULL"
                                },
                                {
                                    "SZALL_DATUM": "2015-07-05",
                                    "SZALL_MOD": "NULL"
                                },
                                {
                                    "SZALL_DATUM": "2015-07-06",
                                    "SZALL_MOD": "NULL"
                                },
                                {
                                    "SZALL_DATUM": "2015-07-07",
                                    "SZALL_MOD": "NULL"
                                },
                                {
                                    "SZALL_DATUM": "2015-07-08",
                                    "SZALL_MOD": "NULL"
                                },
                                {
                                    "SZALL_DATUM": "2015-07-09",
                                    "SZALL_MOD": "NULL"
                                },
                                {
                                    "SZALL_DATUM": "2015-07-10",
                                    "SZALL_MOD": "NULL"
                                },
                                {
                                    "SZALL_DATUM": "2015-07-11",
                                    "SZALL_MOD": "NULL"
                                },
                                {
                                    "SZALL_DATUM": "2015-07-12",
                                    "SZALL_MOD": "NULL"
                                },
                                {
                                    "SZALL_DATUM": "2015-07-13",
                                    "SZALL_MOD": "NULL"
                                },
                                {
                                    "SZALL_DATUM": "2015-07-14",
                                    "SZALL_MOD": "NULL"
                                },
                                {
                                    "SZALL_DATUM": "2015-07-15",
                                    "SZALL_MOD": "NULL"
                                },
                                {
                                    "SZALL_DATUM": "2015-07-16",
                                    "SZALL_MOD": "NULL"
                                },
                                {
                                    "SZALL_DATUM": "2015-07-17",
                                    "SZALL_MOD": "NULL"
                                },
                                {
                                    "SZALL_DATUM": "2015-07-18",
                                    "SZALL_MOD": "NULL"
                                },
                                {
                                    "SZALL_DATUM": "2015-07-19",
                                    "SZALL_MOD": "NULL"
                                },
                                {
                                    "SZALL_DATUM": "2015-07-20",
                                    "SZALL_MOD": "NULL"
                                },
                                {
                                    "SZALL_DATUM": "2015-07-21",
                                    "SZALL_MOD": "NULL"
                                },
                                {
                                    "SZALL_DATUM": "2015-07-22",
                                    "SZALL_MOD": "NULL"
                                },
                                {
                                    "SZALL_DATUM": "2015-07-23",
                                    "SZALL_MOD": "NULL"
                                },
                                {
                                    "SZALL_DATUM": "2015-07-24",
                                    "SZALL_MOD": "NULL"
                                },
                                {
                                    "SZALL_DATUM": "2015-07-25",
                                    "SZALL_MOD": "NULL"
                                },
                                {
                                    "SZALL_DATUM": "2015-07-26",
                                    "SZALL_MOD": "NULL"
                                },
                                {
                                    "SZALL_DATUM": "2015-07-27",
                                    "SZALL_MOD": "NULL"
                                },
                                {
                                    "SZALL_DATUM": "2015-07-28",
                                    "SZALL_MOD": "NULL"
                                },
                                {
                                    "SZALL_DATUM": "2015-07-29",
                                    "SZALL_MOD": "NULL"
                                },
                                {
                                    "SZALL_DATUM": "2015-07-30",
                                    "SZALL_MOD": "NULL"
                                },
                                {
                                    "SZALL_DATUM": "2015-07-31",
                                    "SZALL_MOD": "NULL"
                                },
                                {
                                    "SZALL_DATUM": "2015-08-01",
                                    "SZALL_MOD": "NULL"
                                },
                                {
                                    "SZALL_DATUM": "2015-08-02",
                                    "SZALL_MOD": "NULL"
                                },
                                {
                                    "SZALL_DATUM": "2015-08-03",
                                    "SZALL_MOD": "NULL"
                                },
                                {
                                    "SZALL_DATUM": "2015-08-04",
                                    "SZALL_MOD": "NULL"
                                },
                                {
                                    "SZALL_DATUM": "2015-08-05",
                                    "SZALL_MOD": "NULL"
                                },
                                {
                                    "SZALL_DATUM": "2015-08-06",
                                    "SZALL_MOD": "NULL"
                                },
                                {
                                    "SZALL_DATUM": "2015-08-07",
                                    "SZALL_MOD": "NULL"
                                },
                                {
                                    "SZALL_DATUM": "2015-08-08",
                                    "SZALL_MOD": "NULL"
                                },
                                {
                                    "SZALL_DATUM": "2015-08-09",
                                    "SZALL_MOD": "NULL"
                                },
                                {
                                    "SZALL_DATUM": "2015-08-10",
                                    "SZALL_MOD": "NULL"
                                },
                                {
                                    "SZALL_DATUM": "2015-08-11",
                                    "SZALL_MOD": "NULL"
                                },
                                {
                                    "SZALL_DATUM": "2015-08-12",
                                    "SZALL_MOD": "NULL"
                                },
                                {
                                    "SZALL_DATUM": "2015-08-13",
                                    "SZALL_MOD": "NULL"
                                },
                                {
                                    "SZALL_DATUM": "2015-08-14",
                                    "SZALL_MOD": "NULL"
                                },
                                {
                                    "SZALL_DATUM": "2015-08-15",
                                    "SZALL_MOD": "NULL"
                                },
                                {
                                    "SZALL_DATUM": "2015-08-16",
                                    "SZALL_MOD": "NULL"
                                },
                                {
                                    "SZALL_DATUM": "2015-08-17",
                                    "SZALL_MOD": "NULL"
                                },
                                {
                                    "SZALL_DATUM": "2015-08-18",
                                    "SZALL_MOD": "NULL"
                                },
                                {
                                    "SZALL_DATUM": "2015-08-19",
                                    "SZALL_MOD": "NULL"
                                },
                                {
                                    "SZALL_DATUM": "2015-08-20",
                                    "SZALL_MOD": "NULL"
                                },
                                {
                                    "SZALL_DATUM": "2015-08-21",
                                    "SZALL_MOD": "NULL"
                                },
                                {
                                    "SZALL_DATUM": "2015-08-22",
                                    "SZALL_MOD": "NULL"
                                },
                                {
                                    "SZALL_DATUM": "2015-08-23",
                                    "SZALL_MOD": "NULL"
                                },
                                {
                                    "SZALL_DATUM": "2015-08-24",
                                    "SZALL_MOD": "NULL"
                                },
                                {
                                    "SZALL_DATUM": "2015-08-25",
                                    "SZALL_MOD": "NULL"
                                },
                                {
                                    "SZALL_DATUM": "2015-08-26",
                                    "SZALL_MOD": "NULL"
                                },
                                {
                                    "SZALL_DATUM": "2015-08-27",
                                    "SZALL_MOD": "NULL"
                                },
                                {
                                    "SZALL_DATUM": "2015-08-28",
                                    "SZALL_MOD": "NULL"
                                },
                                {
                                    "SZALL_DATUM": "2015-08-29",
                                    "SZALL_MOD": "NULL"
                                },
                                {
                                    "SZALL_DATUM": "2015-08-30",
                                    "SZALL_MOD": "NULL"
                                },
                                {
                                    "SZALL_DATUM": "2015-08-31",
                                    "SZALL_MOD": "NULL"
                                },
                                {
                                    "SZALL_DATUM": "2015-09-01",
                                    "SZALL_MOD": "NULL"
                                },
                                {
                                    "SZALL_DATUM": "2015-09-02",
                                    "SZALL_MOD": "NULL"
                                },
                                {
                                    "SZALL_DATUM": "2015-09-03",
                                    "SZALL_MOD": "NULL"
                                },
                                {
                                    "SZALL_DATUM": "2015-09-04",
                                    "SZALL_MOD": "NULL"
                                },
                                {
                                    "SZALL_DATUM": "2015-09-05",
                                    "SZALL_MOD": "NULL"
                                },
                                {
                                    "SZALL_DATUM": "2015-09-06",
                                    "SZALL_MOD": "NULL"
                                },
                                {
                                    "SZALL_DATUM": "2015-09-07",
                                    "SZALL_MOD": "NULL"
                                },
                                {
                                    "SZALL_DATUM": "2015-09-08",
                                    "SZALL_MOD": "NULL"
                                },
                                {
                                    "SZALL_DATUM": "2015-09-09",
                                    "SZALL_MOD": "NULL"
                                },
                                {
                                    "SZALL_DATUM": "2015-09-10",
                                    "SZALL_MOD": "NULL"
                                },
                                {
                                    "SZALL_DATUM": "2015-09-11",
                                    "SZALL_MOD": "NULL"
                                },
                                {
                                    "SZALL_DATUM": "2015-09-12",
                                    "SZALL_MOD": "NULL"
                                },
                                {
                                    "SZALL_DATUM": "2015-09-13",
                                    "SZALL_MOD": "NULL"
                                },
                                {
                                    "SZALL_DATUM": "2015-09-14",
                                    "SZALL_MOD": "NULL"
                                },
                                {
                                    "SZALL_DATUM": "2015-09-15",
                                    "SZALL_MOD": "NULL"
                                },
                                {
                                    "SZALL_DATUM": "2015-09-16",
                                    "SZALL_MOD": "NULL"
                                },
                                {
                                    "SZALL_DATUM": "2015-09-17",
                                    "SZALL_MOD": "NULL"
                                },
                                {
                                    "SZALL_DATUM": "2015-09-18",
                                    "SZALL_MOD": "NULL"
                                },
                                {
                                    "SZALL_DATUM": "2015-09-19",
                                    "SZALL_MOD": "NULL"
                                },
                                {
                                    "SZALL_DATUM": "2015-09-20",
                                    "SZALL_MOD": "NULL"
                                },
                                {
                                    "SZALL_DATUM": "2015-09-21",
                                    "SZALL_MOD": "NULL"
                                },
                                {
                                    "SZALL_DATUM": "2015-09-22",
                                    "SZALL_MOD": "NULL"
                                },
                                {
                                    "SZALL_DATUM": "2015-09-23",
                                    "SZALL_MOD": "NULL"
                                },
                                {
                                    "SZALL_DATUM": "2015-09-24",
                                    "SZALL_MOD": "NULL"
                                },
                                {
                                    "SZALL_DATUM": "2015-09-25",
                                    "SZALL_MOD": "NULL"
                                },
                                {
                                    "SZALL_DATUM": "2015-09-26",
                                    "SZALL_MOD": "NULL"
                                },
                                {
                                    "SZALL_DATUM": "2015-09-27",
                                    "SZALL_MOD": "NULL"
                                },
                                {
                                    "SZALL_DATUM": "2015-09-28",
                                    "SZALL_MOD": "NULL"
                                },
                                {
                                    "SZALL_DATUM": "2015-09-29",
                                    "SZALL_MOD": "NULL"
                                },
                                {
                                    "SZALL_DATUM": "2015-09-30",
                                    "SZALL_MOD": "NULL"
                                },
                                {
                                    "SZALL_DATUM": "2015-10-01",
                                    "SZALL_MOD": "NULL"
                                },
                                {
                                    "SZALL_DATUM": "2015-10-02",
                                    "SZALL_MOD": "NULL"
                                },
                                {
                                    "SZALL_DATUM": "2015-10-03",
                                    "SZALL_MOD": "NULL"
                                },
                                {
                                    "SZALL_DATUM": "2015-10-04",
                                    "SZALL_MOD": "NULL"
                                },
                                {
                                    "SZALL_DATUM": "2015-10-05",
                                    "SZALL_MOD": "NULL"
                                },
                                {
                                    "SZALL_DATUM": "2015-10-06",
                                    "SZALL_MOD": "NULL"
                                },
                                {
                                    "SZALL_DATUM": "2015-10-07",
                                    "SZALL_MOD": "NULL"
                                },
                                {
                                    "SZALL_DATUM": "2015-10-08",
                                    "SZALL_MOD": "NULL"
                                },
                                {
                                    "SZALL_DATUM": "2015-10-09",
                                    "SZALL_MOD": "NULL"
                                },
                                {
                                    "SZALL_DATUM": "2015-10-10",
                                    "SZALL_MOD": "NULL"
                                },
                                {
                                    "SZALL_DATUM": "2015-10-11",
                                    "SZALL_MOD": "NULL"
                                },
                                {
                                    "SZALL_DATUM": "2015-10-12",
                                    "SZALL_MOD": "NULL"
                                },
                                {
                                    "SZALL_DATUM": "2015-10-13",
                                    "SZALL_MOD": "NULL"
                                },
                                {
                                    "SZALL_DATUM": "2015-10-14",
                                    "SZALL_MOD": "NULL"
                                },
                                {
                                    "SZALL_DATUM": "2015-10-15",
                                    "SZALL_MOD": "NULL"
                                },
                                {
                                    "SZALL_DATUM": "2015-10-16",
                                    "SZALL_MOD": "NULL"
                                },
                                {
                                    "SZALL_DATUM": "2015-10-17",
                                    "SZALL_MOD": "NULL"
                                },
                                {
                                    "SZALL_DATUM": "2015-10-18",
                                    "SZALL_MOD": "NULL"
                                },
                                {
                                    "SZALL_DATUM": "2015-10-19",
                                    "SZALL_MOD": "NULL"
                                },
                                {
                                    "SZALL_DATUM": "2015-10-20",
                                    "SZALL_MOD": "NULL"
                                },
                                {
                                    "SZALL_DATUM": "2015-10-21",
                                    "SZALL_MOD": "NULL"
                                },
                                {
                                    "SZALL_DATUM": "2015-10-22",
                                    "SZALL_MOD": "NULL"
                                },
                                {
                                    "SZALL_DATUM": "2015-10-23",
                                    "SZALL_MOD": "NULL"
                                },
                                {
                                    "SZALL_DATUM": "2015-10-24",
                                    "SZALL_MOD": "NULL"
                                },
                                {
                                    "SZALL_DATUM": "2015-10-25",
                                    "SZALL_MOD": "NULL"
                                },
                                {
                                    "SZALL_DATUM": "2015-10-26",
                                    "SZALL_MOD": "NULL"
                                },
                                {
                                    "SZALL_DATUM": "2015-10-27",
                                    "SZALL_MOD": "NULL"
                                },
                                {
                                    "SZALL_DATUM": "2015-10-28",
                                    "SZALL_MOD": "NULL"
                                },
                                {
                                    "SZALL_DATUM": "2015-10-29",
                                    "SZALL_MOD": "NULL"
                                },
                                {
                                    "SZALL_DATUM": "2015-10-30",
                                    "SZALL_MOD": "NULL"
                                },
                                {
                                    "SZALL_DATUM": "2015-10-31",
                                    "SZALL_MOD": "NULL"
                                },
                                {
                                    "SZALL_DATUM": "2015-11-01",
                                    "SZALL_MOD": "NULL"
                                },
                                {
                                    "SZALL_DATUM": "2015-11-02",
                                    "SZALL_MOD": "NULL"
                                },
                                {
                                    "SZALL_DATUM": "2015-11-03",
                                    "SZALL_MOD": "NULL"
                                },
                                {
                                    "SZALL_DATUM": "2015-11-04",
                                    "SZALL_MOD": "NULL"
                                },
                                {
                                    "SZALL_DATUM": "2015-11-05",
                                    "SZALL_MOD": "NULL"
                                },
                                {
                                    "SZALL_DATUM": "2015-11-06",
                                    "SZALL_MOD": "NULL"
                                },
                                {
                                    "SZALL_DATUM": "2015-11-07",
                                    "SZALL_MOD": "NULL"
                                },
                                {
                                    "SZALL_DATUM": "2015-11-08",
                                    "SZALL_MOD": "NULL"
                                },
                                {
                                    "SZALL_DATUM": "2015-11-09",
                                    "SZALL_MOD": "NULL"
                                },
                                {
                                    "SZALL_DATUM": "2015-11-10",
                                    "SZALL_MOD": "NULL"
                                },
                                {
                                    "SZALL_DATUM": "2015-11-11",
                                    "SZALL_MOD": "NULL"
                                },
                                {
                                    "SZALL_DATUM": "2015-11-12",
                                    "SZALL_MOD": "NULL"
                                },
                                {
                                    "SZALL_DATUM": "2015-11-13",
                                    "SZALL_MOD": "NULL"
                                },
                                {
                                    "SZALL_DATUM": "2015-11-14",
                                    "SZALL_MOD": "NULL"
                                },
                                {
                                    "SZALL_DATUM": "2015-11-15",
                                    "SZALL_MOD": "NULL"
                                },
                                {
                                    "SZALL_DATUM": "2015-11-16",
                                    "SZALL_MOD": "NULL"
                                },
                                {
                                    "SZALL_DATUM": "2015-11-17",
                                    "SZALL_MOD": "NULL"
                                },
                                {
                                    "SZALL_DATUM": "2015-11-18",
                                    "SZALL_MOD": "NULL"
                                },
                                {
                                    "SZALL_DATUM": "2015-11-19",
                                    "SZALL_MOD": "NULL"
                                },
                                {
                                    "SZALL_DATUM": "2015-11-20",
                                    "SZALL_MOD": "NULL"
                                },
                                {
                                    "SZALL_DATUM": "2015-11-21",
                                    "SZALL_MOD": "NULL"
                                },
                                {
                                    "SZALL_DATUM": "2015-11-22",
                                    "SZALL_MOD": "NULL"
                                },
                                {
                                    "SZALL_DATUM": "2015-11-23",
                                    "SZALL_MOD": "NULL"
                                },
                                {
                                    "SZALL_DATUM": "2015-11-24",
                                    "SZALL_MOD": "NULL"
                                },
                                {
                                    "SZALL_DATUM": "2015-11-25",
                                    "SZALL_MOD": "NULL"
                                },
                                {
                                    "SZALL_DATUM": "2015-11-26",
                                    "SZALL_MOD": "NULL"
                                },
                                {
                                    "SZALL_DATUM": "2015-11-27",
                                    "SZALL_MOD": "NULL"
                                },
                                {
                                    "SZALL_DATUM": "2015-11-28",
                                    "SZALL_MOD": "NULL"
                                },
                                {
                                    "SZALL_DATUM": "2015-11-29",
                                    "SZALL_MOD": "NULL"
                                },
                                {
                                    "SZALL_DATUM": "2015-11-30",
                                    "SZALL_MOD": "NULL"
                                },
                                {
                                    "SZALL_DATUM": "2015-12-01",
                                    "SZALL_MOD": "NULL"
                                },
                                {
                                    "SZALL_DATUM": "2015-12-02",
                                    "SZALL_MOD": "NULL"
                                },
                                {
                                    "SZALL_DATUM": "2015-12-03",
                                    "SZALL_MOD": "NULL"
                                },
                                {
                                    "SZALL_DATUM": "2015-12-04",
                                    "SZALL_MOD": "NULL"
                                },
                                {
                                    "SZALL_DATUM": "2015-12-05",
                                    "SZALL_MOD": "NULL"
                                },
                                {
                                    "SZALL_DATUM": "2015-12-06",
                                    "SZALL_MOD": "NULL"
                                },
                                {
                                    "SZALL_DATUM": "2015-12-07",
                                    "SZALL_MOD": "NULL"
                                },
                                {
                                    "SZALL_DATUM": "2015-12-08",
                                    "SZALL_MOD": "NULL"
                                },
                                {
                                    "SZALL_DATUM": "2015-12-09",
                                    "SZALL_MOD": "NULL"
                                },
                                {
                                    "SZALL_DATUM": "2015-12-10",
                                    "SZALL_MOD": "NULL"
                                },
                                {
                                    "SZALL_DATUM": "2015-12-11",
                                    "SZALL_MOD": "NULL"
                                },
                                {
                                    "SZALL_DATUM": "2015-12-12",
                                    "SZALL_MOD": "NULL"
                                },
                                {
                                    "SZALL_DATUM": "2015-12-13",
                                    "SZALL_MOD": "NULL"
                                },
                                {
                                    "SZALL_DATUM": "2015-12-14",
                                    "SZALL_MOD": "NULL"
                                },
                                {
                                    "SZALL_DATUM": "2015-12-15",
                                    "SZALL_MOD": "NULL"
                                },
                                {
                                    "SZALL_DATUM": "2015-12-16",
                                    "SZALL_MOD": "NULL"
                                },
                                {
                                    "SZALL_DATUM": "2015-12-17",
                                    "SZALL_MOD": "NULL"
                                },
                                {
                                    "SZALL_DATUM": "2015-12-18",
                                    "SZALL_MOD": "NULL"
                                },
                                {
                                    "SZALL_DATUM": "2015-12-19",
                                    "SZALL_MOD": "NULL"
                                },
                                {
                                    "SZALL_DATUM": "2015-12-20",
                                    "SZALL_MOD": "NULL"
                                },
                                {
                                    "SZALL_DATUM": "2015-12-21",
                                    "SZALL_MOD": "NULL"
                                },
                                {
                                    "SZALL_DATUM": "2015-12-22",
                                    "SZALL_MOD": "NULL"
                                },
                                {
                                    "SZALL_DATUM": "2015-12-23",
                                    "SZALL_MOD": "NULL"
                                },
                                {
                                    "SZALL_DATUM": "2015-12-24",
                                    "SZALL_MOD": "NULL"
                                },
                                {
                                    "SZALL_DATUM": "2015-12-25",
                                    "SZALL_MOD": "NULL"
                                },
                                {
                                    "SZALL_DATUM": "2015-12-26",
                                    "SZALL_MOD": "NULL"
                                },
                                {
                                    "SZALL_DATUM": "2015-12-27",
                                    "SZALL_MOD": "NULL"
                                },
                                {
                                    "SZALL_DATUM": "2015-12-28",
                                    "SZALL_MOD": "NULL"
                                },
                                {
                                    "SZALL_DATUM": "2015-12-29",
                                    "SZALL_MOD": "NULL"
                                },
                                {
                                    "SZALL_DATUM": "2015-12-30",
                                    "SZALL_MOD": "NULL"
                                },
                                {
                                    "SZALL_DATUM": "2015-12-31",
                                    "SZALL_MOD": "NULL"
                                },
                                {
                                    "SZALL_DATUM": "2016-01-01",
                                    "SZALL_MOD": "NULL"
                                },
                                {
                                    "SZALL_DATUM": "2016-01-02",
                                    "SZALL_MOD": "NULL"
                                },
                                {
                                    "SZALL_DATUM": "2016-01-03",
                                    "SZALL_MOD": "NULL"
                                },
                                {
                                    "SZALL_DATUM": "2016-01-04",
                                    "SZALL_MOD": "NULL"
                                },
                                {
                                    "SZALL_DATUM": "2016-01-05",
                                    "SZALL_MOD": "NULL"
                                },
                                {
                                    "SZALL_DATUM": "2016-01-06",
                                    "SZALL_MOD": "NULL"
                                },
                                {
                                    "SZALL_DATUM": "2016-01-07",
                                    "SZALL_MOD": "NULL"
                                },
                                {
                                    "SZALL_DATUM": "2016-01-08",
                                    "SZALL_MOD": "NULL"
                                },
                                {
                                    "SZALL_DATUM": "2016-01-09",
                                    "SZALL_MOD": "NULL"
                                },
                                {
                                    "SZALL_DATUM": "2016-01-10",
                                    "SZALL_MOD": "NULL"
                                },
                                {
                                    "SZALL_DATUM": "2016-01-11",
                                    "SZALL_MOD": "NULL"
                                },
                                {
                                    "SZALL_DATUM": "2016-01-12",
                                    "SZALL_MOD": "NULL"
                                },
                                {
                                    "SZALL_DATUM": "2016-01-13",
                                    "SZALL_MOD": "NULL"
                                },
                                {
                                    "SZALL_DATUM": "2016-01-14",
                                    "SZALL_MOD": "NULL"
                                },
                                {
                                    "SZALL_DATUM": "2016-01-15",
                                    "SZALL_MOD": "NULL"
                                },
                                {
                                    "SZALL_DATUM": "2016-01-16",
                                    "SZALL_MOD": "NULL"
                                },
                                {
                                    "SZALL_DATUM": "2016-01-17",
                                    "SZALL_MOD": "NULL"
                                },
                                {
                                    "SZALL_DATUM": "2016-01-18",
                                    "SZALL_MOD": "NULL"
                                },
                                {
                                    "SZALL_DATUM": "2016-01-19",
                                    "SZALL_MOD": "NULL"
                                },
                                {
                                    "SZALL_DATUM": "2016-01-20",
                                    "SZALL_MOD": "NULL"
                                },
                                {
                                    "SZALL_DATUM": "2016-01-21",
                                    "SZALL_MOD": "NULL"
                                },
                                {
                                    "SZALL_DATUM": "2016-01-22",
                                    "SZALL_MOD": "NULL"
                                },
                                {
                                    "SZALL_DATUM": "2016-01-23",
                                    "SZALL_MOD": "NULL"
                                },
                                {
                                    "SZALL_DATUM": "2016-01-24",
                                    "SZALL_MOD": "NULL"
                                },
                                {
                                    "SZALL_DATUM": "2016-01-25",
                                    "SZALL_MOD": "NULL"
                                },
                                {
                                    "SZALL_DATUM": "2016-01-26",
                                    "SZALL_MOD": "NULL"
                                },
                                {
                                    "SZALL_DATUM": "2016-01-27",
                                    "SZALL_MOD": "NULL"
                                },
                                {
                                    "SZALL_DATUM": "2016-01-28",
                                    "SZALL_MOD": "NULL"
                                },
                                {
                                    "SZALL_DATUM": "2016-01-29",
                                    "SZALL_MOD": "NULL"
                                },
                                {
                                    "SZALL_DATUM": "2016-01-30",
                                    "SZALL_MOD": "NULL"
                                },
                                {
                                    "SZALL_DATUM": "2016-01-31",
                                    "SZALL_MOD": "NULL"
                                },
                                {
                                    "SZALL_DATUM": "2016-02-01",
                                    "SZALL_MOD": "NULL"
                                },
                                {
                                    "SZALL_DATUM": "2016-02-02",
                                    "SZALL_MOD": "NULL"
                                },
                                {
                                    "SZALL_DATUM": "2016-02-03",
                                    "SZALL_MOD": "NULL"
                                },
                                {
                                    "SZALL_DATUM": "2016-02-04",
                                    "SZALL_MOD": "NULL"
                                },
                                {
                                    "SZALL_DATUM": "2016-02-05",
                                    "SZALL_MOD": "NULL"
                                },
                                {
                                    "SZALL_DATUM": "2016-02-06",
                                    "SZALL_MOD": "NULL"
                                },
                                {
                                    "SZALL_DATUM": "2016-02-07",
                                    "SZALL_MOD": "NULL"
                                },
                                {
                                    "SZALL_DATUM": "2016-02-08",
                                    "SZALL_MOD": "NULL"
                                },
                                {
                                    "SZALL_DATUM": "2016-02-09",
                                    "SZALL_MOD": "NULL"
                                },
                                {
                                    "SZALL_DATUM": "2016-02-10",
                                    "SZALL_MOD": "NULL"
                                },
                                {
                                    "SZALL_DATUM": "2016-02-11",
                                    "SZALL_MOD": "NULL"
                                },
                                {
                                    "SZALL_DATUM": "2016-02-12",
                                    "SZALL_MOD": "NULL"
                                },
                                {
                                    "SZALL_DATUM": "2016-02-13",
                                    "SZALL_MOD": "NULL"
                                },
                                {
                                    "SZALL_DATUM": "2016-02-14",
                                    "SZALL_MOD": "NULL"
                                },
                                {
                                    "SZALL_DATUM": "2016-02-15",
                                    "SZALL_MOD": "NULL"
                                },
                                {
                                    "SZALL_DATUM": "2016-02-16",
                                    "SZALL_MOD": "NULL"
                                },
                                {
                                    "SZALL_DATUM": "2016-02-17",
                                    "SZALL_MOD": "NULL"
                                },
                                {
                                    "SZALL_DATUM": "2016-02-18",
                                    "SZALL_MOD": "NULL"
                                },
                                {
                                    "SZALL_DATUM": "2016-02-19",
                                    "SZALL_MOD": "NULL"
                                },
                                {
                                    "SZALL_DATUM": "2016-02-20",
                                    "SZALL_MOD": "NULL"
                                },
                                {
                                    "SZALL_DATUM": "2016-02-21",
                                    "SZALL_MOD": "NULL"
                                },
                                {
                                    "SZALL_DATUM": "2016-02-22",
                                    "SZALL_MOD": "NULL"
                                },
                                {
                                    "SZALL_DATUM": "2016-02-23",
                                    "SZALL_MOD": "NULL"
                                },
                                {
                                    "SZALL_DATUM": "2016-02-24",
                                    "SZALL_MOD": "NULL"
                                },
                                {
                                    "SZALL_DATUM": "2016-02-25",
                                    "SZALL_MOD": "NULL"
                                },
                                {
                                    "SZALL_DATUM": "2016-02-26",
                                    "SZALL_MOD": "NULL"
                                },
                                {
                                    "SZALL_DATUM": "2016-02-27",
                                    "SZALL_MOD": "NULL"
                                },
                                {
                                    "SZALL_DATUM": "2016-02-28",
                                    "SZALL_MOD": "NULL"
                                },
                                {
                                    "SZALL_DATUM": "2016-02-29",
                                    "SZALL_MOD": "NULL"
                                },
                                {
                                    "SZALL_DATUM": "2016-03-01",
                                    "SZALL_MOD": "NULL"
                                },
                                {
                                    "SZALL_DATUM": "2016-03-02",
                                    "SZALL_MOD": "NULL"
                                },
                                {
                                    "SZALL_DATUM": "2016-03-03",
                                    "SZALL_MOD": "NULL"
                                },
                                {
                                    "SZALL_DATUM": "2016-03-04",
                                    "SZALL_MOD": "NULL"
                                },
                                {
                                    "SZALL_DATUM": "2016-03-05",
                                    "SZALL_MOD": "NULL"
                                },
                                {
                                    "SZALL_DATUM": "2016-03-06",
                                    "SZALL_MOD": "NULL"
                                },
                                {
                                    "SZALL_DATUM": "2016-03-07",
                                    "SZALL_MOD": "NULL"
                                },
                                {
                                    "SZALL_DATUM": "2016-03-08",
                                    "SZALL_MOD": "NULL"
                                },
                                {
                                    "SZALL_DATUM": "2016-03-09",
                                    "SZALL_MOD": "NULL"
                                },
                                {
                                    "SZALL_DATUM": "2016-03-10",
                                    "SZALL_MOD": "NULL"
                                },
                                {
                                    "SZALL_DATUM": "2016-03-11",
                                    "SZALL_MOD": "NULL"
                                },
                                {
                                    "SZALL_DATUM": "2016-03-12",
                                    "SZALL_MOD": "NULL"
                                },
                                {
                                    "SZALL_DATUM": "2016-03-13",
                                    "SZALL_MOD": "NULL"
                                },
                                {
                                    "SZALL_DATUM": "2016-03-14",
                                    "SZALL_MOD": "NULL"
                                },
                                {
                                    "SZALL_DATUM": "2016-03-15",
                                    "SZALL_MOD": "NULL"
                                },
                                {
                                    "SZALL_DATUM": "2016-03-16",
                                    "SZALL_MOD": "NULL"
                                },
                                {
                                    "SZALL_DATUM": "2016-03-17",
                                    "SZALL_MOD": "NULL"
                                },
                                {
                                    "SZALL_DATUM": "2016-03-18",
                                    "SZALL_MOD": "NULL"
                                },
                                {
                                    "SZALL_DATUM": "2016-03-19",
                                    "SZALL_MOD": "NULL"
                                },
                                {
                                    "SZALL_DATUM": "2016-03-20",
                                    "SZALL_MOD": "NULL"
                                },
                                {
                                    "SZALL_DATUM": "2016-03-21",
                                    "SZALL_MOD": "NULL"
                                },
                                {
                                    "SZALL_DATUM": "2016-03-22",
                                    "SZALL_MOD": "NULL"
                                },
                                {
                                    "SZALL_DATUM": "2016-03-23",
                                    "SZALL_MOD": "NULL"
                                },
                                {
                                    "SZALL_DATUM": "2016-03-24",
                                    "SZALL_MOD": "NULL"
                                },
                                {
                                    "SZALL_DATUM": "2016-03-25",
                                    "SZALL_MOD": "NULL"
                                },
                                {
                                    "SZALL_DATUM": "2016-03-26",
                                    "SZALL_MOD": "NULL"
                                },
                                {
                                    "SZALL_DATUM": "2016-03-27",
                                    "SZALL_MOD": "NULL"
                                },
                                {
                                    "SZALL_DATUM": "2016-03-28",
                                    "SZALL_MOD": "NULL"
                                },
                                {
                                    "SZALL_DATUM": "2016-03-29",
                                    "SZALL_MOD": "NULL"
                                },
                                {
                                    "SZALL_DATUM": "2016-03-30",
                                    "SZALL_MOD": "NULL"
                                },
                                {
                                    "SZALL_DATUM": "2016-03-31",
                                    "SZALL_MOD": "NULL"
                                },
                                {
                                    "SZALL_DATUM": "2016-04-01",
                                    "SZALL_MOD": "NULL"
                                },
                                {
                                    "SZALL_DATUM": "2016-04-02",
                                    "SZALL_MOD": "NULL"
                                },
                                {
                                    "SZALL_DATUM": "2016-04-03",
                                    "SZALL_MOD": "NULL"
                                },
                                {
                                    "SZALL_DATUM": "2016-04-04",
                                    "SZALL_MOD": "NULL"
                                },
                                {
                                    "SZALL_DATUM": "2016-04-05",
                                    "SZALL_MOD": "NULL"
                                },
                                {
                                    "SZALL_DATUM": "2016-04-06",
                                    "SZALL_MOD": "NULL"
                                },
                                {
                                    "SZALL_DATUM": "2016-04-07",
                                    "SZALL_MOD": "NULL"
                                },
                                {
                                    "SZALL_DATUM": "2016-04-08",
                                    "SZALL_MOD": "NULL"
                                },
                                {
                                    "SZALL_DATUM": "2016-04-09",
                                    "SZALL_MOD": "NULL"
                                },
                                {
                                    "SZALL_DATUM": "2016-04-10",
                                    "SZALL_MOD": "NULL"
                                },
                                {
                                    "SZALL_DATUM": "2016-04-11",
                                    "SZALL_MOD": "NULL"
                                },
                                {
                                    "SZALL_DATUM": "2016-04-12",
                                    "SZALL_MOD": "NULL"
                                },
                                {
                                    "SZALL_DATUM": "2016-04-13",
                                    "SZALL_MOD": "NULL"
                                },
                                {
                                    "SZALL_DATUM": "2016-04-14",
                                    "SZALL_MOD": "NULL"
                                },
                                {
                                    "SZALL_DATUM": "2016-04-15",
                                    "SZALL_MOD": "NULL"
                                },
                                {
                                    "SZALL_DATUM": "2016-04-16",
                                    "SZALL_MOD": "NULL"
                                },
                                {
                                    "SZALL_DATUM": "2016-04-17",
                                    "SZALL_MOD": "NULL"
                                },
                                {
                                    "SZALL_DATUM": "2016-04-18",
                                    "SZALL_MOD": "NULL"
                                },
                                {
                                    "SZALL_DATUM": "2016-04-19",
                                    "SZALL_MOD": "NULL"
                                },
                                {
                                    "SZALL_DATUM": "2016-04-20",
                                    "SZALL_MOD": "NULL"
                                },
                                {
                                    "SZALL_DATUM": "2016-04-21",
                                    "SZALL_MOD": "NULL"
                                },
                                {
                                    "SZALL_DATUM": "2016-04-22",
                                    "SZALL_MOD": "NULL"
                                },
                                {
                                    "SZALL_DATUM": "2016-04-23",
                                    "SZALL_MOD": "NULL"
                                },
                                {
                                    "SZALL_DATUM": "2016-04-24",
                                    "SZALL_MOD": "NULL"
                                },
                                {
                                    "SZALL_DATUM": "2016-04-25",
                                    "SZALL_MOD": "NULL"
                                },
                                {
                                    "SZALL_DATUM": "2016-04-26",
                                    "SZALL_MOD": "NULL"
                                },
                                {
                                    "SZALL_DATUM": "2016-04-27",
                                    "SZALL_MOD": "NULL"
                                },
                                {
                                    "SZALL_DATUM": "2016-04-28",
                                    "SZALL_MOD": "NULL"
                                },
                                {
                                    "SZALL_DATUM": "2016-04-29",
                                    "SZALL_MOD": "NULL"
                                },
                                {
                                    "SZALL_DATUM": "2016-04-30",
                                    "SZALL_MOD": "NULL"
                                },
                                {
                                    "SZALL_DATUM": "2016-05-01",
                                    "SZALL_MOD": "NULL"
                                },
                                {
                                    "SZALL_DATUM": "2016-05-02",
                                    "SZALL_MOD": "NULL"
                                },
                                {
                                    "SZALL_DATUM": "2016-05-03",
                                    "SZALL_MOD": "NULL"
                                },
                                {
                                    "SZALL_DATUM": "2016-05-04",
                                    "SZALL_MOD": "NULL"
                                },
                                {
                                    "SZALL_DATUM": "2016-05-05",
                                    "SZALL_MOD": "NULL"
                                },
                                {
                                    "SZALL_DATUM": "2016-05-06",
                                    "SZALL_MOD": "NULL"
                                },
                                {
                                    "SZALL_DATUM": "2016-05-07",
                                    "SZALL_MOD": "NULL"
                                },
                                {
                                    "SZALL_DATUM": "2016-05-08",
                                    "SZALL_MOD": "NULL"
                                },
                                {
                                    "SZALL_DATUM": "2016-05-09",
                                    "SZALL_MOD": "NULL"
                                },
                                {
                                    "SZALL_DATUM": "2016-05-10",
                                    "SZALL_MOD": "NULL"
                                },
                                {
                                    "SZALL_DATUM": "2016-05-11",
                                    "SZALL_MOD": "NULL"
                                },
                                {
                                    "SZALL_DATUM": "2016-05-12",
                                    "SZALL_MOD": "NULL"
                                },
                                {
                                    "SZALL_DATUM": "2016-05-13",
                                    "SZALL_MOD": "NULL"
                                },
                                {
                                    "SZALL_DATUM": "2016-05-14",
                                    "SZALL_MOD": "NULL"
                                },
                                {
                                    "SZALL_DATUM": "2016-05-15",
                                    "SZALL_MOD": "NULL"
                                },
                                {
                                    "SZALL_DATUM": "2016-05-16",
                                    "SZALL_MOD": "NULL"
                                },
                                {
                                    "SZALL_DATUM": "2016-05-17",
                                    "SZALL_MOD": "NULL"
                                },
                                {
                                    "SZALL_DATUM": "2016-05-18",
                                    "SZALL_MOD": "NULL"
                                },
                                {
                                    "SZALL_DATUM": "2016-05-19",
                                    "SZALL_MOD": "NULL"
                                },
                                {
                                    "SZALL_DATUM": "2016-05-20",
                                    "SZALL_MOD": "NULL"
                                },
                                {
                                    "SZALL_DATUM": "2016-05-21",
                                    "SZALL_MOD": "NULL"
                                },
                                {
                                    "SZALL_DATUM": "2016-05-22",
                                    "SZALL_MOD": "NULL"
                                },
                                {
                                    "SZALL_DATUM": "2016-05-23",
                                    "SZALL_MOD": "NULL"
                                },
                                {
                                    "SZALL_DATUM": "2016-05-24",
                                    "SZALL_MOD": "NULL"
                                },
                                {
                                    "SZALL_DATUM": "2016-05-25",
                                    "SZALL_MOD": "NULL"
                                },
                                {
                                    "SZALL_DATUM": "2016-05-26",
                                    "SZALL_MOD": "NULL"
                                },
                                {
                                    "SZALL_DATUM": "2016-05-27",
                                    "SZALL_MOD": "NULL"
                                },
                                {
                                    "SZALL_DATUM": "2016-05-28",
                                    "SZALL_MOD": "NULL"
                                },
                                {
                                    "SZALL_DATUM": "2016-05-29",
                                    "SZALL_MOD": "NULL"
                                },
                                {
                                    "SZALL_DATUM": "2016-05-30",
                                    "SZALL_MOD": "NULL"
                                },
                                {
                                    "SZALL_DATUM": "2016-05-31",
                                    "SZALL_MOD": "NULL"
                                },
                                {
                                    "SZALL_DATUM": "2016-06-01",
                                    "SZALL_MOD": "NULL"
                                },
                                {
                                    "SZALL_DATUM": "2016-06-02",
                                    "SZALL_MOD": "NULL"
                                },
                                {
                                    "SZALL_DATUM": "2016-06-03",
                                    "SZALL_MOD": "NULL"
                                },
                                {
                                    "SZALL_DATUM": "2016-06-04",
                                    "SZALL_MOD": "NULL"
                                },
                                {
                                    "SZALL_DATUM": "2016-06-05",
                                    "SZALL_MOD": "NULL"
                                },
                                {
                                    "SZALL_DATUM": "2016-06-06",
                                    "SZALL_MOD": "NULL"
                                },
                                {
                                    "SZALL_DATUM": "2016-06-07",
                                    "SZALL_MOD": "NULL"
                                },
                                {
                                    "SZALL_DATUM": "2016-06-08",
                                    "SZALL_MOD": "NULL"
                                },
                                {
                                    "SZALL_DATUM": "2016-06-09",
                                    "SZALL_MOD": "NULL"
                                },
                                {
                                    "SZALL_DATUM": "2016-06-10",
                                    "SZALL_MOD": "NULL"
                                },
                                {
                                    "SZALL_DATUM": "2016-06-11",
                                    "SZALL_MOD": "NULL"
                                },
                                {
                                    "SZALL_DATUM": "2016-06-12",
                                    "SZALL_MOD": "NULL"
                                },
                                {
                                    "SZALL_DATUM": "2016-06-13",
                                    "SZALL_MOD": "NULL"
                                },
                                {
                                    "SZALL_DATUM": "2016-06-14",
                                    "SZALL_MOD": "NULL"
                                },
                                {
                                    "SZALL_DATUM": "2016-06-15",
                                    "SZALL_MOD": "NULL"
                                },
                                {
                                    "SZALL_DATUM": "2016-06-16",
                                    "SZALL_MOD": "NULL"
                                },
                                {
                                    "SZALL_DATUM": "2016-06-17",
                                    "SZALL_MOD": "NULL"
                                },
                                {
                                    "SZALL_DATUM": "2016-06-18",
                                    "SZALL_MOD": "NULL"
                                },
                                {
                                    "SZALL_DATUM": "2016-06-19",
                                    "SZALL_MOD": "NULL"
                                },
                                {
                                    "SZALL_DATUM": "2016-06-20",
                                    "SZALL_MOD": "NULL"
                                },
                                {
                                    "SZALL_DATUM": "2016-06-21",
                                    "SZALL_MOD": "NULL"
                                },
                                {
                                    "SZALL_DATUM": "2016-06-22",
                                    "SZALL_MOD": "NULL"
                                },
                                {
                                    "SZALL_DATUM": "2016-06-23",
                                    "SZALL_MOD": "NULL"
                                },
                                {
                                    "SZALL_DATUM": "2016-06-24",
                                    "SZALL_MOD": "NULL"
                                },
                                {
                                    "SZALL_DATUM": "2016-06-25",
                                    "SZALL_MOD": "NULL"
                                },
                                {
                                    "SZALL_DATUM": "2016-06-26",
                                    "SZALL_MOD": "NULL"
                                },
                                {
                                    "SZALL_DATUM": "2016-06-27",
                                    "SZALL_MOD": "NULL"
                                },
                                {
                                    "SZALL_DATUM": "2016-06-28",
                                    "SZALL_MOD": "NULL"
                                },
                                {
                                    "SZALL_DATUM": "2016-06-29",
                                    "SZALL_MOD": "NULL"
                                },
                                {
                                    "SZALL_DATUM": "2016-06-30",
                                    "SZALL_MOD": "NULL"
                                },
                                {
                                    "SZALL_DATUM": "2016-07-01",
                                    "SZALL_MOD": "NULL"
                                },
                                {
                                    "SZALL_DATUM": "2016-07-02",
                                    "SZALL_MOD": "NULL"
                                },
                                {
                                    "SZALL_DATUM": "2016-07-03",
                                    "SZALL_MOD": "NULL"
                                },
                                {
                                    "SZALL_DATUM": "2016-07-04",
                                    "SZALL_MOD": "NULL"
                                },
                                {
                                    "SZALL_DATUM": "2016-07-05",
                                    "SZALL_MOD": "NULL"
                                },
                                {
                                    "SZALL_DATUM": "2016-07-06",
                                    "SZALL_MOD": "NULL"
                                },
                                {
                                    "SZALL_DATUM": "2016-07-07",
                                    "SZALL_MOD": "NULL"
                                },
                                {
                                    "SZALL_DATUM": "2016-07-08",
                                    "SZALL_MOD": "NULL"
                                },
                                {
                                    "SZALL_DATUM": "2016-07-09",
                                    "SZALL_MOD": "NULL"
                                },
                                {
                                    "SZALL_DATUM": "2016-07-10",
                                    "SZALL_MOD": "NULL"
                                },
                                {
                                    "SZALL_DATUM": "2016-07-11",
                                    "SZALL_MOD": "NULL"
                                },
                                {
                                    "SZALL_DATUM": "2016-07-12",
                                    "SZALL_MOD": "NULL"
                                },
                                {
                                    "SZALL_DATUM": "2016-07-13",
                                    "SZALL_MOD": "NULL"
                                },
                                {
                                    "SZALL_DATUM": "2016-07-14",
                                    "SZALL_MOD": "NULL"
                                },
                                {
                                    "SZALL_DATUM": "2016-07-15",
                                    "SZALL_MOD": "NULL"
                                },
                                {
                                    "SZALL_DATUM": "2016-07-16",
                                    "SZALL_MOD": "NULL"
                                },
                                {
                                    "SZALL_DATUM": "2016-07-17",
                                    "SZALL_MOD": "NULL"
                                },
                                {
                                    "SZALL_DATUM": "2016-07-18",
                                    "SZALL_MOD": "NULL"
                                },
                                {
                                    "SZALL_DATUM": "2016-07-19",
                                    "SZALL_MOD": "NULL"
                                },
                                {
                                    "SZALL_DATUM": "2016-07-20",
                                    "SZALL_MOD": "NULL"
                                },
                                {
                                    "SZALL_DATUM": "2016-07-21",
                                    "SZALL_MOD": "NULL"
                                },
                                {
                                    "SZALL_DATUM": "2016-07-22",
                                    "SZALL_MOD": "NULL"
                                },
                                {
                                    "SZALL_DATUM": "2016-07-23",
                                    "SZALL_MOD": "NULL"
                                },
                                {
                                    "SZALL_DATUM": "2016-07-24",
                                    "SZALL_MOD": "NULL"
                                },
                                {
                                    "SZALL_DATUM": "2016-07-25",
                                    "SZALL_MOD": "NULL"
                                },
                                {
                                    "SZALL_DATUM": "2016-07-26",
                                    "SZALL_MOD": "NULL"
                                },
                                {
                                    "SZALL_DATUM": "2016-07-27",
                                    "SZALL_MOD": "NULL"
                                },
                                {
                                    "SZALL_DATUM": "2016-07-28",
                                    "SZALL_MOD": "NULL"
                                },
                                {
                                    "SZALL_DATUM": "2016-07-29",
                                    "SZALL_MOD": "NULL"
                                },
                                {
                                    "SZALL_DATUM": "2016-07-30",
                                    "SZALL_MOD": "NULL"
                                },
                                {
                                    "SZALL_DATUM": "2016-07-31",
                                    "SZALL_MOD": "NULL"
                                },
                                {
                                    "SZALL_DATUM": "2016-08-01",
                                    "SZALL_MOD": "NULL"
                                },
                                {
                                    "SZALL_DATUM": "2016-08-02",
                                    "SZALL_MOD": "NULL"
                                },
                                {
                                    "SZALL_DATUM": "2016-08-03",
                                    "SZALL_MOD": "NULL"
                                },
                                {
                                    "SZALL_DATUM": "2016-08-04",
                                    "SZALL_MOD": "NULL"
                                },
                                {
                                    "SZALL_DATUM": "2016-08-05",
                                    "SZALL_MOD": "NULL"
                                },
                                {
                                    "SZALL_DATUM": "2016-08-06",
                                    "SZALL_MOD": "NULL"
                                },
                                {
                                    "SZALL_DATUM": "2016-08-07",
                                    "SZALL_MOD": "NULL"
                                },
                                {
                                    "SZALL_DATUM": "2016-08-08",
                                    "SZALL_MOD": "NULL"
                                },
                                {
                                    "SZALL_DATUM": "2016-08-09",
                                    "SZALL_MOD": "NULL"
                                },
                                {
                                    "SZALL_DATUM": "2016-08-10",
                                    "SZALL_MOD": "NULL"
                                },
                                {
                                    "SZALL_DATUM": "2016-08-11",
                                    "SZALL_MOD": "NULL"
                                },
                                {
                                    "SZALL_DATUM": "2016-08-12",
                                    "SZALL_MOD": "NULL"
                                },
                                {
                                    "SZALL_DATUM": "2016-08-13",
                                    "SZALL_MOD": "NULL"
                                },
                                {
                                    "SZALL_DATUM": "2016-08-14",
                                    "SZALL_MOD": "NULL"
                                },
                                {
                                    "SZALL_DATUM": "2016-08-15",
                                    "SZALL_MOD": "NULL"
                                },
                                {
                                    "SZALL_DATUM": "2016-08-16",
                                    "SZALL_MOD": "NULL"
                                },
                                {
                                    "SZALL_DATUM": "2016-08-17",
                                    "SZALL_MOD": "NULL"
                                },
                                {
                                    "SZALL_DATUM": "2016-08-18",
                                    "SZALL_MOD": "NULL"
                                },
                                {
                                    "SZALL_DATUM": "2016-08-19",
                                    "SZALL_MOD": "NULL"
                                },
                                {
                                    "SZALL_DATUM": "2016-08-20",
                                    "SZALL_MOD": "NULL"
                                },
                                {
                                    "SZALL_DATUM": "2016-08-21",
                                    "SZALL_MOD": "NULL"
                                },
                                {
                                    "SZALL_DATUM": "2016-08-22",
                                    "SZALL_MOD": "NULL"
                                },
                                {
                                    "SZALL_DATUM": "2016-08-23",
                                    "SZALL_MOD": "NULL"
                                },
                                {
                                    "SZALL_DATUM": "2016-08-24",
                                    "SZALL_MOD": "NULL"
                                },
                                {
                                    "SZALL_DATUM": "2016-08-25",
                                    "SZALL_MOD": "NULL"
                                },
                                {
                                    "SZALL_DATUM": "2016-08-26",
                                    "SZALL_MOD": "NULL"
                                },
                                {
                                    "SZALL_DATUM": "2016-08-27",
                                    "SZALL_MOD": "NULL"
                                },
                                {
                                    "SZALL_DATUM": "2016-08-28",
                                    "SZALL_MOD": "NULL"
                                },
                                {
                                    "SZALL_DATUM": "2016-08-29",
                                    "SZALL_MOD": "NULL"
                                },
                                {
                                    "SZALL_DATUM": "2016-08-30",
                                    "SZALL_MOD": "NULL"
                                },
                                {
                                    "SZALL_DATUM": "2016-08-31",
                                    "SZALL_MOD": "NULL"
                                },
                                {
                                    "SZALL_DATUM": "2016-09-01",
                                    "SZALL_MOD": "NULL"
                                },
                                {
                                    "SZALL_DATUM": "2016-09-02",
                                    "SZALL_MOD": "NULL"
                                },
                                {
                                    "SZALL_DATUM": "2016-09-03",
                                    "SZALL_MOD": "NULL"
                                },
                                {
                                    "SZALL_DATUM": "2016-09-04",
                                    "SZALL_MOD": "NULL"
                                },
                                {
                                    "SZALL_DATUM": "2016-09-05",
                                    "SZALL_MOD": "NULL"
                                },
                                {
                                    "SZALL_DATUM": "2016-09-06",
                                    "SZALL_MOD": "NULL"
                                },
                                {
                                    "SZALL_DATUM": "2016-09-07",
                                    "SZALL_MOD": "NULL"
                                },
                                {
                                    "SZALL_DATUM": "2016-09-08",
                                    "SZALL_MOD": "NULL"
                                },
                                {
                                    "SZALL_DATUM": "2016-09-09",
                                    "SZALL_MOD": "NULL"
                                },
                                {
                                    "SZALL_DATUM": "2016-09-10",
                                    "SZALL_MOD": "NULL"
                                },
                                {
                                    "SZALL_DATUM": "2016-09-11",
                                    "SZALL_MOD": "NULL"
                                },
                                {
                                    "SZALL_DATUM": "2016-09-12",
                                    "SZALL_MOD": "NULL"
                                },
                                {
                                    "SZALL_DATUM": "2016-09-13",
                                    "SZALL_MOD": "NULL"
                                },
                                {
                                    "SZALL_DATUM": "2016-09-14",
                                    "SZALL_MOD": "NULL"
                                },
                                {
                                    "SZALL_DATUM": "2016-09-15",
                                    "SZALL_MOD": "NULL"
                                },
                                {
                                    "SZALL_DATUM": "2016-09-16",
                                    "SZALL_MOD": "NULL"
                                },
                                {
                                    "SZALL_DATUM": "2016-09-17",
                                    "SZALL_MOD": "NULL"
                                },
                                {
                                    "SZALL_DATUM": "2016-09-18",
                                    "SZALL_MOD": "NULL"
                                },
                                {
                                    "SZALL_DATUM": "2016-09-19",
                                    "SZALL_MOD": "NULL"
                                },
                                {
                                    "SZALL_DATUM": "2016-09-20",
                                    "SZALL_MOD": "NULL"
                                },
                                {
                                    "SZALL_DATUM": "2016-09-21",
                                    "SZALL_MOD": "NULL"
                                },
                                {
                                    "SZALL_DATUM": "2016-09-22",
                                    "SZALL_MOD": "NULL"
                                },
                                {
                                    "SZALL_DATUM": "2016-09-23",
                                    "SZALL_MOD": "NULL"
                                },
                                {
                                    "SZALL_DATUM": "2016-09-24",
                                    "SZALL_MOD": "NULL"
                                },
                                {
                                    "SZALL_DATUM": "2016-09-25",
                                    "SZALL_MOD": "NULL"
                                },
                                {
                                    "SZALL_DATUM": "2016-09-26",
                                    "SZALL_MOD": "NULL"
                                },
                                {
                                    "SZALL_DATUM": "2016-09-27",
                                    "SZALL_MOD": "NULL"
                                },
                                {
                                    "SZALL_DATUM": "2016-09-28",
                                    "SZALL_MOD": "NULL"
                                },
                                {
                                    "SZALL_DATUM": "2016-09-29",
                                    "SZALL_MOD": "NULL"
                                },
                                {
                                    "SZALL_DATUM": "2016-09-30",
                                    "SZALL_MOD": "NULL"
                                },
                                {
                                    "SZALL_DATUM": "2016-10-01",
                                    "SZALL_MOD": "NULL"
                                },
                                {
                                    "SZALL_DATUM": "2016-10-02",
                                    "SZALL_MOD": "NULL"
                                },
                                {
                                    "SZALL_DATUM": "2016-10-03",
                                    "SZALL_MOD": "NULL"
                                },
                                {
                                    "SZALL_DATUM": "2016-10-04",
                                    "SZALL_MOD": "NULL"
                                },
                                {
                                    "SZALL_DATUM": "2016-10-05",
                                    "SZALL_MOD": "NULL"
                                },
                                {
                                    "SZALL_DATUM": "2016-10-06",
                                    "SZALL_MOD": "NULL"
                                },
                                {
                                    "SZALL_DATUM": "2016-10-07",
                                    "SZALL_MOD": "NULL"
                                },
                                {
                                    "SZALL_DATUM": "2016-10-08",
                                    "SZALL_MOD": "NULL"
                                },
                                {
                                    "SZALL_DATUM": "2016-10-09",
                                    "SZALL_MOD": "NULL"
                                },
                                {
                                    "SZALL_DATUM": "2016-10-10",
                                    "SZALL_MOD": "NULL"
                                },
                                {
                                    "SZALL_DATUM": "2016-10-11",
                                    "SZALL_MOD": "NULL"
                                },
                                {
                                    "SZALL_DATUM": "2016-10-12",
                                    "SZALL_MOD": "NULL"
                                },
                                {
                                    "SZALL_DATUM": "2016-10-13",
                                    "SZALL_MOD": "NULL"
                                },
                                {
                                    "SZALL_DATUM": "2016-10-14",
                                    "SZALL_MOD": "NULL"
                                },
                                {
                                    "SZALL_DATUM": "2016-10-15",
                                    "SZALL_MOD": "NULL"
                                },
                                {
                                    "SZALL_DATUM": "2016-10-16",
                                    "SZALL_MOD": "NULL"
                                },
                                {
                                    "SZALL_DATUM": "2016-10-17",
                                    "SZALL_MOD": "NULL"
                                },
                                {
                                    "SZALL_DATUM": "2016-10-18",
                                    "SZALL_MOD": "NULL"
                                },
                                {
                                    "SZALL_DATUM": "2016-10-19",
                                    "SZALL_MOD": "NULL"
                                },
                                {
                                    "SZALL_DATUM": "2016-10-20",
                                    "SZALL_MOD": "NULL"
                                },
                                {
                                    "SZALL_DATUM": "2016-10-21",
                                    "SZALL_MOD": "NULL"
                                },
                                {
                                    "SZALL_DATUM": "2016-10-22",
                                    "SZALL_MOD": "NULL"
                                },
                                {
                                    "SZALL_DATUM": "2016-10-23",
                                    "SZALL_MOD": "NULL"
                                },
                                {
                                    "SZALL_DATUM": "2016-10-24",
                                    "SZALL_MOD": "NULL"
                                },
                                {
                                    "SZALL_DATUM": "2016-10-25",
                                    "SZALL_MOD": "NULL"
                                },
                                {
                                    "SZALL_DATUM": "2016-10-26",
                                    "SZALL_MOD": "NULL"
                                },
                                {
                                    "SZALL_DATUM": "2016-10-27",
                                    "SZALL_MOD": "NULL"
                                },
                                {
                                    "SZALL_DATUM": "2016-10-28",
                                    "SZALL_MOD": "NULL"
                                },
                                {
                                    "SZALL_DATUM": "2016-10-29",
                                    "SZALL_MOD": "NULL"
                                },
                                {
                                    "SZALL_DATUM": "2016-10-30",
                                    "SZALL_MOD": "NULL"
                                },
                                {
                                    "SZALL_DATUM": "2016-10-31",
                                    "SZALL_MOD": "NULL"
                                },
                                {
                                    "SZALL_DATUM": "2016-11-01",
                                    "SZALL_MOD": "NULL"
                                },
                                {
                                    "SZALL_DATUM": "2016-11-02",
                                    "SZALL_MOD": "NULL"
                                },
                                {
                                    "SZALL_DATUM": "2016-11-03",
                                    "SZALL_MOD": "NULL"
                                },
                                {
                                    "SZALL_DATUM": "2016-11-04",
                                    "SZALL_MOD": "NULL"
                                },
                                {
                                    "SZALL_DATUM": "2016-11-05",
                                    "SZALL_MOD": "NULL"
                                },
                                {
                                    "SZALL_DATUM": "2016-11-06",
                                    "SZALL_MOD": "NULL"
                                },
                                {
                                    "SZALL_DATUM": "2016-11-07",
                                    "SZALL_MOD": "NULL"
                                },
                                {
                                    "SZALL_DATUM": "2016-11-08",
                                    "SZALL_MOD": "NULL"
                                },
                                {
                                    "SZALL_DATUM": "2016-11-09",
                                    "SZALL_MOD": "NULL"
                                },
                                {
                                    "SZALL_DATUM": "2016-11-10",
                                    "SZALL_MOD": "NULL"
                                },
                                {
                                    "SZALL_DATUM": "2016-11-11",
                                    "SZALL_MOD": "NULL"
                                },
                                {
                                    "SZALL_DATUM": "2016-11-12",
                                    "SZALL_MOD": "NULL"
                                },
                                {
                                    "SZALL_DATUM": "2016-11-13",
                                    "SZALL_MOD": "NULL"
                                },
                                {
                                    "SZALL_DATUM": "2016-11-14",
                                    "SZALL_MOD": "NULL"
                                },
                                {
                                    "SZALL_DATUM": "2016-11-15",
                                    "SZALL_MOD": "NULL"
                                },
                                {
                                    "SZALL_DATUM": "2016-11-16",
                                    "SZALL_MOD": "NULL"
                                },
                                {
                                    "SZALL_DATUM": "2016-11-17",
                                    "SZALL_MOD": "NULL"
                                },
                                {
                                    "SZALL_DATUM": "2016-11-18",
                                    "SZALL_MOD": "NULL"
                                },
                                {
                                    "SZALL_DATUM": "2016-11-19",
                                    "SZALL_MOD": "NULL"
                                },
                                {
                                    "SZALL_DATUM": "2016-11-20",
                                    "SZALL_MOD": "NULL"
                                },
                                {
                                    "SZALL_DATUM": "2016-11-21",
                                    "SZALL_MOD": "NULL"
                                },
                                {
                                    "SZALL_DATUM": "2016-11-22",
                                    "SZALL_MOD": "NULL"
                                },
                                {
                                    "SZALL_DATUM": "2016-11-23",
                                    "SZALL_MOD": "NULL"
                                },
                                {
                                    "SZALL_DATUM": "2016-11-24",
                                    "SZALL_MOD": "NULL"
                                },
                                {
                                    "SZALL_DATUM": "2016-11-25",
                                    "SZALL_MOD": "NULL"
                                },
                                {
                                    "SZALL_DATUM": "2016-11-26",
                                    "SZALL_MOD": "NULL"
                                },
                                {
                                    "SZALL_DATUM": "2016-11-27",
                                    "SZALL_MOD": "NULL"
                                },
                                {
                                    "SZALL_DATUM": "2016-11-28",
                                    "SZALL_MOD": "NULL"
                                },
                                {
                                    "SZALL_DATUM": "2016-11-29",
                                    "SZALL_MOD": "NULL"
                                },
                                {
                                    "SZALL_DATUM": "2016-11-30",
                                    "SZALL_MOD": "NULL"
                                },
                                {
                                    "SZALL_DATUM": "2016-12-01",
                                    "SZALL_MOD": "NULL"
                                },
                                {
                                    "SZALL_DATUM": "2016-12-02",
                                    "SZALL_MOD": "NULL"
                                },
                                {
                                    "SZALL_DATUM": "2016-12-03",
                                    "SZALL_MOD": "NULL"
                                },
                                {
                                    "SZALL_DATUM": "2016-12-04",
                                    "SZALL_MOD": "NULL"
                                },
                                {
                                    "SZALL_DATUM": "2016-12-05",
                                    "SZALL_MOD": "NULL"
                                },
                                {
                                    "SZALL_DATUM": "2016-12-06",
                                    "SZALL_MOD": "NULL"
                                },
                                {
                                    "SZALL_DATUM": "2016-12-07",
                                    "SZALL_MOD": "NULL"
                                },
                                {
                                    "SZALL_DATUM": "2016-12-08",
                                    "SZALL_MOD": "NULL"
                                },
                                {
                                    "SZALL_DATUM": "2016-12-09",
                                    "SZALL_MOD": "NULL"
                                },
                                {
                                    "SZALL_DATUM": "2016-12-10",
                                    "SZALL_MOD": "NULL"
                                },
                                {
                                    "SZALL_DATUM": "2016-12-11",
                                    "SZALL_MOD": "NULL"
                                },
                                {
                                    "SZALL_DATUM": "2016-12-12",
                                    "SZALL_MOD": "NULL"
                                },
                                {
                                    "SZALL_DATUM": "2016-12-13",
                                    "SZALL_MOD": "NULL"
                                },
                                {
                                    "SZALL_DATUM": "2016-12-14",
                                    "SZALL_MOD": "NULL"
                                },
                                {
                                    "SZALL_DATUM": "2016-12-15",
                                    "SZALL_MOD": "NULL"
                                },
                                {
                                    "SZALL_DATUM": "2016-12-16",
                                    "SZALL_MOD": "NULL"
                                },
                                {
                                    "SZALL_DATUM": "2016-12-17",
                                    "SZALL_MOD": "NULL"
                                },
                                {
                                    "SZALL_DATUM": "2016-12-18",
                                    "SZALL_MOD": "NULL"
                                },
                                {
                                    "SZALL_DATUM": "2016-12-19",
                                    "SZALL_MOD": "NULL"
                                },
                                {
                                    "SZALL_DATUM": "2016-12-20",
                                    "SZALL_MOD": "NULL"
                                },
                                {
                                    "SZALL_DATUM": "2016-12-21",
                                    "SZALL_MOD": "NULL"
                                },
                                {
                                    "SZALL_DATUM": "2016-12-22",
                                    "SZALL_MOD": "NULL"
                                },
                                {
                                    "SZALL_DATUM": "2016-12-23",
                                    "SZALL_MOD": "NULL"
                                },
                                {
                                    "SZALL_DATUM": "2016-12-24",
                                    "SZALL_MOD": "NULL"
                                },
                                {
                                    "SZALL_DATUM": "2016-12-25",
                                    "SZALL_MOD": "NULL"
                                },
                                {
                                    "SZALL_DATUM": "2016-12-26",
                                    "SZALL_MOD": "NULL"
                                },
                                {
                                    "SZALL_DATUM": "2016-12-27",
                                    "SZALL_MOD": "NULL"
                                },
                                {
                                    "SZALL_DATUM": "2016-12-28",
                                    "SZALL_MOD": "NULL"
                                },
                                {
                                    "SZALL_DATUM": "2016-12-29",
                                    "SZALL_MOD": "NULL"
                                },
                                {
                                    "SZALL_DATUM": "2016-12-30",
                                    "SZALL_MOD": "NULL"
                                },
                                {
                                    "SZALL_DATUM": "2016-12-31",
                                    "SZALL_MOD": "NULL"
                                },
                                {
                                    "SZALL_DATUM": "2017-01-01",
                                    "SZALL_MOD": "NULL"
                                },
                                {
                                    "SZALL_DATUM": "2017-01-02",
                                    "SZALL_MOD": "NULL"
                                },
                                {
                                    "SZALL_DATUM": "2017-01-03",
                                    "SZALL_MOD": "NULL"
                                },
                                {
                                    "SZALL_DATUM": "2017-01-04",
                                    "SZALL_MOD": "NULL"
                                },
                                {
                                    "SZALL_DATUM": "2017-01-05",
                                    "SZALL_MOD": "NULL"
                                },
                                {
                                    "SZALL_DATUM": "2017-01-06",
                                    "SZALL_MOD": "NULL"
                                },
                                {
                                    "SZALL_DATUM": "2017-01-07",
                                    "SZALL_MOD": "NULL"
                                },
                                {
                                    "SZALL_DATUM": "2017-01-08",
                                    "SZALL_MOD": "NULL"
                                },
                                {
                                    "SZALL_DATUM": "2017-01-09",
                                    "SZALL_MOD": "NULL"
                                },
                                {
                                    "SZALL_DATUM": "2017-01-10",
                                    "SZALL_MOD": "NULL"
                                },
                                {
                                    "SZALL_DATUM": "2017-01-11",
                                    "SZALL_MOD": "NULL"
                                },
                                {
                                    "SZALL_DATUM": "2017-01-12",
                                    "SZALL_MOD": "NULL"
                                },
                                {
                                    "SZALL_DATUM": "2017-01-13",
                                    "SZALL_MOD": "NULL"
                                },
                                {
                                    "SZALL_DATUM": "2017-01-14",
                                    "SZALL_MOD": "NULL"
                                },
                                {
                                    "SZALL_DATUM": "2017-01-15",
                                    "SZALL_MOD": "NULL"
                                },
                                {
                                    "SZALL_DATUM": "2017-01-16",
                                    "SZALL_MOD": "NULL"
                                },
                                {
                                    "SZALL_DATUM": "2017-01-17",
                                    "SZALL_MOD": "NULL"
                                },
                                {
                                    "SZALL_DATUM": "2017-01-18",
                                    "SZALL_MOD": "NULL"
                                },
                                {
                                    "SZALL_DATUM": "2017-01-19",
                                    "SZALL_MOD": "NULL"
                                },
                                {
                                    "SZALL_DATUM": "2017-01-20",
                                    "SZALL_MOD": "NULL"
                                },
                                {
                                    "SZALL_DATUM": "2017-01-21",
                                    "SZALL_MOD": "NULL"
                                },
                                {
                                    "SZALL_DATUM": "2017-01-22",
                                    "SZALL_MOD": "NULL"
                                },
                                {
                                    "SZALL_DATUM": "2017-01-23",
                                    "SZALL_MOD": "NULL"
                                },
                                {
                                    "SZALL_DATUM": "2017-01-24",
                                    "SZALL_MOD": "NULL"
                                },
                                {
                                    "SZALL_DATUM": "2017-01-25",
                                    "SZALL_MOD": "NULL"
                                },
                                {
                                    "SZALL_DATUM": "2017-01-26",
                                    "SZALL_MOD": "NULL"
                                },
                                {
                                    "SZALL_DATUM": "2017-01-27",
                                    "SZALL_MOD": "NULL"
                                },
                                {
                                    "SZALL_DATUM": "2017-01-28",
                                    "SZALL_MOD": "NULL"
                                },
                                {
                                    "SZALL_DATUM": "2017-01-29",
                                    "SZALL_MOD": "NULL"
                                },
                                {
                                    "SZALL_DATUM": "2017-01-30",
                                    "SZALL_MOD": "NULL"
                                },
                                {
                                    "SZALL_DATUM": "2017-01-31",
                                    "SZALL_MOD": "NULL"
                                },
                                {
                                    "SZALL_DATUM": "2017-02-01",
                                    "SZALL_MOD": "NULL"
                                },
                                {
                                    "SZALL_DATUM": "2017-02-02",
                                    "SZALL_MOD": "NULL"
                                },
                                {
                                    "SZALL_DATUM": "2017-02-03",
                                    "SZALL_MOD": "NULL"
                                },
                                {
                                    "SZALL_DATUM": "2017-02-04",
                                    "SZALL_MOD": "NULL"
                                },
                                {
                                    "SZALL_DATUM": "2017-02-05",
                                    "SZALL_MOD": "NULL"
                                },
                                {
                                    "SZALL_DATUM": "2017-02-06",
                                    "SZALL_MOD": "NULL"
                                },
                                {
                                    "SZALL_DATUM": "2017-02-07",
                                    "SZALL_MOD": "NULL"
                                },
                                {
                                    "SZALL_DATUM": "2017-02-08",
                                    "SZALL_MOD": "NULL"
                                },
                                {
                                    "SZALL_DATUM": "2017-02-09",
                                    "SZALL_MOD": "NULL"
                                },
                                {
                                    "SZALL_DATUM": "2017-02-10",
                                    "SZALL_MOD": "NULL"
                                },
                                {
                                    "SZALL_DATUM": "2017-02-11",
                                    "SZALL_MOD": "NULL"
                                },
                                {
                                    "SZALL_DATUM": "2017-02-12",
                                    "SZALL_MOD": "NULL"
                                },
                                {
                                    "SZALL_DATUM": "2017-02-13",
                                    "SZALL_MOD": "NULL"
                                },
                                {
                                    "SZALL_DATUM": "2017-02-14",
                                    "SZALL_MOD": "NULL"
                                },
                                {
                                    "SZALL_DATUM": "2017-02-15",
                                    "SZALL_MOD": "NULL"
                                },
                                {
                                    "SZALL_DATUM": "2017-02-16",
                                    "SZALL_MOD": "NULL"
                                },
                                {
                                    "SZALL_DATUM": "2017-02-17",
                                    "SZALL_MOD": "NULL"
                                },
                                {
                                    "SZALL_DATUM": "2017-02-18",
                                    "SZALL_MOD": "NULL"
                                },
                                {
                                    "SZALL_DATUM": "2017-02-19",
                                    "SZALL_MOD": "NULL"
                                },
                                {
                                    "SZALL_DATUM": "2017-02-20",
                                    "SZALL_MOD": "NULL"
                                },
                                {
                                    "SZALL_DATUM": "2017-02-21",
                                    "SZALL_MOD": "NULL"
                                },
                                {
                                    "SZALL_DATUM": "2017-02-22",
                                    "SZALL_MOD": "NULL"
                                },
                                {
                                    "SZALL_DATUM": "2017-02-23",
                                    "SZALL_MOD": "NULL"
                                },
                                {
                                    "SZALL_DATUM": "2017-02-24",
                                    "SZALL_MOD": "NULL"
                                },
                                {
                                    "SZALL_DATUM": "2017-02-25",
                                    "SZALL_MOD": "NULL"
                                },
                                {
                                    "SZALL_DATUM": "2017-02-26",
                                    "SZALL_MOD": "NULL"
                                },
                                {
                                    "SZALL_DATUM": "2017-02-27",
                                    "SZALL_MOD": "NULL"
                                },
                                {
                                    "SZALL_DATUM": "2017-02-28",
                                    "SZALL_MOD": "NULL"
                                },
                                {
                                    "SZALL_DATUM": "2017-03-01",
                                    "SZALL_MOD": "NULL"
                                },
                                {
                                    "SZALL_DATUM": "2017-03-02",
                                    "SZALL_MOD": "NULL"
                                },
                                {
                                    "SZALL_DATUM": "2017-03-03",
                                    "SZALL_MOD": "NULL"
                                },
                                {
                                    "SZALL_DATUM": "2017-03-04",
                                    "SZALL_MOD": "NULL"
                                },
                                {
                                    "SZALL_DATUM": "2017-03-05",
                                    "SZALL_MOD": "NULL"
                                },
                                {
                                    "SZALL_DATUM": "2017-03-06",
                                    "SZALL_MOD": "NULL"
                                },
                                {
                                    "SZALL_DATUM": "2017-03-07",
                                    "SZALL_MOD": "NULL"
                                },
                                {
                                    "SZALL_DATUM": "2017-03-08",
                                    "SZALL_MOD": "NULL"
                                },
                                {
                                    "SZALL_DATUM": "2017-03-09",
                                    "SZALL_MOD": "NULL"
                                },
                                {
                                    "SZALL_DATUM": "2017-03-10",
                                    "SZALL_MOD": "NULL"
                                },
                                {
                                    "SZALL_DATUM": "2017-03-11",
                                    "SZALL_MOD": "NULL"
                                },
                                {
                                    "SZALL_DATUM": "2017-03-12",
                                    "SZALL_MOD": "NULL"
                                },
                                {
                                    "SZALL_DATUM": "2017-03-13",
                                    "SZALL_MOD": "NULL"
                                },
                                {
                                    "SZALL_DATUM": "2017-03-14",
                                    "SZALL_MOD": "NULL"
                                },
                                {
                                    "SZALL_DATUM": "2017-03-15",
                                    "SZALL_MOD": "NULL"
                                },
                                {
                                    "SZALL_DATUM": "2017-03-16",
                                    "SZALL_MOD": "NULL"
                                },
                                {
                                    "SZALL_DATUM": "2017-03-17",
                                    "SZALL_MOD": "NULL"
                                },
                                {
                                    "SZALL_DATUM": "2017-03-18",
                                    "SZALL_MOD": "NULL"
                                },
                                {
                                    "SZALL_DATUM": "2017-03-19",
                                    "SZALL_MOD": "NULL"
                                },
                                {
                                    "SZALL_DATUM": "2017-03-20",
                                    "SZALL_MOD": "NULL"
                                },
                                {
                                    "SZALL_DATUM": "2017-03-21",
                                    "SZALL_MOD": "NULL"
                                },
                                {
                                    "SZALL_DATUM": "2017-03-22",
                                    "SZALL_MOD": "NULL"
                                },
                                {
                                    "SZALL_DATUM": "2017-03-23",
                                    "SZALL_MOD": "NULL"
                                },
                                {
                                    "SZALL_DATUM": "2017-03-24",
                                    "SZALL_MOD": "NULL"
                                },
                                {
                                    "SZALL_DATUM": "2017-03-25",
                                    "SZALL_MOD": "NULL"
                                },
                                {
                                    "SZALL_DATUM": "2017-03-26",
                                    "SZALL_MOD": "NULL"
                                },
                                {
                                    "SZALL_DATUM": "2017-03-27",
                                    "SZALL_MOD": "NULL"
                                },
                                {
                                    "SZALL_DATUM": "2017-03-28",
                                    "SZALL_MOD": "NULL"
                                },
                                {
                                    "SZALL_DATUM": "2017-03-29",
                                    "SZALL_MOD": "NULL"
                                },
                                {
                                    "SZALL_DATUM": "2017-03-30",
                                    "SZALL_MOD": "NULL"
                                },
                                {
                                    "SZALL_DATUM": "2017-03-31",
                                    "SZALL_MOD": "NULL"
                                },
                                {
                                    "SZALL_DATUM": "2017-04-01",
                                    "SZALL_MOD": "NULL"
                                },
                                {
                                    "SZALL_DATUM": "2017-04-02",
                                    "SZALL_MOD": "NULL"
                                },
                                {
                                    "SZALL_DATUM": "2017-04-03",
                                    "SZALL_MOD": "NULL"
                                },
                                {
                                    "SZALL_DATUM": "2017-04-04",
                                    "SZALL_MOD": "NULL"
                                },
                                {
                                    "SZALL_DATUM": "2017-04-05",
                                    "SZALL_MOD": "NULL"
                                },
                                {
                                    "SZALL_DATUM": "2017-04-06",
                                    "SZALL_MOD": "NULL"
                                },
                                {
                                    "SZALL_DATUM": "2017-04-07",
                                    "SZALL_MOD": "NULL"
                                },
                                {
                                    "SZALL_DATUM": "2017-04-08",
                                    "SZALL_MOD": "NULL"
                                },
                                {
                                    "SZALL_DATUM": "2017-04-09",
                                    "SZALL_MOD": "NULL"
                                },
                                {
                                    "SZALL_DATUM": "2017-04-10",
                                    "SZALL_MOD": "NULL"
                                },
                                {
                                    "SZALL_DATUM": "2017-04-11",
                                    "SZALL_MOD": "NULL"
                                },
                                {
                                    "SZALL_DATUM": "NULL",
                                    "SZALL_MOD": "NULL"
                                }
                            ]
                        },
                        "text/html": [
                            "<table>",
                            "<tr><th>SZALL_DATUM</th><th>SZALL_MOD</th></tr>",
                            "<tr><td>2015-05-03</td><td>NULL</td></tr>",
                            "<tr><td>2015-05-04</td><td>NULL</td></tr>",
                            "<tr><td>2015-05-05</td><td>NULL</td></tr>",
                            "<tr><td>2015-05-06</td><td>NULL</td></tr>",
                            "<tr><td>2015-05-07</td><td>NULL</td></tr>",
                            "<tr><td>2015-05-08</td><td>NULL</td></tr>",
                            "<tr><td>2015-05-09</td><td>NULL</td></tr>",
                            "<tr><td>2015-05-10</td><td>NULL</td></tr>",
                            "<tr><td>2015-05-11</td><td>NULL</td></tr>",
                            "<tr><td>2015-05-12</td><td>NULL</td></tr>",
                            "<tr><td>2015-05-13</td><td>NULL</td></tr>",
                            "<tr><td>2015-05-14</td><td>NULL</td></tr>",
                            "<tr><td>2015-05-15</td><td>NULL</td></tr>",
                            "<tr><td>2015-05-16</td><td>NULL</td></tr>",
                            "<tr><td>2015-05-17</td><td>NULL</td></tr>",
                            "<tr><td>2015-05-18</td><td>NULL</td></tr>",
                            "<tr><td>2015-05-19</td><td>NULL</td></tr>",
                            "<tr><td>2015-05-20</td><td>NULL</td></tr>",
                            "<tr><td>2015-05-21</td><td>NULL</td></tr>",
                            "<tr><td>2015-05-22</td><td>NULL</td></tr>",
                            "<tr><td>2015-05-23</td><td>NULL</td></tr>",
                            "<tr><td>2015-05-24</td><td>NULL</td></tr>",
                            "<tr><td>2015-05-25</td><td>NULL</td></tr>",
                            "<tr><td>2015-05-26</td><td>NULL</td></tr>",
                            "<tr><td>2015-05-27</td><td>NULL</td></tr>",
                            "<tr><td>2015-05-28</td><td>NULL</td></tr>",
                            "<tr><td>2015-05-29</td><td>NULL</td></tr>",
                            "<tr><td>2015-05-30</td><td>NULL</td></tr>",
                            "<tr><td>2015-05-31</td><td>NULL</td></tr>",
                            "<tr><td>2015-06-01</td><td>NULL</td></tr>",
                            "<tr><td>2015-06-02</td><td>NULL</td></tr>",
                            "<tr><td>2015-06-03</td><td>NULL</td></tr>",
                            "<tr><td>2015-06-04</td><td>NULL</td></tr>",
                            "<tr><td>2015-06-05</td><td>NULL</td></tr>",
                            "<tr><td>2015-06-06</td><td>NULL</td></tr>",
                            "<tr><td>2015-06-07</td><td>NULL</td></tr>",
                            "<tr><td>2015-06-08</td><td>NULL</td></tr>",
                            "<tr><td>2015-06-09</td><td>NULL</td></tr>",
                            "<tr><td>2015-06-10</td><td>NULL</td></tr>",
                            "<tr><td>2015-06-11</td><td>NULL</td></tr>",
                            "<tr><td>2015-06-12</td><td>NULL</td></tr>",
                            "<tr><td>2015-06-13</td><td>NULL</td></tr>",
                            "<tr><td>2015-06-14</td><td>NULL</td></tr>",
                            "<tr><td>2015-06-15</td><td>NULL</td></tr>",
                            "<tr><td>2015-06-16</td><td>NULL</td></tr>",
                            "<tr><td>2015-06-17</td><td>NULL</td></tr>",
                            "<tr><td>2015-06-18</td><td>NULL</td></tr>",
                            "<tr><td>2015-06-19</td><td>NULL</td></tr>",
                            "<tr><td>2015-06-20</td><td>NULL</td></tr>",
                            "<tr><td>2015-06-21</td><td>NULL</td></tr>",
                            "<tr><td>2015-06-22</td><td>NULL</td></tr>",
                            "<tr><td>2015-06-23</td><td>NULL</td></tr>",
                            "<tr><td>2015-06-24</td><td>NULL</td></tr>",
                            "<tr><td>2015-06-25</td><td>NULL</td></tr>",
                            "<tr><td>2015-06-26</td><td>NULL</td></tr>",
                            "<tr><td>2015-06-27</td><td>NULL</td></tr>",
                            "<tr><td>2015-06-28</td><td>NULL</td></tr>",
                            "<tr><td>2015-06-29</td><td>NULL</td></tr>",
                            "<tr><td>2015-06-30</td><td>NULL</td></tr>",
                            "<tr><td>2015-07-01</td><td>NULL</td></tr>",
                            "<tr><td>2015-07-02</td><td>NULL</td></tr>",
                            "<tr><td>2015-07-03</td><td>NULL</td></tr>",
                            "<tr><td>2015-07-04</td><td>NULL</td></tr>",
                            "<tr><td>2015-07-05</td><td>NULL</td></tr>",
                            "<tr><td>2015-07-06</td><td>NULL</td></tr>",
                            "<tr><td>2015-07-07</td><td>NULL</td></tr>",
                            "<tr><td>2015-07-08</td><td>NULL</td></tr>",
                            "<tr><td>2015-07-09</td><td>NULL</td></tr>",
                            "<tr><td>2015-07-10</td><td>NULL</td></tr>",
                            "<tr><td>2015-07-11</td><td>NULL</td></tr>",
                            "<tr><td>2015-07-12</td><td>NULL</td></tr>",
                            "<tr><td>2015-07-13</td><td>NULL</td></tr>",
                            "<tr><td>2015-07-14</td><td>NULL</td></tr>",
                            "<tr><td>2015-07-15</td><td>NULL</td></tr>",
                            "<tr><td>2015-07-16</td><td>NULL</td></tr>",
                            "<tr><td>2015-07-17</td><td>NULL</td></tr>",
                            "<tr><td>2015-07-18</td><td>NULL</td></tr>",
                            "<tr><td>2015-07-19</td><td>NULL</td></tr>",
                            "<tr><td>2015-07-20</td><td>NULL</td></tr>",
                            "<tr><td>2015-07-21</td><td>NULL</td></tr>",
                            "<tr><td>2015-07-22</td><td>NULL</td></tr>",
                            "<tr><td>2015-07-23</td><td>NULL</td></tr>",
                            "<tr><td>2015-07-24</td><td>NULL</td></tr>",
                            "<tr><td>2015-07-25</td><td>NULL</td></tr>",
                            "<tr><td>2015-07-26</td><td>NULL</td></tr>",
                            "<tr><td>2015-07-27</td><td>NULL</td></tr>",
                            "<tr><td>2015-07-28</td><td>NULL</td></tr>",
                            "<tr><td>2015-07-29</td><td>NULL</td></tr>",
                            "<tr><td>2015-07-30</td><td>NULL</td></tr>",
                            "<tr><td>2015-07-31</td><td>NULL</td></tr>",
                            "<tr><td>2015-08-01</td><td>NULL</td></tr>",
                            "<tr><td>2015-08-02</td><td>NULL</td></tr>",
                            "<tr><td>2015-08-03</td><td>NULL</td></tr>",
                            "<tr><td>2015-08-04</td><td>NULL</td></tr>",
                            "<tr><td>2015-08-05</td><td>NULL</td></tr>",
                            "<tr><td>2015-08-06</td><td>NULL</td></tr>",
                            "<tr><td>2015-08-07</td><td>NULL</td></tr>",
                            "<tr><td>2015-08-08</td><td>NULL</td></tr>",
                            "<tr><td>2015-08-09</td><td>NULL</td></tr>",
                            "<tr><td>2015-08-10</td><td>NULL</td></tr>",
                            "<tr><td>2015-08-11</td><td>NULL</td></tr>",
                            "<tr><td>2015-08-12</td><td>NULL</td></tr>",
                            "<tr><td>2015-08-13</td><td>NULL</td></tr>",
                            "<tr><td>2015-08-14</td><td>NULL</td></tr>",
                            "<tr><td>2015-08-15</td><td>NULL</td></tr>",
                            "<tr><td>2015-08-16</td><td>NULL</td></tr>",
                            "<tr><td>2015-08-17</td><td>NULL</td></tr>",
                            "<tr><td>2015-08-18</td><td>NULL</td></tr>",
                            "<tr><td>2015-08-19</td><td>NULL</td></tr>",
                            "<tr><td>2015-08-20</td><td>NULL</td></tr>",
                            "<tr><td>2015-08-21</td><td>NULL</td></tr>",
                            "<tr><td>2015-08-22</td><td>NULL</td></tr>",
                            "<tr><td>2015-08-23</td><td>NULL</td></tr>",
                            "<tr><td>2015-08-24</td><td>NULL</td></tr>",
                            "<tr><td>2015-08-25</td><td>NULL</td></tr>",
                            "<tr><td>2015-08-26</td><td>NULL</td></tr>",
                            "<tr><td>2015-08-27</td><td>NULL</td></tr>",
                            "<tr><td>2015-08-28</td><td>NULL</td></tr>",
                            "<tr><td>2015-08-29</td><td>NULL</td></tr>",
                            "<tr><td>2015-08-30</td><td>NULL</td></tr>",
                            "<tr><td>2015-08-31</td><td>NULL</td></tr>",
                            "<tr><td>2015-09-01</td><td>NULL</td></tr>",
                            "<tr><td>2015-09-02</td><td>NULL</td></tr>",
                            "<tr><td>2015-09-03</td><td>NULL</td></tr>",
                            "<tr><td>2015-09-04</td><td>NULL</td></tr>",
                            "<tr><td>2015-09-05</td><td>NULL</td></tr>",
                            "<tr><td>2015-09-06</td><td>NULL</td></tr>",
                            "<tr><td>2015-09-07</td><td>NULL</td></tr>",
                            "<tr><td>2015-09-08</td><td>NULL</td></tr>",
                            "<tr><td>2015-09-09</td><td>NULL</td></tr>",
                            "<tr><td>2015-09-10</td><td>NULL</td></tr>",
                            "<tr><td>2015-09-11</td><td>NULL</td></tr>",
                            "<tr><td>2015-09-12</td><td>NULL</td></tr>",
                            "<tr><td>2015-09-13</td><td>NULL</td></tr>",
                            "<tr><td>2015-09-14</td><td>NULL</td></tr>",
                            "<tr><td>2015-09-15</td><td>NULL</td></tr>",
                            "<tr><td>2015-09-16</td><td>NULL</td></tr>",
                            "<tr><td>2015-09-17</td><td>NULL</td></tr>",
                            "<tr><td>2015-09-18</td><td>NULL</td></tr>",
                            "<tr><td>2015-09-19</td><td>NULL</td></tr>",
                            "<tr><td>2015-09-20</td><td>NULL</td></tr>",
                            "<tr><td>2015-09-21</td><td>NULL</td></tr>",
                            "<tr><td>2015-09-22</td><td>NULL</td></tr>",
                            "<tr><td>2015-09-23</td><td>NULL</td></tr>",
                            "<tr><td>2015-09-24</td><td>NULL</td></tr>",
                            "<tr><td>2015-09-25</td><td>NULL</td></tr>",
                            "<tr><td>2015-09-26</td><td>NULL</td></tr>",
                            "<tr><td>2015-09-27</td><td>NULL</td></tr>",
                            "<tr><td>2015-09-28</td><td>NULL</td></tr>",
                            "<tr><td>2015-09-29</td><td>NULL</td></tr>",
                            "<tr><td>2015-09-30</td><td>NULL</td></tr>",
                            "<tr><td>2015-10-01</td><td>NULL</td></tr>",
                            "<tr><td>2015-10-02</td><td>NULL</td></tr>",
                            "<tr><td>2015-10-03</td><td>NULL</td></tr>",
                            "<tr><td>2015-10-04</td><td>NULL</td></tr>",
                            "<tr><td>2015-10-05</td><td>NULL</td></tr>",
                            "<tr><td>2015-10-06</td><td>NULL</td></tr>",
                            "<tr><td>2015-10-07</td><td>NULL</td></tr>",
                            "<tr><td>2015-10-08</td><td>NULL</td></tr>",
                            "<tr><td>2015-10-09</td><td>NULL</td></tr>",
                            "<tr><td>2015-10-10</td><td>NULL</td></tr>",
                            "<tr><td>2015-10-11</td><td>NULL</td></tr>",
                            "<tr><td>2015-10-12</td><td>NULL</td></tr>",
                            "<tr><td>2015-10-13</td><td>NULL</td></tr>",
                            "<tr><td>2015-10-14</td><td>NULL</td></tr>",
                            "<tr><td>2015-10-15</td><td>NULL</td></tr>",
                            "<tr><td>2015-10-16</td><td>NULL</td></tr>",
                            "<tr><td>2015-10-17</td><td>NULL</td></tr>",
                            "<tr><td>2015-10-18</td><td>NULL</td></tr>",
                            "<tr><td>2015-10-19</td><td>NULL</td></tr>",
                            "<tr><td>2015-10-20</td><td>NULL</td></tr>",
                            "<tr><td>2015-10-21</td><td>NULL</td></tr>",
                            "<tr><td>2015-10-22</td><td>NULL</td></tr>",
                            "<tr><td>2015-10-23</td><td>NULL</td></tr>",
                            "<tr><td>2015-10-24</td><td>NULL</td></tr>",
                            "<tr><td>2015-10-25</td><td>NULL</td></tr>",
                            "<tr><td>2015-10-26</td><td>NULL</td></tr>",
                            "<tr><td>2015-10-27</td><td>NULL</td></tr>",
                            "<tr><td>2015-10-28</td><td>NULL</td></tr>",
                            "<tr><td>2015-10-29</td><td>NULL</td></tr>",
                            "<tr><td>2015-10-30</td><td>NULL</td></tr>",
                            "<tr><td>2015-10-31</td><td>NULL</td></tr>",
                            "<tr><td>2015-11-01</td><td>NULL</td></tr>",
                            "<tr><td>2015-11-02</td><td>NULL</td></tr>",
                            "<tr><td>2015-11-03</td><td>NULL</td></tr>",
                            "<tr><td>2015-11-04</td><td>NULL</td></tr>",
                            "<tr><td>2015-11-05</td><td>NULL</td></tr>",
                            "<tr><td>2015-11-06</td><td>NULL</td></tr>",
                            "<tr><td>2015-11-07</td><td>NULL</td></tr>",
                            "<tr><td>2015-11-08</td><td>NULL</td></tr>",
                            "<tr><td>2015-11-09</td><td>NULL</td></tr>",
                            "<tr><td>2015-11-10</td><td>NULL</td></tr>",
                            "<tr><td>2015-11-11</td><td>NULL</td></tr>",
                            "<tr><td>2015-11-12</td><td>NULL</td></tr>",
                            "<tr><td>2015-11-13</td><td>NULL</td></tr>",
                            "<tr><td>2015-11-14</td><td>NULL</td></tr>",
                            "<tr><td>2015-11-15</td><td>NULL</td></tr>",
                            "<tr><td>2015-11-16</td><td>NULL</td></tr>",
                            "<tr><td>2015-11-17</td><td>NULL</td></tr>",
                            "<tr><td>2015-11-18</td><td>NULL</td></tr>",
                            "<tr><td>2015-11-19</td><td>NULL</td></tr>",
                            "<tr><td>2015-11-20</td><td>NULL</td></tr>",
                            "<tr><td>2015-11-21</td><td>NULL</td></tr>",
                            "<tr><td>2015-11-22</td><td>NULL</td></tr>",
                            "<tr><td>2015-11-23</td><td>NULL</td></tr>",
                            "<tr><td>2015-11-24</td><td>NULL</td></tr>",
                            "<tr><td>2015-11-25</td><td>NULL</td></tr>",
                            "<tr><td>2015-11-26</td><td>NULL</td></tr>",
                            "<tr><td>2015-11-27</td><td>NULL</td></tr>",
                            "<tr><td>2015-11-28</td><td>NULL</td></tr>",
                            "<tr><td>2015-11-29</td><td>NULL</td></tr>",
                            "<tr><td>2015-11-30</td><td>NULL</td></tr>",
                            "<tr><td>2015-12-01</td><td>NULL</td></tr>",
                            "<tr><td>2015-12-02</td><td>NULL</td></tr>",
                            "<tr><td>2015-12-03</td><td>NULL</td></tr>",
                            "<tr><td>2015-12-04</td><td>NULL</td></tr>",
                            "<tr><td>2015-12-05</td><td>NULL</td></tr>",
                            "<tr><td>2015-12-06</td><td>NULL</td></tr>",
                            "<tr><td>2015-12-07</td><td>NULL</td></tr>",
                            "<tr><td>2015-12-08</td><td>NULL</td></tr>",
                            "<tr><td>2015-12-09</td><td>NULL</td></tr>",
                            "<tr><td>2015-12-10</td><td>NULL</td></tr>",
                            "<tr><td>2015-12-11</td><td>NULL</td></tr>",
                            "<tr><td>2015-12-12</td><td>NULL</td></tr>",
                            "<tr><td>2015-12-13</td><td>NULL</td></tr>",
                            "<tr><td>2015-12-14</td><td>NULL</td></tr>",
                            "<tr><td>2015-12-15</td><td>NULL</td></tr>",
                            "<tr><td>2015-12-16</td><td>NULL</td></tr>",
                            "<tr><td>2015-12-17</td><td>NULL</td></tr>",
                            "<tr><td>2015-12-18</td><td>NULL</td></tr>",
                            "<tr><td>2015-12-19</td><td>NULL</td></tr>",
                            "<tr><td>2015-12-20</td><td>NULL</td></tr>",
                            "<tr><td>2015-12-21</td><td>NULL</td></tr>",
                            "<tr><td>2015-12-22</td><td>NULL</td></tr>",
                            "<tr><td>2015-12-23</td><td>NULL</td></tr>",
                            "<tr><td>2015-12-24</td><td>NULL</td></tr>",
                            "<tr><td>2015-12-25</td><td>NULL</td></tr>",
                            "<tr><td>2015-12-26</td><td>NULL</td></tr>",
                            "<tr><td>2015-12-27</td><td>NULL</td></tr>",
                            "<tr><td>2015-12-28</td><td>NULL</td></tr>",
                            "<tr><td>2015-12-29</td><td>NULL</td></tr>",
                            "<tr><td>2015-12-30</td><td>NULL</td></tr>",
                            "<tr><td>2015-12-31</td><td>NULL</td></tr>",
                            "<tr><td>2016-01-01</td><td>NULL</td></tr>",
                            "<tr><td>2016-01-02</td><td>NULL</td></tr>",
                            "<tr><td>2016-01-03</td><td>NULL</td></tr>",
                            "<tr><td>2016-01-04</td><td>NULL</td></tr>",
                            "<tr><td>2016-01-05</td><td>NULL</td></tr>",
                            "<tr><td>2016-01-06</td><td>NULL</td></tr>",
                            "<tr><td>2016-01-07</td><td>NULL</td></tr>",
                            "<tr><td>2016-01-08</td><td>NULL</td></tr>",
                            "<tr><td>2016-01-09</td><td>NULL</td></tr>",
                            "<tr><td>2016-01-10</td><td>NULL</td></tr>",
                            "<tr><td>2016-01-11</td><td>NULL</td></tr>",
                            "<tr><td>2016-01-12</td><td>NULL</td></tr>",
                            "<tr><td>2016-01-13</td><td>NULL</td></tr>",
                            "<tr><td>2016-01-14</td><td>NULL</td></tr>",
                            "<tr><td>2016-01-15</td><td>NULL</td></tr>",
                            "<tr><td>2016-01-16</td><td>NULL</td></tr>",
                            "<tr><td>2016-01-17</td><td>NULL</td></tr>",
                            "<tr><td>2016-01-18</td><td>NULL</td></tr>",
                            "<tr><td>2016-01-19</td><td>NULL</td></tr>",
                            "<tr><td>2016-01-20</td><td>NULL</td></tr>",
                            "<tr><td>2016-01-21</td><td>NULL</td></tr>",
                            "<tr><td>2016-01-22</td><td>NULL</td></tr>",
                            "<tr><td>2016-01-23</td><td>NULL</td></tr>",
                            "<tr><td>2016-01-24</td><td>NULL</td></tr>",
                            "<tr><td>2016-01-25</td><td>NULL</td></tr>",
                            "<tr><td>2016-01-26</td><td>NULL</td></tr>",
                            "<tr><td>2016-01-27</td><td>NULL</td></tr>",
                            "<tr><td>2016-01-28</td><td>NULL</td></tr>",
                            "<tr><td>2016-01-29</td><td>NULL</td></tr>",
                            "<tr><td>2016-01-30</td><td>NULL</td></tr>",
                            "<tr><td>2016-01-31</td><td>NULL</td></tr>",
                            "<tr><td>2016-02-01</td><td>NULL</td></tr>",
                            "<tr><td>2016-02-02</td><td>NULL</td></tr>",
                            "<tr><td>2016-02-03</td><td>NULL</td></tr>",
                            "<tr><td>2016-02-04</td><td>NULL</td></tr>",
                            "<tr><td>2016-02-05</td><td>NULL</td></tr>",
                            "<tr><td>2016-02-06</td><td>NULL</td></tr>",
                            "<tr><td>2016-02-07</td><td>NULL</td></tr>",
                            "<tr><td>2016-02-08</td><td>NULL</td></tr>",
                            "<tr><td>2016-02-09</td><td>NULL</td></tr>",
                            "<tr><td>2016-02-10</td><td>NULL</td></tr>",
                            "<tr><td>2016-02-11</td><td>NULL</td></tr>",
                            "<tr><td>2016-02-12</td><td>NULL</td></tr>",
                            "<tr><td>2016-02-13</td><td>NULL</td></tr>",
                            "<tr><td>2016-02-14</td><td>NULL</td></tr>",
                            "<tr><td>2016-02-15</td><td>NULL</td></tr>",
                            "<tr><td>2016-02-16</td><td>NULL</td></tr>",
                            "<tr><td>2016-02-17</td><td>NULL</td></tr>",
                            "<tr><td>2016-02-18</td><td>NULL</td></tr>",
                            "<tr><td>2016-02-19</td><td>NULL</td></tr>",
                            "<tr><td>2016-02-20</td><td>NULL</td></tr>",
                            "<tr><td>2016-02-21</td><td>NULL</td></tr>",
                            "<tr><td>2016-02-22</td><td>NULL</td></tr>",
                            "<tr><td>2016-02-23</td><td>NULL</td></tr>",
                            "<tr><td>2016-02-24</td><td>NULL</td></tr>",
                            "<tr><td>2016-02-25</td><td>NULL</td></tr>",
                            "<tr><td>2016-02-26</td><td>NULL</td></tr>",
                            "<tr><td>2016-02-27</td><td>NULL</td></tr>",
                            "<tr><td>2016-02-28</td><td>NULL</td></tr>",
                            "<tr><td>2016-02-29</td><td>NULL</td></tr>",
                            "<tr><td>2016-03-01</td><td>NULL</td></tr>",
                            "<tr><td>2016-03-02</td><td>NULL</td></tr>",
                            "<tr><td>2016-03-03</td><td>NULL</td></tr>",
                            "<tr><td>2016-03-04</td><td>NULL</td></tr>",
                            "<tr><td>2016-03-05</td><td>NULL</td></tr>",
                            "<tr><td>2016-03-06</td><td>NULL</td></tr>",
                            "<tr><td>2016-03-07</td><td>NULL</td></tr>",
                            "<tr><td>2016-03-08</td><td>NULL</td></tr>",
                            "<tr><td>2016-03-09</td><td>NULL</td></tr>",
                            "<tr><td>2016-03-10</td><td>NULL</td></tr>",
                            "<tr><td>2016-03-11</td><td>NULL</td></tr>",
                            "<tr><td>2016-03-12</td><td>NULL</td></tr>",
                            "<tr><td>2016-03-13</td><td>NULL</td></tr>",
                            "<tr><td>2016-03-14</td><td>NULL</td></tr>",
                            "<tr><td>2016-03-15</td><td>NULL</td></tr>",
                            "<tr><td>2016-03-16</td><td>NULL</td></tr>",
                            "<tr><td>2016-03-17</td><td>NULL</td></tr>",
                            "<tr><td>2016-03-18</td><td>NULL</td></tr>",
                            "<tr><td>2016-03-19</td><td>NULL</td></tr>",
                            "<tr><td>2016-03-20</td><td>NULL</td></tr>",
                            "<tr><td>2016-03-21</td><td>NULL</td></tr>",
                            "<tr><td>2016-03-22</td><td>NULL</td></tr>",
                            "<tr><td>2016-03-23</td><td>NULL</td></tr>",
                            "<tr><td>2016-03-24</td><td>NULL</td></tr>",
                            "<tr><td>2016-03-25</td><td>NULL</td></tr>",
                            "<tr><td>2016-03-26</td><td>NULL</td></tr>",
                            "<tr><td>2016-03-27</td><td>NULL</td></tr>",
                            "<tr><td>2016-03-28</td><td>NULL</td></tr>",
                            "<tr><td>2016-03-29</td><td>NULL</td></tr>",
                            "<tr><td>2016-03-30</td><td>NULL</td></tr>",
                            "<tr><td>2016-03-31</td><td>NULL</td></tr>",
                            "<tr><td>2016-04-01</td><td>NULL</td></tr>",
                            "<tr><td>2016-04-02</td><td>NULL</td></tr>",
                            "<tr><td>2016-04-03</td><td>NULL</td></tr>",
                            "<tr><td>2016-04-04</td><td>NULL</td></tr>",
                            "<tr><td>2016-04-05</td><td>NULL</td></tr>",
                            "<tr><td>2016-04-06</td><td>NULL</td></tr>",
                            "<tr><td>2016-04-07</td><td>NULL</td></tr>",
                            "<tr><td>2016-04-08</td><td>NULL</td></tr>",
                            "<tr><td>2016-04-09</td><td>NULL</td></tr>",
                            "<tr><td>2016-04-10</td><td>NULL</td></tr>",
                            "<tr><td>2016-04-11</td><td>NULL</td></tr>",
                            "<tr><td>2016-04-12</td><td>NULL</td></tr>",
                            "<tr><td>2016-04-13</td><td>NULL</td></tr>",
                            "<tr><td>2016-04-14</td><td>NULL</td></tr>",
                            "<tr><td>2016-04-15</td><td>NULL</td></tr>",
                            "<tr><td>2016-04-16</td><td>NULL</td></tr>",
                            "<tr><td>2016-04-17</td><td>NULL</td></tr>",
                            "<tr><td>2016-04-18</td><td>NULL</td></tr>",
                            "<tr><td>2016-04-19</td><td>NULL</td></tr>",
                            "<tr><td>2016-04-20</td><td>NULL</td></tr>",
                            "<tr><td>2016-04-21</td><td>NULL</td></tr>",
                            "<tr><td>2016-04-22</td><td>NULL</td></tr>",
                            "<tr><td>2016-04-23</td><td>NULL</td></tr>",
                            "<tr><td>2016-04-24</td><td>NULL</td></tr>",
                            "<tr><td>2016-04-25</td><td>NULL</td></tr>",
                            "<tr><td>2016-04-26</td><td>NULL</td></tr>",
                            "<tr><td>2016-04-27</td><td>NULL</td></tr>",
                            "<tr><td>2016-04-28</td><td>NULL</td></tr>",
                            "<tr><td>2016-04-29</td><td>NULL</td></tr>",
                            "<tr><td>2016-04-30</td><td>NULL</td></tr>",
                            "<tr><td>2016-05-01</td><td>NULL</td></tr>",
                            "<tr><td>2016-05-02</td><td>NULL</td></tr>",
                            "<tr><td>2016-05-03</td><td>NULL</td></tr>",
                            "<tr><td>2016-05-04</td><td>NULL</td></tr>",
                            "<tr><td>2016-05-05</td><td>NULL</td></tr>",
                            "<tr><td>2016-05-06</td><td>NULL</td></tr>",
                            "<tr><td>2016-05-07</td><td>NULL</td></tr>",
                            "<tr><td>2016-05-08</td><td>NULL</td></tr>",
                            "<tr><td>2016-05-09</td><td>NULL</td></tr>",
                            "<tr><td>2016-05-10</td><td>NULL</td></tr>",
                            "<tr><td>2016-05-11</td><td>NULL</td></tr>",
                            "<tr><td>2016-05-12</td><td>NULL</td></tr>",
                            "<tr><td>2016-05-13</td><td>NULL</td></tr>",
                            "<tr><td>2016-05-14</td><td>NULL</td></tr>",
                            "<tr><td>2016-05-15</td><td>NULL</td></tr>",
                            "<tr><td>2016-05-16</td><td>NULL</td></tr>",
                            "<tr><td>2016-05-17</td><td>NULL</td></tr>",
                            "<tr><td>2016-05-18</td><td>NULL</td></tr>",
                            "<tr><td>2016-05-19</td><td>NULL</td></tr>",
                            "<tr><td>2016-05-20</td><td>NULL</td></tr>",
                            "<tr><td>2016-05-21</td><td>NULL</td></tr>",
                            "<tr><td>2016-05-22</td><td>NULL</td></tr>",
                            "<tr><td>2016-05-23</td><td>NULL</td></tr>",
                            "<tr><td>2016-05-24</td><td>NULL</td></tr>",
                            "<tr><td>2016-05-25</td><td>NULL</td></tr>",
                            "<tr><td>2016-05-26</td><td>NULL</td></tr>",
                            "<tr><td>2016-05-27</td><td>NULL</td></tr>",
                            "<tr><td>2016-05-28</td><td>NULL</td></tr>",
                            "<tr><td>2016-05-29</td><td>NULL</td></tr>",
                            "<tr><td>2016-05-30</td><td>NULL</td></tr>",
                            "<tr><td>2016-05-31</td><td>NULL</td></tr>",
                            "<tr><td>2016-06-01</td><td>NULL</td></tr>",
                            "<tr><td>2016-06-02</td><td>NULL</td></tr>",
                            "<tr><td>2016-06-03</td><td>NULL</td></tr>",
                            "<tr><td>2016-06-04</td><td>NULL</td></tr>",
                            "<tr><td>2016-06-05</td><td>NULL</td></tr>",
                            "<tr><td>2016-06-06</td><td>NULL</td></tr>",
                            "<tr><td>2016-06-07</td><td>NULL</td></tr>",
                            "<tr><td>2016-06-08</td><td>NULL</td></tr>",
                            "<tr><td>2016-06-09</td><td>NULL</td></tr>",
                            "<tr><td>2016-06-10</td><td>NULL</td></tr>",
                            "<tr><td>2016-06-11</td><td>NULL</td></tr>",
                            "<tr><td>2016-06-12</td><td>NULL</td></tr>",
                            "<tr><td>2016-06-13</td><td>NULL</td></tr>",
                            "<tr><td>2016-06-14</td><td>NULL</td></tr>",
                            "<tr><td>2016-06-15</td><td>NULL</td></tr>",
                            "<tr><td>2016-06-16</td><td>NULL</td></tr>",
                            "<tr><td>2016-06-17</td><td>NULL</td></tr>",
                            "<tr><td>2016-06-18</td><td>NULL</td></tr>",
                            "<tr><td>2016-06-19</td><td>NULL</td></tr>",
                            "<tr><td>2016-06-20</td><td>NULL</td></tr>",
                            "<tr><td>2016-06-21</td><td>NULL</td></tr>",
                            "<tr><td>2016-06-22</td><td>NULL</td></tr>",
                            "<tr><td>2016-06-23</td><td>NULL</td></tr>",
                            "<tr><td>2016-06-24</td><td>NULL</td></tr>",
                            "<tr><td>2016-06-25</td><td>NULL</td></tr>",
                            "<tr><td>2016-06-26</td><td>NULL</td></tr>",
                            "<tr><td>2016-06-27</td><td>NULL</td></tr>",
                            "<tr><td>2016-06-28</td><td>NULL</td></tr>",
                            "<tr><td>2016-06-29</td><td>NULL</td></tr>",
                            "<tr><td>2016-06-30</td><td>NULL</td></tr>",
                            "<tr><td>2016-07-01</td><td>NULL</td></tr>",
                            "<tr><td>2016-07-02</td><td>NULL</td></tr>",
                            "<tr><td>2016-07-03</td><td>NULL</td></tr>",
                            "<tr><td>2016-07-04</td><td>NULL</td></tr>",
                            "<tr><td>2016-07-05</td><td>NULL</td></tr>",
                            "<tr><td>2016-07-06</td><td>NULL</td></tr>",
                            "<tr><td>2016-07-07</td><td>NULL</td></tr>",
                            "<tr><td>2016-07-08</td><td>NULL</td></tr>",
                            "<tr><td>2016-07-09</td><td>NULL</td></tr>",
                            "<tr><td>2016-07-10</td><td>NULL</td></tr>",
                            "<tr><td>2016-07-11</td><td>NULL</td></tr>",
                            "<tr><td>2016-07-12</td><td>NULL</td></tr>",
                            "<tr><td>2016-07-13</td><td>NULL</td></tr>",
                            "<tr><td>2016-07-14</td><td>NULL</td></tr>",
                            "<tr><td>2016-07-15</td><td>NULL</td></tr>",
                            "<tr><td>2016-07-16</td><td>NULL</td></tr>",
                            "<tr><td>2016-07-17</td><td>NULL</td></tr>",
                            "<tr><td>2016-07-18</td><td>NULL</td></tr>",
                            "<tr><td>2016-07-19</td><td>NULL</td></tr>",
                            "<tr><td>2016-07-20</td><td>NULL</td></tr>",
                            "<tr><td>2016-07-21</td><td>NULL</td></tr>",
                            "<tr><td>2016-07-22</td><td>NULL</td></tr>",
                            "<tr><td>2016-07-23</td><td>NULL</td></tr>",
                            "<tr><td>2016-07-24</td><td>NULL</td></tr>",
                            "<tr><td>2016-07-25</td><td>NULL</td></tr>",
                            "<tr><td>2016-07-26</td><td>NULL</td></tr>",
                            "<tr><td>2016-07-27</td><td>NULL</td></tr>",
                            "<tr><td>2016-07-28</td><td>NULL</td></tr>",
                            "<tr><td>2016-07-29</td><td>NULL</td></tr>",
                            "<tr><td>2016-07-30</td><td>NULL</td></tr>",
                            "<tr><td>2016-07-31</td><td>NULL</td></tr>",
                            "<tr><td>2016-08-01</td><td>NULL</td></tr>",
                            "<tr><td>2016-08-02</td><td>NULL</td></tr>",
                            "<tr><td>2016-08-03</td><td>NULL</td></tr>",
                            "<tr><td>2016-08-04</td><td>NULL</td></tr>",
                            "<tr><td>2016-08-05</td><td>NULL</td></tr>",
                            "<tr><td>2016-08-06</td><td>NULL</td></tr>",
                            "<tr><td>2016-08-07</td><td>NULL</td></tr>",
                            "<tr><td>2016-08-08</td><td>NULL</td></tr>",
                            "<tr><td>2016-08-09</td><td>NULL</td></tr>",
                            "<tr><td>2016-08-10</td><td>NULL</td></tr>",
                            "<tr><td>2016-08-11</td><td>NULL</td></tr>",
                            "<tr><td>2016-08-12</td><td>NULL</td></tr>",
                            "<tr><td>2016-08-13</td><td>NULL</td></tr>",
                            "<tr><td>2016-08-14</td><td>NULL</td></tr>",
                            "<tr><td>2016-08-15</td><td>NULL</td></tr>",
                            "<tr><td>2016-08-16</td><td>NULL</td></tr>",
                            "<tr><td>2016-08-17</td><td>NULL</td></tr>",
                            "<tr><td>2016-08-18</td><td>NULL</td></tr>",
                            "<tr><td>2016-08-19</td><td>NULL</td></tr>",
                            "<tr><td>2016-08-20</td><td>NULL</td></tr>",
                            "<tr><td>2016-08-21</td><td>NULL</td></tr>",
                            "<tr><td>2016-08-22</td><td>NULL</td></tr>",
                            "<tr><td>2016-08-23</td><td>NULL</td></tr>",
                            "<tr><td>2016-08-24</td><td>NULL</td></tr>",
                            "<tr><td>2016-08-25</td><td>NULL</td></tr>",
                            "<tr><td>2016-08-26</td><td>NULL</td></tr>",
                            "<tr><td>2016-08-27</td><td>NULL</td></tr>",
                            "<tr><td>2016-08-28</td><td>NULL</td></tr>",
                            "<tr><td>2016-08-29</td><td>NULL</td></tr>",
                            "<tr><td>2016-08-30</td><td>NULL</td></tr>",
                            "<tr><td>2016-08-31</td><td>NULL</td></tr>",
                            "<tr><td>2016-09-01</td><td>NULL</td></tr>",
                            "<tr><td>2016-09-02</td><td>NULL</td></tr>",
                            "<tr><td>2016-09-03</td><td>NULL</td></tr>",
                            "<tr><td>2016-09-04</td><td>NULL</td></tr>",
                            "<tr><td>2016-09-05</td><td>NULL</td></tr>",
                            "<tr><td>2016-09-06</td><td>NULL</td></tr>",
                            "<tr><td>2016-09-07</td><td>NULL</td></tr>",
                            "<tr><td>2016-09-08</td><td>NULL</td></tr>",
                            "<tr><td>2016-09-09</td><td>NULL</td></tr>",
                            "<tr><td>2016-09-10</td><td>NULL</td></tr>",
                            "<tr><td>2016-09-11</td><td>NULL</td></tr>",
                            "<tr><td>2016-09-12</td><td>NULL</td></tr>",
                            "<tr><td>2016-09-13</td><td>NULL</td></tr>",
                            "<tr><td>2016-09-14</td><td>NULL</td></tr>",
                            "<tr><td>2016-09-15</td><td>NULL</td></tr>",
                            "<tr><td>2016-09-16</td><td>NULL</td></tr>",
                            "<tr><td>2016-09-17</td><td>NULL</td></tr>",
                            "<tr><td>2016-09-18</td><td>NULL</td></tr>",
                            "<tr><td>2016-09-19</td><td>NULL</td></tr>",
                            "<tr><td>2016-09-20</td><td>NULL</td></tr>",
                            "<tr><td>2016-09-21</td><td>NULL</td></tr>",
                            "<tr><td>2016-09-22</td><td>NULL</td></tr>",
                            "<tr><td>2016-09-23</td><td>NULL</td></tr>",
                            "<tr><td>2016-09-24</td><td>NULL</td></tr>",
                            "<tr><td>2016-09-25</td><td>NULL</td></tr>",
                            "<tr><td>2016-09-26</td><td>NULL</td></tr>",
                            "<tr><td>2016-09-27</td><td>NULL</td></tr>",
                            "<tr><td>2016-09-28</td><td>NULL</td></tr>",
                            "<tr><td>2016-09-29</td><td>NULL</td></tr>",
                            "<tr><td>2016-09-30</td><td>NULL</td></tr>",
                            "<tr><td>2016-10-01</td><td>NULL</td></tr>",
                            "<tr><td>2016-10-02</td><td>NULL</td></tr>",
                            "<tr><td>2016-10-03</td><td>NULL</td></tr>",
                            "<tr><td>2016-10-04</td><td>NULL</td></tr>",
                            "<tr><td>2016-10-05</td><td>NULL</td></tr>",
                            "<tr><td>2016-10-06</td><td>NULL</td></tr>",
                            "<tr><td>2016-10-07</td><td>NULL</td></tr>",
                            "<tr><td>2016-10-08</td><td>NULL</td></tr>",
                            "<tr><td>2016-10-09</td><td>NULL</td></tr>",
                            "<tr><td>2016-10-10</td><td>NULL</td></tr>",
                            "<tr><td>2016-10-11</td><td>NULL</td></tr>",
                            "<tr><td>2016-10-12</td><td>NULL</td></tr>",
                            "<tr><td>2016-10-13</td><td>NULL</td></tr>",
                            "<tr><td>2016-10-14</td><td>NULL</td></tr>",
                            "<tr><td>2016-10-15</td><td>NULL</td></tr>",
                            "<tr><td>2016-10-16</td><td>NULL</td></tr>",
                            "<tr><td>2016-10-17</td><td>NULL</td></tr>",
                            "<tr><td>2016-10-18</td><td>NULL</td></tr>",
                            "<tr><td>2016-10-19</td><td>NULL</td></tr>",
                            "<tr><td>2016-10-20</td><td>NULL</td></tr>",
                            "<tr><td>2016-10-21</td><td>NULL</td></tr>",
                            "<tr><td>2016-10-22</td><td>NULL</td></tr>",
                            "<tr><td>2016-10-23</td><td>NULL</td></tr>",
                            "<tr><td>2016-10-24</td><td>NULL</td></tr>",
                            "<tr><td>2016-10-25</td><td>NULL</td></tr>",
                            "<tr><td>2016-10-26</td><td>NULL</td></tr>",
                            "<tr><td>2016-10-27</td><td>NULL</td></tr>",
                            "<tr><td>2016-10-28</td><td>NULL</td></tr>",
                            "<tr><td>2016-10-29</td><td>NULL</td></tr>",
                            "<tr><td>2016-10-30</td><td>NULL</td></tr>",
                            "<tr><td>2016-10-31</td><td>NULL</td></tr>",
                            "<tr><td>2016-11-01</td><td>NULL</td></tr>",
                            "<tr><td>2016-11-02</td><td>NULL</td></tr>",
                            "<tr><td>2016-11-03</td><td>NULL</td></tr>",
                            "<tr><td>2016-11-04</td><td>NULL</td></tr>",
                            "<tr><td>2016-11-05</td><td>NULL</td></tr>",
                            "<tr><td>2016-11-06</td><td>NULL</td></tr>",
                            "<tr><td>2016-11-07</td><td>NULL</td></tr>",
                            "<tr><td>2016-11-08</td><td>NULL</td></tr>",
                            "<tr><td>2016-11-09</td><td>NULL</td></tr>",
                            "<tr><td>2016-11-10</td><td>NULL</td></tr>",
                            "<tr><td>2016-11-11</td><td>NULL</td></tr>",
                            "<tr><td>2016-11-12</td><td>NULL</td></tr>",
                            "<tr><td>2016-11-13</td><td>NULL</td></tr>",
                            "<tr><td>2016-11-14</td><td>NULL</td></tr>",
                            "<tr><td>2016-11-15</td><td>NULL</td></tr>",
                            "<tr><td>2016-11-16</td><td>NULL</td></tr>",
                            "<tr><td>2016-11-17</td><td>NULL</td></tr>",
                            "<tr><td>2016-11-18</td><td>NULL</td></tr>",
                            "<tr><td>2016-11-19</td><td>NULL</td></tr>",
                            "<tr><td>2016-11-20</td><td>NULL</td></tr>",
                            "<tr><td>2016-11-21</td><td>NULL</td></tr>",
                            "<tr><td>2016-11-22</td><td>NULL</td></tr>",
                            "<tr><td>2016-11-23</td><td>NULL</td></tr>",
                            "<tr><td>2016-11-24</td><td>NULL</td></tr>",
                            "<tr><td>2016-11-25</td><td>NULL</td></tr>",
                            "<tr><td>2016-11-26</td><td>NULL</td></tr>",
                            "<tr><td>2016-11-27</td><td>NULL</td></tr>",
                            "<tr><td>2016-11-28</td><td>NULL</td></tr>",
                            "<tr><td>2016-11-29</td><td>NULL</td></tr>",
                            "<tr><td>2016-11-30</td><td>NULL</td></tr>",
                            "<tr><td>2016-12-01</td><td>NULL</td></tr>",
                            "<tr><td>2016-12-02</td><td>NULL</td></tr>",
                            "<tr><td>2016-12-03</td><td>NULL</td></tr>",
                            "<tr><td>2016-12-04</td><td>NULL</td></tr>",
                            "<tr><td>2016-12-05</td><td>NULL</td></tr>",
                            "<tr><td>2016-12-06</td><td>NULL</td></tr>",
                            "<tr><td>2016-12-07</td><td>NULL</td></tr>",
                            "<tr><td>2016-12-08</td><td>NULL</td></tr>",
                            "<tr><td>2016-12-09</td><td>NULL</td></tr>",
                            "<tr><td>2016-12-10</td><td>NULL</td></tr>",
                            "<tr><td>2016-12-11</td><td>NULL</td></tr>",
                            "<tr><td>2016-12-12</td><td>NULL</td></tr>",
                            "<tr><td>2016-12-13</td><td>NULL</td></tr>",
                            "<tr><td>2016-12-14</td><td>NULL</td></tr>",
                            "<tr><td>2016-12-15</td><td>NULL</td></tr>",
                            "<tr><td>2016-12-16</td><td>NULL</td></tr>",
                            "<tr><td>2016-12-17</td><td>NULL</td></tr>",
                            "<tr><td>2016-12-18</td><td>NULL</td></tr>",
                            "<tr><td>2016-12-19</td><td>NULL</td></tr>",
                            "<tr><td>2016-12-20</td><td>NULL</td></tr>",
                            "<tr><td>2016-12-21</td><td>NULL</td></tr>",
                            "<tr><td>2016-12-22</td><td>NULL</td></tr>",
                            "<tr><td>2016-12-23</td><td>NULL</td></tr>",
                            "<tr><td>2016-12-24</td><td>NULL</td></tr>",
                            "<tr><td>2016-12-25</td><td>NULL</td></tr>",
                            "<tr><td>2016-12-26</td><td>NULL</td></tr>",
                            "<tr><td>2016-12-27</td><td>NULL</td></tr>",
                            "<tr><td>2016-12-28</td><td>NULL</td></tr>",
                            "<tr><td>2016-12-29</td><td>NULL</td></tr>",
                            "<tr><td>2016-12-30</td><td>NULL</td></tr>",
                            "<tr><td>2016-12-31</td><td>NULL</td></tr>",
                            "<tr><td>2017-01-01</td><td>NULL</td></tr>",
                            "<tr><td>2017-01-02</td><td>NULL</td></tr>",
                            "<tr><td>2017-01-03</td><td>NULL</td></tr>",
                            "<tr><td>2017-01-04</td><td>NULL</td></tr>",
                            "<tr><td>2017-01-05</td><td>NULL</td></tr>",
                            "<tr><td>2017-01-06</td><td>NULL</td></tr>",
                            "<tr><td>2017-01-07</td><td>NULL</td></tr>",
                            "<tr><td>2017-01-08</td><td>NULL</td></tr>",
                            "<tr><td>2017-01-09</td><td>NULL</td></tr>",
                            "<tr><td>2017-01-10</td><td>NULL</td></tr>",
                            "<tr><td>2017-01-11</td><td>NULL</td></tr>",
                            "<tr><td>2017-01-12</td><td>NULL</td></tr>",
                            "<tr><td>2017-01-13</td><td>NULL</td></tr>",
                            "<tr><td>2017-01-14</td><td>NULL</td></tr>",
                            "<tr><td>2017-01-15</td><td>NULL</td></tr>",
                            "<tr><td>2017-01-16</td><td>NULL</td></tr>",
                            "<tr><td>2017-01-17</td><td>NULL</td></tr>",
                            "<tr><td>2017-01-18</td><td>NULL</td></tr>",
                            "<tr><td>2017-01-19</td><td>NULL</td></tr>",
                            "<tr><td>2017-01-20</td><td>NULL</td></tr>",
                            "<tr><td>2017-01-21</td><td>NULL</td></tr>",
                            "<tr><td>2017-01-22</td><td>NULL</td></tr>",
                            "<tr><td>2017-01-23</td><td>NULL</td></tr>",
                            "<tr><td>2017-01-24</td><td>NULL</td></tr>",
                            "<tr><td>2017-01-25</td><td>NULL</td></tr>",
                            "<tr><td>2017-01-26</td><td>NULL</td></tr>",
                            "<tr><td>2017-01-27</td><td>NULL</td></tr>",
                            "<tr><td>2017-01-28</td><td>NULL</td></tr>",
                            "<tr><td>2017-01-29</td><td>NULL</td></tr>",
                            "<tr><td>2017-01-30</td><td>NULL</td></tr>",
                            "<tr><td>2017-01-31</td><td>NULL</td></tr>",
                            "<tr><td>2017-02-01</td><td>NULL</td></tr>",
                            "<tr><td>2017-02-02</td><td>NULL</td></tr>",
                            "<tr><td>2017-02-03</td><td>NULL</td></tr>",
                            "<tr><td>2017-02-04</td><td>NULL</td></tr>",
                            "<tr><td>2017-02-05</td><td>NULL</td></tr>",
                            "<tr><td>2017-02-06</td><td>NULL</td></tr>",
                            "<tr><td>2017-02-07</td><td>NULL</td></tr>",
                            "<tr><td>2017-02-08</td><td>NULL</td></tr>",
                            "<tr><td>2017-02-09</td><td>NULL</td></tr>",
                            "<tr><td>2017-02-10</td><td>NULL</td></tr>",
                            "<tr><td>2017-02-11</td><td>NULL</td></tr>",
                            "<tr><td>2017-02-12</td><td>NULL</td></tr>",
                            "<tr><td>2017-02-13</td><td>NULL</td></tr>",
                            "<tr><td>2017-02-14</td><td>NULL</td></tr>",
                            "<tr><td>2017-02-15</td><td>NULL</td></tr>",
                            "<tr><td>2017-02-16</td><td>NULL</td></tr>",
                            "<tr><td>2017-02-17</td><td>NULL</td></tr>",
                            "<tr><td>2017-02-18</td><td>NULL</td></tr>",
                            "<tr><td>2017-02-19</td><td>NULL</td></tr>",
                            "<tr><td>2017-02-20</td><td>NULL</td></tr>",
                            "<tr><td>2017-02-21</td><td>NULL</td></tr>",
                            "<tr><td>2017-02-22</td><td>NULL</td></tr>",
                            "<tr><td>2017-02-23</td><td>NULL</td></tr>",
                            "<tr><td>2017-02-24</td><td>NULL</td></tr>",
                            "<tr><td>2017-02-25</td><td>NULL</td></tr>",
                            "<tr><td>2017-02-26</td><td>NULL</td></tr>",
                            "<tr><td>2017-02-27</td><td>NULL</td></tr>",
                            "<tr><td>2017-02-28</td><td>NULL</td></tr>",
                            "<tr><td>2017-03-01</td><td>NULL</td></tr>",
                            "<tr><td>2017-03-02</td><td>NULL</td></tr>",
                            "<tr><td>2017-03-03</td><td>NULL</td></tr>",
                            "<tr><td>2017-03-04</td><td>NULL</td></tr>",
                            "<tr><td>2017-03-05</td><td>NULL</td></tr>",
                            "<tr><td>2017-03-06</td><td>NULL</td></tr>",
                            "<tr><td>2017-03-07</td><td>NULL</td></tr>",
                            "<tr><td>2017-03-08</td><td>NULL</td></tr>",
                            "<tr><td>2017-03-09</td><td>NULL</td></tr>",
                            "<tr><td>2017-03-10</td><td>NULL</td></tr>",
                            "<tr><td>2017-03-11</td><td>NULL</td></tr>",
                            "<tr><td>2017-03-12</td><td>NULL</td></tr>",
                            "<tr><td>2017-03-13</td><td>NULL</td></tr>",
                            "<tr><td>2017-03-14</td><td>NULL</td></tr>",
                            "<tr><td>2017-03-15</td><td>NULL</td></tr>",
                            "<tr><td>2017-03-16</td><td>NULL</td></tr>",
                            "<tr><td>2017-03-17</td><td>NULL</td></tr>",
                            "<tr><td>2017-03-18</td><td>NULL</td></tr>",
                            "<tr><td>2017-03-19</td><td>NULL</td></tr>",
                            "<tr><td>2017-03-20</td><td>NULL</td></tr>",
                            "<tr><td>2017-03-21</td><td>NULL</td></tr>",
                            "<tr><td>2017-03-22</td><td>NULL</td></tr>",
                            "<tr><td>2017-03-23</td><td>NULL</td></tr>",
                            "<tr><td>2017-03-24</td><td>NULL</td></tr>",
                            "<tr><td>2017-03-25</td><td>NULL</td></tr>",
                            "<tr><td>2017-03-26</td><td>NULL</td></tr>",
                            "<tr><td>2017-03-27</td><td>NULL</td></tr>",
                            "<tr><td>2017-03-28</td><td>NULL</td></tr>",
                            "<tr><td>2017-03-29</td><td>NULL</td></tr>",
                            "<tr><td>2017-03-30</td><td>NULL</td></tr>",
                            "<tr><td>2017-03-31</td><td>NULL</td></tr>",
                            "<tr><td>2017-04-01</td><td>NULL</td></tr>",
                            "<tr><td>2017-04-02</td><td>NULL</td></tr>",
                            "<tr><td>2017-04-03</td><td>NULL</td></tr>",
                            "<tr><td>2017-04-04</td><td>NULL</td></tr>",
                            "<tr><td>2017-04-05</td><td>NULL</td></tr>",
                            "<tr><td>2017-04-06</td><td>NULL</td></tr>",
                            "<tr><td>2017-04-07</td><td>NULL</td></tr>",
                            "<tr><td>2017-04-08</td><td>NULL</td></tr>",
                            "<tr><td>2017-04-09</td><td>NULL</td></tr>",
                            "<tr><td>2017-04-10</td><td>NULL</td></tr>",
                            "<tr><td>2017-04-11</td><td>NULL</td></tr>",
                            "<tr><td>NULL</td><td>NULL</td></tr>",
                            "</table>"
                        ]
                    }
                }
            ],
            "execution_count": 3
        },
        {
            "cell_type": "markdown",
            "source": [
                "```\n",
                "3. Hány olyan ügyfél van, aki még nem rendelt semmit?\n",
                "```\n",
                "\n",
                "1. Csoportosítsuk őket nem szerint, azon belül életkor szerint!\n",
                "2. A lista tartalmazza a részösszegeket és a végösszeget is!\n",
                "\n",
                "![](https://moodle.uni-corvinus.hu/theme/image.php/adaptable/atto_h5p/1709548862/icon)"
            ],
            "metadata": {
                "azdata_cell_guid": "d7876bb9-76d0-4d07-baed-3cb17b2f96c3"
            },
            "attachments": {}
        },
        {
            "cell_type": "code",
            "source": [
                ""
            ],
            "metadata": {
                "azdata_cell_guid": "56ec19ce-e249-4551-b2a8-f17569765acc",
                "language": "sql"
            },
            "outputs": [
                {
                    "output_type": "display_data",
                    "data": {
                        "text/html": "(143 rows affected)"
                    },
                    "metadata": {}
                },
                {
                    "output_type": "display_data",
                    "data": {
                        "text/html": "Total execution time: 00:00:00.009"
                    },
                    "metadata": {}
                },
                {
                    "output_type": "execute_result",
                    "metadata": {},
                    "execution_count": 4,
                    "data": {
                        "application/vnd.dataresource+json": {
                            "schema": {
                                "fields": [
                                    {
                                        "name": "KAT_NEV"
                                    },
                                    {
                                        "name": "(No column name)"
                                    }
                                ]
                            },
                            "data": [
                                {
                                    "KAT_NEV": "könyv",
                                    "(No column name)": "15"
                                },
                                {
                                    "KAT_NEV": "ajándék tárgy",
                                    "(No column name)": "3"
                                },
                                {
                                    "KAT_NEV": "ajándék tasak",
                                    "(No column name)": "20"
                                },
                                {
                                    "KAT_NEV": "álarc",
                                    "(No column name)": "3"
                                },
                                {
                                    "KAT_NEV": "alkalmi",
                                    "(No column name)": "3"
                                },
                                {
                                    "KAT_NEV": "alufólia",
                                    "(No column name)": "2"
                                },
                                {
                                    "KAT_NEV": "árazószalag",
                                    "(No column name)": "1"
                                },
                                {
                                    "KAT_NEV": "átírótömb",
                                    "(No column name)": "1"
                                },
                                {
                                    "KAT_NEV": "beíró",
                                    "(No column name)": "1"
                                },
                                {
                                    "KAT_NEV": "beírókönyv",
                                    "(No column name)": "2"
                                },
                                {
                                    "KAT_NEV": "bélyegző",
                                    "(No column name)": "4"
                                },
                                {
                                    "KAT_NEV": "bélyegzőfesték",
                                    "(No column name)": "1"
                                },
                                {
                                    "KAT_NEV": "boríték",
                                    "(No column name)": "7"
                                },
                                {
                                    "KAT_NEV": "cd tok",
                                    "(No column name)": "1"
                                },
                                {
                                    "KAT_NEV": "celofán",
                                    "(No column name)": "2"
                                },
                                {
                                    "KAT_NEV": "ceruza",
                                    "(No column name)": "19"
                                },
                                {
                                    "KAT_NEV": "címke",
                                    "(No column name)": "3"
                                },
                                {
                                    "KAT_NEV": "color copy",
                                    "(No column name)": "5"
                                },
                                {
                                    "KAT_NEV": "csomagoló",
                                    "(No column name)": "2"
                                },
                                {
                                    "KAT_NEV": "csomagoló papír",
                                    "(No column name)": "7"
                                },
                                {
                                    "KAT_NEV": "dekor",
                                    "(No column name)": "4"
                                },
                                {
                                    "KAT_NEV": "dipa",
                                    "(No column name)": "1"
                                },
                                {
                                    "KAT_NEV": "díszdoboz",
                                    "(No column name)": "3"
                                },
                                {
                                    "KAT_NEV": "díszkötöző",
                                    "(No column name)": "5"
                                },
                                {
                                    "KAT_NEV": "dvd",
                                    "(No column name)": "1"
                                },
                                {
                                    "KAT_NEV": "ecset",
                                    "(No column name)": "7"
                                },
                                {
                                    "KAT_NEV": "előlap",
                                    "(No column name)": "1"
                                },
                                {
                                    "KAT_NEV": "emlékkönyv",
                                    "(No column name)": "3"
                                },
                                {
                                    "KAT_NEV": "emléklap",
                                    "(No column name)": "1"
                                },
                                {
                                    "KAT_NEV": "fax papír",
                                    "(No column name)": "1"
                                },
                                {
                                    "KAT_NEV": "fehérnemű",
                                    "(No column name)": "7"
                                },
                                {
                                    "KAT_NEV": "fénymásoló papír",
                                    "(No column name)": "5"
                                },
                                {
                                    "KAT_NEV": "férfi ing",
                                    "(No column name)": "1"
                                },
                                {
                                    "KAT_NEV": "férfi kabát",
                                    "(No column name)": "1"
                                },
                                {
                                    "KAT_NEV": "férfi nadrág",
                                    "(No column name)": "2"
                                },
                                {
                                    "KAT_NEV": "festékpatron",
                                    "(No column name)": "1"
                                },
                                {
                                    "KAT_NEV": "filctoll",
                                    "(No column name)": "13"
                                },
                                {
                                    "KAT_NEV": "floppy",
                                    "(No column name)": "1"
                                },
                                {
                                    "KAT_NEV": "fólia",
                                    "(No column name)": "3"
                                },
                                {
                                    "KAT_NEV": "fotópapír",
                                    "(No column name)": "1"
                                },
                                {
                                    "KAT_NEV": "füzet",
                                    "(No column name)": "11"
                                },
                                {
                                    "KAT_NEV": "füzetborító",
                                    "(No column name)": "7"
                                },
                                {
                                    "KAT_NEV": "füzettartó",
                                    "(No column name)": "4"
                                },
                                {
                                    "KAT_NEV": "gemkapocs",
                                    "(No column name)": "2"
                                },
                                {
                                    "KAT_NEV": "gémkapocs",
                                    "(No column name)": "2"
                                },
                                {
                                    "KAT_NEV": "genoterm",
                                    "(No column name)": "1"
                                },
                                {
                                    "KAT_NEV": "genotherm",
                                    "(No column name)": "3"
                                },
                                {
                                    "KAT_NEV": "golyóstoll",
                                    "(No column name)": "26"
                                },
                                {
                                    "KAT_NEV": "gumigyűrű",
                                    "(No column name)": "1"
                                },
                                {
                                    "KAT_NEV": "gyermek cipő",
                                    "(No column name)": "6"
                                },
                                {
                                    "KAT_NEV": "gyermek kabát",
                                    "(No column name)": "2"
                                },
                                {
                                    "KAT_NEV": "gyermek nadrág",
                                    "(No column name)": "4"
                                },
                                {
                                    "KAT_NEV": "gyermek póló",
                                    "(No column name)": "2"
                                },
                                {
                                    "KAT_NEV": "gyorsfűző",
                                    "(No column name)": "3"
                                },
                                {
                                    "KAT_NEV": "gyurma",
                                    "(No column name)": "4"
                                },
                                {
                                    "KAT_NEV": "gyűrűskönyv",
                                    "(No column name)": "5"
                                },
                                {
                                    "KAT_NEV": "hajgumi",
                                    "(No column name)": "1"
                                },
                                {
                                    "KAT_NEV": "határidő napló",
                                    "(No column name)": "2"
                                },
                                {
                                    "KAT_NEV": "hegyező",
                                    "(No column name)": "4"
                                },
                                {
                                    "KAT_NEV": "hegyző",
                                    "(No column name)": "2"
                                },
                                {
                                    "KAT_NEV": "hibajavító",
                                    "(No column name)": "7"
                                },
                                {
                                    "KAT_NEV": "hűtőmágnes",
                                    "(No column name)": "2"
                                },
                                {
                                    "KAT_NEV": "indigó",
                                    "(No column name)": "2"
                                },
                                {
                                    "KAT_NEV": "iratgyűjtő",
                                    "(No column name)": "3"
                                },
                                {
                                    "KAT_NEV": "iratrendező",
                                    "(No column name)": "2"
                                },
                                {
                                    "KAT_NEV": "iratsín",
                                    "(No column name)": "2"
                                },
                                {
                                    "KAT_NEV": "irattartó",
                                    "(No column name)": "2"
                                },
                                {
                                    "KAT_NEV": "irodaszer",
                                    "(No column name)": "1"
                                },
                                {
                                    "KAT_NEV": "írólap",
                                    "(No column name)": "2"
                                },
                                {
                                    "KAT_NEV": "ironbél",
                                    "(No column name)": "5"
                                },
                                {
                                    "KAT_NEV": "iskolaszer",
                                    "(No column name)": "24"
                                },
                                {
                                    "KAT_NEV": "játékautó",
                                    "(No column name)": "4"
                                },
                                {
                                    "KAT_NEV": "jelzőkréta",
                                    "(No column name)": "1"
                                },
                                {
                                    "KAT_NEV": "kapocskiszedő",
                                    "(No column name)": "1"
                                },
                                {
                                    "KAT_NEV": "karton",
                                    "(No column name)": "6"
                                },
                                {
                                    "KAT_NEV": "kártya",
                                    "(No column name)": "1"
                                },
                                {
                                    "KAT_NEV": "képeslap",
                                    "(No column name)": "16"
                                },
                                {
                                    "KAT_NEV": "képkirakó",
                                    "(No column name)": "1"
                                },
                                {
                                    "KAT_NEV": "kosztüm",
                                    "(No column name)": "2"
                                },
                                {
                                    "KAT_NEV": "körző",
                                    "(No column name)": "3"
                                },
                                {
                                    "KAT_NEV": "kreatív",
                                    "(No column name)": "2"
                                },
                                {
                                    "KAT_NEV": "kulcstartó",
                                    "(No column name)": "7"
                                },
                                {
                                    "KAT_NEV": "labda",
                                    "(No column name)": "2"
                                },
                                {
                                    "KAT_NEV": "levélpapír",
                                    "(No column name)": "7"
                                },
                                {
                                    "KAT_NEV": "lufi",
                                    "(No column name)": "2"
                                },
                                {
                                    "KAT_NEV": "lyukasztó",
                                    "(No column name)": "2"
                                },
                                {
                                    "KAT_NEV": "mappa",
                                    "(No column name)": "9"
                                },
                                {
                                    "KAT_NEV": "matrica",
                                    "(No column name)": "10"
                                },
                                {
                                    "KAT_NEV": "meghívó",
                                    "(No column name)": "4"
                                },
                                {
                                    "KAT_NEV": "miliméterpapír",
                                    "(No column name)": "1"
                                },
                                {
                                    "KAT_NEV": "munkafüzet",
                                    "(No column name)": "9"
                                },
                                {
                                    "KAT_NEV": "műnyomó",
                                    "(No column name)": "1"
                                },
                                {
                                    "KAT_NEV": "naptár",
                                    "(No column name)": "1"
                                },
                                {
                                    "KAT_NEV": "naptárhát",
                                    "(No column name)": "2"
                                },
                                {
                                    "KAT_NEV": "névjegytartó",
                                    "(No column name)": "1"
                                },
                                {
                                    "KAT_NEV": "notesz",
                                    "(No column name)": "5"
                                },
                                {
                                    "KAT_NEV": "női kabát",
                                    "(No column name)": "1"
                                },
                                {
                                    "KAT_NEV": "női nadrág",
                                    "(No column name)": "1"
                                },
                                {
                                    "KAT_NEV": "ofszet",
                                    "(No column name)": "1"
                                },
                                {
                                    "KAT_NEV": "oklevél",
                                    "(No column name)": "2"
                                },
                                {
                                    "KAT_NEV": "olló",
                                    "(No column name)": "3"
                                },
                                {
                                    "KAT_NEV": "öntapadó",
                                    "(No column name)": "2"
                                },
                                {
                                    "KAT_NEV": "papízsebkendő",
                                    "(No column name)": "1"
                                },
                                {
                                    "KAT_NEV": "pausz",
                                    "(No column name)": "1"
                                },
                                {
                                    "KAT_NEV": "pénztárbizonylat",
                                    "(No column name)": "2"
                                },
                                {
                                    "KAT_NEV": "pénztárgépszalag",
                                    "(No column name)": "2"
                                },
                                {
                                    "KAT_NEV": "pixiron",
                                    "(No column name)": "9"
                                },
                                {
                                    "KAT_NEV": "plüss",
                                    "(No column name)": "3"
                                },
                                {
                                    "KAT_NEV": "post-it",
                                    "(No column name)": "2"
                                },
                                {
                                    "KAT_NEV": "radír",
                                    "(No column name)": "7"
                                },
                                {
                                    "KAT_NEV": "radírtoll",
                                    "(No column name)": "2"
                                },
                                {
                                    "KAT_NEV": "ragasztó",
                                    "(No column name)": "10"
                                },
                                {
                                    "KAT_NEV": "ragasztószalag",
                                    "(No column name)": "4"
                                },
                                {
                                    "KAT_NEV": "rágógumi",
                                    "(No column name)": "1"
                                },
                                {
                                    "KAT_NEV": "rajzlap",
                                    "(No column name)": "2"
                                },
                                {
                                    "KAT_NEV": "rajzszeg",
                                    "(No column name)": "2"
                                },
                                {
                                    "KAT_NEV": "regiszteres füzet",
                                    "(No column name)": "2"
                                },
                                {
                                    "KAT_NEV": "sál",
                                    "(No column name)": "1"
                                },
                                {
                                    "KAT_NEV": "spirál",
                                    "(No column name)": "1"
                                },
                                {
                                    "KAT_NEV": "strandlabda",
                                    "(No column name)": "1"
                                },
                                {
                                    "KAT_NEV": "szalvéta",
                                    "(No column name)": "6"
                                },
                                {
                                    "KAT_NEV": "számológép",
                                    "(No column name)": "2"
                                },
                                {
                                    "KAT_NEV": "szemetes",
                                    "(No column name)": "1"
                                },
                                {
                                    "KAT_NEV": "színes",
                                    "(No column name)": "2"
                                },
                                {
                                    "KAT_NEV": "szögmérő",
                                    "(No column name)": "3"
                                },
                                {
                                    "KAT_NEV": "szövegkiemelő",
                                    "(No column name)": "5"
                                },
                                {
                                    "KAT_NEV": "táblafilc",
                                    "(No column name)": "1"
                                },
                                {
                                    "KAT_NEV": "tapétavágó",
                                    "(No column name)": "1"
                                },
                                {
                                    "KAT_NEV": "tempera",
                                    "(No column name)": "2"
                                },
                                {
                                    "KAT_NEV": "térképtű",
                                    "(No column name)": "1"
                                },
                                {
                                    "KAT_NEV": "tintapatron",
                                    "(No column name)": "3"
                                },
                                {
                                    "KAT_NEV": "toll",
                                    "(No column name)": "2"
                                },
                                {
                                    "KAT_NEV": "tollbetét",
                                    "(No column name)": "18"
                                },
                                {
                                    "KAT_NEV": "tolltartó",
                                    "(No column name)": "7"
                                },
                                {
                                    "KAT_NEV": "toner",
                                    "(No column name)": "1"
                                },
                                {
                                    "KAT_NEV": "töltőtoll",
                                    "(No column name)": "1"
                                },
                                {
                                    "KAT_NEV": "tűzőgép",
                                    "(No column name)": "6"
                                },
                                {
                                    "KAT_NEV": "tűzőkapocs",
                                    "(No column name)": "2"
                                },
                                {
                                    "KAT_NEV": "vízfesték",
                                    "(No column name)": "4"
                                },
                                {
                                    "KAT_NEV": "vonalzó",
                                    "(No column name)": "6"
                                },
                                {
                                    "KAT_NEV": "zászló",
                                    "(No column name)": "1"
                                },
                                {
                                    "KAT_NEV": "zseléstoll",
                                    "(No column name)": "4"
                                },
                                {
                                    "KAT_NEV": "írásvetítő fólia",
                                    "(No column name)": "1"
                                }
                            ]
                        },
                        "text/html": [
                            "<table>",
                            "<tr><th>KAT_NEV</th><th>(No column name)</th></tr>",
                            "<tr><td>könyv</td><td>15</td></tr>",
                            "<tr><td>ajándék tárgy</td><td>3</td></tr>",
                            "<tr><td>ajándék tasak</td><td>20</td></tr>",
                            "<tr><td>álarc</td><td>3</td></tr>",
                            "<tr><td>alkalmi</td><td>3</td></tr>",
                            "<tr><td>alufólia</td><td>2</td></tr>",
                            "<tr><td>árazószalag</td><td>1</td></tr>",
                            "<tr><td>átírótömb</td><td>1</td></tr>",
                            "<tr><td>beíró</td><td>1</td></tr>",
                            "<tr><td>beírókönyv</td><td>2</td></tr>",
                            "<tr><td>bélyegző</td><td>4</td></tr>",
                            "<tr><td>bélyegzőfesték</td><td>1</td></tr>",
                            "<tr><td>boríték</td><td>7</td></tr>",
                            "<tr><td>cd tok</td><td>1</td></tr>",
                            "<tr><td>celofán</td><td>2</td></tr>",
                            "<tr><td>ceruza</td><td>19</td></tr>",
                            "<tr><td>címke</td><td>3</td></tr>",
                            "<tr><td>color copy</td><td>5</td></tr>",
                            "<tr><td>csomagoló</td><td>2</td></tr>",
                            "<tr><td>csomagoló papír</td><td>7</td></tr>",
                            "<tr><td>dekor</td><td>4</td></tr>",
                            "<tr><td>dipa</td><td>1</td></tr>",
                            "<tr><td>díszdoboz</td><td>3</td></tr>",
                            "<tr><td>díszkötöző</td><td>5</td></tr>",
                            "<tr><td>dvd</td><td>1</td></tr>",
                            "<tr><td>ecset</td><td>7</td></tr>",
                            "<tr><td>előlap</td><td>1</td></tr>",
                            "<tr><td>emlékkönyv</td><td>3</td></tr>",
                            "<tr><td>emléklap</td><td>1</td></tr>",
                            "<tr><td>fax papír</td><td>1</td></tr>",
                            "<tr><td>fehérnemű</td><td>7</td></tr>",
                            "<tr><td>fénymásoló papír</td><td>5</td></tr>",
                            "<tr><td>férfi ing</td><td>1</td></tr>",
                            "<tr><td>férfi kabát</td><td>1</td></tr>",
                            "<tr><td>férfi nadrág</td><td>2</td></tr>",
                            "<tr><td>festékpatron</td><td>1</td></tr>",
                            "<tr><td>filctoll</td><td>13</td></tr>",
                            "<tr><td>floppy</td><td>1</td></tr>",
                            "<tr><td>fólia</td><td>3</td></tr>",
                            "<tr><td>fotópapír</td><td>1</td></tr>",
                            "<tr><td>füzet</td><td>11</td></tr>",
                            "<tr><td>füzetborító</td><td>7</td></tr>",
                            "<tr><td>füzettartó</td><td>4</td></tr>",
                            "<tr><td>gemkapocs</td><td>2</td></tr>",
                            "<tr><td>gémkapocs</td><td>2</td></tr>",
                            "<tr><td>genoterm</td><td>1</td></tr>",
                            "<tr><td>genotherm</td><td>3</td></tr>",
                            "<tr><td>golyóstoll</td><td>26</td></tr>",
                            "<tr><td>gumigyűrű</td><td>1</td></tr>",
                            "<tr><td>gyermek cipő</td><td>6</td></tr>",
                            "<tr><td>gyermek kabát</td><td>2</td></tr>",
                            "<tr><td>gyermek nadrág</td><td>4</td></tr>",
                            "<tr><td>gyermek póló</td><td>2</td></tr>",
                            "<tr><td>gyorsfűző</td><td>3</td></tr>",
                            "<tr><td>gyurma</td><td>4</td></tr>",
                            "<tr><td>gyűrűskönyv</td><td>5</td></tr>",
                            "<tr><td>hajgumi</td><td>1</td></tr>",
                            "<tr><td>határidő napló</td><td>2</td></tr>",
                            "<tr><td>hegyező</td><td>4</td></tr>",
                            "<tr><td>hegyző</td><td>2</td></tr>",
                            "<tr><td>hibajavító</td><td>7</td></tr>",
                            "<tr><td>hűtőmágnes</td><td>2</td></tr>",
                            "<tr><td>indigó</td><td>2</td></tr>",
                            "<tr><td>iratgyűjtő</td><td>3</td></tr>",
                            "<tr><td>iratrendező</td><td>2</td></tr>",
                            "<tr><td>iratsín</td><td>2</td></tr>",
                            "<tr><td>irattartó</td><td>2</td></tr>",
                            "<tr><td>irodaszer</td><td>1</td></tr>",
                            "<tr><td>írólap</td><td>2</td></tr>",
                            "<tr><td>ironbél</td><td>5</td></tr>",
                            "<tr><td>iskolaszer</td><td>24</td></tr>",
                            "<tr><td>játékautó</td><td>4</td></tr>",
                            "<tr><td>jelzőkréta</td><td>1</td></tr>",
                            "<tr><td>kapocskiszedő</td><td>1</td></tr>",
                            "<tr><td>karton</td><td>6</td></tr>",
                            "<tr><td>kártya</td><td>1</td></tr>",
                            "<tr><td>képeslap</td><td>16</td></tr>",
                            "<tr><td>képkirakó</td><td>1</td></tr>",
                            "<tr><td>kosztüm</td><td>2</td></tr>",
                            "<tr><td>körző</td><td>3</td></tr>",
                            "<tr><td>kreatív</td><td>2</td></tr>",
                            "<tr><td>kulcstartó</td><td>7</td></tr>",
                            "<tr><td>labda</td><td>2</td></tr>",
                            "<tr><td>levélpapír</td><td>7</td></tr>",
                            "<tr><td>lufi</td><td>2</td></tr>",
                            "<tr><td>lyukasztó</td><td>2</td></tr>",
                            "<tr><td>mappa</td><td>9</td></tr>",
                            "<tr><td>matrica</td><td>10</td></tr>",
                            "<tr><td>meghívó</td><td>4</td></tr>",
                            "<tr><td>miliméterpapír</td><td>1</td></tr>",
                            "<tr><td>munkafüzet</td><td>9</td></tr>",
                            "<tr><td>műnyomó</td><td>1</td></tr>",
                            "<tr><td>naptár</td><td>1</td></tr>",
                            "<tr><td>naptárhát</td><td>2</td></tr>",
                            "<tr><td>névjegytartó</td><td>1</td></tr>",
                            "<tr><td>notesz</td><td>5</td></tr>",
                            "<tr><td>női kabát</td><td>1</td></tr>",
                            "<tr><td>női nadrág</td><td>1</td></tr>",
                            "<tr><td>ofszet</td><td>1</td></tr>",
                            "<tr><td>oklevél</td><td>2</td></tr>",
                            "<tr><td>olló</td><td>3</td></tr>",
                            "<tr><td>öntapadó</td><td>2</td></tr>",
                            "<tr><td>papízsebkendő</td><td>1</td></tr>",
                            "<tr><td>pausz</td><td>1</td></tr>",
                            "<tr><td>pénztárbizonylat</td><td>2</td></tr>",
                            "<tr><td>pénztárgépszalag</td><td>2</td></tr>",
                            "<tr><td>pixiron</td><td>9</td></tr>",
                            "<tr><td>plüss</td><td>3</td></tr>",
                            "<tr><td>post-it</td><td>2</td></tr>",
                            "<tr><td>radír</td><td>7</td></tr>",
                            "<tr><td>radírtoll</td><td>2</td></tr>",
                            "<tr><td>ragasztó</td><td>10</td></tr>",
                            "<tr><td>ragasztószalag</td><td>4</td></tr>",
                            "<tr><td>rágógumi</td><td>1</td></tr>",
                            "<tr><td>rajzlap</td><td>2</td></tr>",
                            "<tr><td>rajzszeg</td><td>2</td></tr>",
                            "<tr><td>regiszteres füzet</td><td>2</td></tr>",
                            "<tr><td>sál</td><td>1</td></tr>",
                            "<tr><td>spirál</td><td>1</td></tr>",
                            "<tr><td>strandlabda</td><td>1</td></tr>",
                            "<tr><td>szalvéta</td><td>6</td></tr>",
                            "<tr><td>számológép</td><td>2</td></tr>",
                            "<tr><td>szemetes</td><td>1</td></tr>",
                            "<tr><td>színes</td><td>2</td></tr>",
                            "<tr><td>szögmérő</td><td>3</td></tr>",
                            "<tr><td>szövegkiemelő</td><td>5</td></tr>",
                            "<tr><td>táblafilc</td><td>1</td></tr>",
                            "<tr><td>tapétavágó</td><td>1</td></tr>",
                            "<tr><td>tempera</td><td>2</td></tr>",
                            "<tr><td>térképtű</td><td>1</td></tr>",
                            "<tr><td>tintapatron</td><td>3</td></tr>",
                            "<tr><td>toll</td><td>2</td></tr>",
                            "<tr><td>tollbetét</td><td>18</td></tr>",
                            "<tr><td>tolltartó</td><td>7</td></tr>",
                            "<tr><td>toner</td><td>1</td></tr>",
                            "<tr><td>töltőtoll</td><td>1</td></tr>",
                            "<tr><td>tűzőgép</td><td>6</td></tr>",
                            "<tr><td>tűzőkapocs</td><td>2</td></tr>",
                            "<tr><td>vízfesték</td><td>4</td></tr>",
                            "<tr><td>vonalzó</td><td>6</td></tr>",
                            "<tr><td>zászló</td><td>1</td></tr>",
                            "<tr><td>zseléstoll</td><td>4</td></tr>",
                            "<tr><td>írásvetítő fólia</td><td>1</td></tr>",
                            "</table>"
                        ]
                    }
                }
            ],
            "execution_count": 4
        },
        {
            "cell_type": "markdown",
            "source": [
                "4. <span style=\"color: rgb(36, 41, 47); font-family: -apple-system, BlinkMacSystemFont, &quot;Segoe UI&quot;, Helvetica, Arial, sans-serif, &quot;Apple Color Emoji&quot;, &quot;Segoe UI Emoji&quot;; font-size: 16px;\">Készítsünk listát a megrendelt termékek legkisebb és legnagyobb egységáráról szállítási dátum, azon belül szállítási mód szerinti bontásban!</span>\n",
                "\n",
                "1. A lista csak a 2015 májusi szállításokat tartalmazza!\n",
                "2. Jelenítsük meg a részösszegeket és a végösszeget is!"
            ],
            "metadata": {
                "azdata_cell_guid": "8e7fef82-8022-49a0-8255-fc2846c2134b"
            },
            "attachments": {}
        },
        {
            "cell_type": "code",
            "source": [
                ""
            ],
            "metadata": {
                "azdata_cell_guid": "36f7b396-4a1f-45e5-8720-2302537c91bc",
                "language": "sql"
            },
            "outputs": [],
            "execution_count": null
        },
        {
            "cell_type": "markdown",
            "source": [
                "5. <span style=\"color: rgb(36, 41, 47); font-family: -apple-system, BlinkMacSystemFont, &quot;Segoe UI&quot;, Helvetica, Arial, sans-serif, &quot;Apple Color Emoji&quot;, &quot;Segoe UI Emoji&quot;; font-size: 16px;\">Készítsünk csoportot a termékek listaára alapján a következők szerint:&nbsp;<br></span> <span style=\"color: rgb(36, 41, 47); font-family: -apple-system, BlinkMacSystemFont, &quot;Segoe UI&quot;, Helvetica, Arial, sans-serif, &quot;Apple Color Emoji&quot;, &quot;Segoe UI Emoji&quot;; font-size: 16px;\">Az \"olcsó\" termékek legyenek azok, amelyek listaára 3000 alatt van.<br>&nbsp;A \"drága\" termékek legyenek az 5000 felettiek, a többi legyen \"közepes\".</span>\n",
                "\n",
                "1. Listázzuk az egyes csoportokat, és a csoportokba tartozó termékek darabszámát!\n",
                "2. A lista jelenítse meg a végösszeget is!"
            ],
            "metadata": {
                "azdata_cell_guid": "84239ca2-6b5e-49f5-9860-d44c11d6de32"
            },
            "attachments": {}
        },
        {
            "cell_type": "code",
            "source": [
                ""
            ],
            "metadata": {
                "azdata_cell_guid": "06d9a62b-9430-424b-a135-d80e675f0eb3",
                "language": "sql"
            },
            "outputs": [],
            "execution_count": null
        },
        {
            "cell_type": "markdown",
            "source": [
                "6. <span style=\"font-weight: 600; color: rgb(36, 41, 47); font-family: -apple-system, BlinkMacSystemFont, &quot;Segoe UI&quot;, Helvetica, Arial, sans-serif, &quot;Apple Color Emoji&quot;, &quot;Segoe UI Emoji&quot;; font-size: 16px;\">Készítsünk listát az ügyfelek adatairól név szerinti sorrendben.</span>\n",
                "\n",
                "1. Minden sorban jelenjen meg a sorrend szerint előző, illetve következő ügyfél neve is.\n",
                "2. Ha nincs előző vagy következő ügyfél, akkor a 'Nincs' jelenjen meg!"
            ],
            "metadata": {
                "azdata_cell_guid": "b0d15045-3c43-4f3a-b8d4-76b4f24e5546"
            },
            "attachments": {}
        },
        {
            "cell_type": "code",
            "source": [
                "SELECT *,\r\n",
                "        LAG(NEV) OVER(ORDER BY Nev),\r\n",
                "        LEAD(NEV) OVER(ORDER BY Nev)\r\n",
                "FROM Ugyfel"
            ],
            "metadata": {
                "azdata_cell_guid": "f2b7400d-1255-40ac-9250-4d57f9da5357",
                "language": "sql"
            },
            "outputs": [
                {
                    "output_type": "display_data",
                    "data": {
                        "text/html": "(200 rows affected)"
                    },
                    "metadata": {}
                },
                {
                    "output_type": "display_data",
                    "data": {
                        "text/html": "Total execution time: 00:00:00.012"
                    },
                    "metadata": {}
                },
                {
                    "output_type": "execute_result",
                    "metadata": {},
                    "execution_count": 9,
                    "data": {
                        "application/vnd.dataresource+json": {
                            "schema": {
                                "fields": [
                                    {
                                        "name": "LOGIN"
                                    },
                                    {
                                        "name": "EMAIL"
                                    },
                                    {
                                        "name": "NEV"
                                    },
                                    {
                                        "name": "SZULEV"
                                    },
                                    {
                                        "name": "NEM"
                                    },
                                    {
                                        "name": "CIM"
                                    },
                                    {
                                        "name": "(No column name)"
                                    },
                                    {
                                        "name": "(No column name)"
                                    }
                                ]
                            },
                            "data": [
                                {
                                    "LOGIN": "david",
                                    "EMAIL": "david@gmail.com",
                                    "NEV": "Ambrus Dávid",
                                    "SZULEV": "1974",
                                    "NEM": "F",
                                    "CIM": "1149 Budapest, Fő út 18.",
                                    "(No column name)": "Andor Ibolya"
                                },
                                {
                                    "LOGIN": "IBOLYAA",
                                    "EMAIL": "ibolya.andor@mail.hu",
                                    "NEV": "Andor Ibolya",
                                    "SZULEV": "1983",
                                    "NEM": "N",
                                    "CIM": "9023 Győr, Posta köz 2.",
                                    "(No column name)": "Antal László"
                                },
                                {
                                    "LOGIN": "LASZLOA",
                                    "EMAIL": "lászló.antal@mail.hu",
                                    "NEV": "Antal László",
                                    "SZULEV": "1969",
                                    "NEM": "F",
                                    "CIM": "2484 Agárd, Bécsi utca 82.",
                                    "(No column name)": "Antal Tamás"
                                },
                                {
                                    "LOGIN": "tamas",
                                    "EMAIL": "tamás.antal@mail.hu",
                                    "NEV": "Antal Tamás",
                                    "SZULEV": "1984",
                                    "NEM": "F",
                                    "CIM": "4440 Tiszavasvári, Posta köz 2.",
                                    "(No column name)": "Back András"
                                },
                                {
                                    "LOGIN": "andras4",
                                    "EMAIL": "andras4@gmail.com",
                                    "NEV": "Back András",
                                    "SZULEV": "1984",
                                    "NEM": "F",
                                    "CIM": "3783 Edelény, Fő út 169.",
                                    "(No column name)": "Bagi Beáta"
                                },
                                {
                                    "LOGIN": "beata4",
                                    "EMAIL": "beáta.bagi@mail.hu",
                                    "NEV": "Bagi Beáta",
                                    "SZULEV": "1994",
                                    "NEM": "N",
                                    "CIM": "8477 Tüskevár, Felszabadulás utca 32.",
                                    "(No column name)": "Bagóczki Alexandra"
                                },
                                {
                                    "LOGIN": "alexandra",
                                    "EMAIL": "alexandra.bagóczki@mail.hu",
                                    "NEV": "Bagóczki Alexandra",
                                    "SZULEV": "1992",
                                    "NEM": "N",
                                    "CIM": "2381 Táborfalva, Petőfi utca 1/2.",
                                    "(No column name)": "Bajusz Bence"
                                },
                                {
                                    "LOGIN": "BENCEB",
                                    "EMAIL": "bence.bajusz@mail.hu",
                                    "NEV": "Bajusz Bence",
                                    "SZULEV": "1973",
                                    "NEM": "F",
                                    "CIM": "8391 Sármellék, Fő utca 56.",
                                    "(No column name)": "Bakó Klaudia"
                                },
                                {
                                    "LOGIN": "klaudia2",
                                    "EMAIL": "klaudia.bakó@mail.hu",
                                    "NEV": "Bakó Klaudia",
                                    "SZULEV": "1982",
                                    "NEM": "N",
                                    "CIM": "8254 Kővágóörs, Kossuth Lajos utca 6.",
                                    "(No column name)": "Bakódy Balázs"
                                },
                                {
                                    "LOGIN": "balazs3",
                                    "EMAIL": "balazs3@gmail.com",
                                    "NEV": "Bakódy Balázs",
                                    "SZULEV": "1986",
                                    "NEM": "F",
                                    "CIM": "2131 Göd, Arany János utca 1.",
                                    "(No column name)": "Balla Miklós"
                                },
                                {
                                    "LOGIN": "MIKLOSB",
                                    "EMAIL": "miklós.balla@mail.hu",
                                    "NEV": "Balla Miklós",
                                    "SZULEV": "1979",
                                    "NEM": "F",
                                    "CIM": "4060 Balmazújváros, Szent István utca 2.",
                                    "(No column name)": "Balogh Eszter"
                                },
                                {
                                    "LOGIN": "eszter2",
                                    "EMAIL": "eszter.balogh@mail.hu",
                                    "NEV": "Balogh Eszter",
                                    "SZULEV": "1998",
                                    "NEM": "N",
                                    "CIM": "6760 Kistelek, Kossuth utca 11.",
                                    "(No column name)": "Barabás Pál"
                                },
                                {
                                    "LOGIN": "pal",
                                    "EMAIL": "pál.barabás@mail.hu",
                                    "NEV": "Barabás Pál",
                                    "SZULEV": "1968",
                                    "NEM": "F",
                                    "CIM": "1183 Budapest, Szolnoki út 8.",
                                    "(No column name)": "Baráth Mária"
                                },
                                {
                                    "LOGIN": "maria1",
                                    "EMAIL": "mária.baráth@mail.hu",
                                    "NEV": "Baráth Mária",
                                    "SZULEV": "1995",
                                    "NEM": "N",
                                    "CIM": "1047 Budapest, Posta köz 2.",
                                    "(No column name)": "Bárci Gusztáv"
                                },
                                {
                                    "LOGIN": "gusztav",
                                    "EMAIL": "gusztav@gmail.com",
                                    "NEV": "Bárci Gusztáv",
                                    "SZULEV": "1967",
                                    "NEM": "F",
                                    "CIM": "3643 Dédestapolcsány, Endrődi Sándor utca 47.",
                                    "(No column name)": "Barkóci Ádám"
                                },
                                {
                                    "LOGIN": "adam3",
                                    "EMAIL": "adam3@gmail.com",
                                    "NEV": "Barkóci Ádám",
                                    "SZULEV": "1970",
                                    "NEM": "F",
                                    "CIM": "3910 Tokaj, Dózsa György utca 37.",
                                    "(No column name)": "Barna Debóra"
                                },
                                {
                                    "LOGIN": "debora",
                                    "EMAIL": "debóra.barna@mail.hu",
                                    "NEV": "Barna Debóra",
                                    "SZULEV": "1976",
                                    "NEM": "N",
                                    "CIM": "1155 Budapest, Fő út 169.",
                                    "(No column name)": "Barna Zoltán"
                                },
                                {
                                    "LOGIN": "zoltan4",
                                    "EMAIL": "zoltan4@gmail.com",
                                    "NEV": "Barna Zoltán",
                                    "SZULEV": "1986",
                                    "NEM": "F",
                                    "CIM": "8313 Balatongyörök, Jászai tér 21.",
                                    "(No column name)": "Baróti Attila"
                                },
                                {
                                    "LOGIN": "attila4",
                                    "EMAIL": "attila.baróti@mail.hu",
                                    "NEV": "Baróti Attila",
                                    "SZULEV": "1975",
                                    "NEM": "F",
                                    "CIM": "7149 Báta, Arany János utca 3.",
                                    "(No column name)": "Barta Zsuzsanna"
                                },
                                {
                                    "LOGIN": "zsuzsanna",
                                    "EMAIL": "zsuzsanna.barta@mail.hu",
                                    "NEV": "Barta Zsuzsanna",
                                    "SZULEV": "1994",
                                    "NEM": "N",
                                    "CIM": "4172 Biharnagybajom, Dózsa György utca 37.",
                                    "(No column name)": "Berendi Péter"
                                },
                                {
                                    "LOGIN": "PETERB",
                                    "EMAIL": "péter.berendi@mail.hu",
                                    "NEV": "Berendi Péter",
                                    "SZULEV": "1969",
                                    "NEM": "F",
                                    "CIM": "3980 Sátoraljaújhely, Vasút utca 4/10.",
                                    "(No column name)": "Béres Norbert"
                                },
                                {
                                    "LOGIN": "norbert5",
                                    "EMAIL": "norbert5@gmail.com",
                                    "NEV": "Béres Norbert",
                                    "SZULEV": "1975",
                                    "NEM": "F",
                                    "CIM": "8640 Fonyód, Bajcsy-Zsilinszky utca 4.",
                                    "(No column name)": "Berta Dávid"
                                },
                                {
                                    "LOGIN": "david4",
                                    "EMAIL": "david4@gmail.com",
                                    "NEV": "Berta Dávid",
                                    "SZULEV": "1990",
                                    "NEM": "F",
                                    "CIM": "3500 Miskolc, Balatoni út 12.",
                                    "(No column name)": "Bieniek Ádám"
                                },
                                {
                                    "LOGIN": "adam4",
                                    "EMAIL": "ádám.bieniek@mail.hu",
                                    "NEV": "Bieniek Ádám",
                                    "SZULEV": "1976",
                                    "NEM": "F",
                                    "CIM": "8630 Balatonboglár, Juhászföldi út 1.",
                                    "(No column name)": "Bíró Ákos"
                                },
                                {
                                    "LOGIN": "akos",
                                    "EMAIL": "ákos.bíró@mail.hu",
                                    "NEV": "Bíró Ákos",
                                    "SZULEV": "1982",
                                    "NEM": "F",
                                    "CIM": "9023 Győr, Kossuth Lajos utca 47/b.",
                                    "(No column name)": "Biró Alexander"
                                },
                                {
                                    "LOGIN": "alexis",
                                    "EMAIL": "alexbiro@gmail.com",
                                    "NEV": "Biró Alexander",
                                    "SZULEV": "2000",
                                    "NEM": "F",
                                    "CIM": "6914 Pitvaros, Deák F. u. 38.",
                                    "(No column name)": "Bíró Péter"
                                },
                                {
                                    "LOGIN": "peter4",
                                    "EMAIL": "péter.bíró@mail.hu",
                                    "NEV": "Bíró Péter",
                                    "SZULEV": "1985",
                                    "NEM": "F",
                                    "CIM": "5137 Jászkisér, Rákóczi utca 67.",
                                    "(No column name)": "Bittmann Edit"
                                },
                                {
                                    "LOGIN": "edit",
                                    "EMAIL": "edit.bittmann@mail.hu",
                                    "NEV": "Bittmann Edit",
                                    "SZULEV": "1984",
                                    "NEM": "N",
                                    "CIM": "6077 Orgovány, Fő utca 60.",
                                    "(No column name)": "Bodor Szabolcs"
                                },
                                {
                                    "LOGIN": "szabolcs",
                                    "EMAIL": "szabolcs.bodor@mail.hu",
                                    "NEV": "Bodor Szabolcs",
                                    "SZULEV": "1990",
                                    "NEM": "F",
                                    "CIM": "6786 Ruzsa, Ady Endre út 27.",
                                    "(No column name)": "Bori Krisztina"
                                },
                                {
                                    "LOGIN": "krisztina1",
                                    "EMAIL": "krisztina.bori@mail.hu",
                                    "NEV": "Bori Krisztina",
                                    "SZULEV": "1969",
                                    "NEM": "N",
                                    "CIM": "2115 Vácszentlászló, Fő utca 47.",
                                    "(No column name)": "Boros Vivien"
                                },
                                {
                                    "LOGIN": "vivien3",
                                    "EMAIL": "vivien3@gmail.com",
                                    "NEV": "Boros Vivien",
                                    "SZULEV": "1991",
                                    "NEM": "N",
                                    "CIM": "2117 Isaszeg, Fő út 122.",
                                    "(No column name)": "Bosnyák Ilona"
                                },
                                {
                                    "LOGIN": "ilona3",
                                    "EMAIL": "ilona3@gmail.com",
                                    "NEV": "Bosnyák Ilona",
                                    "SZULEV": "1990",
                                    "NEM": "N",
                                    "CIM": "2483 Gárdony, Posta köz 2.",
                                    "(No column name)": "Botka Mátyás"
                                },
                                {
                                    "LOGIN": "matyas2",
                                    "EMAIL": "matyas2@gmail.com",
                                    "NEV": "Botka Mátyás",
                                    "SZULEV": "1972",
                                    "NEM": "F",
                                    "CIM": "2700 Cegléd, Kossuth Lajos utca 6.",
                                    "(No column name)": "Bozsik Balázs"
                                },
                                {
                                    "LOGIN": "balazs1",
                                    "EMAIL": "balázs.bozsik@mail.hu",
                                    "NEV": "Bozsik Balázs",
                                    "SZULEV": "1992",
                                    "NEM": "F",
                                    "CIM": "2300 Ráckeve, Bécsi utca 82.",
                                    "(No column name)": "Bozsó Péter"
                                },
                                {
                                    "LOGIN": "peter2",
                                    "EMAIL": "peter2@gmail.com",
                                    "NEV": "Bozsó Péter",
                                    "SZULEV": "1976",
                                    "NEM": "F",
                                    "CIM": "4800 Vásárosnamény, Zombori út 2/A",
                                    "(No column name)": "Böröcz Anikó"
                                },
                                {
                                    "LOGIN": "aniko4",
                                    "EMAIL": "aniko4@gmail.com",
                                    "NEV": "Böröcz Anikó",
                                    "SZULEV": "1978",
                                    "NEM": "N",
                                    "CIM": "2484 Agárd, Petőfi Sándor tér 1.",
                                    "(No column name)": "Bucskó Róza"
                                },
                                {
                                    "LOGIN": "roza2",
                                    "EMAIL": "roza2@gmail.com",
                                    "NEV": "Bucskó Róza",
                                    "SZULEV": "1988",
                                    "NEM": "N",
                                    "CIM": "5661 Újkígyós, Arany János utca 3.",
                                    "(No column name)": "Búza Imre"
                                },
                                {
                                    "LOGIN": "imre",
                                    "EMAIL": "imre.búza@mail.hu",
                                    "NEV": "Búza Imre",
                                    "SZULEV": "1988",
                                    "NEM": "F",
                                    "CIM": "9181 Kimle, Petőfi Sándor tér 1.",
                                    "(No column name)": "Czérna Krisztián"
                                },
                                {
                                    "LOGIN": "krisztian4",
                                    "EMAIL": "krisztián.czérna@mail.hu",
                                    "NEV": "Czérna Krisztián",
                                    "SZULEV": "1970",
                                    "NEM": "F",
                                    "CIM": "1107 Budapest, Dózsa György utca 37.",
                                    "(No column name)": "Csiger Bertalan"
                                },
                                {
                                    "LOGIN": "bertalan",
                                    "EMAIL": "bertalan@gmail.com",
                                    "NEV": "Csiger Bertalan",
                                    "SZULEV": "1977",
                                    "NEM": "F",
                                    "CIM": "1192 Budapest, Fő út 169.",
                                    "(No column name)": "Csóti Attila"
                                },
                                {
                                    "LOGIN": "attila",
                                    "EMAIL": "attila@gmail.com",
                                    "NEV": "Csóti Attila",
                                    "SZULEV": "1979",
                                    "NEM": "F",
                                    "CIM": "3000 Hatvan, Bajcsy-Zsilinszky utca 4.",
                                    "(No column name)": "Dániel Tibor"
                                },
                                {
                                    "LOGIN": "tibor2",
                                    "EMAIL": "tibor2@gmail.com",
                                    "NEV": "Dániel Tibor",
                                    "SZULEV": "1985",
                                    "NEM": "F",
                                    "CIM": "6646 Tömörkény, Árpád utca 23.",
                                    "(No column name)": "Dunai Aladár"
                                },
                                {
                                    "LOGIN": "aladar",
                                    "EMAIL": "aladár.dunai@mail.hu",
                                    "NEV": "Dunai Aladár",
                                    "SZULEV": "1980",
                                    "NEM": "F",
                                    "CIM": "5931 Nagyszénás, Árpád utca 23.",
                                    "(No column name)": "Dusha Tímea"
                                },
                                {
                                    "LOGIN": "timea2",
                                    "EMAIL": "tímea.dusha@mail.hu",
                                    "NEV": "Dusha Tímea",
                                    "SZULEV": "1975",
                                    "NEM": "N",
                                    "CIM": "5920 Csorvás, Kossuth utca 8.",
                                    "(No column name)": "Endresz Bálint"
                                },
                                {
                                    "LOGIN": "balu",
                                    "EMAIL": "bálint.endresz@mail.hu",
                                    "NEV": "Endresz Bálint",
                                    "SZULEV": "1976",
                                    "NEM": "F",
                                    "CIM": "3973 Cigánd, Fő út 169.",
                                    "(No column name)": "Enyedi Éva"
                                },
                                {
                                    "LOGIN": "eva",
                                    "EMAIL": "eva@gmail.com",
                                    "NEV": "Enyedi Éva",
                                    "SZULEV": "1967",
                                    "NEM": "N",
                                    "CIM": "4231 Bököny, Petőfi utca 8.",
                                    "(No column name)": "Erdei András"
                                },
                                {
                                    "LOGIN": "ANDRASE",
                                    "EMAIL": "ANDRASE@gmail.com",
                                    "NEV": "Erdei András",
                                    "SZULEV": "1997",
                                    "NEM": "F",
                                    "CIM": "5071 Besenyszög, Szolnoki út 8.",
                                    "(No column name)": "Érsek Eszter"
                                },
                                {
                                    "LOGIN": "ESZTERE",
                                    "EMAIL": "eszter.érsek@mail.hu",
                                    "NEV": "Érsek Eszter",
                                    "SZULEV": "1978",
                                    "NEM": "N",
                                    "CIM": "6785 Pusztamérges, Kossuth Lajos utca 6.",
                                    "(No column name)": "Farkas Béla"
                                },
                                {
                                    "LOGIN": "BELAF",
                                    "EMAIL": "BELAF@gmail.com",
                                    "NEV": "Farkas Béla",
                                    "SZULEV": "1995",
                                    "NEM": "F",
                                    "CIM": "5530 Vésztő, Petőfi Sándor utca 3.",
                                    "(No column name)": "Farkas László"
                                },
                                {
                                    "LOGIN": "laszlo1",
                                    "EMAIL": "lászló.farkas@mail.hu",
                                    "NEV": "Farkas László",
                                    "SZULEV": "1967",
                                    "NEM": "F",
                                    "CIM": "5200 Törökszentmiklós, Rendeki utca 21.",
                                    "(No column name)": "Farkas Sándor"
                                },
                                {
                                    "LOGIN": "sandor3",
                                    "EMAIL": "sándor.farkas@mail.hu",
                                    "NEV": "Farkas Sándor",
                                    "SZULEV": "1989",
                                    "NEM": "F",
                                    "CIM": "8640 Fonyód, Tanácsköztársaság tér 1.",
                                    "(No column name)": "Farkas Sára"
                                },
                                {
                                    "LOGIN": "sara",
                                    "EMAIL": "sára.farkas@mail.hu",
                                    "NEV": "Farkas Sára",
                                    "SZULEV": "1973",
                                    "NEM": "N",
                                    "CIM": "5940 Tótkomlós, Felszabadulás utca 32.",
                                    "(No column name)": "Fényes Tamás"
                                },
                                {
                                    "LOGIN": "TAMASF",
                                    "EMAIL": "TAMASF@gmail.com",
                                    "NEV": "Fényes Tamás",
                                    "SZULEV": "1997",
                                    "NEM": "F",
                                    "CIM": "9023 Győr, Arany János utca 1.",
                                    "(No column name)": "Ferencz Roland"
                                },
                                {
                                    "LOGIN": "roland1",
                                    "EMAIL": "roland.ferencz@mail.hu",
                                    "NEV": "Ferencz Roland",
                                    "SZULEV": "1985",
                                    "NEM": "F",
                                    "CIM": "2424 Előszállás, Fő út 169.",
                                    "(No column name)": "Feró Valentin"
                                },
                                {
                                    "LOGIN": "valentin",
                                    "EMAIL": "valentin.feró@mail.hu",
                                    "NEV": "Feró Valentin",
                                    "SZULEV": "1986",
                                    "NEM": "F",
                                    "CIM": "3895 Gönc, Búvár utca 4.",
                                    "(No column name)": "Fodor Zoltán"
                                },
                                {
                                    "LOGIN": "zoltan",
                                    "EMAIL": "zoltán.fodor@mail.hu",
                                    "NEV": "Fodor Zoltán",
                                    "SZULEV": "1979",
                                    "NEM": "F",
                                    "CIM": "3441 Mezőkeresztes, Fő utca 23.",
                                    "(No column name)": "Foltényi Sebastián"
                                },
                                {
                                    "LOGIN": "SEBASTIANF",
                                    "EMAIL": "SEBASTIANF@gmail.com",
                                    "NEV": "Foltényi Sebastián",
                                    "SZULEV": "1992",
                                    "NEM": "F",
                                    "CIM": "7960 Sellye, Grassalkovich út 10.",
                                    "(No column name)": "Fő Nándor"
                                },
                                {
                                    "LOGIN": "NANDORF",
                                    "EMAIL": "nándor.fő@mail.hu",
                                    "NEV": "Fő Nándor",
                                    "SZULEV": "1968",
                                    "NEM": "F",
                                    "CIM": "5920 Csorvás, Bécsi utca 82.",
                                    "(No column name)": "Frank Fruzsina"
                                },
                                {
                                    "LOGIN": "fruzsina4",
                                    "EMAIL": "fruzsina4@gmail.com",
                                    "NEV": "Frank Fruzsina",
                                    "SZULEV": "1996",
                                    "NEM": "N",
                                    "CIM": "9700 Szombathely, Szabadság utca 95.",
                                    "(No column name)": "Fülöp Eszter"
                                },
                                {
                                    "LOGIN": "eszter4",
                                    "EMAIL": "eszter.fülöp@mail.hu",
                                    "NEV": "Fülöp Eszter",
                                    "SZULEV": "1993",
                                    "NEM": "N",
                                    "CIM": "3643 Dédestapolcsány, Kossuth Lajos utca 47/b.",
                                    "(No column name)": "Gergely József"
                                },
                                {
                                    "LOGIN": "jozsef",
                                    "EMAIL": "jozsef@gmail.com",
                                    "NEV": "Gergely József",
                                    "SZULEV": "1985",
                                    "NEM": "F",
                                    "CIM": "6050 Lajosmizse, Fő út 18.",
                                    "(No column name)": "Giliga János"
                                },
                                {
                                    "LOGIN": "JANOSG",
                                    "EMAIL": "JANOSG@gmail.com",
                                    "NEV": "Giliga János",
                                    "SZULEV": "1975",
                                    "NEM": "F",
                                    "CIM": "3300 Eger, Deák Ferenc út 5.",
                                    "(No column name)": "Gombos Tibor"
                                },
                                {
                                    "LOGIN": "tibor",
                                    "EMAIL": "tibor.gombos@mail.hu",
                                    "NEV": "Gombos Tibor",
                                    "SZULEV": "1993",
                                    "NEM": "F",
                                    "CIM": "7100 Szekszárd, Kossuth utca 77.",
                                    "(No column name)": "Gondos Katalin"
                                },
                                {
                                    "LOGIN": "kata",
                                    "EMAIL": "katalin.gondos@mail.hu",
                                    "NEV": "Gondos Katalin",
                                    "SZULEV": "1968",
                                    "NEM": "N",
                                    "CIM": "8237 Tihany, Kossuth Lajos utca 6.",
                                    "(No column name)": "Gondos Miklós"
                                },
                                {
                                    "LOGIN": "miklos2",
                                    "EMAIL": "miklos2@gmail.com",
                                    "NEV": "Gondos Miklós",
                                    "SZULEV": "1995",
                                    "NEM": "F",
                                    "CIM": "2100 Gödöllő, Árpád utca 23.",
                                    "(No column name)": "Gulyás Attila"
                                },
                                {
                                    "LOGIN": "attila1",
                                    "EMAIL": "attila.gulyás@mail.hu",
                                    "NEV": "Gulyás Attila",
                                    "SZULEV": "1982",
                                    "NEM": "F",
                                    "CIM": "3881 Abaújszántó, Szolnoki út 8.",
                                    "(No column name)": "Gyárfás Krisztina"
                                },
                                {
                                    "LOGIN": "KRISZTINAG",
                                    "EMAIL": "KRISZTINAG@gmail.com",
                                    "NEV": "Gyárfás Krisztina",
                                    "SZULEV": "1987",
                                    "NEM": "N",
                                    "CIM": "6762 Sándorfalva, Arany János utca 1.",
                                    "(No column name)": "Győrffy Bence"
                                },
                                {
                                    "LOGIN": "bence",
                                    "EMAIL": "bence@gmail.com",
                                    "NEV": "Győrffy Bence",
                                    "SZULEV": "1987",
                                    "NEM": "F",
                                    "CIM": "6900 Makó, Árpád utca 23.",
                                    "(No column name)": "Gyuris József"
                                },
                                {
                                    "LOGIN": "JOZSEFG",
                                    "EMAIL": "józsef.gyuris@mail.hu",
                                    "NEV": "Gyuris József",
                                    "SZULEV": "1975",
                                    "NEM": "F",
                                    "CIM": "2660 Balassagyarmat, Petőfi utca 1/2.",
                                    "(No column name)": "Hamvay-Kovács Anita"
                                },
                                {
                                    "LOGIN": "anita",
                                    "EMAIL": "anita.hamvay-kovács@mail.hu",
                                    "NEV": "Hamvay-Kovács Anita",
                                    "SZULEV": "1971",
                                    "NEM": "N",
                                    "CIM": "7220 Sarkad, Táncsics utca 19.",
                                    "(No column name)": "Harangozó János"
                                },
                                {
                                    "LOGIN": "janos3",
                                    "EMAIL": "janos3@gmail.com",
                                    "NEV": "Harangozó János",
                                    "SZULEV": "1967",
                                    "NEM": "F",
                                    "CIM": "8700 Marcali, Petőfi Sándor tér 1.",
                                    "(No column name)": "Hartyánszky Ágnes"
                                },
                                {
                                    "LOGIN": "agnes3",
                                    "EMAIL": "agnes3@gmail.com",
                                    "NEV": "Hartyánszky Ágnes",
                                    "SZULEV": "1967",
                                    "NEM": "N",
                                    "CIM": "6430 Bácsalmás, Posta köz 2.",
                                    "(No column name)": "Hegedűs Norbert"
                                },
                                {
                                    "LOGIN": "norbert2",
                                    "EMAIL": "norbert.hegedűs@mail.hu",
                                    "NEV": "Hegedűs Norbert",
                                    "SZULEV": "1991",
                                    "NEM": "F",
                                    "CIM": "2081 Piliscsaba, Rendeki utca 21.",
                                    "(No column name)": "Hídasi Judit"
                                },
                                {
                                    "LOGIN": "JUDITH",
                                    "EMAIL": "JUDITH@gmail.com",
                                    "NEV": "Hídasi Judit",
                                    "SZULEV": "1997",
                                    "NEM": "N",
                                    "CIM": "2100 Gödöllő, Fő út 169.",
                                    "(No column name)": "Horváth Ágnes"
                                },
                                {
                                    "LOGIN": "AGNESH",
                                    "EMAIL": "AGNESH@gmail.com",
                                    "NEV": "Horváth Ágnes",
                                    "SZULEV": "1981",
                                    "NEM": "N",
                                    "CIM": "8200 Veszprém, Rákóczi utca 21.",
                                    "(No column name)": "Horváth Árpád"
                                },
                                {
                                    "LOGIN": "ARPADH",
                                    "EMAIL": "árpád.horváth@mail.hu",
                                    "NEV": "Horváth Árpád",
                                    "SZULEV": "1990",
                                    "NEM": "F",
                                    "CIM": "7349 Szászvár, Dózsa György u. 1.",
                                    "(No column name)": "Horváth Bálint"
                                },
                                {
                                    "LOGIN": "balint",
                                    "EMAIL": "balint@gmail.com",
                                    "NEV": "Horváth Bálint",
                                    "SZULEV": "1996",
                                    "NEM": "F",
                                    "CIM": "6646 Tömörkény, Endrődi Sándor utca 47.",
                                    "(No column name)": "Horváth Katalin"
                                },
                                {
                                    "LOGIN": "katalin",
                                    "EMAIL": "katalin.horváth@mail.hu",
                                    "NEV": "Horváth Katalin",
                                    "SZULEV": "1968",
                                    "NEM": "N",
                                    "CIM": "2424 Előszállás, Rákóczi út 200.",
                                    "(No column name)": "Horváth Krisztina"
                                },
                                {
                                    "LOGIN": "kriszti",
                                    "EMAIL": "kriszti@gmail.com",
                                    "NEV": "Horváth Krisztina",
                                    "SZULEV": "1978",
                                    "NEM": "N",
                                    "CIM": "6060 Tiszakécske, Árpád utca 4.",
                                    "(No column name)": "Horváth Márk"
                                },
                                {
                                    "LOGIN": "MARKH",
                                    "EMAIL": "márk.horváth@mail.hu",
                                    "NEV": "Horváth Márk",
                                    "SZULEV": "1997",
                                    "NEM": "F",
                                    "CIM": "4400 Nyíregyháza, Badacsonyi utca 12.",
                                    "(No column name)": "Horváth Nikolett"
                                },
                                {
                                    "LOGIN": "nikolett3",
                                    "EMAIL": "nikolett3@gmail.com",
                                    "NEV": "Horváth Nikolett",
                                    "SZULEV": "1981",
                                    "NEM": "N",
                                    "CIM": "1072 Budapest, Arany János utca 1.",
                                    "(No column name)": "Iván Róbert"
                                },
                                {
                                    "LOGIN": "ROBERTI",
                                    "EMAIL": "róbert.iván@mail.hu",
                                    "NEV": "Iván Róbert",
                                    "SZULEV": "1967",
                                    "NEM": "F",
                                    "CIM": "2377 Örkény, Petőfi Sándor utca 3.",
                                    "(No column name)": "Jakab Áron"
                                },
                                {
                                    "LOGIN": "aron2",
                                    "EMAIL": "aron2@gmail.com",
                                    "NEV": "Jakab Áron",
                                    "SZULEV": "1971",
                                    "NEM": "F",
                                    "CIM": "7133 Fadd, Bajcsy-Zsilinszky utca 4.",
                                    "(No column name)": "Józsa Zsolt"
                                },
                                {
                                    "LOGIN": "ZSOLTJ",
                                    "EMAIL": "ZSOLTJ@gmail.com",
                                    "NEV": "Józsa Zsolt",
                                    "SZULEV": "1983",
                                    "NEM": "F",
                                    "CIM": "8315 Gyenesdiás, Bajcsy-Zsilinszky utca 4.",
                                    "(No column name)": "Juhász Mihály"
                                },
                                {
                                    "LOGIN": "MIHALYJ",
                                    "EMAIL": "mihály.juhász@mail.hu",
                                    "NEV": "Juhász Mihály",
                                    "SZULEV": "1979",
                                    "NEM": "F",
                                    "CIM": "6786 Ruzsa, Rákóczi utca 1.",
                                    "(No column name)": "Kalacsi Márton"
                                },
                                {
                                    "LOGIN": "marton",
                                    "EMAIL": "marton@gmail.com",
                                    "NEV": "Kalacsi Márton",
                                    "SZULEV": "1989",
                                    "NEM": "F",
                                    "CIM": "5137 Jászkisér, Fő út 169.",
                                    "(No column name)": "Karasz Sándor"
                                },
                                {
                                    "LOGIN": "sandor",
                                    "EMAIL": "sandor@gmail.com",
                                    "NEV": "Karasz Sándor",
                                    "SZULEV": "1970",
                                    "NEM": "F",
                                    "CIM": "8283 Káptalantóti, Kossuth Lajos utca 1/a.",
                                    "(No column name)": "Kardos Renáta"
                                },
                                {
                                    "LOGIN": "RENATAK",
                                    "EMAIL": "renáta.kardos@mail.hu",
                                    "NEV": "Kardos Renáta",
                                    "SZULEV": "1988",
                                    "NEM": "N",
                                    "CIM": "7086 Ozora, Bécsi utca 82.",
                                    "(No column name)": "Kazy Tihamér"
                                },
                                {
                                    "LOGIN": "tihamer",
                                    "EMAIL": "tihamér.kazy@mail.hu",
                                    "NEV": "Kazy Tihamér",
                                    "SZULEV": "1991",
                                    "NEM": "F",
                                    "CIM": "2370 Dabas, Fő utca 60.",
                                    "(No column name)": "Kelemen Áron"
                                },
                                {
                                    "LOGIN": "ARONK",
                                    "EMAIL": "áron.kelemen@mail.hu",
                                    "NEV": "Kelemen Áron",
                                    "SZULEV": "1989",
                                    "NEM": "F",
                                    "CIM": "8200 Veszprém, Petőfi utca 8.",
                                    "(No column name)": "Kerényi Beatrix"
                                },
                                {
                                    "LOGIN": "BEATRIXK",
                                    "EMAIL": "beatrix.kerényi@mail.hu",
                                    "NEV": "Kerényi Beatrix",
                                    "SZULEV": "1972",
                                    "NEM": "N",
                                    "CIM": "7396 Magyarszék, Kossuth Lajos utca 47/b.",
                                    "(No column name)": "Keresztúri Viktor"
                                },
                                {
                                    "LOGIN": "VIKTORK",
                                    "EMAIL": "viktor.keresztúri@mail.hu",
                                    "NEV": "Keresztúri Viktor",
                                    "SZULEV": "1989",
                                    "NEM": "F",
                                    "CIM": "2532 Tokodaltáró, Nagy Lajos tér 4.",
                                    "(No column name)": "Kertész Katalin"
                                },
                                {
                                    "LOGIN": "katalin4",
                                    "EMAIL": "katalin4@gmail.com",
                                    "NEV": "Kertész Katalin",
                                    "SZULEV": "1986",
                                    "NEM": "N",
                                    "CIM": "2800 Tatabánya, Búvár utca 4.",
                                    "(No column name)": "Keszler Dániel"
                                },
                                {
                                    "LOGIN": "daniel1",
                                    "EMAIL": "dániel.keszler@mail.hu",
                                    "NEV": "Keszler Dániel",
                                    "SZULEV": "1969",
                                    "NEM": "F",
                                    "CIM": "3580 Tiszaújváros, Kossuth Lajos utca 6.",
                                    "(No column name)": "Kispál Márk"
                                },
                                {
                                    "LOGIN": "mark",
                                    "EMAIL": "márk.kispál@mail.hu",
                                    "NEV": "Kispál Márk",
                                    "SZULEV": "1996",
                                    "NEM": "F",
                                    "CIM": "1086 Budapest, Juhászföldi út 1.",
                                    "(No column name)": "Kiss Ádám"
                                },
                                {
                                    "LOGIN": "adam1",
                                    "EMAIL": "ádám.kiss@mail.hu",
                                    "NEV": "Kiss Ádám",
                                    "SZULEV": "1991",
                                    "NEM": "F",
                                    "CIM": "5630 Békés, Szolnoki út 8.",
                                    "(No column name)": "Kiss Andrea"
                                },
                                {
                                    "LOGIN": "andrea",
                                    "EMAIL": "andrea.kiss@mail.hu",
                                    "NEV": "Kiss Andrea",
                                    "SZULEV": "1993",
                                    "NEM": "N",
                                    "CIM": "1113 Budapest, Petőfi Sándor utca 87.",
                                    "(No column name)": "Kiss Anita"
                                },
                                {
                                    "LOGIN": "kanita12",
                                    "EMAIL": "anita.kiss12@gmail.com",
                                    "NEV": "Kiss Anita",
                                    "SZULEV": "1975",
                                    "NEM": "N",
                                    "CIM": "2230 Gyömrő Fő tér 3.",
                                    "(No column name)": "Kiss Lajos"
                                },
                                {
                                    "LOGIN": "lajos",
                                    "EMAIL": "lajos.kiss@mail.hu",
                                    "NEV": "Kiss Lajos",
                                    "SZULEV": "1978",
                                    "NEM": "F",
                                    "CIM": "1077 Budapest, Dob utca 1",
                                    "(No column name)": "Komjáti András"
                                },
                                {
                                    "LOGIN": "andras41",
                                    "EMAIL": "andras41@gmail.com",
                                    "NEV": "Komjáti András",
                                    "SZULEV": "1997",
                                    "NEM": "F",
                                    "CIM": "5065 Nagykörű, Kossuth út 24.",
                                    "(No column name)": "Kornseé Gyöngyi"
                                },
                                {
                                    "LOGIN": "GYONGYIK",
                                    "EMAIL": "gyöngyi.kornseé@mail.hu",
                                    "NEV": "Kornseé Gyöngyi",
                                    "SZULEV": "1974",
                                    "NEM": "N",
                                    "CIM": "8800 Nagykanizsa, Fő út 60.",
                                    "(No column name)": "Kovács Ágnes"
                                },
                                {
                                    "LOGIN": "AGNESK",
                                    "EMAIL": "AGNESK@gmail.com",
                                    "NEV": "Kovács Ágnes",
                                    "SZULEV": "1988",
                                    "NEM": "N",
                                    "CIM": "1084 Budapest, Endrődi Sándor utca 47.",
                                    "(No column name)": "Kovács Bernadett"
                                },
                                {
                                    "LOGIN": "bernadett2",
                                    "EMAIL": "bernadett.kovács@mail.hu",
                                    "NEV": "Kovács Bernadett",
                                    "SZULEV": "1996",
                                    "NEM": "N",
                                    "CIM": "4200 Hajdúszoboszló, Fő út 122.",
                                    "(No column name)": "Kovács Katalin"
                                },
                                {
                                    "LOGIN": "katka",
                                    "EMAIL": "katalin.kovács@mail.hu",
                                    "NEV": "Kovács Katalin",
                                    "SZULEV": "1975",
                                    "NEM": "N",
                                    "CIM": "8254 Kővágóörs, Petőfi utca 22.",
                                    "(No column name)": "Koza Máté"
                                },
                                {
                                    "LOGIN": "MATEK",
                                    "EMAIL": "máté.koza@mail.hu",
                                    "NEV": "Koza Máté",
                                    "SZULEV": "1997",
                                    "NEM": "F",
                                    "CIM": "1011 Budapest, Központi telep 3.",
                                    "(No column name)": "Kozma Péter"
                                },
                                {
                                    "LOGIN": "peter1",
                                    "EMAIL": "peter1@gmail.com",
                                    "NEV": "Kozma Péter",
                                    "SZULEV": "1976",
                                    "NEM": "F",
                                    "CIM": "6913 Csanádpalota, Központi telep 3.",
                                    "(No column name)": "Kő Nikoletta"
                                },
                                {
                                    "LOGIN": "nikoletta4",
                                    "EMAIL": "nikoletta4@gmail.com",
                                    "NEV": "Kő Nikoletta",
                                    "SZULEV": "1972",
                                    "NEM": "N",
                                    "CIM": "5537 Zsadány, Fő út 18.",
                                    "(No column name)": "Köves Gábor"
                                },
                                {
                                    "LOGIN": "gabor1",
                                    "EMAIL": "gabor1@gmail.com",
                                    "NEV": "Köves Gábor",
                                    "SZULEV": "1973",
                                    "NEM": "F",
                                    "CIM": "6762 Sándorfalva, Árpád utca 23.",
                                    "(No column name)": "Kuruc Emese"
                                },
                                {
                                    "LOGIN": "emese",
                                    "EMAIL": "emese.kuruc@mail.hu",
                                    "NEV": "Kuruc Emese",
                                    "SZULEV": "1989",
                                    "NEM": "N",
                                    "CIM": "6700 Szeged, Rákóczi utca 67.",
                                    "(No column name)": "Lengyel Ágnes"
                                },
                                {
                                    "LOGIN": "agnes",
                                    "EMAIL": "agnes@gmail.com",
                                    "NEV": "Lengyel Ágnes",
                                    "SZULEV": "1979",
                                    "NEM": "N",
                                    "CIM": "5200 Törökszentmiklós, Deák Ferenc út 5.",
                                    "(No column name)": "Lukács Kornél"
                                },
                                {
                                    "LOGIN": "kornel4",
                                    "EMAIL": "kornél.lukács@mail.hu",
                                    "NEV": "Lukács Kornél",
                                    "SZULEV": "1975",
                                    "NEM": "F",
                                    "CIM": "2053 Herceghalom, Bécsi utca 82.",
                                    "(No column name)": "Maródi Andrea"
                                },
                                {
                                    "LOGIN": "andi",
                                    "EMAIL": "andrea.maródi@mail.hu",
                                    "NEV": "Maródi Andrea",
                                    "SZULEV": "1968",
                                    "NEM": "N",
                                    "CIM": "5465 Cserkeszőlő, Árpád utca 4.",
                                    "(No column name)": "Miklós Szabolcs"
                                },
                                {
                                    "LOGIN": "SZABOLCSM",
                                    "EMAIL": "szabolcs.miklós@mail.hu",
                                    "NEV": "Miklós Szabolcs",
                                    "SZULEV": "1980",
                                    "NEM": "F",
                                    "CIM": "1102 Budapest, Fő út 169.",
                                    "(No column name)": "Miklós Tamara"
                                },
                                {
                                    "LOGIN": "tamara2",
                                    "EMAIL": "tamara.miklós@mail.hu",
                                    "NEV": "Miklós Tamara",
                                    "SZULEV": "1980",
                                    "NEM": "N",
                                    "CIM": "3910 Tokaj, Kossuth út 39.",
                                    "(No column name)": "Mile Norbert"
                                },
                                {
                                    "LOGIN": "norbert4",
                                    "EMAIL": "norbert4@gmail.com",
                                    "NEV": "Mile Norbert",
                                    "SZULEV": "1983",
                                    "NEM": "F",
                                    "CIM": "3973 Cigánd, Bajcsy-Zsilinszky utca 4.",
                                    "(No column name)": "Mogyródi Krisztián"
                                },
                                {
                                    "LOGIN": "KRISZTIANM",
                                    "EMAIL": "KRISZTIANM@gmail.com",
                                    "NEV": "Mogyródi Krisztián",
                                    "SZULEV": "1968",
                                    "NEM": "F",
                                    "CIM": "9155 Lébény, Jászai tér 21.",
                                    "(No column name)": "Mohos Mónika"
                                },
                                {
                                    "LOGIN": "MONIKAM",
                                    "EMAIL": "mónika.mohos@mail.hu",
                                    "NEV": "Mohos Mónika",
                                    "SZULEV": "1974",
                                    "NEM": "N",
                                    "CIM": "2241 Sülysáp, Baracsi László utca 14.",
                                    "(No column name)": "Molnár András"
                                },
                                {
                                    "LOGIN": "andras21",
                                    "EMAIL": "andrás.molnár@mail.hu",
                                    "NEV": "Molnár András",
                                    "SZULEV": "1977",
                                    "NEM": "F",
                                    "CIM": "7900 Szigetvár, Rákóczi utca 67.",
                                    "(No column name)": "Molnár Bálint"
                                },
                                {
                                    "LOGIN": "balint1",
                                    "EMAIL": "balint1@gmail.com",
                                    "NEV": "Molnár Bálint",
                                    "SZULEV": "1989",
                                    "NEM": "F",
                                    "CIM": "9181 Kimle, Fő út 169.",
                                    "(No column name)": "Molnár Eszter"
                                },
                                {
                                    "LOGIN": "eszter",
                                    "EMAIL": "eszter.molnár@mail.hu",
                                    "NEV": "Molnár Eszter",
                                    "SZULEV": "1987",
                                    "NEM": "N",
                                    "CIM": "6800 Hódmezővásárhely, Fő út 77.",
                                    "(No column name)": "Molnár Zsófi"
                                },
                                {
                                    "LOGIN": "zsofi1",
                                    "EMAIL": "zsofi1@gmail.com",
                                    "NEV": "Molnár Zsófi",
                                    "SZULEV": "1983",
                                    "NEM": "N",
                                    "CIM": "2730 Albertirsa, Árpád utca 23.",
                                    "(No column name)": "Mór Ottó"
                                },
                                {
                                    "LOGIN": "desdemona",
                                    "EMAIL": "mor.otto@mail.hu",
                                    "NEV": "Mór Ottó",
                                    "SZULEV": "1968",
                                    "NEM": "F",
                                    "CIM": "9200 Mosonmagyaróvár Fő u. 12.",
                                    "(No column name)": "Móra László"
                                },
                                {
                                    "LOGIN": "laszlo2",
                                    "EMAIL": "lászló.móra@mail.hu",
                                    "NEV": "Móra László",
                                    "SZULEV": "1975",
                                    "NEM": "F",
                                    "CIM": "9970 Szentgotthárd, Petőfi utca 1/2.",
                                    "(No column name)": "Móricz Árpád"
                                },
                                {
                                    "LOGIN": "ARPADM",
                                    "EMAIL": "árpád.móricz@mail.hu",
                                    "NEV": "Móricz Árpád",
                                    "SZULEV": "1986",
                                    "NEM": "F",
                                    "CIM": "3910 Tokaj, Rákóczi utca 67.",
                                    "(No column name)": "Nádudvari Henrik"
                                },
                                {
                                    "LOGIN": "henrik3",
                                    "EMAIL": "henrik.nádudvari@mail.hu",
                                    "NEV": "Nádudvari Henrik",
                                    "SZULEV": "1986",
                                    "NEM": "F",
                                    "CIM": "1077 Budapest, Tanácsköztársaság tér 1.",
                                    "(No column name)": "Nagy András"
                                },
                                {
                                    "LOGIN": "ANDRASN",
                                    "EMAIL": "andrás.nagy@mail.hu",
                                    "NEV": "Nagy András",
                                    "SZULEV": "1980",
                                    "NEM": "F",
                                    "CIM": "6500 Baja, Fő út 169.",
                                    "(No column name)": "Nagy Gabriella"
                                },
                                {
                                    "LOGIN": "gabriella1",
                                    "EMAIL": "gabriella1@gmail.com",
                                    "NEV": "Nagy Gabriella",
                                    "SZULEV": "1982",
                                    "NEM": "N",
                                    "CIM": "1077 Budapest, Dob utca 1",
                                    "(No column name)": "Nagy Júlia"
                                },
                                {
                                    "LOGIN": "julia4",
                                    "EMAIL": "julia4@gmail.com",
                                    "NEV": "Nagy Júlia",
                                    "SZULEV": "1985",
                                    "NEM": "N",
                                    "CIM": "7000 Sárbogárd, Jászai tér 21.",
                                    "(No column name)": "Nagy László"
                                },
                                {
                                    "LOGIN": "LASZLON",
                                    "EMAIL": "lászló.nagy@mail.hu",
                                    "NEV": "Nagy László",
                                    "SZULEV": "1969",
                                    "NEM": "F",
                                    "CIM": "1173 Budapest, Jászai tér 21.",
                                    "(No column name)": "Nagy Péter"
                                },
                                {
                                    "LOGIN": "melissza",
                                    "EMAIL": "nagy_peter@indamail.hu",
                                    "NEV": "Nagy Péter",
                                    "SZULEV": "1998",
                                    "NEM": "F",
                                    "CIM": "6800 Hódmezővásárhely, Oldalkosát u. 1.",
                                    "(No column name)": "Nagy Sándor"
                                },
                                {
                                    "LOGIN": "sandor4",
                                    "EMAIL": "sandor4@gmail.com",
                                    "NEV": "Nagy Sándor",
                                    "SZULEV": "1997",
                                    "NEM": "F",
                                    "CIM": "4600 Kisvárda, Fő utca 47.",
                                    "(No column name)": "Nagymihály Csongor"
                                },
                                {
                                    "LOGIN": "csongor3",
                                    "EMAIL": "csongor.nagymihály@mail.hu",
                                    "NEV": "Nagymihály Csongor",
                                    "SZULEV": "1984",
                                    "NEM": "F",
                                    "CIM": "9181 Kimle, Deák Ferenc út 5.",
                                    "(No column name)": "Nagymihály Lajos"
                                },
                                {
                                    "LOGIN": "lala",
                                    "EMAIL": "lajos.nagymihály@mail.hu",
                                    "NEV": "Nagymihály Lajos",
                                    "SZULEV": "1997",
                                    "NEM": "F",
                                    "CIM": "8638 Balatonlelle, Rákóczi út 200.",
                                    "(No column name)": "Neizer Andrea"
                                },
                                {
                                    "LOGIN": "andrea4",
                                    "EMAIL": "andrea4@gmail.com",
                                    "NEV": "Neizer Andrea",
                                    "SZULEV": "1981",
                                    "NEM": "N",
                                    "CIM": "1124 Budapest, Kiss u. 8.",
                                    "(No column name)": "Nyíri Georgij"
                                },
                                {
                                    "LOGIN": "georgij",
                                    "EMAIL": "georgij.nyíri@mail.hu",
                                    "NEV": "Nyíri Georgij",
                                    "SZULEV": "1983",
                                    "NEM": "F",
                                    "CIM": "8391 Sármellék, Grassalkovich út 10.",
                                    "(No column name)": "Opra Attila"
                                },
                                {
                                    "LOGIN": "ATTILAO",
                                    "EMAIL": "ATTILAO@gmail.com",
                                    "NEV": "Opra Attila",
                                    "SZULEV": "1995",
                                    "NEM": "F",
                                    "CIM": "8283 Káptalantóti, Rákóczi út 200.",
                                    "(No column name)": "Orbán Bernadett"
                                },
                                {
                                    "LOGIN": "BERNADETTO",
                                    "EMAIL": "bernadett.orbán@mail.hu",
                                    "NEV": "Orbán Bernadett",
                                    "SZULEV": "1987",
                                    "NEM": "N",
                                    "CIM": "5085 Rákóczifalva, Arany János utca 1.",
                                    "(No column name)": "Orosz Ferenc"
                                },
                                {
                                    "LOGIN": "ferenc1",
                                    "EMAIL": "ferenc.orosz@mail.hu",
                                    "NEV": "Orosz Ferenc",
                                    "SZULEV": "1983",
                                    "NEM": "F",
                                    "CIM": "5061 Tiszasüly, Arany János utca 3.",
                                    "(No column name)": "Oroszi György"
                                },
                                {
                                    "LOGIN": "GYORGYO",
                                    "EMAIL": "GYORGYO@gmail.com",
                                    "NEV": "Oroszi György",
                                    "SZULEV": "1980",
                                    "NEM": "F",
                                    "CIM": "7220 Sarkad, Dózsa György u. 1.",
                                    "(No column name)": "Ötvös Árpád"
                                },
                                {
                                    "LOGIN": "arpad2",
                                    "EMAIL": "árpád.ötvös@mail.hu",
                                    "NEV": "Ötvös Árpád",
                                    "SZULEV": "1990",
                                    "NEM": "F",
                                    "CIM": "2600 Vác, Padragi út 158.",
                                    "(No column name)": "Palágyi Polla"
                                },
                                {
                                    "LOGIN": "polla",
                                    "EMAIL": "polla@gmail.com",
                                    "NEV": "Palágyi Polla",
                                    "SZULEV": "1994",
                                    "NEM": "N",
                                    "CIM": "2484 Agárd, Fő út 18.",
                                    "(No column name)": "Pálinkás János"
                                },
                                {
                                    "LOGIN": "JANOSP",
                                    "EMAIL": "JANOSP@gmail.com",
                                    "NEV": "Pálinkás János",
                                    "SZULEV": "1984",
                                    "NEM": "F",
                                    "CIM": "5920 Csorvás, Padragi út 158.",
                                    "(No column name)": "Papós Tímea"
                                },
                                {
                                    "LOGIN": "timea",
                                    "EMAIL": "timea@gmail.com",
                                    "NEV": "Papós Tímea",
                                    "SZULEV": "1996",
                                    "NEM": "N",
                                    "CIM": "1035 Budapest,  Kossuth út 77.",
                                    "(No column name)": "Papp Imre"
                                },
                                {
                                    "LOGIN": "imre1",
                                    "EMAIL": "imre.papp@mail.hu",
                                    "NEV": "Papp Imre",
                                    "SZULEV": "1976",
                                    "NEM": "F",
                                    "CIM": "1077 Budapest, Szolnoki út 8.",
                                    "(No column name)": "Pásztor Róbert"
                                },
                                {
                                    "LOGIN": "ROBERTP",
                                    "EMAIL": "ROBERTP@gmail.com",
                                    "NEV": "Pásztor Róbert",
                                    "SZULEV": "1972",
                                    "NEM": "F",
                                    "CIM": "5137 Jászkisér, Ady Endre út 27.",
                                    "(No column name)": "Pataki Brigitta"
                                },
                                {
                                    "LOGIN": "brigitta3",
                                    "EMAIL": "brigitta.pataki@mail.hu",
                                    "NEV": "Pataki Brigitta",
                                    "SZULEV": "1991",
                                    "NEM": "N",
                                    "CIM": "2730 Albertirsa, Rendeki utca 21.",
                                    "(No column name)": "Patay Róbert"
                                },
                                {
                                    "LOGIN": "robert2",
                                    "EMAIL": "robert2@gmail.com",
                                    "NEV": "Patay Róbert",
                                    "SZULEV": "1977",
                                    "NEM": "F",
                                    "CIM": "2370 Dabas, Rákóczi utca 21.",
                                    "(No column name)": "Perlinger Éva"
                                },
                                {
                                    "LOGIN": "eva2",
                                    "EMAIL": "eva2@gmail.com",
                                    "NEV": "Perlinger Éva",
                                    "SZULEV": "1971",
                                    "NEM": "N",
                                    "CIM": "9653 Répcelak, Bécsi utca 82.",
                                    "(No column name)": "Pintér Zoltán"
                                },
                                {
                                    "LOGIN": "ZOLTANP",
                                    "EMAIL": "zoltán.pintér@mail.hu",
                                    "NEV": "Pintér Zoltán",
                                    "SZULEV": "1977",
                                    "NEM": "F",
                                    "CIM": "6050 Lajosmizse, Fő út 18.",
                                    "(No column name)": "Pivarcsi Anett"
                                },
                                {
                                    "LOGIN": "anett3",
                                    "EMAIL": "anett.pivarcsi@mail.hu",
                                    "NEV": "Pivarcsi Anett",
                                    "SZULEV": "1967",
                                    "NEM": "N",
                                    "CIM": "1149 Budapest, Fő út 60.",
                                    "(No column name)": "Poprádi Kristóf"
                                },
                                {
                                    "LOGIN": "kristof4",
                                    "EMAIL": "kristof4@gmail.com",
                                    "NEV": "Poprádi Kristóf",
                                    "SZULEV": "1984",
                                    "NEM": "F",
                                    "CIM": "8220 Balatonalmádi, Mészáros utca 7.",
                                    "(No column name)": "Pulai Zsolt"
                                },
                                {
                                    "LOGIN": "zsolt1",
                                    "EMAIL": "zsolt.pulai@mail.hu",
                                    "NEV": "Pulai Zsolt",
                                    "SZULEV": "1988",
                                    "NEM": "F",
                                    "CIM": "8391 Sármellék, Fő utca 60.",
                                    "(No column name)": "Pusztai Zsuzsanna"
                                },
                                {
                                    "LOGIN": "zsuzsa",
                                    "EMAIL": "zsuzsanna@gmail.com",
                                    "NEV": "Pusztai Zsuzsanna",
                                    "SZULEV": "1980",
                                    "NEM": "N",
                                    "CIM": "6783 Ásotthalom, Badacsonyi utca 12.",
                                    "(No column name)": "Rab Sebestyén"
                                },
                                {
                                    "LOGIN": "sebestyen",
                                    "EMAIL": "sebestyen@gmail.com",
                                    "NEV": "Rab Sebestyén",
                                    "SZULEV": "1992",
                                    "NEM": "F",
                                    "CIM": "7130 Tolna, Központi telep 3.",
                                    "(No column name)": "Rácz Dániel"
                                },
                                {
                                    "LOGIN": "daniel",
                                    "EMAIL": "dániel.rácz@mail.hu",
                                    "NEV": "Rácz Dániel",
                                    "SZULEV": "1978",
                                    "NEM": "F",
                                    "CIM": "9181 Kimle, Szabadság tér 9.",
                                    "(No column name)": "Rácz Rajmond"
                                },
                                {
                                    "LOGIN": "rajmond4",
                                    "EMAIL": "rajmond.rácz@mail.hu",
                                    "NEV": "Rácz Rajmond",
                                    "SZULEV": "1993",
                                    "NEM": "F",
                                    "CIM": "9155 Lébény, Petőfi utca 1/2.",
                                    "(No column name)": "Regős Annamária"
                                },
                                {
                                    "LOGIN": "ANNAMARIAR",
                                    "EMAIL": "ANNAMARIAR@gmail.com",
                                    "NEV": "Regős Annamária",
                                    "SZULEV": "1977",
                                    "NEM": "N",
                                    "CIM": "8283 Káptalantóti, Petőfi Sándor tér 1.",
                                    "(No column name)": "Sarodi Dóra"
                                },
                                {
                                    "LOGIN": "dora3",
                                    "EMAIL": "dóra.sarodi@mail.hu",
                                    "NEV": "Sarodi Dóra",
                                    "SZULEV": "1995",
                                    "NEM": "N",
                                    "CIM": "2855 Bokod, Fő út 18.",
                                    "(No column name)": "Simon Anikó"
                                },
                                {
                                    "LOGIN": "ANIKOS",
                                    "EMAIL": "ANIKOS@gmail.com",
                                    "NEV": "Simon Anikó",
                                    "SZULEV": "1988",
                                    "NEM": "N",
                                    "CIM": "5137 Jászkisér, Bécsi utca 82.",
                                    "(No column name)": "Simon Bernadett"
                                },
                                {
                                    "LOGIN": "bernadett1",
                                    "EMAIL": "bernadett1@gmail.com",
                                    "NEV": "Simon Bernadett",
                                    "SZULEV": "1984",
                                    "NEM": "N",
                                    "CIM": "2300 Ráckeve, Fő utca 108.",
                                    "(No column name)": "Sobják Dávid"
                                },
                                {
                                    "LOGIN": "david1",
                                    "EMAIL": "david1@gmail.com",
                                    "NEV": "Sobják Dávid",
                                    "SZULEV": "1970",
                                    "NEM": "F",
                                    "CIM": "5083 Kengyel, Arany János utca 3.",
                                    "(No column name)": "Soós István"
                                },
                                {
                                    "LOGIN": "istvan",
                                    "EMAIL": "istvan@gmail.com",
                                    "NEV": "Soós István",
                                    "SZULEV": "1986",
                                    "NEM": "F",
                                    "CIM": "2370 Dabas, Kossuth utca 27.",
                                    "(No column name)": "Szabó Julianna"
                                },
                                {
                                    "LOGIN": "julianna4",
                                    "EMAIL": "julianna4@gmail.com",
                                    "NEV": "Szabó Julianna",
                                    "SZULEV": "1990",
                                    "NEM": "N",
                                    "CIM": "6700 Szeged, Kossuth Lajos utca 6.",
                                    "(No column name)": "Szalai Péter"
                                },
                                {
                                    "LOGIN": "peter3",
                                    "EMAIL": "peter3@gmail.com",
                                    "NEV": "Szalai Péter",
                                    "SZULEV": "1983",
                                    "NEM": "F",
                                    "CIM": "1155 Budapest, Arany János utca 3.",
                                    "(No column name)": "Szalai Szilárd"
                                },
                                {
                                    "LOGIN": "SZILARDS",
                                    "EMAIL": "szilárd.szalai@mail.hu",
                                    "NEV": "Szalai Szilárd",
                                    "SZULEV": "1967",
                                    "NEM": "F",
                                    "CIM": "1077 Budapest, Fő út 18.",
                                    "(No column name)": "Szedlár Krisztina"
                                },
                                {
                                    "LOGIN": "krisztina",
                                    "EMAIL": "krisztina@gmail.com",
                                    "NEV": "Szedlár Krisztina",
                                    "SZULEV": "1979",
                                    "NEM": "N",
                                    "CIM": "6646 Tömörkény, Arany János utca 1.",
                                    "(No column name)": "Székely Brigitta"
                                },
                                {
                                    "LOGIN": "brigitta",
                                    "EMAIL": "brigitta.székely@mail.hu",
                                    "NEV": "Székely Brigitta",
                                    "SZULEV": "1978",
                                    "NEM": "N",
                                    "CIM": "2462 Martonvásár, Fő utca 47.",
                                    "(No column name)": "Szekendi Beatrix"
                                },
                                {
                                    "LOGIN": "BEATRIXS",
                                    "EMAIL": "beatrix.szekendi@mail.hu",
                                    "NEV": "Szekendi Beatrix",
                                    "SZULEV": "1981",
                                    "NEM": "N",
                                    "CIM": "4060 Balmazújváros, Jászai tér 21.",
                                    "(No column name)": "Szikszai Réka"
                                },
                                {
                                    "LOGIN": "reka4",
                                    "EMAIL": "réka.szikszai@mail.hu",
                                    "NEV": "Szikszai Réka",
                                    "SZULEV": "1969",
                                    "NEM": "N",
                                    "CIM": "8254 Kővágóörs, Templom utca 73.",
                                    "(No column name)": "Szilágyi Mátyás"
                                },
                                {
                                    "LOGIN": "MATYASS",
                                    "EMAIL": "mátyás.szilágyi@mail.hu",
                                    "NEV": "Szilágyi Mátyás",
                                    "SZULEV": "1975",
                                    "NEM": "F",
                                    "CIM": "9023 Győr, Kossuth Lajos utca 6.",
                                    "(No column name)": "Szirmai Renáta"
                                },
                                {
                                    "LOGIN": "RENATAS",
                                    "EMAIL": "RENATAS@gmail.com",
                                    "NEV": "Szirmai Renáta",
                                    "SZULEV": "1991",
                                    "NEM": "N",
                                    "CIM": "2053 Herceghalom, Kossuth utca 27.",
                                    "(No column name)": "Szomor Andrea"
                                },
                                {
                                    "LOGIN": "andrea3",
                                    "EMAIL": "andrea3@gmail.com",
                                    "NEV": "Szomor Andrea",
                                    "SZULEV": "1996",
                                    "NEM": "N",
                                    "CIM": "7960 Sellye, Bécsi utca 82.",
                                    "(No column name)": "Szöllősi Gábor"
                                },
                                {
                                    "LOGIN": "GABORS",
                                    "EMAIL": "GABORS@gmail.com",
                                    "NEV": "Szöllősi Gábor",
                                    "SZULEV": "1990",
                                    "NEM": "F",
                                    "CIM": "3630 Putnok, Kossuth utca 27.",
                                    "(No column name)": "Szűcs Annamária"
                                },
                                {
                                    "LOGIN": "annamaria1",
                                    "EMAIL": "annamária.szűcs@mail.hu",
                                    "NEV": "Szűcs Annamária",
                                    "SZULEV": "1990",
                                    "NEM": "N",
                                    "CIM": "1191 Budapest, Rendeki utca 21.",
                                    "(No column name)": "Szűcs Balázs"
                                },
                                {
                                    "LOGIN": "balazs2",
                                    "EMAIL": "balázs.szűcs@mail.hu",
                                    "NEV": "Szűcs Balázs",
                                    "SZULEV": "1984",
                                    "NEM": "F",
                                    "CIM": "3170 Szécsény, Szabadság utca 95.",
                                    "(No column name)": "Szűcs Norbert"
                                },
                                {
                                    "LOGIN": "norbert",
                                    "EMAIL": "norbert@gmail.com",
                                    "NEV": "Szűcs Norbert",
                                    "SZULEV": "1969",
                                    "NEM": "F",
                                    "CIM": "5071 Besenyszög, Győri utca 12.",
                                    "(No column name)": "Tankó Veronika"
                                },
                                {
                                    "LOGIN": "veronika4",
                                    "EMAIL": "veronika4@gmail.com",
                                    "NEV": "Tankó Veronika",
                                    "SZULEV": "1983",
                                    "NEM": "N",
                                    "CIM": "6412 Balotaszállás, Rendeki utca 21.",
                                    "(No column name)": "Tari Szilvia"
                                },
                                {
                                    "LOGIN": "szilvia1",
                                    "EMAIL": "szilvia.tari@mail.hu",
                                    "NEV": "Tari Szilvia",
                                    "SZULEV": "1971",
                                    "NEM": "N",
                                    "CIM": "6080 Szabadszállás, Bécsi utca 82.",
                                    "(No column name)": "Tatár Nikoletta"
                                },
                                {
                                    "LOGIN": "NIKOLETTAT",
                                    "EMAIL": "nikoletta.tatár@mail.hu",
                                    "NEV": "Tatár Nikoletta",
                                    "SZULEV": "1997",
                                    "NEM": "N",
                                    "CIM": "1067 Budapest, Győri utca 12.",
                                    "(No column name)": "Telek Gábor"
                                },
                                {
                                    "LOGIN": "gabor4",
                                    "EMAIL": "gábor.telek@mail.hu",
                                    "NEV": "Telek Gábor",
                                    "SZULEV": "1987",
                                    "NEM": "F",
                                    "CIM": "9071 Görbeháza, Fő út 169.",
                                    "(No column name)": "Tornyos Andrea"
                                },
                                {
                                    "LOGIN": "ANDREAT",
                                    "EMAIL": "ANDREAT@gmail.com",
                                    "NEV": "Tornyos Andrea",
                                    "SZULEV": "1986",
                                    "NEM": "N",
                                    "CIM": "6131 Szank, Bécsi utca 82.",
                                    "(No column name)": "Tóth András"
                                },
                                {
                                    "LOGIN": "andras2",
                                    "EMAIL": "andrás.tóth@mail.hu",
                                    "NEV": "Tóth András",
                                    "SZULEV": "1997",
                                    "NEM": "F",
                                    "CIM": "4071 Egyek, Petőfi utca 30.",
                                    "(No column name)": "Tóth Anikó"
                                },
                                {
                                    "LOGIN": "aniko",
                                    "EMAIL": "aniko@gmail.com",
                                    "NEV": "Tóth Anikó",
                                    "SZULEV": "1973",
                                    "NEM": "N",
                                    "CIM": "2085 Pilisvörösvár, Deák Ferenc út 5.",
                                    "(No column name)": "Tóth Júlia"
                                },
                                {
                                    "LOGIN": "julia",
                                    "EMAIL": "julia@gmail.com",
                                    "NEV": "Tóth Júlia",
                                    "SZULEV": "1993",
                                    "NEM": "N",
                                    "CIM": "5310 Kisújszállás, Árpád utca 4.",
                                    "(No column name)": "Tóth Roland"
                                },
                                {
                                    "LOGIN": "roland",
                                    "EMAIL": "roland@gmail.com",
                                    "NEV": "Tóth Roland",
                                    "SZULEV": "1968",
                                    "NEM": "F",
                                    "CIM": "2000 Szentendre, Fő út 169.",
                                    "(No column name)": "Tóth Zoltán"
                                },
                                {
                                    "LOGIN": "ZOLTANT",
                                    "EMAIL": "zoltán.tóth@mail.hu",
                                    "NEV": "Tóth Zoltán",
                                    "SZULEV": "1985",
                                    "NEM": "F",
                                    "CIM": "4244 Újfehértó, Posta köz 2.",
                                    "(No column name)": "Tömböly Dénes"
                                },
                                {
                                    "LOGIN": "denes",
                                    "EMAIL": "denes@gmail.com",
                                    "NEV": "Tömböly Dénes",
                                    "SZULEV": "1975",
                                    "NEM": "F",
                                    "CIM": "2400 Dunaújváros, Kossuth út 39.",
                                    "(No column name)": "Turcsik Tünde"
                                },
                                {
                                    "LOGIN": "tunde",
                                    "EMAIL": "tunde@gmail.com",
                                    "NEV": "Turcsik Tünde",
                                    "SZULEV": "1974",
                                    "NEM": "N",
                                    "CIM": "7130 Tolna, Fő út 122.",
                                    "(No column name)": "Urbán Viktoria"
                                },
                                {
                                    "LOGIN": "VIKTORIAU",
                                    "EMAIL": "viktoria.urbán@mail.hu",
                                    "NEV": "Urbán Viktoria",
                                    "SZULEV": "1996",
                                    "NEM": "N",
                                    "CIM": "3860 Encs, Népboltsor  2.",
                                    "(No column name)": "Vajda József"
                                },
                                {
                                    "LOGIN": "jozsef2",
                                    "EMAIL": "józsef.vajda@mail.hu",
                                    "NEV": "Vajda József",
                                    "SZULEV": "1978",
                                    "NEM": "F",
                                    "CIM": "6700 Szeged, Baracsi László utca 14.",
                                    "(No column name)": "Vajda Zsuzsa"
                                },
                                {
                                    "LOGIN": "ZSUZSAV",
                                    "EMAIL": "zsuzsa.vajda@mail.hu",
                                    "NEV": "Vajda Zsuzsa",
                                    "SZULEV": "1976",
                                    "NEM": "N",
                                    "CIM": "6786 Ruzsa, Kossuth utca 77.",
                                    "(No column name)": "Varga István"
                                },
                                {
                                    "LOGIN": "ISTVANV",
                                    "EMAIL": "ISTVANV@gmail.com",
                                    "NEV": "Varga István",
                                    "SZULEV": "1989",
                                    "NEM": "F",
                                    "CIM": "6320 Solt, Hősök tere 11.",
                                    "(No column name)": "Varsányi Zsuzsa"
                                },
                                {
                                    "LOGIN": "zsuzsa3",
                                    "EMAIL": "zsuzsa.varsányi@mail.hu",
                                    "NEV": "Varsányi Zsuzsa",
                                    "SZULEV": "1979",
                                    "NEM": "N",
                                    "CIM": "8600 Siófok, Árpád utca 4.",
                                    "(No column name)": "Vida Gabriella"
                                },
                                {
                                    "LOGIN": "gabriella10",
                                    "EMAIL": "gabriella10@gmail.com",
                                    "NEV": "Vida Gabriella",
                                    "SZULEV": "1969",
                                    "NEM": "N",
                                    "CIM": "2484 Agárd, Arany János utca 3.",
                                    "(No column name)": "Vígh András"
                                },
                                {
                                    "LOGIN": "andras3",
                                    "EMAIL": "andrás.vígh@mail.hu",
                                    "NEV": "Vígh András",
                                    "SZULEV": "1971",
                                    "NEM": "F",
                                    "CIM": "1118 Budapest, Arany János utca 1.",
                                    "(No column name)": "Viktor Éva"
                                },
                                {
                                    "LOGIN": "EVAV",
                                    "EMAIL": "EVAV@gmail.com",
                                    "NEV": "Viktor Éva",
                                    "SZULEV": "1980",
                                    "NEM": "N",
                                    "CIM": "6913 Csanádpalota, Arany János utca 3.",
                                    "(No column name)": "Vizi István"
                                },
                                {
                                    "LOGIN": "istvan1",
                                    "EMAIL": "istván.vizi@mail.hu",
                                    "NEV": "Vizi István",
                                    "SZULEV": "1997",
                                    "NEM": "F",
                                    "CIM": "7086 Ozora, Rákóczi utca 1.",
                                    "(No column name)": "Vörös Dániel"
                                },
                                {
                                    "LOGIN": "dani",
                                    "EMAIL": "daniel@gmail.com",
                                    "NEV": "Vörös Dániel",
                                    "SZULEV": "1986",
                                    "NEM": "F",
                                    "CIM": "7150 Bonyhád, Dózsa György u. 1.",
                                    "(No column name)": "Vukasinovity Bálint"
                                },
                                {
                                    "LOGIN": "balint2",
                                    "EMAIL": "balint2@gmail.com",
                                    "NEV": "Vukasinovity Bálint",
                                    "SZULEV": "1997",
                                    "NEM": "F",
                                    "CIM": "2330 Dunaharaszti, Béke utca 7.",
                                    "(No column name)": "Zatykó Katalin"
                                },
                                {
                                    "LOGIN": "kati",
                                    "EMAIL": "katalin.zatykó@mail.hu",
                                    "NEV": "Zatykó Katalin",
                                    "SZULEV": "1995",
                                    "NEM": "N",
                                    "CIM": "7511 Ötvöskónyi, Kossuth Lajos utca 6.",
                                    "(No column name)": "NULL"
                                }
                            ]
                        },
                        "text/html": [
                            "<table>",
                            "<tr><th>LOGIN</th><th>EMAIL</th><th>NEV</th><th>SZULEV</th><th>NEM</th><th>CIM</th><th>(No column name)</th><th>(No column name)</th></tr>",
                            "<tr><td>david</td><td>david@gmail.com</td><td>Ambrus Dávid</td><td>1974</td><td>F</td><td>1149 Budapest, Fő út 18.</td><td>NULL</td><td>Andor Ibolya</td></tr>",
                            "<tr><td>IBOLYAA</td><td>ibolya.andor@mail.hu</td><td>Andor Ibolya</td><td>1983</td><td>N</td><td>9023 Győr, Posta köz 2.</td><td>Ambrus Dávid</td><td>Antal László</td></tr>",
                            "<tr><td>LASZLOA</td><td>lászló.antal@mail.hu</td><td>Antal László</td><td>1969</td><td>F</td><td>2484 Agárd, Bécsi utca 82.</td><td>Andor Ibolya</td><td>Antal Tamás</td></tr>",
                            "<tr><td>tamas</td><td>tamás.antal@mail.hu</td><td>Antal Tamás</td><td>1984</td><td>F</td><td>4440 Tiszavasvári, Posta köz 2.</td><td>Antal László</td><td>Back András</td></tr>",
                            "<tr><td>andras4</td><td>andras4@gmail.com</td><td>Back András</td><td>1984</td><td>F</td><td>3783 Edelény, Fő út 169.</td><td>Antal Tamás</td><td>Bagi Beáta</td></tr>",
                            "<tr><td>beata4</td><td>beáta.bagi@mail.hu</td><td>Bagi Beáta</td><td>1994</td><td>N</td><td>8477 Tüskevár, Felszabadulás utca 32.</td><td>Back András</td><td>Bagóczki Alexandra</td></tr>",
                            "<tr><td>alexandra</td><td>alexandra.bagóczki@mail.hu</td><td>Bagóczki Alexandra</td><td>1992</td><td>N</td><td>2381 Táborfalva, Petőfi utca 1/2.</td><td>Bagi Beáta</td><td>Bajusz Bence</td></tr>",
                            "<tr><td>BENCEB</td><td>bence.bajusz@mail.hu</td><td>Bajusz Bence</td><td>1973</td><td>F</td><td>8391 Sármellék, Fő utca 56.</td><td>Bagóczki Alexandra</td><td>Bakó Klaudia</td></tr>",
                            "<tr><td>klaudia2</td><td>klaudia.bakó@mail.hu</td><td>Bakó Klaudia</td><td>1982</td><td>N</td><td>8254 Kővágóörs, Kossuth Lajos utca 6.</td><td>Bajusz Bence</td><td>Bakódy Balázs</td></tr>",
                            "<tr><td>balazs3</td><td>balazs3@gmail.com</td><td>Bakódy Balázs</td><td>1986</td><td>F</td><td>2131 Göd, Arany János utca 1.</td><td>Bakó Klaudia</td><td>Balla Miklós</td></tr>",
                            "<tr><td>MIKLOSB</td><td>miklós.balla@mail.hu</td><td>Balla Miklós</td><td>1979</td><td>F</td><td>4060 Balmazújváros, Szent István utca 2.</td><td>Bakódy Balázs</td><td>Balogh Eszter</td></tr>",
                            "<tr><td>eszter2</td><td>eszter.balogh@mail.hu</td><td>Balogh Eszter</td><td>1998</td><td>N</td><td>6760 Kistelek, Kossuth utca 11.</td><td>Balla Miklós</td><td>Barabás Pál</td></tr>",
                            "<tr><td>pal</td><td>pál.barabás@mail.hu</td><td>Barabás Pál</td><td>1968</td><td>F</td><td>1183 Budapest, Szolnoki út 8.</td><td>Balogh Eszter</td><td>Baráth Mária</td></tr>",
                            "<tr><td>maria1</td><td>mária.baráth@mail.hu</td><td>Baráth Mária</td><td>1995</td><td>N</td><td>1047 Budapest, Posta köz 2.</td><td>Barabás Pál</td><td>Bárci Gusztáv</td></tr>",
                            "<tr><td>gusztav</td><td>gusztav@gmail.com</td><td>Bárci Gusztáv</td><td>1967</td><td>F</td><td>3643 Dédestapolcsány, Endrődi Sándor utca 47.</td><td>Baráth Mária</td><td>Barkóci Ádám</td></tr>",
                            "<tr><td>adam3</td><td>adam3@gmail.com</td><td>Barkóci Ádám</td><td>1970</td><td>F</td><td>3910 Tokaj, Dózsa György utca 37.</td><td>Bárci Gusztáv</td><td>Barna Debóra</td></tr>",
                            "<tr><td>debora</td><td>debóra.barna@mail.hu</td><td>Barna Debóra</td><td>1976</td><td>N</td><td>1155 Budapest, Fő út 169.</td><td>Barkóci Ádám</td><td>Barna Zoltán</td></tr>",
                            "<tr><td>zoltan4</td><td>zoltan4@gmail.com</td><td>Barna Zoltán</td><td>1986</td><td>F</td><td>8313 Balatongyörök, Jászai tér 21.</td><td>Barna Debóra</td><td>Baróti Attila</td></tr>",
                            "<tr><td>attila4</td><td>attila.baróti@mail.hu</td><td>Baróti Attila</td><td>1975</td><td>F</td><td>7149 Báta, Arany János utca 3.</td><td>Barna Zoltán</td><td>Barta Zsuzsanna</td></tr>",
                            "<tr><td>zsuzsanna</td><td>zsuzsanna.barta@mail.hu</td><td>Barta Zsuzsanna</td><td>1994</td><td>N</td><td>4172 Biharnagybajom, Dózsa György utca 37.</td><td>Baróti Attila</td><td>Berendi Péter</td></tr>",
                            "<tr><td>PETERB</td><td>péter.berendi@mail.hu</td><td>Berendi Péter</td><td>1969</td><td>F</td><td>3980 Sátoraljaújhely, Vasút utca 4/10.</td><td>Barta Zsuzsanna</td><td>Béres Norbert</td></tr>",
                            "<tr><td>norbert5</td><td>norbert5@gmail.com</td><td>Béres Norbert</td><td>1975</td><td>F</td><td>8640 Fonyód, Bajcsy-Zsilinszky utca 4.</td><td>Berendi Péter</td><td>Berta Dávid</td></tr>",
                            "<tr><td>david4</td><td>david4@gmail.com</td><td>Berta Dávid</td><td>1990</td><td>F</td><td>3500 Miskolc, Balatoni út 12.</td><td>Béres Norbert</td><td>Bieniek Ádám</td></tr>",
                            "<tr><td>adam4</td><td>ádám.bieniek@mail.hu</td><td>Bieniek Ádám</td><td>1976</td><td>F</td><td>8630 Balatonboglár, Juhászföldi út 1.</td><td>Berta Dávid</td><td>Bíró Ákos</td></tr>",
                            "<tr><td>akos</td><td>ákos.bíró@mail.hu</td><td>Bíró Ákos</td><td>1982</td><td>F</td><td>9023 Győr, Kossuth Lajos utca 47/b.</td><td>Bieniek Ádám</td><td>Biró Alexander</td></tr>",
                            "<tr><td>alexis</td><td>alexbiro@gmail.com</td><td>Biró Alexander</td><td>2000</td><td>F</td><td>6914 Pitvaros, Deák F. u. 38.</td><td>Bíró Ákos</td><td>Bíró Péter</td></tr>",
                            "<tr><td>peter4</td><td>péter.bíró@mail.hu</td><td>Bíró Péter</td><td>1985</td><td>F</td><td>5137 Jászkisér, Rákóczi utca 67.</td><td>Biró Alexander</td><td>Bittmann Edit</td></tr>",
                            "<tr><td>edit</td><td>edit.bittmann@mail.hu</td><td>Bittmann Edit</td><td>1984</td><td>N</td><td>6077 Orgovány, Fő utca 60.</td><td>Bíró Péter</td><td>Bodor Szabolcs</td></tr>",
                            "<tr><td>szabolcs</td><td>szabolcs.bodor@mail.hu</td><td>Bodor Szabolcs</td><td>1990</td><td>F</td><td>6786 Ruzsa, Ady Endre út 27.</td><td>Bittmann Edit</td><td>Bori Krisztina</td></tr>",
                            "<tr><td>krisztina1</td><td>krisztina.bori@mail.hu</td><td>Bori Krisztina</td><td>1969</td><td>N</td><td>2115 Vácszentlászló, Fő utca 47.</td><td>Bodor Szabolcs</td><td>Boros Vivien</td></tr>",
                            "<tr><td>vivien3</td><td>vivien3@gmail.com</td><td>Boros Vivien</td><td>1991</td><td>N</td><td>2117 Isaszeg, Fő út 122.</td><td>Bori Krisztina</td><td>Bosnyák Ilona</td></tr>",
                            "<tr><td>ilona3</td><td>ilona3@gmail.com</td><td>Bosnyák Ilona</td><td>1990</td><td>N</td><td>2483 Gárdony, Posta köz 2.</td><td>Boros Vivien</td><td>Botka Mátyás</td></tr>",
                            "<tr><td>matyas2</td><td>matyas2@gmail.com</td><td>Botka Mátyás</td><td>1972</td><td>F</td><td>2700 Cegléd, Kossuth Lajos utca 6.</td><td>Bosnyák Ilona</td><td>Bozsik Balázs</td></tr>",
                            "<tr><td>balazs1</td><td>balázs.bozsik@mail.hu</td><td>Bozsik Balázs</td><td>1992</td><td>F</td><td>2300 Ráckeve, Bécsi utca 82.</td><td>Botka Mátyás</td><td>Bozsó Péter</td></tr>",
                            "<tr><td>peter2</td><td>peter2@gmail.com</td><td>Bozsó Péter</td><td>1976</td><td>F</td><td>4800 Vásárosnamény, Zombori út 2/A</td><td>Bozsik Balázs</td><td>Böröcz Anikó</td></tr>",
                            "<tr><td>aniko4</td><td>aniko4@gmail.com</td><td>Böröcz Anikó</td><td>1978</td><td>N</td><td>2484 Agárd, Petőfi Sándor tér 1.</td><td>Bozsó Péter</td><td>Bucskó Róza</td></tr>",
                            "<tr><td>roza2</td><td>roza2@gmail.com</td><td>Bucskó Róza</td><td>1988</td><td>N</td><td>5661 Újkígyós, Arany János utca 3.</td><td>Böröcz Anikó</td><td>Búza Imre</td></tr>",
                            "<tr><td>imre</td><td>imre.búza@mail.hu</td><td>Búza Imre</td><td>1988</td><td>F</td><td>9181 Kimle, Petőfi Sándor tér 1.</td><td>Bucskó Róza</td><td>Czérna Krisztián</td></tr>",
                            "<tr><td>krisztian4</td><td>krisztián.czérna@mail.hu</td><td>Czérna Krisztián</td><td>1970</td><td>F</td><td>1107 Budapest, Dózsa György utca 37.</td><td>Búza Imre</td><td>Csiger Bertalan</td></tr>",
                            "<tr><td>bertalan</td><td>bertalan@gmail.com</td><td>Csiger Bertalan</td><td>1977</td><td>F</td><td>1192 Budapest, Fő út 169.</td><td>Czérna Krisztián</td><td>Csóti Attila</td></tr>",
                            "<tr><td>attila</td><td>attila@gmail.com</td><td>Csóti Attila</td><td>1979</td><td>F</td><td>3000 Hatvan, Bajcsy-Zsilinszky utca 4.</td><td>Csiger Bertalan</td><td>Dániel Tibor</td></tr>",
                            "<tr><td>tibor2</td><td>tibor2@gmail.com</td><td>Dániel Tibor</td><td>1985</td><td>F</td><td>6646 Tömörkény, Árpád utca 23.</td><td>Csóti Attila</td><td>Dunai Aladár</td></tr>",
                            "<tr><td>aladar</td><td>aladár.dunai@mail.hu</td><td>Dunai Aladár</td><td>1980</td><td>F</td><td>5931 Nagyszénás, Árpád utca 23.</td><td>Dániel Tibor</td><td>Dusha Tímea</td></tr>",
                            "<tr><td>timea2</td><td>tímea.dusha@mail.hu</td><td>Dusha Tímea</td><td>1975</td><td>N</td><td>5920 Csorvás, Kossuth utca 8.</td><td>Dunai Aladár</td><td>Endresz Bálint</td></tr>",
                            "<tr><td>balu</td><td>bálint.endresz@mail.hu</td><td>Endresz Bálint</td><td>1976</td><td>F</td><td>3973 Cigánd, Fő út 169.</td><td>Dusha Tímea</td><td>Enyedi Éva</td></tr>",
                            "<tr><td>eva</td><td>eva@gmail.com</td><td>Enyedi Éva</td><td>1967</td><td>N</td><td>4231 Bököny, Petőfi utca 8.</td><td>Endresz Bálint</td><td>Erdei András</td></tr>",
                            "<tr><td>ANDRASE</td><td>ANDRASE@gmail.com</td><td>Erdei András</td><td>1997</td><td>F</td><td>5071 Besenyszög, Szolnoki út 8.</td><td>Enyedi Éva</td><td>Érsek Eszter</td></tr>",
                            "<tr><td>ESZTERE</td><td>eszter.érsek@mail.hu</td><td>Érsek Eszter</td><td>1978</td><td>N</td><td>6785 Pusztamérges, Kossuth Lajos utca 6.</td><td>Erdei András</td><td>Farkas Béla</td></tr>",
                            "<tr><td>BELAF</td><td>BELAF@gmail.com</td><td>Farkas Béla</td><td>1995</td><td>F</td><td>5530 Vésztő, Petőfi Sándor utca 3.</td><td>Érsek Eszter</td><td>Farkas László</td></tr>",
                            "<tr><td>laszlo1</td><td>lászló.farkas@mail.hu</td><td>Farkas László</td><td>1967</td><td>F</td><td>5200 Törökszentmiklós, Rendeki utca 21.</td><td>Farkas Béla</td><td>Farkas Sándor</td></tr>",
                            "<tr><td>sandor3</td><td>sándor.farkas@mail.hu</td><td>Farkas Sándor</td><td>1989</td><td>F</td><td>8640 Fonyód, Tanácsköztársaság tér 1.</td><td>Farkas László</td><td>Farkas Sára</td></tr>",
                            "<tr><td>sara</td><td>sára.farkas@mail.hu</td><td>Farkas Sára</td><td>1973</td><td>N</td><td>5940 Tótkomlós, Felszabadulás utca 32.</td><td>Farkas Sándor</td><td>Fényes Tamás</td></tr>",
                            "<tr><td>TAMASF</td><td>TAMASF@gmail.com</td><td>Fényes Tamás</td><td>1997</td><td>F</td><td>9023 Győr, Arany János utca 1.</td><td>Farkas Sára</td><td>Ferencz Roland</td></tr>",
                            "<tr><td>roland1</td><td>roland.ferencz@mail.hu</td><td>Ferencz Roland</td><td>1985</td><td>F</td><td>2424 Előszállás, Fő út 169.</td><td>Fényes Tamás</td><td>Feró Valentin</td></tr>",
                            "<tr><td>valentin</td><td>valentin.feró@mail.hu</td><td>Feró Valentin</td><td>1986</td><td>F</td><td>3895 Gönc, Búvár utca 4.</td><td>Ferencz Roland</td><td>Fodor Zoltán</td></tr>",
                            "<tr><td>zoltan</td><td>zoltán.fodor@mail.hu</td><td>Fodor Zoltán</td><td>1979</td><td>F</td><td>3441 Mezőkeresztes, Fő utca 23.</td><td>Feró Valentin</td><td>Foltényi Sebastián</td></tr>",
                            "<tr><td>SEBASTIANF</td><td>SEBASTIANF@gmail.com</td><td>Foltényi Sebastián</td><td>1992</td><td>F</td><td>7960 Sellye, Grassalkovich út 10.</td><td>Fodor Zoltán</td><td>Fő Nándor</td></tr>",
                            "<tr><td>NANDORF</td><td>nándor.fő@mail.hu</td><td>Fő Nándor</td><td>1968</td><td>F</td><td>5920 Csorvás, Bécsi utca 82.</td><td>Foltényi Sebastián</td><td>Frank Fruzsina</td></tr>",
                            "<tr><td>fruzsina4</td><td>fruzsina4@gmail.com</td><td>Frank Fruzsina</td><td>1996</td><td>N</td><td>9700 Szombathely, Szabadság utca 95.</td><td>Fő Nándor</td><td>Fülöp Eszter</td></tr>",
                            "<tr><td>eszter4</td><td>eszter.fülöp@mail.hu</td><td>Fülöp Eszter</td><td>1993</td><td>N</td><td>3643 Dédestapolcsány, Kossuth Lajos utca 47/b.</td><td>Frank Fruzsina</td><td>Gergely József</td></tr>",
                            "<tr><td>jozsef</td><td>jozsef@gmail.com</td><td>Gergely József</td><td>1985</td><td>F</td><td>6050 Lajosmizse, Fő út 18.</td><td>Fülöp Eszter</td><td>Giliga János</td></tr>",
                            "<tr><td>JANOSG</td><td>JANOSG@gmail.com</td><td>Giliga János</td><td>1975</td><td>F</td><td>3300 Eger, Deák Ferenc út 5.</td><td>Gergely József</td><td>Gombos Tibor</td></tr>",
                            "<tr><td>tibor</td><td>tibor.gombos@mail.hu</td><td>Gombos Tibor</td><td>1993</td><td>F</td><td>7100 Szekszárd, Kossuth utca 77.</td><td>Giliga János</td><td>Gondos Katalin</td></tr>",
                            "<tr><td>kata</td><td>katalin.gondos@mail.hu</td><td>Gondos Katalin</td><td>1968</td><td>N</td><td>8237 Tihany, Kossuth Lajos utca 6.</td><td>Gombos Tibor</td><td>Gondos Miklós</td></tr>",
                            "<tr><td>miklos2</td><td>miklos2@gmail.com</td><td>Gondos Miklós</td><td>1995</td><td>F</td><td>2100 Gödöllő, Árpád utca 23.</td><td>Gondos Katalin</td><td>Gulyás Attila</td></tr>",
                            "<tr><td>attila1</td><td>attila.gulyás@mail.hu</td><td>Gulyás Attila</td><td>1982</td><td>F</td><td>3881 Abaújszántó, Szolnoki út 8.</td><td>Gondos Miklós</td><td>Gyárfás Krisztina</td></tr>",
                            "<tr><td>KRISZTINAG</td><td>KRISZTINAG@gmail.com</td><td>Gyárfás Krisztina</td><td>1987</td><td>N</td><td>6762 Sándorfalva, Arany János utca 1.</td><td>Gulyás Attila</td><td>Győrffy Bence</td></tr>",
                            "<tr><td>bence</td><td>bence@gmail.com</td><td>Győrffy Bence</td><td>1987</td><td>F</td><td>6900 Makó, Árpád utca 23.</td><td>Gyárfás Krisztina</td><td>Gyuris József</td></tr>",
                            "<tr><td>JOZSEFG</td><td>józsef.gyuris@mail.hu</td><td>Gyuris József</td><td>1975</td><td>F</td><td>2660 Balassagyarmat, Petőfi utca 1/2.</td><td>Győrffy Bence</td><td>Hamvay-Kovács Anita</td></tr>",
                            "<tr><td>anita</td><td>anita.hamvay-kovács@mail.hu</td><td>Hamvay-Kovács Anita</td><td>1971</td><td>N</td><td>7220 Sarkad, Táncsics utca 19.</td><td>Gyuris József</td><td>Harangozó János</td></tr>",
                            "<tr><td>janos3</td><td>janos3@gmail.com</td><td>Harangozó János</td><td>1967</td><td>F</td><td>8700 Marcali, Petőfi Sándor tér 1.</td><td>Hamvay-Kovács Anita</td><td>Hartyánszky Ágnes</td></tr>",
                            "<tr><td>agnes3</td><td>agnes3@gmail.com</td><td>Hartyánszky Ágnes</td><td>1967</td><td>N</td><td>6430 Bácsalmás, Posta köz 2.</td><td>Harangozó János</td><td>Hegedűs Norbert</td></tr>",
                            "<tr><td>norbert2</td><td>norbert.hegedűs@mail.hu</td><td>Hegedűs Norbert</td><td>1991</td><td>F</td><td>2081 Piliscsaba, Rendeki utca 21.</td><td>Hartyánszky Ágnes</td><td>Hídasi Judit</td></tr>",
                            "<tr><td>JUDITH</td><td>JUDITH@gmail.com</td><td>Hídasi Judit</td><td>1997</td><td>N</td><td>2100 Gödöllő, Fő út 169.</td><td>Hegedűs Norbert</td><td>Horváth Ágnes</td></tr>",
                            "<tr><td>AGNESH</td><td>AGNESH@gmail.com</td><td>Horváth Ágnes</td><td>1981</td><td>N</td><td>8200 Veszprém, Rákóczi utca 21.</td><td>Hídasi Judit</td><td>Horváth Árpád</td></tr>",
                            "<tr><td>ARPADH</td><td>árpád.horváth@mail.hu</td><td>Horváth Árpád</td><td>1990</td><td>F</td><td>7349 Szászvár, Dózsa György u. 1.</td><td>Horváth Ágnes</td><td>Horváth Bálint</td></tr>",
                            "<tr><td>balint</td><td>balint@gmail.com</td><td>Horváth Bálint</td><td>1996</td><td>F</td><td>6646 Tömörkény, Endrődi Sándor utca 47.</td><td>Horváth Árpád</td><td>Horváth Katalin</td></tr>",
                            "<tr><td>katalin</td><td>katalin.horváth@mail.hu</td><td>Horváth Katalin</td><td>1968</td><td>N</td><td>2424 Előszállás, Rákóczi út 200.</td><td>Horváth Bálint</td><td>Horváth Krisztina</td></tr>",
                            "<tr><td>kriszti</td><td>kriszti@gmail.com</td><td>Horváth Krisztina</td><td>1978</td><td>N</td><td>6060 Tiszakécske, Árpád utca 4.</td><td>Horváth Katalin</td><td>Horváth Márk</td></tr>",
                            "<tr><td>MARKH</td><td>márk.horváth@mail.hu</td><td>Horváth Márk</td><td>1997</td><td>F</td><td>4400 Nyíregyháza, Badacsonyi utca 12.</td><td>Horváth Krisztina</td><td>Horváth Nikolett</td></tr>",
                            "<tr><td>nikolett3</td><td>nikolett3@gmail.com</td><td>Horváth Nikolett</td><td>1981</td><td>N</td><td>1072 Budapest, Arany János utca 1.</td><td>Horváth Márk</td><td>Iván Róbert</td></tr>",
                            "<tr><td>ROBERTI</td><td>róbert.iván@mail.hu</td><td>Iván Róbert</td><td>1967</td><td>F</td><td>2377 Örkény, Petőfi Sándor utca 3.</td><td>Horváth Nikolett</td><td>Jakab Áron</td></tr>",
                            "<tr><td>aron2</td><td>aron2@gmail.com</td><td>Jakab Áron</td><td>1971</td><td>F</td><td>7133 Fadd, Bajcsy-Zsilinszky utca 4.</td><td>Iván Róbert</td><td>Józsa Zsolt</td></tr>",
                            "<tr><td>ZSOLTJ</td><td>ZSOLTJ@gmail.com</td><td>Józsa Zsolt</td><td>1983</td><td>F</td><td>8315 Gyenesdiás, Bajcsy-Zsilinszky utca 4.</td><td>Jakab Áron</td><td>Juhász Mihály</td></tr>",
                            "<tr><td>MIHALYJ</td><td>mihály.juhász@mail.hu</td><td>Juhász Mihály</td><td>1979</td><td>F</td><td>6786 Ruzsa, Rákóczi utca 1.</td><td>Józsa Zsolt</td><td>Kalacsi Márton</td></tr>",
                            "<tr><td>marton</td><td>marton@gmail.com</td><td>Kalacsi Márton</td><td>1989</td><td>F</td><td>5137 Jászkisér, Fő út 169.</td><td>Juhász Mihály</td><td>Karasz Sándor</td></tr>",
                            "<tr><td>sandor</td><td>sandor@gmail.com</td><td>Karasz Sándor</td><td>1970</td><td>F</td><td>8283 Káptalantóti, Kossuth Lajos utca 1/a.</td><td>Kalacsi Márton</td><td>Kardos Renáta</td></tr>",
                            "<tr><td>RENATAK</td><td>renáta.kardos@mail.hu</td><td>Kardos Renáta</td><td>1988</td><td>N</td><td>7086 Ozora, Bécsi utca 82.</td><td>Karasz Sándor</td><td>Kazy Tihamér</td></tr>",
                            "<tr><td>tihamer</td><td>tihamér.kazy@mail.hu</td><td>Kazy Tihamér</td><td>1991</td><td>F</td><td>2370 Dabas, Fő utca 60.</td><td>Kardos Renáta</td><td>Kelemen Áron</td></tr>",
                            "<tr><td>ARONK</td><td>áron.kelemen@mail.hu</td><td>Kelemen Áron</td><td>1989</td><td>F</td><td>8200 Veszprém, Petőfi utca 8.</td><td>Kazy Tihamér</td><td>Kerényi Beatrix</td></tr>",
                            "<tr><td>BEATRIXK</td><td>beatrix.kerényi@mail.hu</td><td>Kerényi Beatrix</td><td>1972</td><td>N</td><td>7396 Magyarszék, Kossuth Lajos utca 47/b.</td><td>Kelemen Áron</td><td>Keresztúri Viktor</td></tr>",
                            "<tr><td>VIKTORK</td><td>viktor.keresztúri@mail.hu</td><td>Keresztúri Viktor</td><td>1989</td><td>F</td><td>2532 Tokodaltáró, Nagy Lajos tér 4.</td><td>Kerényi Beatrix</td><td>Kertész Katalin</td></tr>",
                            "<tr><td>katalin4</td><td>katalin4@gmail.com</td><td>Kertész Katalin</td><td>1986</td><td>N</td><td>2800 Tatabánya, Búvár utca 4.</td><td>Keresztúri Viktor</td><td>Keszler Dániel</td></tr>",
                            "<tr><td>daniel1</td><td>dániel.keszler@mail.hu</td><td>Keszler Dániel</td><td>1969</td><td>F</td><td>3580 Tiszaújváros, Kossuth Lajos utca 6.</td><td>Kertész Katalin</td><td>Kispál Márk</td></tr>",
                            "<tr><td>mark</td><td>márk.kispál@mail.hu</td><td>Kispál Márk</td><td>1996</td><td>F</td><td>1086 Budapest, Juhászföldi út 1.</td><td>Keszler Dániel</td><td>Kiss Ádám</td></tr>",
                            "<tr><td>adam1</td><td>ádám.kiss@mail.hu</td><td>Kiss Ádám</td><td>1991</td><td>F</td><td>5630 Békés, Szolnoki út 8.</td><td>Kispál Márk</td><td>Kiss Andrea</td></tr>",
                            "<tr><td>andrea</td><td>andrea.kiss@mail.hu</td><td>Kiss Andrea</td><td>1993</td><td>N</td><td>1113 Budapest, Petőfi Sándor utca 87.</td><td>Kiss Ádám</td><td>Kiss Anita</td></tr>",
                            "<tr><td>kanita12</td><td>anita.kiss12@gmail.com</td><td>Kiss Anita</td><td>1975</td><td>N</td><td>2230 Gyömrő Fő tér 3.</td><td>Kiss Andrea</td><td>Kiss Lajos</td></tr>",
                            "<tr><td>lajos</td><td>lajos.kiss@mail.hu</td><td>Kiss Lajos</td><td>1978</td><td>F</td><td>1077 Budapest, Dob utca 1</td><td>Kiss Anita</td><td>Komjáti András</td></tr>",
                            "<tr><td>andras41</td><td>andras41@gmail.com</td><td>Komjáti András</td><td>1997</td><td>F</td><td>5065 Nagykörű, Kossuth út 24.</td><td>Kiss Lajos</td><td>Kornseé Gyöngyi</td></tr>",
                            "<tr><td>GYONGYIK</td><td>gyöngyi.kornseé@mail.hu</td><td>Kornseé Gyöngyi</td><td>1974</td><td>N</td><td>8800 Nagykanizsa, Fő út 60.</td><td>Komjáti András</td><td>Kovács Ágnes</td></tr>",
                            "<tr><td>AGNESK</td><td>AGNESK@gmail.com</td><td>Kovács Ágnes</td><td>1988</td><td>N</td><td>1084 Budapest, Endrődi Sándor utca 47.</td><td>Kornseé Gyöngyi</td><td>Kovács Bernadett</td></tr>",
                            "<tr><td>bernadett2</td><td>bernadett.kovács@mail.hu</td><td>Kovács Bernadett</td><td>1996</td><td>N</td><td>4200 Hajdúszoboszló, Fő út 122.</td><td>Kovács Ágnes</td><td>Kovács Katalin</td></tr>",
                            "<tr><td>katka</td><td>katalin.kovács@mail.hu</td><td>Kovács Katalin</td><td>1975</td><td>N</td><td>8254 Kővágóörs, Petőfi utca 22.</td><td>Kovács Bernadett</td><td>Koza Máté</td></tr>",
                            "<tr><td>MATEK</td><td>máté.koza@mail.hu</td><td>Koza Máté</td><td>1997</td><td>F</td><td>1011 Budapest, Központi telep 3.</td><td>Kovács Katalin</td><td>Kozma Péter</td></tr>",
                            "<tr><td>peter1</td><td>peter1@gmail.com</td><td>Kozma Péter</td><td>1976</td><td>F</td><td>6913 Csanádpalota, Központi telep 3.</td><td>Koza Máté</td><td>Kő Nikoletta</td></tr>",
                            "<tr><td>nikoletta4</td><td>nikoletta4@gmail.com</td><td>Kő Nikoletta</td><td>1972</td><td>N</td><td>5537 Zsadány, Fő út 18.</td><td>Kozma Péter</td><td>Köves Gábor</td></tr>",
                            "<tr><td>gabor1</td><td>gabor1@gmail.com</td><td>Köves Gábor</td><td>1973</td><td>F</td><td>6762 Sándorfalva, Árpád utca 23.</td><td>Kő Nikoletta</td><td>Kuruc Emese</td></tr>",
                            "<tr><td>emese</td><td>emese.kuruc@mail.hu</td><td>Kuruc Emese</td><td>1989</td><td>N</td><td>6700 Szeged, Rákóczi utca 67.</td><td>Köves Gábor</td><td>Lengyel Ágnes</td></tr>",
                            "<tr><td>agnes</td><td>agnes@gmail.com</td><td>Lengyel Ágnes</td><td>1979</td><td>N</td><td>5200 Törökszentmiklós, Deák Ferenc út 5.</td><td>Kuruc Emese</td><td>Lukács Kornél</td></tr>",
                            "<tr><td>kornel4</td><td>kornél.lukács@mail.hu</td><td>Lukács Kornél</td><td>1975</td><td>F</td><td>2053 Herceghalom, Bécsi utca 82.</td><td>Lengyel Ágnes</td><td>Maródi Andrea</td></tr>",
                            "<tr><td>andi</td><td>andrea.maródi@mail.hu</td><td>Maródi Andrea</td><td>1968</td><td>N</td><td>5465 Cserkeszőlő, Árpád utca 4.</td><td>Lukács Kornél</td><td>Miklós Szabolcs</td></tr>",
                            "<tr><td>SZABOLCSM</td><td>szabolcs.miklós@mail.hu</td><td>Miklós Szabolcs</td><td>1980</td><td>F</td><td>1102 Budapest, Fő út 169.</td><td>Maródi Andrea</td><td>Miklós Tamara</td></tr>",
                            "<tr><td>tamara2</td><td>tamara.miklós@mail.hu</td><td>Miklós Tamara</td><td>1980</td><td>N</td><td>3910 Tokaj, Kossuth út 39.</td><td>Miklós Szabolcs</td><td>Mile Norbert</td></tr>",
                            "<tr><td>norbert4</td><td>norbert4@gmail.com</td><td>Mile Norbert</td><td>1983</td><td>F</td><td>3973 Cigánd, Bajcsy-Zsilinszky utca 4.</td><td>Miklós Tamara</td><td>Mogyródi Krisztián</td></tr>",
                            "<tr><td>KRISZTIANM</td><td>KRISZTIANM@gmail.com</td><td>Mogyródi Krisztián</td><td>1968</td><td>F</td><td>9155 Lébény, Jászai tér 21.</td><td>Mile Norbert</td><td>Mohos Mónika</td></tr>",
                            "<tr><td>MONIKAM</td><td>mónika.mohos@mail.hu</td><td>Mohos Mónika</td><td>1974</td><td>N</td><td>2241 Sülysáp, Baracsi László utca 14.</td><td>Mogyródi Krisztián</td><td>Molnár András</td></tr>",
                            "<tr><td>andras21</td><td>andrás.molnár@mail.hu</td><td>Molnár András</td><td>1977</td><td>F</td><td>7900 Szigetvár, Rákóczi utca 67.</td><td>Mohos Mónika</td><td>Molnár Bálint</td></tr>",
                            "<tr><td>balint1</td><td>balint1@gmail.com</td><td>Molnár Bálint</td><td>1989</td><td>F</td><td>9181 Kimle, Fő út 169.</td><td>Molnár András</td><td>Molnár Eszter</td></tr>",
                            "<tr><td>eszter</td><td>eszter.molnár@mail.hu</td><td>Molnár Eszter</td><td>1987</td><td>N</td><td>6800 Hódmezővásárhely, Fő út 77.</td><td>Molnár Bálint</td><td>Molnár Zsófi</td></tr>",
                            "<tr><td>zsofi1</td><td>zsofi1@gmail.com</td><td>Molnár Zsófi</td><td>1983</td><td>N</td><td>2730 Albertirsa, Árpád utca 23.</td><td>Molnár Eszter</td><td>Mór Ottó</td></tr>",
                            "<tr><td>desdemona</td><td>mor.otto@mail.hu</td><td>Mór Ottó</td><td>1968</td><td>F</td><td>9200 Mosonmagyaróvár Fő u. 12.</td><td>Molnár Zsófi</td><td>Móra László</td></tr>",
                            "<tr><td>laszlo2</td><td>lászló.móra@mail.hu</td><td>Móra László</td><td>1975</td><td>F</td><td>9970 Szentgotthárd, Petőfi utca 1/2.</td><td>Mór Ottó</td><td>Móricz Árpád</td></tr>",
                            "<tr><td>ARPADM</td><td>árpád.móricz@mail.hu</td><td>Móricz Árpád</td><td>1986</td><td>F</td><td>3910 Tokaj, Rákóczi utca 67.</td><td>Móra László</td><td>Nádudvari Henrik</td></tr>",
                            "<tr><td>henrik3</td><td>henrik.nádudvari@mail.hu</td><td>Nádudvari Henrik</td><td>1986</td><td>F</td><td>1077 Budapest, Tanácsköztársaság tér 1.</td><td>Móricz Árpád</td><td>Nagy András</td></tr>",
                            "<tr><td>ANDRASN</td><td>andrás.nagy@mail.hu</td><td>Nagy András</td><td>1980</td><td>F</td><td>6500 Baja, Fő út 169.</td><td>Nádudvari Henrik</td><td>Nagy Gabriella</td></tr>",
                            "<tr><td>gabriella1</td><td>gabriella1@gmail.com</td><td>Nagy Gabriella</td><td>1982</td><td>N</td><td>1077 Budapest, Dob utca 1</td><td>Nagy András</td><td>Nagy Júlia</td></tr>",
                            "<tr><td>julia4</td><td>julia4@gmail.com</td><td>Nagy Júlia</td><td>1985</td><td>N</td><td>7000 Sárbogárd, Jászai tér 21.</td><td>Nagy Gabriella</td><td>Nagy László</td></tr>",
                            "<tr><td>LASZLON</td><td>lászló.nagy@mail.hu</td><td>Nagy László</td><td>1969</td><td>F</td><td>1173 Budapest, Jászai tér 21.</td><td>Nagy Júlia</td><td>Nagy Péter</td></tr>",
                            "<tr><td>melissza</td><td>nagy_peter@indamail.hu</td><td>Nagy Péter</td><td>1998</td><td>F</td><td>6800 Hódmezővásárhely, Oldalkosát u. 1.</td><td>Nagy László</td><td>Nagy Sándor</td></tr>",
                            "<tr><td>sandor4</td><td>sandor4@gmail.com</td><td>Nagy Sándor</td><td>1997</td><td>F</td><td>4600 Kisvárda, Fő utca 47.</td><td>Nagy Péter</td><td>Nagymihály Csongor</td></tr>",
                            "<tr><td>csongor3</td><td>csongor.nagymihály@mail.hu</td><td>Nagymihály Csongor</td><td>1984</td><td>F</td><td>9181 Kimle, Deák Ferenc út 5.</td><td>Nagy Sándor</td><td>Nagymihály Lajos</td></tr>",
                            "<tr><td>lala</td><td>lajos.nagymihály@mail.hu</td><td>Nagymihály Lajos</td><td>1997</td><td>F</td><td>8638 Balatonlelle, Rákóczi út 200.</td><td>Nagymihály Csongor</td><td>Neizer Andrea</td></tr>",
                            "<tr><td>andrea4</td><td>andrea4@gmail.com</td><td>Neizer Andrea</td><td>1981</td><td>N</td><td>1124 Budapest, Kiss u. 8.</td><td>Nagymihály Lajos</td><td>Nyíri Georgij</td></tr>",
                            "<tr><td>georgij</td><td>georgij.nyíri@mail.hu</td><td>Nyíri Georgij</td><td>1983</td><td>F</td><td>8391 Sármellék, Grassalkovich út 10.</td><td>Neizer Andrea</td><td>Opra Attila</td></tr>",
                            "<tr><td>ATTILAO</td><td>ATTILAO@gmail.com</td><td>Opra Attila</td><td>1995</td><td>F</td><td>8283 Káptalantóti, Rákóczi út 200.</td><td>Nyíri Georgij</td><td>Orbán Bernadett</td></tr>",
                            "<tr><td>BERNADETTO</td><td>bernadett.orbán@mail.hu</td><td>Orbán Bernadett</td><td>1987</td><td>N</td><td>5085 Rákóczifalva, Arany János utca 1.</td><td>Opra Attila</td><td>Orosz Ferenc</td></tr>",
                            "<tr><td>ferenc1</td><td>ferenc.orosz@mail.hu</td><td>Orosz Ferenc</td><td>1983</td><td>F</td><td>5061 Tiszasüly, Arany János utca 3.</td><td>Orbán Bernadett</td><td>Oroszi György</td></tr>",
                            "<tr><td>GYORGYO</td><td>GYORGYO@gmail.com</td><td>Oroszi György</td><td>1980</td><td>F</td><td>7220 Sarkad, Dózsa György u. 1.</td><td>Orosz Ferenc</td><td>Ötvös Árpád</td></tr>",
                            "<tr><td>arpad2</td><td>árpád.ötvös@mail.hu</td><td>Ötvös Árpád</td><td>1990</td><td>F</td><td>2600 Vác, Padragi út 158.</td><td>Oroszi György</td><td>Palágyi Polla</td></tr>",
                            "<tr><td>polla</td><td>polla@gmail.com</td><td>Palágyi Polla</td><td>1994</td><td>N</td><td>2484 Agárd, Fő út 18.</td><td>Ötvös Árpád</td><td>Pálinkás János</td></tr>",
                            "<tr><td>JANOSP</td><td>JANOSP@gmail.com</td><td>Pálinkás János</td><td>1984</td><td>F</td><td>5920 Csorvás, Padragi út 158.</td><td>Palágyi Polla</td><td>Papós Tímea</td></tr>",
                            "<tr><td>timea</td><td>timea@gmail.com</td><td>Papós Tímea</td><td>1996</td><td>N</td><td>1035 Budapest,  Kossuth út 77.</td><td>Pálinkás János</td><td>Papp Imre</td></tr>",
                            "<tr><td>imre1</td><td>imre.papp@mail.hu</td><td>Papp Imre</td><td>1976</td><td>F</td><td>1077 Budapest, Szolnoki út 8.</td><td>Papós Tímea</td><td>Pásztor Róbert</td></tr>",
                            "<tr><td>ROBERTP</td><td>ROBERTP@gmail.com</td><td>Pásztor Róbert</td><td>1972</td><td>F</td><td>5137 Jászkisér, Ady Endre út 27.</td><td>Papp Imre</td><td>Pataki Brigitta</td></tr>",
                            "<tr><td>brigitta3</td><td>brigitta.pataki@mail.hu</td><td>Pataki Brigitta</td><td>1991</td><td>N</td><td>2730 Albertirsa, Rendeki utca 21.</td><td>Pásztor Róbert</td><td>Patay Róbert</td></tr>",
                            "<tr><td>robert2</td><td>robert2@gmail.com</td><td>Patay Róbert</td><td>1977</td><td>F</td><td>2370 Dabas, Rákóczi utca 21.</td><td>Pataki Brigitta</td><td>Perlinger Éva</td></tr>",
                            "<tr><td>eva2</td><td>eva2@gmail.com</td><td>Perlinger Éva</td><td>1971</td><td>N</td><td>9653 Répcelak, Bécsi utca 82.</td><td>Patay Róbert</td><td>Pintér Zoltán</td></tr>",
                            "<tr><td>ZOLTANP</td><td>zoltán.pintér@mail.hu</td><td>Pintér Zoltán</td><td>1977</td><td>F</td><td>6050 Lajosmizse, Fő út 18.</td><td>Perlinger Éva</td><td>Pivarcsi Anett</td></tr>",
                            "<tr><td>anett3</td><td>anett.pivarcsi@mail.hu</td><td>Pivarcsi Anett</td><td>1967</td><td>N</td><td>1149 Budapest, Fő út 60.</td><td>Pintér Zoltán</td><td>Poprádi Kristóf</td></tr>",
                            "<tr><td>kristof4</td><td>kristof4@gmail.com</td><td>Poprádi Kristóf</td><td>1984</td><td>F</td><td>8220 Balatonalmádi, Mészáros utca 7.</td><td>Pivarcsi Anett</td><td>Pulai Zsolt</td></tr>",
                            "<tr><td>zsolt1</td><td>zsolt.pulai@mail.hu</td><td>Pulai Zsolt</td><td>1988</td><td>F</td><td>8391 Sármellék, Fő utca 60.</td><td>Poprádi Kristóf</td><td>Pusztai Zsuzsanna</td></tr>",
                            "<tr><td>zsuzsa</td><td>zsuzsanna@gmail.com</td><td>Pusztai Zsuzsanna</td><td>1980</td><td>N</td><td>6783 Ásotthalom, Badacsonyi utca 12.</td><td>Pulai Zsolt</td><td>Rab Sebestyén</td></tr>",
                            "<tr><td>sebestyen</td><td>sebestyen@gmail.com</td><td>Rab Sebestyén</td><td>1992</td><td>F</td><td>7130 Tolna, Központi telep 3.</td><td>Pusztai Zsuzsanna</td><td>Rácz Dániel</td></tr>",
                            "<tr><td>daniel</td><td>dániel.rácz@mail.hu</td><td>Rácz Dániel</td><td>1978</td><td>F</td><td>9181 Kimle, Szabadság tér 9.</td><td>Rab Sebestyén</td><td>Rácz Rajmond</td></tr>",
                            "<tr><td>rajmond4</td><td>rajmond.rácz@mail.hu</td><td>Rácz Rajmond</td><td>1993</td><td>F</td><td>9155 Lébény, Petőfi utca 1/2.</td><td>Rácz Dániel</td><td>Regős Annamária</td></tr>",
                            "<tr><td>ANNAMARIAR</td><td>ANNAMARIAR@gmail.com</td><td>Regős Annamária</td><td>1977</td><td>N</td><td>8283 Káptalantóti, Petőfi Sándor tér 1.</td><td>Rácz Rajmond</td><td>Sarodi Dóra</td></tr>",
                            "<tr><td>dora3</td><td>dóra.sarodi@mail.hu</td><td>Sarodi Dóra</td><td>1995</td><td>N</td><td>2855 Bokod, Fő út 18.</td><td>Regős Annamária</td><td>Simon Anikó</td></tr>",
                            "<tr><td>ANIKOS</td><td>ANIKOS@gmail.com</td><td>Simon Anikó</td><td>1988</td><td>N</td><td>5137 Jászkisér, Bécsi utca 82.</td><td>Sarodi Dóra</td><td>Simon Bernadett</td></tr>",
                            "<tr><td>bernadett1</td><td>bernadett1@gmail.com</td><td>Simon Bernadett</td><td>1984</td><td>N</td><td>2300 Ráckeve, Fő utca 108.</td><td>Simon Anikó</td><td>Sobják Dávid</td></tr>",
                            "<tr><td>david1</td><td>david1@gmail.com</td><td>Sobják Dávid</td><td>1970</td><td>F</td><td>5083 Kengyel, Arany János utca 3.</td><td>Simon Bernadett</td><td>Soós István</td></tr>",
                            "<tr><td>istvan</td><td>istvan@gmail.com</td><td>Soós István</td><td>1986</td><td>F</td><td>2370 Dabas, Kossuth utca 27.</td><td>Sobják Dávid</td><td>Szabó Julianna</td></tr>",
                            "<tr><td>julianna4</td><td>julianna4@gmail.com</td><td>Szabó Julianna</td><td>1990</td><td>N</td><td>6700 Szeged, Kossuth Lajos utca 6.</td><td>Soós István</td><td>Szalai Péter</td></tr>",
                            "<tr><td>peter3</td><td>peter3@gmail.com</td><td>Szalai Péter</td><td>1983</td><td>F</td><td>1155 Budapest, Arany János utca 3.</td><td>Szabó Julianna</td><td>Szalai Szilárd</td></tr>",
                            "<tr><td>SZILARDS</td><td>szilárd.szalai@mail.hu</td><td>Szalai Szilárd</td><td>1967</td><td>F</td><td>1077 Budapest, Fő út 18.</td><td>Szalai Péter</td><td>Szedlár Krisztina</td></tr>",
                            "<tr><td>krisztina</td><td>krisztina@gmail.com</td><td>Szedlár Krisztina</td><td>1979</td><td>N</td><td>6646 Tömörkény, Arany János utca 1.</td><td>Szalai Szilárd</td><td>Székely Brigitta</td></tr>",
                            "<tr><td>brigitta</td><td>brigitta.székely@mail.hu</td><td>Székely Brigitta</td><td>1978</td><td>N</td><td>2462 Martonvásár, Fő utca 47.</td><td>Szedlár Krisztina</td><td>Szekendi Beatrix</td></tr>",
                            "<tr><td>BEATRIXS</td><td>beatrix.szekendi@mail.hu</td><td>Szekendi Beatrix</td><td>1981</td><td>N</td><td>4060 Balmazújváros, Jászai tér 21.</td><td>Székely Brigitta</td><td>Szikszai Réka</td></tr>",
                            "<tr><td>reka4</td><td>réka.szikszai@mail.hu</td><td>Szikszai Réka</td><td>1969</td><td>N</td><td>8254 Kővágóörs, Templom utca 73.</td><td>Szekendi Beatrix</td><td>Szilágyi Mátyás</td></tr>",
                            "<tr><td>MATYASS</td><td>mátyás.szilágyi@mail.hu</td><td>Szilágyi Mátyás</td><td>1975</td><td>F</td><td>9023 Győr, Kossuth Lajos utca 6.</td><td>Szikszai Réka</td><td>Szirmai Renáta</td></tr>",
                            "<tr><td>RENATAS</td><td>RENATAS@gmail.com</td><td>Szirmai Renáta</td><td>1991</td><td>N</td><td>2053 Herceghalom, Kossuth utca 27.</td><td>Szilágyi Mátyás</td><td>Szomor Andrea</td></tr>",
                            "<tr><td>andrea3</td><td>andrea3@gmail.com</td><td>Szomor Andrea</td><td>1996</td><td>N</td><td>7960 Sellye, Bécsi utca 82.</td><td>Szirmai Renáta</td><td>Szöllősi Gábor</td></tr>",
                            "<tr><td>GABORS</td><td>GABORS@gmail.com</td><td>Szöllősi Gábor</td><td>1990</td><td>F</td><td>3630 Putnok, Kossuth utca 27.</td><td>Szomor Andrea</td><td>Szűcs Annamária</td></tr>",
                            "<tr><td>annamaria1</td><td>annamária.szűcs@mail.hu</td><td>Szűcs Annamária</td><td>1990</td><td>N</td><td>1191 Budapest, Rendeki utca 21.</td><td>Szöllősi Gábor</td><td>Szűcs Balázs</td></tr>",
                            "<tr><td>balazs2</td><td>balázs.szűcs@mail.hu</td><td>Szűcs Balázs</td><td>1984</td><td>F</td><td>3170 Szécsény, Szabadság utca 95.</td><td>Szűcs Annamária</td><td>Szűcs Norbert</td></tr>",
                            "<tr><td>norbert</td><td>norbert@gmail.com</td><td>Szűcs Norbert</td><td>1969</td><td>F</td><td>5071 Besenyszög, Győri utca 12.</td><td>Szűcs Balázs</td><td>Tankó Veronika</td></tr>",
                            "<tr><td>veronika4</td><td>veronika4@gmail.com</td><td>Tankó Veronika</td><td>1983</td><td>N</td><td>6412 Balotaszállás, Rendeki utca 21.</td><td>Szűcs Norbert</td><td>Tari Szilvia</td></tr>",
                            "<tr><td>szilvia1</td><td>szilvia.tari@mail.hu</td><td>Tari Szilvia</td><td>1971</td><td>N</td><td>6080 Szabadszállás, Bécsi utca 82.</td><td>Tankó Veronika</td><td>Tatár Nikoletta</td></tr>",
                            "<tr><td>NIKOLETTAT</td><td>nikoletta.tatár@mail.hu</td><td>Tatár Nikoletta</td><td>1997</td><td>N</td><td>1067 Budapest, Győri utca 12.</td><td>Tari Szilvia</td><td>Telek Gábor</td></tr>",
                            "<tr><td>gabor4</td><td>gábor.telek@mail.hu</td><td>Telek Gábor</td><td>1987</td><td>F</td><td>9071 Görbeháza, Fő út 169.</td><td>Tatár Nikoletta</td><td>Tornyos Andrea</td></tr>",
                            "<tr><td>ANDREAT</td><td>ANDREAT@gmail.com</td><td>Tornyos Andrea</td><td>1986</td><td>N</td><td>6131 Szank, Bécsi utca 82.</td><td>Telek Gábor</td><td>Tóth András</td></tr>",
                            "<tr><td>andras2</td><td>andrás.tóth@mail.hu</td><td>Tóth András</td><td>1997</td><td>F</td><td>4071 Egyek, Petőfi utca 30.</td><td>Tornyos Andrea</td><td>Tóth Anikó</td></tr>",
                            "<tr><td>aniko</td><td>aniko@gmail.com</td><td>Tóth Anikó</td><td>1973</td><td>N</td><td>2085 Pilisvörösvár, Deák Ferenc út 5.</td><td>Tóth András</td><td>Tóth Júlia</td></tr>",
                            "<tr><td>julia</td><td>julia@gmail.com</td><td>Tóth Júlia</td><td>1993</td><td>N</td><td>5310 Kisújszállás, Árpád utca 4.</td><td>Tóth Anikó</td><td>Tóth Roland</td></tr>",
                            "<tr><td>roland</td><td>roland@gmail.com</td><td>Tóth Roland</td><td>1968</td><td>F</td><td>2000 Szentendre, Fő út 169.</td><td>Tóth Júlia</td><td>Tóth Zoltán</td></tr>",
                            "<tr><td>ZOLTANT</td><td>zoltán.tóth@mail.hu</td><td>Tóth Zoltán</td><td>1985</td><td>F</td><td>4244 Újfehértó, Posta köz 2.</td><td>Tóth Roland</td><td>Tömböly Dénes</td></tr>",
                            "<tr><td>denes</td><td>denes@gmail.com</td><td>Tömböly Dénes</td><td>1975</td><td>F</td><td>2400 Dunaújváros, Kossuth út 39.</td><td>Tóth Zoltán</td><td>Turcsik Tünde</td></tr>",
                            "<tr><td>tunde</td><td>tunde@gmail.com</td><td>Turcsik Tünde</td><td>1974</td><td>N</td><td>7130 Tolna, Fő út 122.</td><td>Tömböly Dénes</td><td>Urbán Viktoria</td></tr>",
                            "<tr><td>VIKTORIAU</td><td>viktoria.urbán@mail.hu</td><td>Urbán Viktoria</td><td>1996</td><td>N</td><td>3860 Encs, Népboltsor  2.</td><td>Turcsik Tünde</td><td>Vajda József</td></tr>",
                            "<tr><td>jozsef2</td><td>józsef.vajda@mail.hu</td><td>Vajda József</td><td>1978</td><td>F</td><td>6700 Szeged, Baracsi László utca 14.</td><td>Urbán Viktoria</td><td>Vajda Zsuzsa</td></tr>",
                            "<tr><td>ZSUZSAV</td><td>zsuzsa.vajda@mail.hu</td><td>Vajda Zsuzsa</td><td>1976</td><td>N</td><td>6786 Ruzsa, Kossuth utca 77.</td><td>Vajda József</td><td>Varga István</td></tr>",
                            "<tr><td>ISTVANV</td><td>ISTVANV@gmail.com</td><td>Varga István</td><td>1989</td><td>F</td><td>6320 Solt, Hősök tere 11.</td><td>Vajda Zsuzsa</td><td>Varsányi Zsuzsa</td></tr>",
                            "<tr><td>zsuzsa3</td><td>zsuzsa.varsányi@mail.hu</td><td>Varsányi Zsuzsa</td><td>1979</td><td>N</td><td>8600 Siófok, Árpád utca 4.</td><td>Varga István</td><td>Vida Gabriella</td></tr>",
                            "<tr><td>gabriella10</td><td>gabriella10@gmail.com</td><td>Vida Gabriella</td><td>1969</td><td>N</td><td>2484 Agárd, Arany János utca 3.</td><td>Varsányi Zsuzsa</td><td>Vígh András</td></tr>",
                            "<tr><td>andras3</td><td>andrás.vígh@mail.hu</td><td>Vígh András</td><td>1971</td><td>F</td><td>1118 Budapest, Arany János utca 1.</td><td>Vida Gabriella</td><td>Viktor Éva</td></tr>",
                            "<tr><td>EVAV</td><td>EVAV@gmail.com</td><td>Viktor Éva</td><td>1980</td><td>N</td><td>6913 Csanádpalota, Arany János utca 3.</td><td>Vígh András</td><td>Vizi István</td></tr>",
                            "<tr><td>istvan1</td><td>istván.vizi@mail.hu</td><td>Vizi István</td><td>1997</td><td>F</td><td>7086 Ozora, Rákóczi utca 1.</td><td>Viktor Éva</td><td>Vörös Dániel</td></tr>",
                            "<tr><td>dani</td><td>daniel@gmail.com</td><td>Vörös Dániel</td><td>1986</td><td>F</td><td>7150 Bonyhád, Dózsa György u. 1.</td><td>Vizi István</td><td>Vukasinovity Bálint</td></tr>",
                            "<tr><td>balint2</td><td>balint2@gmail.com</td><td>Vukasinovity Bálint</td><td>1997</td><td>F</td><td>2330 Dunaharaszti, Béke utca 7.</td><td>Vörös Dániel</td><td>Zatykó Katalin</td></tr>",
                            "<tr><td>kati</td><td>katalin.zatykó@mail.hu</td><td>Zatykó Katalin</td><td>1995</td><td>N</td><td>7511 Ötvöskónyi, Kossuth Lajos utca 6.</td><td>Vukasinovity Bálint</td><td>NULL</td></tr>",
                            "</table>"
                        ]
                    }
                }
            ],
            "execution_count": 9
        },
        {
            "cell_type": "markdown",
            "source": [
                "7. <span style=\"font-weight: 600; color: rgb(36, 41, 47); font-family: -apple-system, BlinkMacSystemFont, &quot;Segoe UI&quot;, Helvetica, Arial, sans-serif, &quot;Apple Color Emoji&quot;, &quot;Segoe UI Emoji&quot;; font-size: 16px;\">Készítsünk lekérdezést, amely megmutatja, hogy melyik termékkategóriába hány termék tartozik. A lista a kategória nevét és a darabszámot jelenítse meg.</span>\n",
                "\n",
                "1. A lista ne tartalmazzon duplikált sorokat.\n",
                "2. A feladatot partíciók segítségével oldjuk meg!"
            ],
            "metadata": {
                "azdata_cell_guid": "7ebf7ddd-1bd2-4246-815a-be8ae37e3b5b"
            },
            "attachments": {}
        },
        {
            "cell_type": "code",
            "source": [
                "SELECT tk.KAT_NEV,\r\n",
                "        COUNT(*) OVER(PARTITION BY tk.KAT_Nev)\r\n",
                "FROM Termek t \r\n",
                "JOIN Termekkategoria tk ON t.KAT_ID = tk.KAT_ID \r\n",
                "--GROUP BY tk.KAT_NEV"
            ],
            "metadata": {
                "azdata_cell_guid": "84b7e896-f36e-4985-88f5-e0f706494fef",
                "language": "sql",
                "tags": []
            },
            "outputs": [
                {
                    "output_type": "display_data",
                    "data": {
                        "text/html": "(551 rows affected)"
                    },
                    "metadata": {}
                },
                {
                    "output_type": "display_data",
                    "data": {
                        "text/html": "Total execution time: 00:00:00.019"
                    },
                    "metadata": {}
                },
                {
                    "output_type": "execute_result",
                    "metadata": {},
                    "execution_count": 6,
                    "data": {
                        "application/vnd.dataresource+json": {
                            "schema": {
                                "fields": [
                                    {
                                        "name": "KAT_NEV"
                                    },
                                    {
                                        "name": "(No column name)"
                                    }
                                ]
                            },
                            "data": [
                                {
                                    "KAT_NEV": "ajándék tárgy",
                                    "(No column name)": "3"
                                },
                                {
                                    "KAT_NEV": "ajándék tárgy",
                                    "(No column name)": "3"
                                },
                                {
                                    "KAT_NEV": "ajándék tárgy",
                                    "(No column name)": "3"
                                },
                                {
                                    "KAT_NEV": "ajándék tasak",
                                    "(No column name)": "20"
                                },
                                {
                                    "KAT_NEV": "ajándék tasak",
                                    "(No column name)": "20"
                                },
                                {
                                    "KAT_NEV": "ajándék tasak",
                                    "(No column name)": "20"
                                },
                                {
                                    "KAT_NEV": "ajándék tasak",
                                    "(No column name)": "20"
                                },
                                {
                                    "KAT_NEV": "ajándék tasak",
                                    "(No column name)": "20"
                                },
                                {
                                    "KAT_NEV": "ajándék tasak",
                                    "(No column name)": "20"
                                },
                                {
                                    "KAT_NEV": "ajándék tasak",
                                    "(No column name)": "20"
                                },
                                {
                                    "KAT_NEV": "ajándék tasak",
                                    "(No column name)": "20"
                                },
                                {
                                    "KAT_NEV": "ajándék tasak",
                                    "(No column name)": "20"
                                },
                                {
                                    "KAT_NEV": "ajándék tasak",
                                    "(No column name)": "20"
                                },
                                {
                                    "KAT_NEV": "ajándék tasak",
                                    "(No column name)": "20"
                                },
                                {
                                    "KAT_NEV": "ajándék tasak",
                                    "(No column name)": "20"
                                },
                                {
                                    "KAT_NEV": "ajándék tasak",
                                    "(No column name)": "20"
                                },
                                {
                                    "KAT_NEV": "ajándék tasak",
                                    "(No column name)": "20"
                                },
                                {
                                    "KAT_NEV": "ajándék tasak",
                                    "(No column name)": "20"
                                },
                                {
                                    "KAT_NEV": "ajándék tasak",
                                    "(No column name)": "20"
                                },
                                {
                                    "KAT_NEV": "ajándék tasak",
                                    "(No column name)": "20"
                                },
                                {
                                    "KAT_NEV": "ajándék tasak",
                                    "(No column name)": "20"
                                },
                                {
                                    "KAT_NEV": "ajándék tasak",
                                    "(No column name)": "20"
                                },
                                {
                                    "KAT_NEV": "ajándék tasak",
                                    "(No column name)": "20"
                                },
                                {
                                    "KAT_NEV": "álarc",
                                    "(No column name)": "3"
                                },
                                {
                                    "KAT_NEV": "álarc",
                                    "(No column name)": "3"
                                },
                                {
                                    "KAT_NEV": "álarc",
                                    "(No column name)": "3"
                                },
                                {
                                    "KAT_NEV": "alkalmi",
                                    "(No column name)": "3"
                                },
                                {
                                    "KAT_NEV": "alkalmi",
                                    "(No column name)": "3"
                                },
                                {
                                    "KAT_NEV": "alkalmi",
                                    "(No column name)": "3"
                                },
                                {
                                    "KAT_NEV": "alufólia",
                                    "(No column name)": "2"
                                },
                                {
                                    "KAT_NEV": "alufólia",
                                    "(No column name)": "2"
                                },
                                {
                                    "KAT_NEV": "árazószalag",
                                    "(No column name)": "1"
                                },
                                {
                                    "KAT_NEV": "átírótömb",
                                    "(No column name)": "1"
                                },
                                {
                                    "KAT_NEV": "beíró",
                                    "(No column name)": "1"
                                },
                                {
                                    "KAT_NEV": "beírókönyv",
                                    "(No column name)": "2"
                                },
                                {
                                    "KAT_NEV": "beírókönyv",
                                    "(No column name)": "2"
                                },
                                {
                                    "KAT_NEV": "bélyegző",
                                    "(No column name)": "4"
                                },
                                {
                                    "KAT_NEV": "bélyegző",
                                    "(No column name)": "4"
                                },
                                {
                                    "KAT_NEV": "bélyegző",
                                    "(No column name)": "4"
                                },
                                {
                                    "KAT_NEV": "bélyegző",
                                    "(No column name)": "4"
                                },
                                {
                                    "KAT_NEV": "bélyegzőfesték",
                                    "(No column name)": "1"
                                },
                                {
                                    "KAT_NEV": "boríték",
                                    "(No column name)": "7"
                                },
                                {
                                    "KAT_NEV": "boríték",
                                    "(No column name)": "7"
                                },
                                {
                                    "KAT_NEV": "boríték",
                                    "(No column name)": "7"
                                },
                                {
                                    "KAT_NEV": "boríték",
                                    "(No column name)": "7"
                                },
                                {
                                    "KAT_NEV": "boríték",
                                    "(No column name)": "7"
                                },
                                {
                                    "KAT_NEV": "boríték",
                                    "(No column name)": "7"
                                },
                                {
                                    "KAT_NEV": "boríték",
                                    "(No column name)": "7"
                                },
                                {
                                    "KAT_NEV": "cd tok",
                                    "(No column name)": "1"
                                },
                                {
                                    "KAT_NEV": "celofán",
                                    "(No column name)": "2"
                                },
                                {
                                    "KAT_NEV": "celofán",
                                    "(No column name)": "2"
                                },
                                {
                                    "KAT_NEV": "ceruza",
                                    "(No column name)": "19"
                                },
                                {
                                    "KAT_NEV": "ceruza",
                                    "(No column name)": "19"
                                },
                                {
                                    "KAT_NEV": "ceruza",
                                    "(No column name)": "19"
                                },
                                {
                                    "KAT_NEV": "ceruza",
                                    "(No column name)": "19"
                                },
                                {
                                    "KAT_NEV": "ceruza",
                                    "(No column name)": "19"
                                },
                                {
                                    "KAT_NEV": "ceruza",
                                    "(No column name)": "19"
                                },
                                {
                                    "KAT_NEV": "ceruza",
                                    "(No column name)": "19"
                                },
                                {
                                    "KAT_NEV": "ceruza",
                                    "(No column name)": "19"
                                },
                                {
                                    "KAT_NEV": "ceruza",
                                    "(No column name)": "19"
                                },
                                {
                                    "KAT_NEV": "ceruza",
                                    "(No column name)": "19"
                                },
                                {
                                    "KAT_NEV": "ceruza",
                                    "(No column name)": "19"
                                },
                                {
                                    "KAT_NEV": "ceruza",
                                    "(No column name)": "19"
                                },
                                {
                                    "KAT_NEV": "ceruza",
                                    "(No column name)": "19"
                                },
                                {
                                    "KAT_NEV": "ceruza",
                                    "(No column name)": "19"
                                },
                                {
                                    "KAT_NEV": "ceruza",
                                    "(No column name)": "19"
                                },
                                {
                                    "KAT_NEV": "ceruza",
                                    "(No column name)": "19"
                                },
                                {
                                    "KAT_NEV": "ceruza",
                                    "(No column name)": "19"
                                },
                                {
                                    "KAT_NEV": "ceruza",
                                    "(No column name)": "19"
                                },
                                {
                                    "KAT_NEV": "ceruza",
                                    "(No column name)": "19"
                                },
                                {
                                    "KAT_NEV": "címke",
                                    "(No column name)": "3"
                                },
                                {
                                    "KAT_NEV": "címke",
                                    "(No column name)": "3"
                                },
                                {
                                    "KAT_NEV": "címke",
                                    "(No column name)": "3"
                                },
                                {
                                    "KAT_NEV": "color copy",
                                    "(No column name)": "5"
                                },
                                {
                                    "KAT_NEV": "color copy",
                                    "(No column name)": "5"
                                },
                                {
                                    "KAT_NEV": "color copy",
                                    "(No column name)": "5"
                                },
                                {
                                    "KAT_NEV": "color copy",
                                    "(No column name)": "5"
                                },
                                {
                                    "KAT_NEV": "color copy",
                                    "(No column name)": "5"
                                },
                                {
                                    "KAT_NEV": "csomagoló",
                                    "(No column name)": "2"
                                },
                                {
                                    "KAT_NEV": "csomagoló",
                                    "(No column name)": "2"
                                },
                                {
                                    "KAT_NEV": "csomagoló papír",
                                    "(No column name)": "7"
                                },
                                {
                                    "KAT_NEV": "csomagoló papír",
                                    "(No column name)": "7"
                                },
                                {
                                    "KAT_NEV": "csomagoló papír",
                                    "(No column name)": "7"
                                },
                                {
                                    "KAT_NEV": "csomagoló papír",
                                    "(No column name)": "7"
                                },
                                {
                                    "KAT_NEV": "csomagoló papír",
                                    "(No column name)": "7"
                                },
                                {
                                    "KAT_NEV": "csomagoló papír",
                                    "(No column name)": "7"
                                },
                                {
                                    "KAT_NEV": "csomagoló papír",
                                    "(No column name)": "7"
                                },
                                {
                                    "KAT_NEV": "dekor",
                                    "(No column name)": "4"
                                },
                                {
                                    "KAT_NEV": "dekor",
                                    "(No column name)": "4"
                                },
                                {
                                    "KAT_NEV": "dekor",
                                    "(No column name)": "4"
                                },
                                {
                                    "KAT_NEV": "dekor",
                                    "(No column name)": "4"
                                },
                                {
                                    "KAT_NEV": "dipa",
                                    "(No column name)": "1"
                                },
                                {
                                    "KAT_NEV": "díszdoboz",
                                    "(No column name)": "3"
                                },
                                {
                                    "KAT_NEV": "díszdoboz",
                                    "(No column name)": "3"
                                },
                                {
                                    "KAT_NEV": "díszdoboz",
                                    "(No column name)": "3"
                                },
                                {
                                    "KAT_NEV": "díszkötöző",
                                    "(No column name)": "5"
                                },
                                {
                                    "KAT_NEV": "díszkötöző",
                                    "(No column name)": "5"
                                },
                                {
                                    "KAT_NEV": "díszkötöző",
                                    "(No column name)": "5"
                                },
                                {
                                    "KAT_NEV": "díszkötöző",
                                    "(No column name)": "5"
                                },
                                {
                                    "KAT_NEV": "díszkötöző",
                                    "(No column name)": "5"
                                },
                                {
                                    "KAT_NEV": "dvd",
                                    "(No column name)": "1"
                                },
                                {
                                    "KAT_NEV": "ecset",
                                    "(No column name)": "7"
                                },
                                {
                                    "KAT_NEV": "ecset",
                                    "(No column name)": "7"
                                },
                                {
                                    "KAT_NEV": "ecset",
                                    "(No column name)": "7"
                                },
                                {
                                    "KAT_NEV": "ecset",
                                    "(No column name)": "7"
                                },
                                {
                                    "KAT_NEV": "ecset",
                                    "(No column name)": "7"
                                },
                                {
                                    "KAT_NEV": "ecset",
                                    "(No column name)": "7"
                                },
                                {
                                    "KAT_NEV": "ecset",
                                    "(No column name)": "7"
                                },
                                {
                                    "KAT_NEV": "előlap",
                                    "(No column name)": "1"
                                },
                                {
                                    "KAT_NEV": "emlékkönyv",
                                    "(No column name)": "3"
                                },
                                {
                                    "KAT_NEV": "emlékkönyv",
                                    "(No column name)": "3"
                                },
                                {
                                    "KAT_NEV": "emlékkönyv",
                                    "(No column name)": "3"
                                },
                                {
                                    "KAT_NEV": "emléklap",
                                    "(No column name)": "1"
                                },
                                {
                                    "KAT_NEV": "fax papír",
                                    "(No column name)": "1"
                                },
                                {
                                    "KAT_NEV": "fehérnemű",
                                    "(No column name)": "7"
                                },
                                {
                                    "KAT_NEV": "fehérnemű",
                                    "(No column name)": "7"
                                },
                                {
                                    "KAT_NEV": "fehérnemű",
                                    "(No column name)": "7"
                                },
                                {
                                    "KAT_NEV": "fehérnemű",
                                    "(No column name)": "7"
                                },
                                {
                                    "KAT_NEV": "fehérnemű",
                                    "(No column name)": "7"
                                },
                                {
                                    "KAT_NEV": "fehérnemű",
                                    "(No column name)": "7"
                                },
                                {
                                    "KAT_NEV": "fehérnemű",
                                    "(No column name)": "7"
                                },
                                {
                                    "KAT_NEV": "fénymásoló papír",
                                    "(No column name)": "5"
                                },
                                {
                                    "KAT_NEV": "fénymásoló papír",
                                    "(No column name)": "5"
                                },
                                {
                                    "KAT_NEV": "fénymásoló papír",
                                    "(No column name)": "5"
                                },
                                {
                                    "KAT_NEV": "fénymásoló papír",
                                    "(No column name)": "5"
                                },
                                {
                                    "KAT_NEV": "fénymásoló papír",
                                    "(No column name)": "5"
                                },
                                {
                                    "KAT_NEV": "férfi ing",
                                    "(No column name)": "1"
                                },
                                {
                                    "KAT_NEV": "férfi kabát",
                                    "(No column name)": "1"
                                },
                                {
                                    "KAT_NEV": "férfi nadrág",
                                    "(No column name)": "2"
                                },
                                {
                                    "KAT_NEV": "férfi nadrág",
                                    "(No column name)": "2"
                                },
                                {
                                    "KAT_NEV": "festékpatron",
                                    "(No column name)": "1"
                                },
                                {
                                    "KAT_NEV": "filctoll",
                                    "(No column name)": "13"
                                },
                                {
                                    "KAT_NEV": "filctoll",
                                    "(No column name)": "13"
                                },
                                {
                                    "KAT_NEV": "filctoll",
                                    "(No column name)": "13"
                                },
                                {
                                    "KAT_NEV": "filctoll",
                                    "(No column name)": "13"
                                },
                                {
                                    "KAT_NEV": "filctoll",
                                    "(No column name)": "13"
                                },
                                {
                                    "KAT_NEV": "filctoll",
                                    "(No column name)": "13"
                                },
                                {
                                    "KAT_NEV": "filctoll",
                                    "(No column name)": "13"
                                },
                                {
                                    "KAT_NEV": "filctoll",
                                    "(No column name)": "13"
                                },
                                {
                                    "KAT_NEV": "filctoll",
                                    "(No column name)": "13"
                                },
                                {
                                    "KAT_NEV": "filctoll",
                                    "(No column name)": "13"
                                },
                                {
                                    "KAT_NEV": "filctoll",
                                    "(No column name)": "13"
                                },
                                {
                                    "KAT_NEV": "filctoll",
                                    "(No column name)": "13"
                                },
                                {
                                    "KAT_NEV": "filctoll",
                                    "(No column name)": "13"
                                },
                                {
                                    "KAT_NEV": "floppy",
                                    "(No column name)": "1"
                                },
                                {
                                    "KAT_NEV": "fólia",
                                    "(No column name)": "3"
                                },
                                {
                                    "KAT_NEV": "fólia",
                                    "(No column name)": "3"
                                },
                                {
                                    "KAT_NEV": "fólia",
                                    "(No column name)": "3"
                                },
                                {
                                    "KAT_NEV": "fotópapír",
                                    "(No column name)": "1"
                                },
                                {
                                    "KAT_NEV": "füzet",
                                    "(No column name)": "11"
                                },
                                {
                                    "KAT_NEV": "füzet",
                                    "(No column name)": "11"
                                },
                                {
                                    "KAT_NEV": "füzet",
                                    "(No column name)": "11"
                                },
                                {
                                    "KAT_NEV": "füzet",
                                    "(No column name)": "11"
                                },
                                {
                                    "KAT_NEV": "füzet",
                                    "(No column name)": "11"
                                },
                                {
                                    "KAT_NEV": "füzet",
                                    "(No column name)": "11"
                                },
                                {
                                    "KAT_NEV": "füzet",
                                    "(No column name)": "11"
                                },
                                {
                                    "KAT_NEV": "füzet",
                                    "(No column name)": "11"
                                },
                                {
                                    "KAT_NEV": "füzet",
                                    "(No column name)": "11"
                                },
                                {
                                    "KAT_NEV": "füzet",
                                    "(No column name)": "11"
                                },
                                {
                                    "KAT_NEV": "füzet",
                                    "(No column name)": "11"
                                },
                                {
                                    "KAT_NEV": "füzetborító",
                                    "(No column name)": "7"
                                },
                                {
                                    "KAT_NEV": "füzetborító",
                                    "(No column name)": "7"
                                },
                                {
                                    "KAT_NEV": "füzetborító",
                                    "(No column name)": "7"
                                },
                                {
                                    "KAT_NEV": "füzetborító",
                                    "(No column name)": "7"
                                },
                                {
                                    "KAT_NEV": "füzetborító",
                                    "(No column name)": "7"
                                },
                                {
                                    "KAT_NEV": "füzetborító",
                                    "(No column name)": "7"
                                },
                                {
                                    "KAT_NEV": "füzetborító",
                                    "(No column name)": "7"
                                },
                                {
                                    "KAT_NEV": "füzettartó",
                                    "(No column name)": "4"
                                },
                                {
                                    "KAT_NEV": "füzettartó",
                                    "(No column name)": "4"
                                },
                                {
                                    "KAT_NEV": "füzettartó",
                                    "(No column name)": "4"
                                },
                                {
                                    "KAT_NEV": "füzettartó",
                                    "(No column name)": "4"
                                },
                                {
                                    "KAT_NEV": "gemkapocs",
                                    "(No column name)": "2"
                                },
                                {
                                    "KAT_NEV": "gemkapocs",
                                    "(No column name)": "2"
                                },
                                {
                                    "KAT_NEV": "gémkapocs",
                                    "(No column name)": "2"
                                },
                                {
                                    "KAT_NEV": "gémkapocs",
                                    "(No column name)": "2"
                                },
                                {
                                    "KAT_NEV": "genoterm",
                                    "(No column name)": "1"
                                },
                                {
                                    "KAT_NEV": "genotherm",
                                    "(No column name)": "3"
                                },
                                {
                                    "KAT_NEV": "genotherm",
                                    "(No column name)": "3"
                                },
                                {
                                    "KAT_NEV": "genotherm",
                                    "(No column name)": "3"
                                },
                                {
                                    "KAT_NEV": "golyóstoll",
                                    "(No column name)": "26"
                                },
                                {
                                    "KAT_NEV": "golyóstoll",
                                    "(No column name)": "26"
                                },
                                {
                                    "KAT_NEV": "golyóstoll",
                                    "(No column name)": "26"
                                },
                                {
                                    "KAT_NEV": "golyóstoll",
                                    "(No column name)": "26"
                                },
                                {
                                    "KAT_NEV": "golyóstoll",
                                    "(No column name)": "26"
                                },
                                {
                                    "KAT_NEV": "golyóstoll",
                                    "(No column name)": "26"
                                },
                                {
                                    "KAT_NEV": "golyóstoll",
                                    "(No column name)": "26"
                                },
                                {
                                    "KAT_NEV": "golyóstoll",
                                    "(No column name)": "26"
                                },
                                {
                                    "KAT_NEV": "golyóstoll",
                                    "(No column name)": "26"
                                },
                                {
                                    "KAT_NEV": "golyóstoll",
                                    "(No column name)": "26"
                                },
                                {
                                    "KAT_NEV": "golyóstoll",
                                    "(No column name)": "26"
                                },
                                {
                                    "KAT_NEV": "golyóstoll",
                                    "(No column name)": "26"
                                },
                                {
                                    "KAT_NEV": "golyóstoll",
                                    "(No column name)": "26"
                                },
                                {
                                    "KAT_NEV": "golyóstoll",
                                    "(No column name)": "26"
                                },
                                {
                                    "KAT_NEV": "golyóstoll",
                                    "(No column name)": "26"
                                },
                                {
                                    "KAT_NEV": "golyóstoll",
                                    "(No column name)": "26"
                                },
                                {
                                    "KAT_NEV": "golyóstoll",
                                    "(No column name)": "26"
                                },
                                {
                                    "KAT_NEV": "golyóstoll",
                                    "(No column name)": "26"
                                },
                                {
                                    "KAT_NEV": "golyóstoll",
                                    "(No column name)": "26"
                                },
                                {
                                    "KAT_NEV": "golyóstoll",
                                    "(No column name)": "26"
                                },
                                {
                                    "KAT_NEV": "golyóstoll",
                                    "(No column name)": "26"
                                },
                                {
                                    "KAT_NEV": "golyóstoll",
                                    "(No column name)": "26"
                                },
                                {
                                    "KAT_NEV": "golyóstoll",
                                    "(No column name)": "26"
                                },
                                {
                                    "KAT_NEV": "golyóstoll",
                                    "(No column name)": "26"
                                },
                                {
                                    "KAT_NEV": "golyóstoll",
                                    "(No column name)": "26"
                                },
                                {
                                    "KAT_NEV": "golyóstoll",
                                    "(No column name)": "26"
                                },
                                {
                                    "KAT_NEV": "gumigyűrű",
                                    "(No column name)": "1"
                                },
                                {
                                    "KAT_NEV": "gyermek cipő",
                                    "(No column name)": "6"
                                },
                                {
                                    "KAT_NEV": "gyermek cipő",
                                    "(No column name)": "6"
                                },
                                {
                                    "KAT_NEV": "gyermek cipő",
                                    "(No column name)": "6"
                                },
                                {
                                    "KAT_NEV": "gyermek cipő",
                                    "(No column name)": "6"
                                },
                                {
                                    "KAT_NEV": "gyermek cipő",
                                    "(No column name)": "6"
                                },
                                {
                                    "KAT_NEV": "gyermek cipő",
                                    "(No column name)": "6"
                                },
                                {
                                    "KAT_NEV": "gyermek kabát",
                                    "(No column name)": "2"
                                },
                                {
                                    "KAT_NEV": "gyermek kabát",
                                    "(No column name)": "2"
                                },
                                {
                                    "KAT_NEV": "gyermek nadrág",
                                    "(No column name)": "4"
                                },
                                {
                                    "KAT_NEV": "gyermek nadrág",
                                    "(No column name)": "4"
                                },
                                {
                                    "KAT_NEV": "gyermek nadrág",
                                    "(No column name)": "4"
                                },
                                {
                                    "KAT_NEV": "gyermek nadrág",
                                    "(No column name)": "4"
                                },
                                {
                                    "KAT_NEV": "gyermek póló",
                                    "(No column name)": "2"
                                },
                                {
                                    "KAT_NEV": "gyermek póló",
                                    "(No column name)": "2"
                                },
                                {
                                    "KAT_NEV": "gyorsfűző",
                                    "(No column name)": "3"
                                },
                                {
                                    "KAT_NEV": "gyorsfűző",
                                    "(No column name)": "3"
                                },
                                {
                                    "KAT_NEV": "gyorsfűző",
                                    "(No column name)": "3"
                                },
                                {
                                    "KAT_NEV": "gyurma",
                                    "(No column name)": "4"
                                },
                                {
                                    "KAT_NEV": "gyurma",
                                    "(No column name)": "4"
                                },
                                {
                                    "KAT_NEV": "gyurma",
                                    "(No column name)": "4"
                                },
                                {
                                    "KAT_NEV": "gyurma",
                                    "(No column name)": "4"
                                },
                                {
                                    "KAT_NEV": "gyűrűskönyv",
                                    "(No column name)": "5"
                                },
                                {
                                    "KAT_NEV": "gyűrűskönyv",
                                    "(No column name)": "5"
                                },
                                {
                                    "KAT_NEV": "gyűrűskönyv",
                                    "(No column name)": "5"
                                },
                                {
                                    "KAT_NEV": "gyűrűskönyv",
                                    "(No column name)": "5"
                                },
                                {
                                    "KAT_NEV": "gyűrűskönyv",
                                    "(No column name)": "5"
                                },
                                {
                                    "KAT_NEV": "hajgumi",
                                    "(No column name)": "1"
                                },
                                {
                                    "KAT_NEV": "határidő napló",
                                    "(No column name)": "2"
                                },
                                {
                                    "KAT_NEV": "határidő napló",
                                    "(No column name)": "2"
                                },
                                {
                                    "KAT_NEV": "hegyező",
                                    "(No column name)": "4"
                                },
                                {
                                    "KAT_NEV": "hegyező",
                                    "(No column name)": "4"
                                },
                                {
                                    "KAT_NEV": "hegyező",
                                    "(No column name)": "4"
                                },
                                {
                                    "KAT_NEV": "hegyező",
                                    "(No column name)": "4"
                                },
                                {
                                    "KAT_NEV": "hegyző",
                                    "(No column name)": "2"
                                },
                                {
                                    "KAT_NEV": "hegyző",
                                    "(No column name)": "2"
                                },
                                {
                                    "KAT_NEV": "hibajavító",
                                    "(No column name)": "7"
                                },
                                {
                                    "KAT_NEV": "hibajavító",
                                    "(No column name)": "7"
                                },
                                {
                                    "KAT_NEV": "hibajavító",
                                    "(No column name)": "7"
                                },
                                {
                                    "KAT_NEV": "hibajavító",
                                    "(No column name)": "7"
                                },
                                {
                                    "KAT_NEV": "hibajavító",
                                    "(No column name)": "7"
                                },
                                {
                                    "KAT_NEV": "hibajavító",
                                    "(No column name)": "7"
                                },
                                {
                                    "KAT_NEV": "hibajavító",
                                    "(No column name)": "7"
                                },
                                {
                                    "KAT_NEV": "hűtőmágnes",
                                    "(No column name)": "2"
                                },
                                {
                                    "KAT_NEV": "hűtőmágnes",
                                    "(No column name)": "2"
                                },
                                {
                                    "KAT_NEV": "indigó",
                                    "(No column name)": "2"
                                },
                                {
                                    "KAT_NEV": "indigó",
                                    "(No column name)": "2"
                                },
                                {
                                    "KAT_NEV": "írásvetítő fólia",
                                    "(No column name)": "1"
                                },
                                {
                                    "KAT_NEV": "iratgyűjtő",
                                    "(No column name)": "3"
                                },
                                {
                                    "KAT_NEV": "iratgyűjtő",
                                    "(No column name)": "3"
                                },
                                {
                                    "KAT_NEV": "iratgyűjtő",
                                    "(No column name)": "3"
                                },
                                {
                                    "KAT_NEV": "iratrendező",
                                    "(No column name)": "2"
                                },
                                {
                                    "KAT_NEV": "iratrendező",
                                    "(No column name)": "2"
                                },
                                {
                                    "KAT_NEV": "iratsín",
                                    "(No column name)": "2"
                                },
                                {
                                    "KAT_NEV": "iratsín",
                                    "(No column name)": "2"
                                },
                                {
                                    "KAT_NEV": "irattartó",
                                    "(No column name)": "2"
                                },
                                {
                                    "KAT_NEV": "irattartó",
                                    "(No column name)": "2"
                                },
                                {
                                    "KAT_NEV": "irodaszer",
                                    "(No column name)": "1"
                                },
                                {
                                    "KAT_NEV": "írólap",
                                    "(No column name)": "2"
                                },
                                {
                                    "KAT_NEV": "írólap",
                                    "(No column name)": "2"
                                },
                                {
                                    "KAT_NEV": "ironbél",
                                    "(No column name)": "5"
                                },
                                {
                                    "KAT_NEV": "ironbél",
                                    "(No column name)": "5"
                                },
                                {
                                    "KAT_NEV": "ironbél",
                                    "(No column name)": "5"
                                },
                                {
                                    "KAT_NEV": "ironbél",
                                    "(No column name)": "5"
                                },
                                {
                                    "KAT_NEV": "ironbél",
                                    "(No column name)": "5"
                                },
                                {
                                    "KAT_NEV": "iskolaszer",
                                    "(No column name)": "24"
                                },
                                {
                                    "KAT_NEV": "iskolaszer",
                                    "(No column name)": "24"
                                },
                                {
                                    "KAT_NEV": "iskolaszer",
                                    "(No column name)": "24"
                                },
                                {
                                    "KAT_NEV": "iskolaszer",
                                    "(No column name)": "24"
                                },
                                {
                                    "KAT_NEV": "iskolaszer",
                                    "(No column name)": "24"
                                },
                                {
                                    "KAT_NEV": "iskolaszer",
                                    "(No column name)": "24"
                                },
                                {
                                    "KAT_NEV": "iskolaszer",
                                    "(No column name)": "24"
                                },
                                {
                                    "KAT_NEV": "iskolaszer",
                                    "(No column name)": "24"
                                },
                                {
                                    "KAT_NEV": "iskolaszer",
                                    "(No column name)": "24"
                                },
                                {
                                    "KAT_NEV": "iskolaszer",
                                    "(No column name)": "24"
                                },
                                {
                                    "KAT_NEV": "iskolaszer",
                                    "(No column name)": "24"
                                },
                                {
                                    "KAT_NEV": "iskolaszer",
                                    "(No column name)": "24"
                                },
                                {
                                    "KAT_NEV": "iskolaszer",
                                    "(No column name)": "24"
                                },
                                {
                                    "KAT_NEV": "iskolaszer",
                                    "(No column name)": "24"
                                },
                                {
                                    "KAT_NEV": "iskolaszer",
                                    "(No column name)": "24"
                                },
                                {
                                    "KAT_NEV": "iskolaszer",
                                    "(No column name)": "24"
                                },
                                {
                                    "KAT_NEV": "iskolaszer",
                                    "(No column name)": "24"
                                },
                                {
                                    "KAT_NEV": "iskolaszer",
                                    "(No column name)": "24"
                                },
                                {
                                    "KAT_NEV": "iskolaszer",
                                    "(No column name)": "24"
                                },
                                {
                                    "KAT_NEV": "iskolaszer",
                                    "(No column name)": "24"
                                },
                                {
                                    "KAT_NEV": "iskolaszer",
                                    "(No column name)": "24"
                                },
                                {
                                    "KAT_NEV": "iskolaszer",
                                    "(No column name)": "24"
                                },
                                {
                                    "KAT_NEV": "iskolaszer",
                                    "(No column name)": "24"
                                },
                                {
                                    "KAT_NEV": "iskolaszer",
                                    "(No column name)": "24"
                                },
                                {
                                    "KAT_NEV": "játékautó",
                                    "(No column name)": "4"
                                },
                                {
                                    "KAT_NEV": "játékautó",
                                    "(No column name)": "4"
                                },
                                {
                                    "KAT_NEV": "játékautó",
                                    "(No column name)": "4"
                                },
                                {
                                    "KAT_NEV": "játékautó",
                                    "(No column name)": "4"
                                },
                                {
                                    "KAT_NEV": "jelzőkréta",
                                    "(No column name)": "1"
                                },
                                {
                                    "KAT_NEV": "kapocskiszedő",
                                    "(No column name)": "1"
                                },
                                {
                                    "KAT_NEV": "karton",
                                    "(No column name)": "6"
                                },
                                {
                                    "KAT_NEV": "karton",
                                    "(No column name)": "6"
                                },
                                {
                                    "KAT_NEV": "karton",
                                    "(No column name)": "6"
                                },
                                {
                                    "KAT_NEV": "karton",
                                    "(No column name)": "6"
                                },
                                {
                                    "KAT_NEV": "karton",
                                    "(No column name)": "6"
                                },
                                {
                                    "KAT_NEV": "karton",
                                    "(No column name)": "6"
                                },
                                {
                                    "KAT_NEV": "kártya",
                                    "(No column name)": "1"
                                },
                                {
                                    "KAT_NEV": "képeslap",
                                    "(No column name)": "16"
                                },
                                {
                                    "KAT_NEV": "képeslap",
                                    "(No column name)": "16"
                                },
                                {
                                    "KAT_NEV": "képeslap",
                                    "(No column name)": "16"
                                },
                                {
                                    "KAT_NEV": "képeslap",
                                    "(No column name)": "16"
                                },
                                {
                                    "KAT_NEV": "képeslap",
                                    "(No column name)": "16"
                                },
                                {
                                    "KAT_NEV": "képeslap",
                                    "(No column name)": "16"
                                },
                                {
                                    "KAT_NEV": "képeslap",
                                    "(No column name)": "16"
                                },
                                {
                                    "KAT_NEV": "képeslap",
                                    "(No column name)": "16"
                                },
                                {
                                    "KAT_NEV": "képeslap",
                                    "(No column name)": "16"
                                },
                                {
                                    "KAT_NEV": "képeslap",
                                    "(No column name)": "16"
                                },
                                {
                                    "KAT_NEV": "képeslap",
                                    "(No column name)": "16"
                                },
                                {
                                    "KAT_NEV": "képeslap",
                                    "(No column name)": "16"
                                },
                                {
                                    "KAT_NEV": "képeslap",
                                    "(No column name)": "16"
                                },
                                {
                                    "KAT_NEV": "képeslap",
                                    "(No column name)": "16"
                                },
                                {
                                    "KAT_NEV": "képeslap",
                                    "(No column name)": "16"
                                },
                                {
                                    "KAT_NEV": "képeslap",
                                    "(No column name)": "16"
                                },
                                {
                                    "KAT_NEV": "képkirakó",
                                    "(No column name)": "1"
                                },
                                {
                                    "KAT_NEV": "kosztüm",
                                    "(No column name)": "2"
                                },
                                {
                                    "KAT_NEV": "kosztüm",
                                    "(No column name)": "2"
                                },
                                {
                                    "KAT_NEV": "könyv",
                                    "(No column name)": "15"
                                },
                                {
                                    "KAT_NEV": "könyv",
                                    "(No column name)": "15"
                                },
                                {
                                    "KAT_NEV": "könyv",
                                    "(No column name)": "15"
                                },
                                {
                                    "KAT_NEV": "könyv",
                                    "(No column name)": "15"
                                },
                                {
                                    "KAT_NEV": "könyv",
                                    "(No column name)": "15"
                                },
                                {
                                    "KAT_NEV": "könyv",
                                    "(No column name)": "15"
                                },
                                {
                                    "KAT_NEV": "könyv",
                                    "(No column name)": "15"
                                },
                                {
                                    "KAT_NEV": "könyv",
                                    "(No column name)": "15"
                                },
                                {
                                    "KAT_NEV": "könyv",
                                    "(No column name)": "15"
                                },
                                {
                                    "KAT_NEV": "könyv",
                                    "(No column name)": "15"
                                },
                                {
                                    "KAT_NEV": "könyv",
                                    "(No column name)": "15"
                                },
                                {
                                    "KAT_NEV": "könyv",
                                    "(No column name)": "15"
                                },
                                {
                                    "KAT_NEV": "könyv",
                                    "(No column name)": "15"
                                },
                                {
                                    "KAT_NEV": "könyv",
                                    "(No column name)": "15"
                                },
                                {
                                    "KAT_NEV": "könyv",
                                    "(No column name)": "15"
                                },
                                {
                                    "KAT_NEV": "körző",
                                    "(No column name)": "3"
                                },
                                {
                                    "KAT_NEV": "körző",
                                    "(No column name)": "3"
                                },
                                {
                                    "KAT_NEV": "körző",
                                    "(No column name)": "3"
                                },
                                {
                                    "KAT_NEV": "kreatív",
                                    "(No column name)": "2"
                                },
                                {
                                    "KAT_NEV": "kreatív",
                                    "(No column name)": "2"
                                },
                                {
                                    "KAT_NEV": "kulcstartó",
                                    "(No column name)": "7"
                                },
                                {
                                    "KAT_NEV": "kulcstartó",
                                    "(No column name)": "7"
                                },
                                {
                                    "KAT_NEV": "kulcstartó",
                                    "(No column name)": "7"
                                },
                                {
                                    "KAT_NEV": "kulcstartó",
                                    "(No column name)": "7"
                                },
                                {
                                    "KAT_NEV": "kulcstartó",
                                    "(No column name)": "7"
                                },
                                {
                                    "KAT_NEV": "kulcstartó",
                                    "(No column name)": "7"
                                },
                                {
                                    "KAT_NEV": "kulcstartó",
                                    "(No column name)": "7"
                                },
                                {
                                    "KAT_NEV": "labda",
                                    "(No column name)": "2"
                                },
                                {
                                    "KAT_NEV": "labda",
                                    "(No column name)": "2"
                                },
                                {
                                    "KAT_NEV": "levélpapír",
                                    "(No column name)": "7"
                                },
                                {
                                    "KAT_NEV": "levélpapír",
                                    "(No column name)": "7"
                                },
                                {
                                    "KAT_NEV": "levélpapír",
                                    "(No column name)": "7"
                                },
                                {
                                    "KAT_NEV": "levélpapír",
                                    "(No column name)": "7"
                                },
                                {
                                    "KAT_NEV": "levélpapír",
                                    "(No column name)": "7"
                                },
                                {
                                    "KAT_NEV": "levélpapír",
                                    "(No column name)": "7"
                                },
                                {
                                    "KAT_NEV": "levélpapír",
                                    "(No column name)": "7"
                                },
                                {
                                    "KAT_NEV": "lufi",
                                    "(No column name)": "2"
                                },
                                {
                                    "KAT_NEV": "lufi",
                                    "(No column name)": "2"
                                },
                                {
                                    "KAT_NEV": "lyukasztó",
                                    "(No column name)": "2"
                                },
                                {
                                    "KAT_NEV": "lyukasztó",
                                    "(No column name)": "2"
                                },
                                {
                                    "KAT_NEV": "mappa",
                                    "(No column name)": "9"
                                },
                                {
                                    "KAT_NEV": "mappa",
                                    "(No column name)": "9"
                                },
                                {
                                    "KAT_NEV": "mappa",
                                    "(No column name)": "9"
                                },
                                {
                                    "KAT_NEV": "mappa",
                                    "(No column name)": "9"
                                },
                                {
                                    "KAT_NEV": "mappa",
                                    "(No column name)": "9"
                                },
                                {
                                    "KAT_NEV": "mappa",
                                    "(No column name)": "9"
                                },
                                {
                                    "KAT_NEV": "mappa",
                                    "(No column name)": "9"
                                },
                                {
                                    "KAT_NEV": "mappa",
                                    "(No column name)": "9"
                                },
                                {
                                    "KAT_NEV": "mappa",
                                    "(No column name)": "9"
                                },
                                {
                                    "KAT_NEV": "matrica",
                                    "(No column name)": "10"
                                },
                                {
                                    "KAT_NEV": "matrica",
                                    "(No column name)": "10"
                                },
                                {
                                    "KAT_NEV": "matrica",
                                    "(No column name)": "10"
                                },
                                {
                                    "KAT_NEV": "matrica",
                                    "(No column name)": "10"
                                },
                                {
                                    "KAT_NEV": "matrica",
                                    "(No column name)": "10"
                                },
                                {
                                    "KAT_NEV": "matrica",
                                    "(No column name)": "10"
                                },
                                {
                                    "KAT_NEV": "matrica",
                                    "(No column name)": "10"
                                },
                                {
                                    "KAT_NEV": "matrica",
                                    "(No column name)": "10"
                                },
                                {
                                    "KAT_NEV": "matrica",
                                    "(No column name)": "10"
                                },
                                {
                                    "KAT_NEV": "matrica",
                                    "(No column name)": "10"
                                },
                                {
                                    "KAT_NEV": "meghívó",
                                    "(No column name)": "4"
                                },
                                {
                                    "KAT_NEV": "meghívó",
                                    "(No column name)": "4"
                                },
                                {
                                    "KAT_NEV": "meghívó",
                                    "(No column name)": "4"
                                },
                                {
                                    "KAT_NEV": "meghívó",
                                    "(No column name)": "4"
                                },
                                {
                                    "KAT_NEV": "miliméterpapír",
                                    "(No column name)": "1"
                                },
                                {
                                    "KAT_NEV": "munkafüzet",
                                    "(No column name)": "9"
                                },
                                {
                                    "KAT_NEV": "munkafüzet",
                                    "(No column name)": "9"
                                },
                                {
                                    "KAT_NEV": "munkafüzet",
                                    "(No column name)": "9"
                                },
                                {
                                    "KAT_NEV": "munkafüzet",
                                    "(No column name)": "9"
                                },
                                {
                                    "KAT_NEV": "munkafüzet",
                                    "(No column name)": "9"
                                },
                                {
                                    "KAT_NEV": "munkafüzet",
                                    "(No column name)": "9"
                                },
                                {
                                    "KAT_NEV": "munkafüzet",
                                    "(No column name)": "9"
                                },
                                {
                                    "KAT_NEV": "munkafüzet",
                                    "(No column name)": "9"
                                },
                                {
                                    "KAT_NEV": "munkafüzet",
                                    "(No column name)": "9"
                                },
                                {
                                    "KAT_NEV": "műnyomó",
                                    "(No column name)": "1"
                                },
                                {
                                    "KAT_NEV": "naptár",
                                    "(No column name)": "1"
                                },
                                {
                                    "KAT_NEV": "naptárhát",
                                    "(No column name)": "2"
                                },
                                {
                                    "KAT_NEV": "naptárhát",
                                    "(No column name)": "2"
                                },
                                {
                                    "KAT_NEV": "névjegytartó",
                                    "(No column name)": "1"
                                },
                                {
                                    "KAT_NEV": "notesz",
                                    "(No column name)": "5"
                                },
                                {
                                    "KAT_NEV": "notesz",
                                    "(No column name)": "5"
                                },
                                {
                                    "KAT_NEV": "notesz",
                                    "(No column name)": "5"
                                },
                                {
                                    "KAT_NEV": "notesz",
                                    "(No column name)": "5"
                                },
                                {
                                    "KAT_NEV": "notesz",
                                    "(No column name)": "5"
                                },
                                {
                                    "KAT_NEV": "női kabát",
                                    "(No column name)": "1"
                                },
                                {
                                    "KAT_NEV": "női nadrág",
                                    "(No column name)": "1"
                                },
                                {
                                    "KAT_NEV": "ofszet",
                                    "(No column name)": "1"
                                },
                                {
                                    "KAT_NEV": "oklevél",
                                    "(No column name)": "2"
                                },
                                {
                                    "KAT_NEV": "oklevél",
                                    "(No column name)": "2"
                                },
                                {
                                    "KAT_NEV": "olló",
                                    "(No column name)": "3"
                                },
                                {
                                    "KAT_NEV": "olló",
                                    "(No column name)": "3"
                                },
                                {
                                    "KAT_NEV": "olló",
                                    "(No column name)": "3"
                                },
                                {
                                    "KAT_NEV": "öntapadó",
                                    "(No column name)": "2"
                                },
                                {
                                    "KAT_NEV": "öntapadó",
                                    "(No column name)": "2"
                                },
                                {
                                    "KAT_NEV": "papízsebkendő",
                                    "(No column name)": "1"
                                },
                                {
                                    "KAT_NEV": "pausz",
                                    "(No column name)": "1"
                                },
                                {
                                    "KAT_NEV": "pénztárbizonylat",
                                    "(No column name)": "2"
                                },
                                {
                                    "KAT_NEV": "pénztárbizonylat",
                                    "(No column name)": "2"
                                },
                                {
                                    "KAT_NEV": "pénztárgépszalag",
                                    "(No column name)": "2"
                                },
                                {
                                    "KAT_NEV": "pénztárgépszalag",
                                    "(No column name)": "2"
                                },
                                {
                                    "KAT_NEV": "pixiron",
                                    "(No column name)": "9"
                                },
                                {
                                    "KAT_NEV": "pixiron",
                                    "(No column name)": "9"
                                },
                                {
                                    "KAT_NEV": "pixiron",
                                    "(No column name)": "9"
                                },
                                {
                                    "KAT_NEV": "pixiron",
                                    "(No column name)": "9"
                                },
                                {
                                    "KAT_NEV": "pixiron",
                                    "(No column name)": "9"
                                },
                                {
                                    "KAT_NEV": "pixiron",
                                    "(No column name)": "9"
                                },
                                {
                                    "KAT_NEV": "pixiron",
                                    "(No column name)": "9"
                                },
                                {
                                    "KAT_NEV": "pixiron",
                                    "(No column name)": "9"
                                },
                                {
                                    "KAT_NEV": "pixiron",
                                    "(No column name)": "9"
                                },
                                {
                                    "KAT_NEV": "plüss",
                                    "(No column name)": "3"
                                },
                                {
                                    "KAT_NEV": "plüss",
                                    "(No column name)": "3"
                                },
                                {
                                    "KAT_NEV": "plüss",
                                    "(No column name)": "3"
                                },
                                {
                                    "KAT_NEV": "post-it",
                                    "(No column name)": "2"
                                },
                                {
                                    "KAT_NEV": "post-it",
                                    "(No column name)": "2"
                                },
                                {
                                    "KAT_NEV": "radír",
                                    "(No column name)": "7"
                                },
                                {
                                    "KAT_NEV": "radír",
                                    "(No column name)": "7"
                                },
                                {
                                    "KAT_NEV": "radír",
                                    "(No column name)": "7"
                                },
                                {
                                    "KAT_NEV": "radír",
                                    "(No column name)": "7"
                                },
                                {
                                    "KAT_NEV": "radír",
                                    "(No column name)": "7"
                                },
                                {
                                    "KAT_NEV": "radír",
                                    "(No column name)": "7"
                                },
                                {
                                    "KAT_NEV": "radír",
                                    "(No column name)": "7"
                                },
                                {
                                    "KAT_NEV": "radírtoll",
                                    "(No column name)": "2"
                                },
                                {
                                    "KAT_NEV": "radírtoll",
                                    "(No column name)": "2"
                                },
                                {
                                    "KAT_NEV": "ragasztó",
                                    "(No column name)": "10"
                                },
                                {
                                    "KAT_NEV": "ragasztó",
                                    "(No column name)": "10"
                                },
                                {
                                    "KAT_NEV": "ragasztó",
                                    "(No column name)": "10"
                                },
                                {
                                    "KAT_NEV": "ragasztó",
                                    "(No column name)": "10"
                                },
                                {
                                    "KAT_NEV": "ragasztó",
                                    "(No column name)": "10"
                                },
                                {
                                    "KAT_NEV": "ragasztó",
                                    "(No column name)": "10"
                                },
                                {
                                    "KAT_NEV": "ragasztó",
                                    "(No column name)": "10"
                                },
                                {
                                    "KAT_NEV": "ragasztó",
                                    "(No column name)": "10"
                                },
                                {
                                    "KAT_NEV": "ragasztó",
                                    "(No column name)": "10"
                                },
                                {
                                    "KAT_NEV": "ragasztó",
                                    "(No column name)": "10"
                                },
                                {
                                    "KAT_NEV": "ragasztószalag",
                                    "(No column name)": "4"
                                },
                                {
                                    "KAT_NEV": "ragasztószalag",
                                    "(No column name)": "4"
                                },
                                {
                                    "KAT_NEV": "ragasztószalag",
                                    "(No column name)": "4"
                                },
                                {
                                    "KAT_NEV": "ragasztószalag",
                                    "(No column name)": "4"
                                },
                                {
                                    "KAT_NEV": "rágógumi",
                                    "(No column name)": "1"
                                },
                                {
                                    "KAT_NEV": "rajzlap",
                                    "(No column name)": "2"
                                },
                                {
                                    "KAT_NEV": "rajzlap",
                                    "(No column name)": "2"
                                },
                                {
                                    "KAT_NEV": "rajzszeg",
                                    "(No column name)": "2"
                                },
                                {
                                    "KAT_NEV": "rajzszeg",
                                    "(No column name)": "2"
                                },
                                {
                                    "KAT_NEV": "regiszteres füzet",
                                    "(No column name)": "2"
                                },
                                {
                                    "KAT_NEV": "regiszteres füzet",
                                    "(No column name)": "2"
                                },
                                {
                                    "KAT_NEV": "sál",
                                    "(No column name)": "1"
                                },
                                {
                                    "KAT_NEV": "spirál",
                                    "(No column name)": "1"
                                },
                                {
                                    "KAT_NEV": "strandlabda",
                                    "(No column name)": "1"
                                },
                                {
                                    "KAT_NEV": "szalvéta",
                                    "(No column name)": "6"
                                },
                                {
                                    "KAT_NEV": "szalvéta",
                                    "(No column name)": "6"
                                },
                                {
                                    "KAT_NEV": "szalvéta",
                                    "(No column name)": "6"
                                },
                                {
                                    "KAT_NEV": "szalvéta",
                                    "(No column name)": "6"
                                },
                                {
                                    "KAT_NEV": "szalvéta",
                                    "(No column name)": "6"
                                },
                                {
                                    "KAT_NEV": "szalvéta",
                                    "(No column name)": "6"
                                },
                                {
                                    "KAT_NEV": "számológép",
                                    "(No column name)": "2"
                                },
                                {
                                    "KAT_NEV": "számológép",
                                    "(No column name)": "2"
                                },
                                {
                                    "KAT_NEV": "szemetes",
                                    "(No column name)": "1"
                                },
                                {
                                    "KAT_NEV": "színes",
                                    "(No column name)": "2"
                                },
                                {
                                    "KAT_NEV": "színes",
                                    "(No column name)": "2"
                                },
                                {
                                    "KAT_NEV": "szögmérő",
                                    "(No column name)": "3"
                                },
                                {
                                    "KAT_NEV": "szögmérő",
                                    "(No column name)": "3"
                                },
                                {
                                    "KAT_NEV": "szögmérő",
                                    "(No column name)": "3"
                                },
                                {
                                    "KAT_NEV": "szövegkiemelő",
                                    "(No column name)": "5"
                                },
                                {
                                    "KAT_NEV": "szövegkiemelő",
                                    "(No column name)": "5"
                                },
                                {
                                    "KAT_NEV": "szövegkiemelő",
                                    "(No column name)": "5"
                                },
                                {
                                    "KAT_NEV": "szövegkiemelő",
                                    "(No column name)": "5"
                                },
                                {
                                    "KAT_NEV": "szövegkiemelő",
                                    "(No column name)": "5"
                                },
                                {
                                    "KAT_NEV": "táblafilc",
                                    "(No column name)": "1"
                                },
                                {
                                    "KAT_NEV": "tapétavágó",
                                    "(No column name)": "1"
                                },
                                {
                                    "KAT_NEV": "tempera",
                                    "(No column name)": "2"
                                },
                                {
                                    "KAT_NEV": "tempera",
                                    "(No column name)": "2"
                                },
                                {
                                    "KAT_NEV": "térképtű",
                                    "(No column name)": "1"
                                },
                                {
                                    "KAT_NEV": "tintapatron",
                                    "(No column name)": "3"
                                },
                                {
                                    "KAT_NEV": "tintapatron",
                                    "(No column name)": "3"
                                },
                                {
                                    "KAT_NEV": "tintapatron",
                                    "(No column name)": "3"
                                },
                                {
                                    "KAT_NEV": "toll",
                                    "(No column name)": "2"
                                },
                                {
                                    "KAT_NEV": "toll",
                                    "(No column name)": "2"
                                },
                                {
                                    "KAT_NEV": "tollbetét",
                                    "(No column name)": "18"
                                },
                                {
                                    "KAT_NEV": "tollbetét",
                                    "(No column name)": "18"
                                },
                                {
                                    "KAT_NEV": "tollbetét",
                                    "(No column name)": "18"
                                },
                                {
                                    "KAT_NEV": "tollbetét",
                                    "(No column name)": "18"
                                },
                                {
                                    "KAT_NEV": "tollbetét",
                                    "(No column name)": "18"
                                },
                                {
                                    "KAT_NEV": "tollbetét",
                                    "(No column name)": "18"
                                },
                                {
                                    "KAT_NEV": "tollbetét",
                                    "(No column name)": "18"
                                },
                                {
                                    "KAT_NEV": "tollbetét",
                                    "(No column name)": "18"
                                },
                                {
                                    "KAT_NEV": "tollbetét",
                                    "(No column name)": "18"
                                },
                                {
                                    "KAT_NEV": "tollbetét",
                                    "(No column name)": "18"
                                },
                                {
                                    "KAT_NEV": "tollbetét",
                                    "(No column name)": "18"
                                },
                                {
                                    "KAT_NEV": "tollbetét",
                                    "(No column name)": "18"
                                },
                                {
                                    "KAT_NEV": "tollbetét",
                                    "(No column name)": "18"
                                },
                                {
                                    "KAT_NEV": "tollbetét",
                                    "(No column name)": "18"
                                },
                                {
                                    "KAT_NEV": "tollbetét",
                                    "(No column name)": "18"
                                },
                                {
                                    "KAT_NEV": "tollbetét",
                                    "(No column name)": "18"
                                },
                                {
                                    "KAT_NEV": "tollbetét",
                                    "(No column name)": "18"
                                },
                                {
                                    "KAT_NEV": "tollbetét",
                                    "(No column name)": "18"
                                },
                                {
                                    "KAT_NEV": "tolltartó",
                                    "(No column name)": "7"
                                },
                                {
                                    "KAT_NEV": "tolltartó",
                                    "(No column name)": "7"
                                },
                                {
                                    "KAT_NEV": "tolltartó",
                                    "(No column name)": "7"
                                },
                                {
                                    "KAT_NEV": "tolltartó",
                                    "(No column name)": "7"
                                },
                                {
                                    "KAT_NEV": "tolltartó",
                                    "(No column name)": "7"
                                },
                                {
                                    "KAT_NEV": "tolltartó",
                                    "(No column name)": "7"
                                },
                                {
                                    "KAT_NEV": "tolltartó",
                                    "(No column name)": "7"
                                },
                                {
                                    "KAT_NEV": "toner",
                                    "(No column name)": "1"
                                },
                                {
                                    "KAT_NEV": "töltőtoll",
                                    "(No column name)": "1"
                                },
                                {
                                    "KAT_NEV": "tűzőgép",
                                    "(No column name)": "6"
                                },
                                {
                                    "KAT_NEV": "tűzőgép",
                                    "(No column name)": "6"
                                },
                                {
                                    "KAT_NEV": "tűzőgép",
                                    "(No column name)": "6"
                                },
                                {
                                    "KAT_NEV": "tűzőgép",
                                    "(No column name)": "6"
                                },
                                {
                                    "KAT_NEV": "tűzőgép",
                                    "(No column name)": "6"
                                },
                                {
                                    "KAT_NEV": "tűzőgép",
                                    "(No column name)": "6"
                                },
                                {
                                    "KAT_NEV": "tűzőkapocs",
                                    "(No column name)": "2"
                                },
                                {
                                    "KAT_NEV": "tűzőkapocs",
                                    "(No column name)": "2"
                                },
                                {
                                    "KAT_NEV": "vízfesték",
                                    "(No column name)": "4"
                                },
                                {
                                    "KAT_NEV": "vízfesték",
                                    "(No column name)": "4"
                                },
                                {
                                    "KAT_NEV": "vízfesték",
                                    "(No column name)": "4"
                                },
                                {
                                    "KAT_NEV": "vízfesték",
                                    "(No column name)": "4"
                                },
                                {
                                    "KAT_NEV": "vonalzó",
                                    "(No column name)": "6"
                                },
                                {
                                    "KAT_NEV": "vonalzó",
                                    "(No column name)": "6"
                                },
                                {
                                    "KAT_NEV": "vonalzó",
                                    "(No column name)": "6"
                                },
                                {
                                    "KAT_NEV": "vonalzó",
                                    "(No column name)": "6"
                                },
                                {
                                    "KAT_NEV": "vonalzó",
                                    "(No column name)": "6"
                                },
                                {
                                    "KAT_NEV": "vonalzó",
                                    "(No column name)": "6"
                                },
                                {
                                    "KAT_NEV": "zászló",
                                    "(No column name)": "1"
                                },
                                {
                                    "KAT_NEV": "zseléstoll",
                                    "(No column name)": "4"
                                },
                                {
                                    "KAT_NEV": "zseléstoll",
                                    "(No column name)": "4"
                                },
                                {
                                    "KAT_NEV": "zseléstoll",
                                    "(No column name)": "4"
                                },
                                {
                                    "KAT_NEV": "zseléstoll",
                                    "(No column name)": "4"
                                }
                            ]
                        },
                        "text/html": [
                            "<table>",
                            "<tr><th>KAT_NEV</th><th>(No column name)</th></tr>",
                            "<tr><td>ajándék tárgy</td><td>3</td></tr>",
                            "<tr><td>ajándék tárgy</td><td>3</td></tr>",
                            "<tr><td>ajándék tárgy</td><td>3</td></tr>",
                            "<tr><td>ajándék tasak</td><td>20</td></tr>",
                            "<tr><td>ajándék tasak</td><td>20</td></tr>",
                            "<tr><td>ajándék tasak</td><td>20</td></tr>",
                            "<tr><td>ajándék tasak</td><td>20</td></tr>",
                            "<tr><td>ajándék tasak</td><td>20</td></tr>",
                            "<tr><td>ajándék tasak</td><td>20</td></tr>",
                            "<tr><td>ajándék tasak</td><td>20</td></tr>",
                            "<tr><td>ajándék tasak</td><td>20</td></tr>",
                            "<tr><td>ajándék tasak</td><td>20</td></tr>",
                            "<tr><td>ajándék tasak</td><td>20</td></tr>",
                            "<tr><td>ajándék tasak</td><td>20</td></tr>",
                            "<tr><td>ajándék tasak</td><td>20</td></tr>",
                            "<tr><td>ajándék tasak</td><td>20</td></tr>",
                            "<tr><td>ajándék tasak</td><td>20</td></tr>",
                            "<tr><td>ajándék tasak</td><td>20</td></tr>",
                            "<tr><td>ajándék tasak</td><td>20</td></tr>",
                            "<tr><td>ajándék tasak</td><td>20</td></tr>",
                            "<tr><td>ajándék tasak</td><td>20</td></tr>",
                            "<tr><td>ajándék tasak</td><td>20</td></tr>",
                            "<tr><td>ajándék tasak</td><td>20</td></tr>",
                            "<tr><td>álarc</td><td>3</td></tr>",
                            "<tr><td>álarc</td><td>3</td></tr>",
                            "<tr><td>álarc</td><td>3</td></tr>",
                            "<tr><td>alkalmi</td><td>3</td></tr>",
                            "<tr><td>alkalmi</td><td>3</td></tr>",
                            "<tr><td>alkalmi</td><td>3</td></tr>",
                            "<tr><td>alufólia</td><td>2</td></tr>",
                            "<tr><td>alufólia</td><td>2</td></tr>",
                            "<tr><td>árazószalag</td><td>1</td></tr>",
                            "<tr><td>átírótömb</td><td>1</td></tr>",
                            "<tr><td>beíró</td><td>1</td></tr>",
                            "<tr><td>beírókönyv</td><td>2</td></tr>",
                            "<tr><td>beírókönyv</td><td>2</td></tr>",
                            "<tr><td>bélyegző</td><td>4</td></tr>",
                            "<tr><td>bélyegző</td><td>4</td></tr>",
                            "<tr><td>bélyegző</td><td>4</td></tr>",
                            "<tr><td>bélyegző</td><td>4</td></tr>",
                            "<tr><td>bélyegzőfesték</td><td>1</td></tr>",
                            "<tr><td>boríték</td><td>7</td></tr>",
                            "<tr><td>boríték</td><td>7</td></tr>",
                            "<tr><td>boríték</td><td>7</td></tr>",
                            "<tr><td>boríték</td><td>7</td></tr>",
                            "<tr><td>boríték</td><td>7</td></tr>",
                            "<tr><td>boríték</td><td>7</td></tr>",
                            "<tr><td>boríték</td><td>7</td></tr>",
                            "<tr><td>cd tok</td><td>1</td></tr>",
                            "<tr><td>celofán</td><td>2</td></tr>",
                            "<tr><td>celofán</td><td>2</td></tr>",
                            "<tr><td>ceruza</td><td>19</td></tr>",
                            "<tr><td>ceruza</td><td>19</td></tr>",
                            "<tr><td>ceruza</td><td>19</td></tr>",
                            "<tr><td>ceruza</td><td>19</td></tr>",
                            "<tr><td>ceruza</td><td>19</td></tr>",
                            "<tr><td>ceruza</td><td>19</td></tr>",
                            "<tr><td>ceruza</td><td>19</td></tr>",
                            "<tr><td>ceruza</td><td>19</td></tr>",
                            "<tr><td>ceruza</td><td>19</td></tr>",
                            "<tr><td>ceruza</td><td>19</td></tr>",
                            "<tr><td>ceruza</td><td>19</td></tr>",
                            "<tr><td>ceruza</td><td>19</td></tr>",
                            "<tr><td>ceruza</td><td>19</td></tr>",
                            "<tr><td>ceruza</td><td>19</td></tr>",
                            "<tr><td>ceruza</td><td>19</td></tr>",
                            "<tr><td>ceruza</td><td>19</td></tr>",
                            "<tr><td>ceruza</td><td>19</td></tr>",
                            "<tr><td>ceruza</td><td>19</td></tr>",
                            "<tr><td>ceruza</td><td>19</td></tr>",
                            "<tr><td>címke</td><td>3</td></tr>",
                            "<tr><td>címke</td><td>3</td></tr>",
                            "<tr><td>címke</td><td>3</td></tr>",
                            "<tr><td>color copy</td><td>5</td></tr>",
                            "<tr><td>color copy</td><td>5</td></tr>",
                            "<tr><td>color copy</td><td>5</td></tr>",
                            "<tr><td>color copy</td><td>5</td></tr>",
                            "<tr><td>color copy</td><td>5</td></tr>",
                            "<tr><td>csomagoló</td><td>2</td></tr>",
                            "<tr><td>csomagoló</td><td>2</td></tr>",
                            "<tr><td>csomagoló papír</td><td>7</td></tr>",
                            "<tr><td>csomagoló papír</td><td>7</td></tr>",
                            "<tr><td>csomagoló papír</td><td>7</td></tr>",
                            "<tr><td>csomagoló papír</td><td>7</td></tr>",
                            "<tr><td>csomagoló papír</td><td>7</td></tr>",
                            "<tr><td>csomagoló papír</td><td>7</td></tr>",
                            "<tr><td>csomagoló papír</td><td>7</td></tr>",
                            "<tr><td>dekor</td><td>4</td></tr>",
                            "<tr><td>dekor</td><td>4</td></tr>",
                            "<tr><td>dekor</td><td>4</td></tr>",
                            "<tr><td>dekor</td><td>4</td></tr>",
                            "<tr><td>dipa</td><td>1</td></tr>",
                            "<tr><td>díszdoboz</td><td>3</td></tr>",
                            "<tr><td>díszdoboz</td><td>3</td></tr>",
                            "<tr><td>díszdoboz</td><td>3</td></tr>",
                            "<tr><td>díszkötöző</td><td>5</td></tr>",
                            "<tr><td>díszkötöző</td><td>5</td></tr>",
                            "<tr><td>díszkötöző</td><td>5</td></tr>",
                            "<tr><td>díszkötöző</td><td>5</td></tr>",
                            "<tr><td>díszkötöző</td><td>5</td></tr>",
                            "<tr><td>dvd</td><td>1</td></tr>",
                            "<tr><td>ecset</td><td>7</td></tr>",
                            "<tr><td>ecset</td><td>7</td></tr>",
                            "<tr><td>ecset</td><td>7</td></tr>",
                            "<tr><td>ecset</td><td>7</td></tr>",
                            "<tr><td>ecset</td><td>7</td></tr>",
                            "<tr><td>ecset</td><td>7</td></tr>",
                            "<tr><td>ecset</td><td>7</td></tr>",
                            "<tr><td>előlap</td><td>1</td></tr>",
                            "<tr><td>emlékkönyv</td><td>3</td></tr>",
                            "<tr><td>emlékkönyv</td><td>3</td></tr>",
                            "<tr><td>emlékkönyv</td><td>3</td></tr>",
                            "<tr><td>emléklap</td><td>1</td></tr>",
                            "<tr><td>fax papír</td><td>1</td></tr>",
                            "<tr><td>fehérnemű</td><td>7</td></tr>",
                            "<tr><td>fehérnemű</td><td>7</td></tr>",
                            "<tr><td>fehérnemű</td><td>7</td></tr>",
                            "<tr><td>fehérnemű</td><td>7</td></tr>",
                            "<tr><td>fehérnemű</td><td>7</td></tr>",
                            "<tr><td>fehérnemű</td><td>7</td></tr>",
                            "<tr><td>fehérnemű</td><td>7</td></tr>",
                            "<tr><td>fénymásoló papír</td><td>5</td></tr>",
                            "<tr><td>fénymásoló papír</td><td>5</td></tr>",
                            "<tr><td>fénymásoló papír</td><td>5</td></tr>",
                            "<tr><td>fénymásoló papír</td><td>5</td></tr>",
                            "<tr><td>fénymásoló papír</td><td>5</td></tr>",
                            "<tr><td>férfi ing</td><td>1</td></tr>",
                            "<tr><td>férfi kabát</td><td>1</td></tr>",
                            "<tr><td>férfi nadrág</td><td>2</td></tr>",
                            "<tr><td>férfi nadrág</td><td>2</td></tr>",
                            "<tr><td>festékpatron</td><td>1</td></tr>",
                            "<tr><td>filctoll</td><td>13</td></tr>",
                            "<tr><td>filctoll</td><td>13</td></tr>",
                            "<tr><td>filctoll</td><td>13</td></tr>",
                            "<tr><td>filctoll</td><td>13</td></tr>",
                            "<tr><td>filctoll</td><td>13</td></tr>",
                            "<tr><td>filctoll</td><td>13</td></tr>",
                            "<tr><td>filctoll</td><td>13</td></tr>",
                            "<tr><td>filctoll</td><td>13</td></tr>",
                            "<tr><td>filctoll</td><td>13</td></tr>",
                            "<tr><td>filctoll</td><td>13</td></tr>",
                            "<tr><td>filctoll</td><td>13</td></tr>",
                            "<tr><td>filctoll</td><td>13</td></tr>",
                            "<tr><td>filctoll</td><td>13</td></tr>",
                            "<tr><td>floppy</td><td>1</td></tr>",
                            "<tr><td>fólia</td><td>3</td></tr>",
                            "<tr><td>fólia</td><td>3</td></tr>",
                            "<tr><td>fólia</td><td>3</td></tr>",
                            "<tr><td>fotópapír</td><td>1</td></tr>",
                            "<tr><td>füzet</td><td>11</td></tr>",
                            "<tr><td>füzet</td><td>11</td></tr>",
                            "<tr><td>füzet</td><td>11</td></tr>",
                            "<tr><td>füzet</td><td>11</td></tr>",
                            "<tr><td>füzet</td><td>11</td></tr>",
                            "<tr><td>füzet</td><td>11</td></tr>",
                            "<tr><td>füzet</td><td>11</td></tr>",
                            "<tr><td>füzet</td><td>11</td></tr>",
                            "<tr><td>füzet</td><td>11</td></tr>",
                            "<tr><td>füzet</td><td>11</td></tr>",
                            "<tr><td>füzet</td><td>11</td></tr>",
                            "<tr><td>füzetborító</td><td>7</td></tr>",
                            "<tr><td>füzetborító</td><td>7</td></tr>",
                            "<tr><td>füzetborító</td><td>7</td></tr>",
                            "<tr><td>füzetborító</td><td>7</td></tr>",
                            "<tr><td>füzetborító</td><td>7</td></tr>",
                            "<tr><td>füzetborító</td><td>7</td></tr>",
                            "<tr><td>füzetborító</td><td>7</td></tr>",
                            "<tr><td>füzettartó</td><td>4</td></tr>",
                            "<tr><td>füzettartó</td><td>4</td></tr>",
                            "<tr><td>füzettartó</td><td>4</td></tr>",
                            "<tr><td>füzettartó</td><td>4</td></tr>",
                            "<tr><td>gemkapocs</td><td>2</td></tr>",
                            "<tr><td>gemkapocs</td><td>2</td></tr>",
                            "<tr><td>gémkapocs</td><td>2</td></tr>",
                            "<tr><td>gémkapocs</td><td>2</td></tr>",
                            "<tr><td>genoterm</td><td>1</td></tr>",
                            "<tr><td>genotherm</td><td>3</td></tr>",
                            "<tr><td>genotherm</td><td>3</td></tr>",
                            "<tr><td>genotherm</td><td>3</td></tr>",
                            "<tr><td>golyóstoll</td><td>26</td></tr>",
                            "<tr><td>golyóstoll</td><td>26</td></tr>",
                            "<tr><td>golyóstoll</td><td>26</td></tr>",
                            "<tr><td>golyóstoll</td><td>26</td></tr>",
                            "<tr><td>golyóstoll</td><td>26</td></tr>",
                            "<tr><td>golyóstoll</td><td>26</td></tr>",
                            "<tr><td>golyóstoll</td><td>26</td></tr>",
                            "<tr><td>golyóstoll</td><td>26</td></tr>",
                            "<tr><td>golyóstoll</td><td>26</td></tr>",
                            "<tr><td>golyóstoll</td><td>26</td></tr>",
                            "<tr><td>golyóstoll</td><td>26</td></tr>",
                            "<tr><td>golyóstoll</td><td>26</td></tr>",
                            "<tr><td>golyóstoll</td><td>26</td></tr>",
                            "<tr><td>golyóstoll</td><td>26</td></tr>",
                            "<tr><td>golyóstoll</td><td>26</td></tr>",
                            "<tr><td>golyóstoll</td><td>26</td></tr>",
                            "<tr><td>golyóstoll</td><td>26</td></tr>",
                            "<tr><td>golyóstoll</td><td>26</td></tr>",
                            "<tr><td>golyóstoll</td><td>26</td></tr>",
                            "<tr><td>golyóstoll</td><td>26</td></tr>",
                            "<tr><td>golyóstoll</td><td>26</td></tr>",
                            "<tr><td>golyóstoll</td><td>26</td></tr>",
                            "<tr><td>golyóstoll</td><td>26</td></tr>",
                            "<tr><td>golyóstoll</td><td>26</td></tr>",
                            "<tr><td>golyóstoll</td><td>26</td></tr>",
                            "<tr><td>golyóstoll</td><td>26</td></tr>",
                            "<tr><td>gumigyűrű</td><td>1</td></tr>",
                            "<tr><td>gyermek cipő</td><td>6</td></tr>",
                            "<tr><td>gyermek cipő</td><td>6</td></tr>",
                            "<tr><td>gyermek cipő</td><td>6</td></tr>",
                            "<tr><td>gyermek cipő</td><td>6</td></tr>",
                            "<tr><td>gyermek cipő</td><td>6</td></tr>",
                            "<tr><td>gyermek cipő</td><td>6</td></tr>",
                            "<tr><td>gyermek kabát</td><td>2</td></tr>",
                            "<tr><td>gyermek kabát</td><td>2</td></tr>",
                            "<tr><td>gyermek nadrág</td><td>4</td></tr>",
                            "<tr><td>gyermek nadrág</td><td>4</td></tr>",
                            "<tr><td>gyermek nadrág</td><td>4</td></tr>",
                            "<tr><td>gyermek nadrág</td><td>4</td></tr>",
                            "<tr><td>gyermek póló</td><td>2</td></tr>",
                            "<tr><td>gyermek póló</td><td>2</td></tr>",
                            "<tr><td>gyorsfűző</td><td>3</td></tr>",
                            "<tr><td>gyorsfűző</td><td>3</td></tr>",
                            "<tr><td>gyorsfűző</td><td>3</td></tr>",
                            "<tr><td>gyurma</td><td>4</td></tr>",
                            "<tr><td>gyurma</td><td>4</td></tr>",
                            "<tr><td>gyurma</td><td>4</td></tr>",
                            "<tr><td>gyurma</td><td>4</td></tr>",
                            "<tr><td>gyűrűskönyv</td><td>5</td></tr>",
                            "<tr><td>gyűrűskönyv</td><td>5</td></tr>",
                            "<tr><td>gyűrűskönyv</td><td>5</td></tr>",
                            "<tr><td>gyűrűskönyv</td><td>5</td></tr>",
                            "<tr><td>gyűrűskönyv</td><td>5</td></tr>",
                            "<tr><td>hajgumi</td><td>1</td></tr>",
                            "<tr><td>határidő napló</td><td>2</td></tr>",
                            "<tr><td>határidő napló</td><td>2</td></tr>",
                            "<tr><td>hegyező</td><td>4</td></tr>",
                            "<tr><td>hegyező</td><td>4</td></tr>",
                            "<tr><td>hegyező</td><td>4</td></tr>",
                            "<tr><td>hegyező</td><td>4</td></tr>",
                            "<tr><td>hegyző</td><td>2</td></tr>",
                            "<tr><td>hegyző</td><td>2</td></tr>",
                            "<tr><td>hibajavító</td><td>7</td></tr>",
                            "<tr><td>hibajavító</td><td>7</td></tr>",
                            "<tr><td>hibajavító</td><td>7</td></tr>",
                            "<tr><td>hibajavító</td><td>7</td></tr>",
                            "<tr><td>hibajavító</td><td>7</td></tr>",
                            "<tr><td>hibajavító</td><td>7</td></tr>",
                            "<tr><td>hibajavító</td><td>7</td></tr>",
                            "<tr><td>hűtőmágnes</td><td>2</td></tr>",
                            "<tr><td>hűtőmágnes</td><td>2</td></tr>",
                            "<tr><td>indigó</td><td>2</td></tr>",
                            "<tr><td>indigó</td><td>2</td></tr>",
                            "<tr><td>írásvetítő fólia</td><td>1</td></tr>",
                            "<tr><td>iratgyűjtő</td><td>3</td></tr>",
                            "<tr><td>iratgyűjtő</td><td>3</td></tr>",
                            "<tr><td>iratgyűjtő</td><td>3</td></tr>",
                            "<tr><td>iratrendező</td><td>2</td></tr>",
                            "<tr><td>iratrendező</td><td>2</td></tr>",
                            "<tr><td>iratsín</td><td>2</td></tr>",
                            "<tr><td>iratsín</td><td>2</td></tr>",
                            "<tr><td>irattartó</td><td>2</td></tr>",
                            "<tr><td>irattartó</td><td>2</td></tr>",
                            "<tr><td>irodaszer</td><td>1</td></tr>",
                            "<tr><td>írólap</td><td>2</td></tr>",
                            "<tr><td>írólap</td><td>2</td></tr>",
                            "<tr><td>ironbél</td><td>5</td></tr>",
                            "<tr><td>ironbél</td><td>5</td></tr>",
                            "<tr><td>ironbél</td><td>5</td></tr>",
                            "<tr><td>ironbél</td><td>5</td></tr>",
                            "<tr><td>ironbél</td><td>5</td></tr>",
                            "<tr><td>iskolaszer</td><td>24</td></tr>",
                            "<tr><td>iskolaszer</td><td>24</td></tr>",
                            "<tr><td>iskolaszer</td><td>24</td></tr>",
                            "<tr><td>iskolaszer</td><td>24</td></tr>",
                            "<tr><td>iskolaszer</td><td>24</td></tr>",
                            "<tr><td>iskolaszer</td><td>24</td></tr>",
                            "<tr><td>iskolaszer</td><td>24</td></tr>",
                            "<tr><td>iskolaszer</td><td>24</td></tr>",
                            "<tr><td>iskolaszer</td><td>24</td></tr>",
                            "<tr><td>iskolaszer</td><td>24</td></tr>",
                            "<tr><td>iskolaszer</td><td>24</td></tr>",
                            "<tr><td>iskolaszer</td><td>24</td></tr>",
                            "<tr><td>iskolaszer</td><td>24</td></tr>",
                            "<tr><td>iskolaszer</td><td>24</td></tr>",
                            "<tr><td>iskolaszer</td><td>24</td></tr>",
                            "<tr><td>iskolaszer</td><td>24</td></tr>",
                            "<tr><td>iskolaszer</td><td>24</td></tr>",
                            "<tr><td>iskolaszer</td><td>24</td></tr>",
                            "<tr><td>iskolaszer</td><td>24</td></tr>",
                            "<tr><td>iskolaszer</td><td>24</td></tr>",
                            "<tr><td>iskolaszer</td><td>24</td></tr>",
                            "<tr><td>iskolaszer</td><td>24</td></tr>",
                            "<tr><td>iskolaszer</td><td>24</td></tr>",
                            "<tr><td>iskolaszer</td><td>24</td></tr>",
                            "<tr><td>játékautó</td><td>4</td></tr>",
                            "<tr><td>játékautó</td><td>4</td></tr>",
                            "<tr><td>játékautó</td><td>4</td></tr>",
                            "<tr><td>játékautó</td><td>4</td></tr>",
                            "<tr><td>jelzőkréta</td><td>1</td></tr>",
                            "<tr><td>kapocskiszedő</td><td>1</td></tr>",
                            "<tr><td>karton</td><td>6</td></tr>",
                            "<tr><td>karton</td><td>6</td></tr>",
                            "<tr><td>karton</td><td>6</td></tr>",
                            "<tr><td>karton</td><td>6</td></tr>",
                            "<tr><td>karton</td><td>6</td></tr>",
                            "<tr><td>karton</td><td>6</td></tr>",
                            "<tr><td>kártya</td><td>1</td></tr>",
                            "<tr><td>képeslap</td><td>16</td></tr>",
                            "<tr><td>képeslap</td><td>16</td></tr>",
                            "<tr><td>képeslap</td><td>16</td></tr>",
                            "<tr><td>képeslap</td><td>16</td></tr>",
                            "<tr><td>képeslap</td><td>16</td></tr>",
                            "<tr><td>képeslap</td><td>16</td></tr>",
                            "<tr><td>képeslap</td><td>16</td></tr>",
                            "<tr><td>képeslap</td><td>16</td></tr>",
                            "<tr><td>képeslap</td><td>16</td></tr>",
                            "<tr><td>képeslap</td><td>16</td></tr>",
                            "<tr><td>képeslap</td><td>16</td></tr>",
                            "<tr><td>képeslap</td><td>16</td></tr>",
                            "<tr><td>képeslap</td><td>16</td></tr>",
                            "<tr><td>képeslap</td><td>16</td></tr>",
                            "<tr><td>képeslap</td><td>16</td></tr>",
                            "<tr><td>képeslap</td><td>16</td></tr>",
                            "<tr><td>képkirakó</td><td>1</td></tr>",
                            "<tr><td>kosztüm</td><td>2</td></tr>",
                            "<tr><td>kosztüm</td><td>2</td></tr>",
                            "<tr><td>könyv</td><td>15</td></tr>",
                            "<tr><td>könyv</td><td>15</td></tr>",
                            "<tr><td>könyv</td><td>15</td></tr>",
                            "<tr><td>könyv</td><td>15</td></tr>",
                            "<tr><td>könyv</td><td>15</td></tr>",
                            "<tr><td>könyv</td><td>15</td></tr>",
                            "<tr><td>könyv</td><td>15</td></tr>",
                            "<tr><td>könyv</td><td>15</td></tr>",
                            "<tr><td>könyv</td><td>15</td></tr>",
                            "<tr><td>könyv</td><td>15</td></tr>",
                            "<tr><td>könyv</td><td>15</td></tr>",
                            "<tr><td>könyv</td><td>15</td></tr>",
                            "<tr><td>könyv</td><td>15</td></tr>",
                            "<tr><td>könyv</td><td>15</td></tr>",
                            "<tr><td>könyv</td><td>15</td></tr>",
                            "<tr><td>körző</td><td>3</td></tr>",
                            "<tr><td>körző</td><td>3</td></tr>",
                            "<tr><td>körző</td><td>3</td></tr>",
                            "<tr><td>kreatív</td><td>2</td></tr>",
                            "<tr><td>kreatív</td><td>2</td></tr>",
                            "<tr><td>kulcstartó</td><td>7</td></tr>",
                            "<tr><td>kulcstartó</td><td>7</td></tr>",
                            "<tr><td>kulcstartó</td><td>7</td></tr>",
                            "<tr><td>kulcstartó</td><td>7</td></tr>",
                            "<tr><td>kulcstartó</td><td>7</td></tr>",
                            "<tr><td>kulcstartó</td><td>7</td></tr>",
                            "<tr><td>kulcstartó</td><td>7</td></tr>",
                            "<tr><td>labda</td><td>2</td></tr>",
                            "<tr><td>labda</td><td>2</td></tr>",
                            "<tr><td>levélpapír</td><td>7</td></tr>",
                            "<tr><td>levélpapír</td><td>7</td></tr>",
                            "<tr><td>levélpapír</td><td>7</td></tr>",
                            "<tr><td>levélpapír</td><td>7</td></tr>",
                            "<tr><td>levélpapír</td><td>7</td></tr>",
                            "<tr><td>levélpapír</td><td>7</td></tr>",
                            "<tr><td>levélpapír</td><td>7</td></tr>",
                            "<tr><td>lufi</td><td>2</td></tr>",
                            "<tr><td>lufi</td><td>2</td></tr>",
                            "<tr><td>lyukasztó</td><td>2</td></tr>",
                            "<tr><td>lyukasztó</td><td>2</td></tr>",
                            "<tr><td>mappa</td><td>9</td></tr>",
                            "<tr><td>mappa</td><td>9</td></tr>",
                            "<tr><td>mappa</td><td>9</td></tr>",
                            "<tr><td>mappa</td><td>9</td></tr>",
                            "<tr><td>mappa</td><td>9</td></tr>",
                            "<tr><td>mappa</td><td>9</td></tr>",
                            "<tr><td>mappa</td><td>9</td></tr>",
                            "<tr><td>mappa</td><td>9</td></tr>",
                            "<tr><td>mappa</td><td>9</td></tr>",
                            "<tr><td>matrica</td><td>10</td></tr>",
                            "<tr><td>matrica</td><td>10</td></tr>",
                            "<tr><td>matrica</td><td>10</td></tr>",
                            "<tr><td>matrica</td><td>10</td></tr>",
                            "<tr><td>matrica</td><td>10</td></tr>",
                            "<tr><td>matrica</td><td>10</td></tr>",
                            "<tr><td>matrica</td><td>10</td></tr>",
                            "<tr><td>matrica</td><td>10</td></tr>",
                            "<tr><td>matrica</td><td>10</td></tr>",
                            "<tr><td>matrica</td><td>10</td></tr>",
                            "<tr><td>meghívó</td><td>4</td></tr>",
                            "<tr><td>meghívó</td><td>4</td></tr>",
                            "<tr><td>meghívó</td><td>4</td></tr>",
                            "<tr><td>meghívó</td><td>4</td></tr>",
                            "<tr><td>miliméterpapír</td><td>1</td></tr>",
                            "<tr><td>munkafüzet</td><td>9</td></tr>",
                            "<tr><td>munkafüzet</td><td>9</td></tr>",
                            "<tr><td>munkafüzet</td><td>9</td></tr>",
                            "<tr><td>munkafüzet</td><td>9</td></tr>",
                            "<tr><td>munkafüzet</td><td>9</td></tr>",
                            "<tr><td>munkafüzet</td><td>9</td></tr>",
                            "<tr><td>munkafüzet</td><td>9</td></tr>",
                            "<tr><td>munkafüzet</td><td>9</td></tr>",
                            "<tr><td>munkafüzet</td><td>9</td></tr>",
                            "<tr><td>műnyomó</td><td>1</td></tr>",
                            "<tr><td>naptár</td><td>1</td></tr>",
                            "<tr><td>naptárhát</td><td>2</td></tr>",
                            "<tr><td>naptárhát</td><td>2</td></tr>",
                            "<tr><td>névjegytartó</td><td>1</td></tr>",
                            "<tr><td>notesz</td><td>5</td></tr>",
                            "<tr><td>notesz</td><td>5</td></tr>",
                            "<tr><td>notesz</td><td>5</td></tr>",
                            "<tr><td>notesz</td><td>5</td></tr>",
                            "<tr><td>notesz</td><td>5</td></tr>",
                            "<tr><td>női kabát</td><td>1</td></tr>",
                            "<tr><td>női nadrág</td><td>1</td></tr>",
                            "<tr><td>ofszet</td><td>1</td></tr>",
                            "<tr><td>oklevél</td><td>2</td></tr>",
                            "<tr><td>oklevél</td><td>2</td></tr>",
                            "<tr><td>olló</td><td>3</td></tr>",
                            "<tr><td>olló</td><td>3</td></tr>",
                            "<tr><td>olló</td><td>3</td></tr>",
                            "<tr><td>öntapadó</td><td>2</td></tr>",
                            "<tr><td>öntapadó</td><td>2</td></tr>",
                            "<tr><td>papízsebkendő</td><td>1</td></tr>",
                            "<tr><td>pausz</td><td>1</td></tr>",
                            "<tr><td>pénztárbizonylat</td><td>2</td></tr>",
                            "<tr><td>pénztárbizonylat</td><td>2</td></tr>",
                            "<tr><td>pénztárgépszalag</td><td>2</td></tr>",
                            "<tr><td>pénztárgépszalag</td><td>2</td></tr>",
                            "<tr><td>pixiron</td><td>9</td></tr>",
                            "<tr><td>pixiron</td><td>9</td></tr>",
                            "<tr><td>pixiron</td><td>9</td></tr>",
                            "<tr><td>pixiron</td><td>9</td></tr>",
                            "<tr><td>pixiron</td><td>9</td></tr>",
                            "<tr><td>pixiron</td><td>9</td></tr>",
                            "<tr><td>pixiron</td><td>9</td></tr>",
                            "<tr><td>pixiron</td><td>9</td></tr>",
                            "<tr><td>pixiron</td><td>9</td></tr>",
                            "<tr><td>plüss</td><td>3</td></tr>",
                            "<tr><td>plüss</td><td>3</td></tr>",
                            "<tr><td>plüss</td><td>3</td></tr>",
                            "<tr><td>post-it</td><td>2</td></tr>",
                            "<tr><td>post-it</td><td>2</td></tr>",
                            "<tr><td>radír</td><td>7</td></tr>",
                            "<tr><td>radír</td><td>7</td></tr>",
                            "<tr><td>radír</td><td>7</td></tr>",
                            "<tr><td>radír</td><td>7</td></tr>",
                            "<tr><td>radír</td><td>7</td></tr>",
                            "<tr><td>radír</td><td>7</td></tr>",
                            "<tr><td>radír</td><td>7</td></tr>",
                            "<tr><td>radírtoll</td><td>2</td></tr>",
                            "<tr><td>radírtoll</td><td>2</td></tr>",
                            "<tr><td>ragasztó</td><td>10</td></tr>",
                            "<tr><td>ragasztó</td><td>10</td></tr>",
                            "<tr><td>ragasztó</td><td>10</td></tr>",
                            "<tr><td>ragasztó</td><td>10</td></tr>",
                            "<tr><td>ragasztó</td><td>10</td></tr>",
                            "<tr><td>ragasztó</td><td>10</td></tr>",
                            "<tr><td>ragasztó</td><td>10</td></tr>",
                            "<tr><td>ragasztó</td><td>10</td></tr>",
                            "<tr><td>ragasztó</td><td>10</td></tr>",
                            "<tr><td>ragasztó</td><td>10</td></tr>",
                            "<tr><td>ragasztószalag</td><td>4</td></tr>",
                            "<tr><td>ragasztószalag</td><td>4</td></tr>",
                            "<tr><td>ragasztószalag</td><td>4</td></tr>",
                            "<tr><td>ragasztószalag</td><td>4</td></tr>",
                            "<tr><td>rágógumi</td><td>1</td></tr>",
                            "<tr><td>rajzlap</td><td>2</td></tr>",
                            "<tr><td>rajzlap</td><td>2</td></tr>",
                            "<tr><td>rajzszeg</td><td>2</td></tr>",
                            "<tr><td>rajzszeg</td><td>2</td></tr>",
                            "<tr><td>regiszteres füzet</td><td>2</td></tr>",
                            "<tr><td>regiszteres füzet</td><td>2</td></tr>",
                            "<tr><td>sál</td><td>1</td></tr>",
                            "<tr><td>spirál</td><td>1</td></tr>",
                            "<tr><td>strandlabda</td><td>1</td></tr>",
                            "<tr><td>szalvéta</td><td>6</td></tr>",
                            "<tr><td>szalvéta</td><td>6</td></tr>",
                            "<tr><td>szalvéta</td><td>6</td></tr>",
                            "<tr><td>szalvéta</td><td>6</td></tr>",
                            "<tr><td>szalvéta</td><td>6</td></tr>",
                            "<tr><td>szalvéta</td><td>6</td></tr>",
                            "<tr><td>számológép</td><td>2</td></tr>",
                            "<tr><td>számológép</td><td>2</td></tr>",
                            "<tr><td>szemetes</td><td>1</td></tr>",
                            "<tr><td>színes</td><td>2</td></tr>",
                            "<tr><td>színes</td><td>2</td></tr>",
                            "<tr><td>szögmérő</td><td>3</td></tr>",
                            "<tr><td>szögmérő</td><td>3</td></tr>",
                            "<tr><td>szögmérő</td><td>3</td></tr>",
                            "<tr><td>szövegkiemelő</td><td>5</td></tr>",
                            "<tr><td>szövegkiemelő</td><td>5</td></tr>",
                            "<tr><td>szövegkiemelő</td><td>5</td></tr>",
                            "<tr><td>szövegkiemelő</td><td>5</td></tr>",
                            "<tr><td>szövegkiemelő</td><td>5</td></tr>",
                            "<tr><td>táblafilc</td><td>1</td></tr>",
                            "<tr><td>tapétavágó</td><td>1</td></tr>",
                            "<tr><td>tempera</td><td>2</td></tr>",
                            "<tr><td>tempera</td><td>2</td></tr>",
                            "<tr><td>térképtű</td><td>1</td></tr>",
                            "<tr><td>tintapatron</td><td>3</td></tr>",
                            "<tr><td>tintapatron</td><td>3</td></tr>",
                            "<tr><td>tintapatron</td><td>3</td></tr>",
                            "<tr><td>toll</td><td>2</td></tr>",
                            "<tr><td>toll</td><td>2</td></tr>",
                            "<tr><td>tollbetét</td><td>18</td></tr>",
                            "<tr><td>tollbetét</td><td>18</td></tr>",
                            "<tr><td>tollbetét</td><td>18</td></tr>",
                            "<tr><td>tollbetét</td><td>18</td></tr>",
                            "<tr><td>tollbetét</td><td>18</td></tr>",
                            "<tr><td>tollbetét</td><td>18</td></tr>",
                            "<tr><td>tollbetét</td><td>18</td></tr>",
                            "<tr><td>tollbetét</td><td>18</td></tr>",
                            "<tr><td>tollbetét</td><td>18</td></tr>",
                            "<tr><td>tollbetét</td><td>18</td></tr>",
                            "<tr><td>tollbetét</td><td>18</td></tr>",
                            "<tr><td>tollbetét</td><td>18</td></tr>",
                            "<tr><td>tollbetét</td><td>18</td></tr>",
                            "<tr><td>tollbetét</td><td>18</td></tr>",
                            "<tr><td>tollbetét</td><td>18</td></tr>",
                            "<tr><td>tollbetét</td><td>18</td></tr>",
                            "<tr><td>tollbetét</td><td>18</td></tr>",
                            "<tr><td>tollbetét</td><td>18</td></tr>",
                            "<tr><td>tolltartó</td><td>7</td></tr>",
                            "<tr><td>tolltartó</td><td>7</td></tr>",
                            "<tr><td>tolltartó</td><td>7</td></tr>",
                            "<tr><td>tolltartó</td><td>7</td></tr>",
                            "<tr><td>tolltartó</td><td>7</td></tr>",
                            "<tr><td>tolltartó</td><td>7</td></tr>",
                            "<tr><td>tolltartó</td><td>7</td></tr>",
                            "<tr><td>toner</td><td>1</td></tr>",
                            "<tr><td>töltőtoll</td><td>1</td></tr>",
                            "<tr><td>tűzőgép</td><td>6</td></tr>",
                            "<tr><td>tűzőgép</td><td>6</td></tr>",
                            "<tr><td>tűzőgép</td><td>6</td></tr>",
                            "<tr><td>tűzőgép</td><td>6</td></tr>",
                            "<tr><td>tűzőgép</td><td>6</td></tr>",
                            "<tr><td>tűzőgép</td><td>6</td></tr>",
                            "<tr><td>tűzőkapocs</td><td>2</td></tr>",
                            "<tr><td>tűzőkapocs</td><td>2</td></tr>",
                            "<tr><td>vízfesték</td><td>4</td></tr>",
                            "<tr><td>vízfesték</td><td>4</td></tr>",
                            "<tr><td>vízfesték</td><td>4</td></tr>",
                            "<tr><td>vízfesték</td><td>4</td></tr>",
                            "<tr><td>vonalzó</td><td>6</td></tr>",
                            "<tr><td>vonalzó</td><td>6</td></tr>",
                            "<tr><td>vonalzó</td><td>6</td></tr>",
                            "<tr><td>vonalzó</td><td>6</td></tr>",
                            "<tr><td>vonalzó</td><td>6</td></tr>",
                            "<tr><td>vonalzó</td><td>6</td></tr>",
                            "<tr><td>zászló</td><td>1</td></tr>",
                            "<tr><td>zseléstoll</td><td>4</td></tr>",
                            "<tr><td>zseléstoll</td><td>4</td></tr>",
                            "<tr><td>zseléstoll</td><td>4</td></tr>",
                            "<tr><td>zseléstoll</td><td>4</td></tr>",
                            "</table>"
                        ]
                    }
                }
            ],
            "execution_count": 6
        },
        {
            "cell_type": "markdown",
            "source": [
                "8. <span style=\"font-weight: 600; color: rgb(36, 41, 47); font-family: -apple-system, BlinkMacSystemFont, &quot;Segoe UI&quot;, Helvetica, Arial, sans-serif, &quot;Apple Color Emoji&quot;, &quot;Segoe UI Emoji&quot;; font-size: 16px;\">Készítsünk listát a rendelési tételekről. Az egyes rendelési tételeket termékenként soroljuk be 4 osztályba a rendelés mennyisége alapján. Jelenítsük meg ezt az információt is egy új oszlopban, az oszlop neve legyen 'Mennyiségi kategória'.</span>\n",
                "\n",
                "1. A lista csak a 100 Ft feletti egységárú rendelési tételeket vegye figyelembe!"
            ],
            "metadata": {
                "azdata_cell_guid": "27a3d3dc-eafb-4a5e-b103-9f465b9eda8f"
            },
            "attachments": {}
        },
        {
            "cell_type": "code",
            "source": [
                "SELECT*,\r\n",
                "NTILE(4) OVER(PARTITION BY Termekkod ORDER BY mennyiseg) \r\n",
                "AS 'Mennyiség kategória'\r\n",
                "FROM Rendeles_tetel\r\n",
                "WHERE EGYSEGAR > 100"
            ],
            "metadata": {
                "azdata_cell_guid": "f09edb3f-649b-4a96-958e-9e12774ae8b7",
                "language": "sql"
            },
            "outputs": [],
            "execution_count": null
        },
        {
            "cell_type": "markdown",
            "source": [
                "9. <span style=\"font-weight: 600; color: rgb(36, 41, 47); font-family: -apple-system, BlinkMacSystemFont, &quot;Segoe UI&quot;, Helvetica, Arial, sans-serif, &quot;Apple Color Emoji&quot;, &quot;Segoe UI Emoji&quot;; font-size: 16px;\">Listázzuk a termékek kódját, megnevezését, kategóriájának nevét, és listaárát.</span>\n",
                "\n",
                "1. A listát egészítsük ki két új oszloppal, amelyek a kategória legolcsóbb, illetve legdrágább termékének árát tartalmazzák.\n",
                "2. A két új oszlop létrehozásánál partíciókkal dolgozzunk!"
            ],
            "metadata": {
                "azdata_cell_guid": "f12a331a-0e26-4d3d-9c68-812316286577"
            },
            "attachments": {}
        },
        {
            "cell_type": "code",
            "source": [
                "SELECT t.TERMEKKOD,\r\n",
                "    tk.KAT_NEV,\r\n",
                "    t.LISTAAR,\r\n",
                "    MIN(LISTAAR) OVER(PARTITION BY t.KAT_ID ORDER BY LISTAAR),\r\n",
                "    MAX(LISTAAR) OVER(PARTITION BY t.KAT_ID ORDER BY LISTAAR)\r\n",
                "\r\n",
                "FROM Termek t Join Termekkategoria tk ON t.KAT_ID = tk.KAT_ID"
            ],
            "metadata": {
                "azdata_cell_guid": "10a77fc9-e61a-46fc-a401-59720d82bc50",
                "language": "sql"
            },
            "outputs": [
                {
                    "output_type": "display_data",
                    "data": {
                        "text/html": "(551 rows affected)"
                    },
                    "metadata": {}
                },
                {
                    "output_type": "display_data",
                    "data": {
                        "text/html": "Total execution time: 00:00:00.019"
                    },
                    "metadata": {}
                },
                {
                    "output_type": "execute_result",
                    "metadata": {},
                    "execution_count": 10,
                    "data": {
                        "application/vnd.dataresource+json": {
                            "schema": {
                                "fields": [
                                    {
                                        "name": "TERMEKKOD"
                                    },
                                    {
                                        "name": "KAT_NEV"
                                    },
                                    {
                                        "name": "LISTAAR"
                                    },
                                    {
                                        "name": "(No column name)"
                                    },
                                    {
                                        "name": "(No column name)"
                                    }
                                ]
                            },
                            "data": [
                                {
                                    "TERMEKKOD": "08070491T",
                                    "KAT_NEV": "könyv",
                                    "LISTAAR": "214",
                                    "(No column name)": "214"
                                },
                                {
                                    "TERMEKKOD": "08070485T",
                                    "KAT_NEV": "könyv",
                                    "LISTAAR": "291",
                                    "(No column name)": "291"
                                },
                                {
                                    "TERMEKKOD": "08070480T",
                                    "KAT_NEV": "könyv",
                                    "LISTAAR": "308",
                                    "(No column name)": "308"
                                },
                                {
                                    "TERMEKKOD": "08070483T",
                                    "KAT_NEV": "könyv",
                                    "LISTAAR": "324",
                                    "(No column name)": "324"
                                },
                                {
                                    "TERMEKKOD": "08070484T",
                                    "KAT_NEV": "könyv",
                                    "LISTAAR": "345",
                                    "(No column name)": "345"
                                },
                                {
                                    "TERMEKKOD": "08070494T",
                                    "KAT_NEV": "könyv",
                                    "LISTAAR": "440",
                                    "(No column name)": "440"
                                },
                                {
                                    "TERMEKKOD": "08070495T",
                                    "KAT_NEV": "könyv",
                                    "LISTAAR": "440",
                                    "(No column name)": "440"
                                },
                                {
                                    "TERMEKKOD": "08070479T",
                                    "KAT_NEV": "könyv",
                                    "LISTAAR": "674",
                                    "(No column name)": "674"
                                },
                                {
                                    "TERMEKKOD": "08070490T",
                                    "KAT_NEV": "könyv",
                                    "LISTAAR": "691",
                                    "(No column name)": "691"
                                },
                                {
                                    "TERMEKKOD": "08070493T",
                                    "KAT_NEV": "könyv",
                                    "LISTAAR": "720",
                                    "(No column name)": "720"
                                },
                                {
                                    "TERMEKKOD": "08070492T",
                                    "KAT_NEV": "könyv",
                                    "LISTAAR": "735",
                                    "(No column name)": "735"
                                },
                                {
                                    "TERMEKKOD": "08070489T",
                                    "KAT_NEV": "könyv",
                                    "LISTAAR": "868",
                                    "(No column name)": "868"
                                },
                                {
                                    "TERMEKKOD": "08070472T",
                                    "KAT_NEV": "könyv",
                                    "LISTAAR": "1089",
                                    "(No column name)": "1089"
                                },
                                {
                                    "TERMEKKOD": "08070473T",
                                    "KAT_NEV": "könyv",
                                    "LISTAAR": "1089",
                                    "(No column name)": "1089"
                                },
                                {
                                    "TERMEKKOD": "08070474T",
                                    "KAT_NEV": "könyv",
                                    "LISTAAR": "1089",
                                    "(No column name)": "1089"
                                },
                                {
                                    "TERMEKKOD": "04050035T",
                                    "KAT_NEV": "ajándék tárgy",
                                    "LISTAAR": "24",
                                    "(No column name)": "24"
                                },
                                {
                                    "TERMEKKOD": "04110258T",
                                    "KAT_NEV": "ajándék tárgy",
                                    "LISTAAR": "73",
                                    "(No column name)": "73"
                                },
                                {
                                    "TERMEKKOD": "04050267T",
                                    "KAT_NEV": "ajándék tárgy",
                                    "LISTAAR": "129",
                                    "(No column name)": "129"
                                },
                                {
                                    "TERMEKKOD": "04030285T",
                                    "KAT_NEV": "ajándék tasak",
                                    "LISTAAR": "11",
                                    "(No column name)": "11"
                                },
                                {
                                    "TERMEKKOD": "03080004T",
                                    "KAT_NEV": "ajándék tasak",
                                    "LISTAAR": "19",
                                    "(No column name)": "19"
                                },
                                {
                                    "TERMEKKOD": "03080006T",
                                    "KAT_NEV": "ajándék tasak",
                                    "LISTAAR": "26",
                                    "(No column name)": "26"
                                },
                                {
                                    "TERMEKKOD": "03050457T",
                                    "KAT_NEV": "ajándék tasak",
                                    "LISTAAR": "26",
                                    "(No column name)": "26"
                                },
                                {
                                    "TERMEKKOD": "03050459T",
                                    "KAT_NEV": "ajándék tasak",
                                    "LISTAAR": "40",
                                    "(No column name)": "40"
                                },
                                {
                                    "TERMEKKOD": "03080013T",
                                    "KAT_NEV": "ajándék tasak",
                                    "LISTAAR": "64",
                                    "(No column name)": "64"
                                },
                                {
                                    "TERMEKKOD": "03080014T",
                                    "KAT_NEV": "ajándék tasak",
                                    "LISTAAR": "81",
                                    "(No column name)": "81"
                                },
                                {
                                    "TERMEKKOD": "03080008T",
                                    "KAT_NEV": "ajándék tasak",
                                    "LISTAAR": "103",
                                    "(No column name)": "103"
                                },
                                {
                                    "TERMEKKOD": "03080439T",
                                    "KAT_NEV": "ajándék tasak",
                                    "LISTAAR": "114",
                                    "(No column name)": "114"
                                },
                                {
                                    "TERMEKKOD": "03080012T",
                                    "KAT_NEV": "ajándék tasak",
                                    "LISTAAR": "125",
                                    "(No column name)": "125"
                                },
                                {
                                    "TERMEKKOD": "03080009T",
                                    "KAT_NEV": "ajándék tasak",
                                    "LISTAAR": "148",
                                    "(No column name)": "148"
                                },
                                {
                                    "TERMEKKOD": "03080011T",
                                    "KAT_NEV": "ajándék tasak",
                                    "LISTAAR": "148",
                                    "(No column name)": "148"
                                },
                                {
                                    "TERMEKKOD": "03050458T",
                                    "KAT_NEV": "ajándék tasak",
                                    "LISTAAR": "148",
                                    "(No column name)": "148"
                                },
                                {
                                    "TERMEKKOD": "03080015T",
                                    "KAT_NEV": "ajándék tasak",
                                    "LISTAAR": "169",
                                    "(No column name)": "169"
                                },
                                {
                                    "TERMEKKOD": "03080437T",
                                    "KAT_NEV": "ajándék tasak",
                                    "LISTAAR": "185",
                                    "(No column name)": "185"
                                },
                                {
                                    "TERMEKKOD": "03080003T",
                                    "KAT_NEV": "ajándék tasak",
                                    "LISTAAR": "185",
                                    "(No column name)": "185"
                                },
                                {
                                    "TERMEKKOD": "03080007T",
                                    "KAT_NEV": "ajándék tasak",
                                    "LISTAAR": "206",
                                    "(No column name)": "206"
                                },
                                {
                                    "TERMEKKOD": "03080010T",
                                    "KAT_NEV": "ajándék tasak",
                                    "LISTAAR": "206",
                                    "(No column name)": "206"
                                },
                                {
                                    "TERMEKKOD": "03080438T",
                                    "KAT_NEV": "ajándék tasak",
                                    "LISTAAR": "214",
                                    "(No column name)": "214"
                                },
                                {
                                    "TERMEKKOD": "03080005T",
                                    "KAT_NEV": "ajándék tasak",
                                    "LISTAAR": "290",
                                    "(No column name)": "290"
                                },
                                {
                                    "TERMEKKOD": "04050022T",
                                    "KAT_NEV": "álarc",
                                    "LISTAAR": "89",
                                    "(No column name)": "89"
                                },
                                {
                                    "TERMEKKOD": "04050023T",
                                    "KAT_NEV": "álarc",
                                    "LISTAAR": "144",
                                    "(No column name)": "144"
                                },
                                {
                                    "TERMEKKOD": "04050024T",
                                    "KAT_NEV": "álarc",
                                    "LISTAAR": "144",
                                    "(No column name)": "144"
                                },
                                {
                                    "TERMEKKOD": "G041-AL211",
                                    "KAT_NEV": "alkalmi",
                                    "LISTAAR": "16900",
                                    "(No column name)": "16900"
                                },
                                {
                                    "TERMEKKOD": "L041-AL211",
                                    "KAT_NEV": "alkalmi",
                                    "LISTAAR": "16900",
                                    "(No column name)": "16900"
                                },
                                {
                                    "TERMEKKOD": "N029-AL212",
                                    "KAT_NEV": "alkalmi",
                                    "LISTAAR": "32000",
                                    "(No column name)": "32000"
                                },
                                {
                                    "TERMEKKOD": "05010026T",
                                    "KAT_NEV": "alufólia",
                                    "LISTAAR": "118",
                                    "(No column name)": "118"
                                },
                                {
                                    "TERMEKKOD": "05010027T",
                                    "KAT_NEV": "alufólia",
                                    "LISTAAR": "214",
                                    "(No column name)": "214"
                                },
                                {
                                    "TERMEKKOD": "02010028T",
                                    "KAT_NEV": "árazószalag",
                                    "LISTAAR": "106",
                                    "(No column name)": "106"
                                },
                                {
                                    "TERMEKKOD": "02020029T",
                                    "KAT_NEV": "átírótömb",
                                    "LISTAAR": "115",
                                    "(No column name)": "115"
                                },
                                {
                                    "TERMEKKOD": "06080423T",
                                    "KAT_NEV": "beíró",
                                    "LISTAAR": "228",
                                    "(No column name)": "228"
                                },
                                {
                                    "TERMEKKOD": "02020032T",
                                    "KAT_NEV": "beírókönyv",
                                    "LISTAAR": "133",
                                    "(No column name)": "133"
                                },
                                {
                                    "TERMEKKOD": "02020033T",
                                    "KAT_NEV": "beírókönyv",
                                    "LISTAAR": "328",
                                    "(No column name)": "328"
                                },
                                {
                                    "TERMEKKOD": "02060039T",
                                    "KAT_NEV": "bélyegző",
                                    "LISTAAR": "650",
                                    "(No column name)": "650"
                                },
                                {
                                    "TERMEKKOD": "02060038T",
                                    "KAT_NEV": "bélyegző",
                                    "LISTAAR": "780",
                                    "(No column name)": "780"
                                },
                                {
                                    "TERMEKKOD": "02060448T",
                                    "KAT_NEV": "bélyegző",
                                    "LISTAAR": "1147",
                                    "(No column name)": "1147"
                                },
                                {
                                    "TERMEKKOD": "02060447T",
                                    "KAT_NEV": "bélyegző",
                                    "LISTAAR": "1377",
                                    "(No column name)": "1377"
                                },
                                {
                                    "TERMEKKOD": "02060034T",
                                    "KAT_NEV": "bélyegzőfesték",
                                    "LISTAAR": "297",
                                    "(No column name)": "297"
                                },
                                {
                                    "TERMEKKOD": "02030042T",
                                    "KAT_NEV": "boríték",
                                    "LISTAAR": "3",
                                    "(No column name)": "3"
                                },
                                {
                                    "TERMEKKOD": "02030040T",
                                    "KAT_NEV": "boríték",
                                    "LISTAAR": "6",
                                    "(No column name)": "6"
                                },
                                {
                                    "TERMEKKOD": "02030041T",
                                    "KAT_NEV": "boríték",
                                    "LISTAAR": "6",
                                    "(No column name)": "6"
                                },
                                {
                                    "TERMEKKOD": "02050460T",
                                    "KAT_NEV": "boríték",
                                    "LISTAAR": "15",
                                    "(No column name)": "15"
                                },
                                {
                                    "TERMEKKOD": "02030044T",
                                    "KAT_NEV": "boríték",
                                    "LISTAAR": "15",
                                    "(No column name)": "15"
                                },
                                {
                                    "TERMEKKOD": "02050461T",
                                    "KAT_NEV": "boríték",
                                    "LISTAAR": "18",
                                    "(No column name)": "18"
                                },
                                {
                                    "TERMEKKOD": "02030043T",
                                    "KAT_NEV": "boríték",
                                    "LISTAAR": "39",
                                    "(No column name)": "39"
                                },
                                {
                                    "TERMEKKOD": "02080069T",
                                    "KAT_NEV": "cd tok",
                                    "LISTAAR": "30",
                                    "(No column name)": "30"
                                },
                                {
                                    "TERMEKKOD": "05050045T",
                                    "KAT_NEV": "celofán",
                                    "LISTAAR": "46",
                                    "(No column name)": "46"
                                },
                                {
                                    "TERMEKKOD": "05050046T",
                                    "KAT_NEV": "celofán",
                                    "LISTAAR": "73",
                                    "(No column name)": "73"
                                },
                                {
                                    "TERMEKKOD": "07080065T",
                                    "KAT_NEV": "ceruza",
                                    "LISTAAR": "11",
                                    "(No column name)": "11"
                                },
                                {
                                    "TERMEKKOD": "07040058T",
                                    "KAT_NEV": "ceruza",
                                    "LISTAAR": "11",
                                    "(No column name)": "11"
                                },
                                {
                                    "TERMEKKOD": "07040053T",
                                    "KAT_NEV": "ceruza",
                                    "LISTAAR": "23",
                                    "(No column name)": "23"
                                },
                                {
                                    "TERMEKKOD": "07040050T",
                                    "KAT_NEV": "ceruza",
                                    "LISTAAR": "30",
                                    "(No column name)": "30"
                                },
                                {
                                    "TERMEKKOD": "07080063T",
                                    "KAT_NEV": "ceruza",
                                    "LISTAAR": "35",
                                    "(No column name)": "35"
                                },
                                {
                                    "TERMEKKOD": "07040060T",
                                    "KAT_NEV": "ceruza",
                                    "LISTAAR": "36",
                                    "(No column name)": "36"
                                },
                                {
                                    "TERMEKKOD": "07040051T",
                                    "KAT_NEV": "ceruza",
                                    "LISTAAR": "39",
                                    "(No column name)": "39"
                                },
                                {
                                    "TERMEKKOD": "07040047T",
                                    "KAT_NEV": "ceruza",
                                    "LISTAAR": "39",
                                    "(No column name)": "39"
                                },
                                {
                                    "TERMEKKOD": "07040049T",
                                    "KAT_NEV": "ceruza",
                                    "LISTAAR": "40",
                                    "(No column name)": "40"
                                },
                                {
                                    "TERMEKKOD": "07080064T",
                                    "KAT_NEV": "ceruza",
                                    "LISTAAR": "40",
                                    "(No column name)": "40"
                                },
                                {
                                    "TERMEKKOD": "07040056T",
                                    "KAT_NEV": "ceruza",
                                    "LISTAAR": "40",
                                    "(No column name)": "40"
                                },
                                {
                                    "TERMEKKOD": "07040061T",
                                    "KAT_NEV": "ceruza",
                                    "LISTAAR": "44",
                                    "(No column name)": "44"
                                },
                                {
                                    "TERMEKKOD": "07040052T",
                                    "KAT_NEV": "ceruza",
                                    "LISTAAR": "53",
                                    "(No column name)": "53"
                                },
                                {
                                    "TERMEKKOD": "07040054T",
                                    "KAT_NEV": "ceruza",
                                    "LISTAAR": "55",
                                    "(No column name)": "55"
                                },
                                {
                                    "TERMEKKOD": "07040048T",
                                    "KAT_NEV": "ceruza",
                                    "LISTAAR": "55",
                                    "(No column name)": "55"
                                },
                                {
                                    "TERMEKKOD": "07040059T",
                                    "KAT_NEV": "ceruza",
                                    "LISTAAR": "58",
                                    "(No column name)": "58"
                                },
                                {
                                    "TERMEKKOD": "07040055T",
                                    "KAT_NEV": "ceruza",
                                    "LISTAAR": "59",
                                    "(No column name)": "59"
                                },
                                {
                                    "TERMEKKOD": "07040057T",
                                    "KAT_NEV": "ceruza",
                                    "LISTAAR": "106",
                                    "(No column name)": "106"
                                },
                                {
                                    "TERMEKKOD": "07080062T",
                                    "KAT_NEV": "ceruza",
                                    "LISTAAR": "146",
                                    "(No column name)": "146"
                                },
                                {
                                    "TERMEKKOD": "04110068T",
                                    "KAT_NEV": "címke",
                                    "LISTAAR": "20",
                                    "(No column name)": "20"
                                },
                                {
                                    "TERMEKKOD": "04110066T",
                                    "KAT_NEV": "címke",
                                    "LISTAAR": "26",
                                    "(No column name)": "26"
                                },
                                {
                                    "TERMEKKOD": "04110067T",
                                    "KAT_NEV": "címke",
                                    "LISTAAR": "31",
                                    "(No column name)": "31"
                                },
                                {
                                    "TERMEKKOD": "01100503T",
                                    "KAT_NEV": "color copy",
                                    "LISTAAR": "10",
                                    "(No column name)": "10"
                                },
                                {
                                    "TERMEKKOD": "01090500T",
                                    "KAT_NEV": "color copy",
                                    "LISTAAR": "14",
                                    "(No column name)": "14"
                                },
                                {
                                    "TERMEKKOD": "01100497T",
                                    "KAT_NEV": "color copy",
                                    "LISTAAR": "14",
                                    "(No column name)": "14"
                                },
                                {
                                    "TERMEKKOD": "01090499T",
                                    "KAT_NEV": "color copy",
                                    "LISTAAR": "15",
                                    "(No column name)": "15"
                                },
                                {
                                    "TERMEKKOD": "01100496T",
                                    "KAT_NEV": "color copy",
                                    "LISTAAR": "1500",
                                    "(No column name)": "1500"
                                },
                                {
                                    "TERMEKKOD": "05010370T",
                                    "KAT_NEV": "csomagoló",
                                    "LISTAAR": "89",
                                    "(No column name)": "89"
                                },
                                {
                                    "TERMEKKOD": "03080016T",
                                    "KAT_NEV": "csomagoló",
                                    "LISTAAR": "110",
                                    "(No column name)": "110"
                                },
                                {
                                    "TERMEKKOD": "03080021T",
                                    "KAT_NEV": "csomagoló papír",
                                    "LISTAAR": "23",
                                    "(No column name)": "23"
                                },
                                {
                                    "TERMEKKOD": "03080020T",
                                    "KAT_NEV": "csomagoló papír",
                                    "LISTAAR": "44",
                                    "(No column name)": "44"
                                },
                                {
                                    "TERMEKKOD": "03080019T",
                                    "KAT_NEV": "csomagoló papír",
                                    "LISTAAR": "56",
                                    "(No column name)": "56"
                                },
                                {
                                    "TERMEKKOD": "03080031T",
                                    "KAT_NEV": "csomagoló papír",
                                    "LISTAAR": "106",
                                    "(No column name)": "106"
                                },
                                {
                                    "TERMEKKOD": "03080018T",
                                    "KAT_NEV": "csomagoló papír",
                                    "LISTAAR": "121",
                                    "(No column name)": "121"
                                },
                                {
                                    "TERMEKKOD": "03080017T",
                                    "KAT_NEV": "csomagoló papír",
                                    "LISTAAR": "148",
                                    "(No column name)": "148"
                                },
                                {
                                    "TERMEKKOD": "03080030T",
                                    "KAT_NEV": "csomagoló papír",
                                    "LISTAAR": "220",
                                    "(No column name)": "220"
                                },
                                {
                                    "TERMEKKOD": "04030288T",
                                    "KAT_NEV": "dekor",
                                    "LISTAAR": "3",
                                    "(No column name)": "3"
                                },
                                {
                                    "TERMEKKOD": "04030289T",
                                    "KAT_NEV": "dekor",
                                    "LISTAAR": "15",
                                    "(No column name)": "15"
                                },
                                {
                                    "TERMEKKOD": "04030287T",
                                    "KAT_NEV": "dekor",
                                    "LISTAAR": "23",
                                    "(No column name)": "23"
                                },
                                {
                                    "TERMEKKOD": "04030286T",
                                    "KAT_NEV": "dekor",
                                    "LISTAAR": "44",
                                    "(No column name)": "44"
                                },
                                {
                                    "TERMEKKOD": "01100072T",
                                    "KAT_NEV": "dipa",
                                    "LISTAAR": "9",
                                    "(No column name)": "9"
                                },
                                {
                                    "TERMEKKOD": "04050075T",
                                    "KAT_NEV": "díszdoboz",
                                    "LISTAAR": "44",
                                    "(No column name)": "44"
                                },
                                {
                                    "TERMEKKOD": "04050073T",
                                    "KAT_NEV": "díszdoboz",
                                    "LISTAAR": "61",
                                    "(No column name)": "61"
                                },
                                {
                                    "TERMEKKOD": "04050074T",
                                    "KAT_NEV": "díszdoboz",
                                    "LISTAAR": "66",
                                    "(No column name)": "66"
                                },
                                {
                                    "TERMEKKOD": "03050078T",
                                    "KAT_NEV": "díszkötöző",
                                    "LISTAAR": "15",
                                    "(No column name)": "15"
                                },
                                {
                                    "TERMEKKOD": "03050079T",
                                    "KAT_NEV": "díszkötöző",
                                    "LISTAAR": "15",
                                    "(No column name)": "15"
                                },
                                {
                                    "TERMEKKOD": "03050076T",
                                    "KAT_NEV": "díszkötöző",
                                    "LISTAAR": "26",
                                    "(No column name)": "26"
                                },
                                {
                                    "TERMEKKOD": "03050077T",
                                    "KAT_NEV": "díszkötöző",
                                    "LISTAAR": "44",
                                    "(No column name)": "44"
                                },
                                {
                                    "TERMEKKOD": "03050080T",
                                    "KAT_NEV": "díszkötöző",
                                    "LISTAAR": "81",
                                    "(No column name)": "81"
                                },
                                {
                                    "TERMEKKOD": "02080081T",
                                    "KAT_NEV": "dvd",
                                    "LISTAAR": "133",
                                    "(No column name)": "133"
                                },
                                {
                                    "TERMEKKOD": "06010083T",
                                    "KAT_NEV": "ecset",
                                    "LISTAAR": "33",
                                    "(No column name)": "33"
                                },
                                {
                                    "TERMEKKOD": "06010086T",
                                    "KAT_NEV": "ecset",
                                    "LISTAAR": "36",
                                    "(No column name)": "36"
                                },
                                {
                                    "TERMEKKOD": "06010082T",
                                    "KAT_NEV": "ecset",
                                    "LISTAAR": "40",
                                    "(No column name)": "40"
                                },
                                {
                                    "TERMEKKOD": "06010084T",
                                    "KAT_NEV": "ecset",
                                    "LISTAAR": "60",
                                    "(No column name)": "60"
                                },
                                {
                                    "TERMEKKOD": "06010085T",
                                    "KAT_NEV": "ecset",
                                    "LISTAAR": "65",
                                    "(No column name)": "65"
                                },
                                {
                                    "TERMEKKOD": "06040087T",
                                    "KAT_NEV": "ecset",
                                    "LISTAAR": "79",
                                    "(No column name)": "79"
                                },
                                {
                                    "TERMEKKOD": "06080428T",
                                    "KAT_NEV": "ecset",
                                    "LISTAAR": "180",
                                    "(No column name)": "180"
                                },
                                {
                                    "TERMEKKOD": "01040502T",
                                    "KAT_NEV": "előlap",
                                    "LISTAAR": "25",
                                    "(No column name)": "25"
                                },
                                {
                                    "TERMEKKOD": "04080442T",
                                    "KAT_NEV": "emlékkönyv",
                                    "LISTAAR": "316",
                                    "(No column name)": "316"
                                },
                                {
                                    "TERMEKKOD": "04080443T",
                                    "KAT_NEV": "emlékkönyv",
                                    "LISTAAR": "449",
                                    "(No column name)": "449"
                                },
                                {
                                    "TERMEKKOD": "04040090T",
                                    "KAT_NEV": "emlékkönyv",
                                    "LISTAAR": "526",
                                    "(No column name)": "526"
                                },
                                {
                                    "TERMEKKOD": "01030091T",
                                    "KAT_NEV": "emléklap",
                                    "LISTAAR": "26",
                                    "(No column name)": "26"
                                },
                                {
                                    "TERMEKKOD": "01080093T",
                                    "KAT_NEV": "fax papír",
                                    "LISTAAR": "161",
                                    "(No column name)": "161"
                                },
                                {
                                    "TERMEKKOD": "L029-FE307",
                                    "KAT_NEV": "fehérnemű",
                                    "LISTAAR": "240",
                                    "(No column name)": "240"
                                },
                                {
                                    "TERMEKKOD": "G029-FE307",
                                    "KAT_NEV": "fehérnemű",
                                    "LISTAAR": "240",
                                    "(No column name)": "240"
                                },
                                {
                                    "TERMEKKOD": "L023-FE301",
                                    "KAT_NEV": "fehérnemű",
                                    "LISTAAR": "390",
                                    "(No column name)": "390"
                                },
                                {
                                    "TERMEKKOD": "G023-FE301",
                                    "KAT_NEV": "fehérnemű",
                                    "LISTAAR": "390",
                                    "(No column name)": "390"
                                },
                                {
                                    "TERMEKKOD": "N019-FE301",
                                    "KAT_NEV": "fehérnemű",
                                    "LISTAAR": "690",
                                    "(No column name)": "690"
                                },
                                {
                                    "TERMEKKOD": "L033-FE311",
                                    "KAT_NEV": "fehérnemű",
                                    "LISTAAR": "990",
                                    "(No column name)": "990"
                                },
                                {
                                    "TERMEKKOD": "G038-FE316",
                                    "KAT_NEV": "fehérnemű",
                                    "LISTAAR": "990",
                                    "(No column name)": "990"
                                },
                                {
                                    "TERMEKKOD": "01100505T",
                                    "KAT_NEV": "fénymásoló papír",
                                    "LISTAAR": "686",
                                    "(No column name)": "686"
                                },
                                {
                                    "TERMEKKOD": "01100095T",
                                    "KAT_NEV": "fénymásoló papír",
                                    "LISTAAR": "728",
                                    "(No column name)": "728"
                                },
                                {
                                    "TERMEKKOD": "01100096T",
                                    "KAT_NEV": "fénymásoló papír",
                                    "LISTAAR": "728",
                                    "(No column name)": "728"
                                },
                                {
                                    "TERMEKKOD": "01100094T",
                                    "KAT_NEV": "fénymásoló papír",
                                    "LISTAAR": "845",
                                    "(No column name)": "845"
                                },
                                {
                                    "TERMEKKOD": "01100504T",
                                    "KAT_NEV": "fénymásoló papír",
                                    "LISTAAR": "1488",
                                    "(No column name)": "1488"
                                },
                                {
                                    "TERMEKKOD": "F021-IN215",
                                    "KAT_NEV": "férfi ing",
                                    "LISTAAR": "6490",
                                    "(No column name)": "6490"
                                },
                                {
                                    "TERMEKKOD": "F001-KB101",
                                    "KAT_NEV": "férfi kabát",
                                    "LISTAAR": "22000",
                                    "(No column name)": "22000"
                                },
                                {
                                    "TERMEKKOD": "F007-NA201",
                                    "KAT_NEV": "férfi nadrág",
                                    "LISTAAR": "7890",
                                    "(No column name)": "7890"
                                },
                                {
                                    "TERMEKKOD": "F013-NA207",
                                    "KAT_NEV": "férfi nadrág",
                                    "LISTAAR": "11900",
                                    "(No column name)": "11900"
                                },
                                {
                                    "TERMEKKOD": "02080455T",
                                    "KAT_NEV": "festékpatron",
                                    "LISTAAR": "625",
                                    "(No column name)": "625"
                                },
                                {
                                    "TERMEKKOD": "07030108T",
                                    "KAT_NEV": "filctoll",
                                    "LISTAAR": "0",
                                    "(No column name)": "0"
                                },
                                {
                                    "TERMEKKOD": "07040097T",
                                    "KAT_NEV": "filctoll",
                                    "LISTAAR": "26",
                                    "(No column name)": "26"
                                },
                                {
                                    "TERMEKKOD": "07040102T",
                                    "KAT_NEV": "filctoll",
                                    "LISTAAR": "46",
                                    "(No column name)": "46"
                                },
                                {
                                    "TERMEKKOD": "07030103T",
                                    "KAT_NEV": "filctoll",
                                    "LISTAAR": "53",
                                    "(No column name)": "53"
                                },
                                {
                                    "TERMEKKOD": "07030104T",
                                    "KAT_NEV": "filctoll",
                                    "LISTAAR": "76",
                                    "(No column name)": "76"
                                },
                                {
                                    "TERMEKKOD": "07030106T",
                                    "KAT_NEV": "filctoll",
                                    "LISTAAR": "103",
                                    "(No column name)": "103"
                                },
                                {
                                    "TERMEKKOD": "07030105T",
                                    "KAT_NEV": "filctoll",
                                    "LISTAAR": "114",
                                    "(No column name)": "114"
                                },
                                {
                                    "TERMEKKOD": "07040101T",
                                    "KAT_NEV": "filctoll",
                                    "LISTAAR": "140",
                                    "(No column name)": "140"
                                },
                                {
                                    "TERMEKKOD": "07030107T",
                                    "KAT_NEV": "filctoll",
                                    "LISTAAR": "276",
                                    "(No column name)": "276"
                                },
                                {
                                    "TERMEKKOD": "07040098T",
                                    "KAT_NEV": "filctoll",
                                    "LISTAAR": "278",
                                    "(No column name)": "278"
                                },
                                {
                                    "TERMEKKOD": "07040100T",
                                    "KAT_NEV": "filctoll",
                                    "LISTAAR": "390",
                                    "(No column name)": "390"
                                },
                                {
                                    "TERMEKKOD": "07040099T",
                                    "KAT_NEV": "filctoll",
                                    "LISTAAR": "434",
                                    "(No column name)": "434"
                                },
                                {
                                    "TERMEKKOD": "07040257T",
                                    "KAT_NEV": "filctoll",
                                    "LISTAAR": "434",
                                    "(No column name)": "434"
                                },
                                {
                                    "TERMEKKOD": "02080109T",
                                    "KAT_NEV": "floppy",
                                    "LISTAAR": "51",
                                    "(No column name)": "51"
                                },
                                {
                                    "TERMEKKOD": "02040507T",
                                    "KAT_NEV": "fólia",
                                    "LISTAAR": "40",
                                    "(No column name)": "40"
                                },
                                {
                                    "TERMEKKOD": "02040508T",
                                    "KAT_NEV": "fólia",
                                    "LISTAAR": "44",
                                    "(No column name)": "44"
                                },
                                {
                                    "TERMEKKOD": "02040506T",
                                    "KAT_NEV": "fólia",
                                    "LISTAAR": "44",
                                    "(No column name)": "44"
                                },
                                {
                                    "TERMEKKOD": "01010110T",
                                    "KAT_NEV": "fotópapír",
                                    "LISTAAR": "30",
                                    "(No column name)": "30"
                                },
                                {
                                    "TERMEKKOD": "06010114T",
                                    "KAT_NEV": "füzet",
                                    "LISTAAR": "30",
                                    "(No column name)": "30"
                                },
                                {
                                    "TERMEKKOD": "06080116T",
                                    "KAT_NEV": "füzet",
                                    "LISTAAR": "34",
                                    "(No column name)": "34"
                                },
                                {
                                    "TERMEKKOD": "06010113T",
                                    "KAT_NEV": "füzet",
                                    "LISTAAR": "34",
                                    "(No column name)": "34"
                                },
                                {
                                    "TERMEKKOD": "06010115T",
                                    "KAT_NEV": "füzet",
                                    "LISTAAR": "48",
                                    "(No column name)": "48"
                                },
                                {
                                    "TERMEKKOD": "06010111T",
                                    "KAT_NEV": "füzet",
                                    "LISTAAR": "68",
                                    "(No column name)": "68"
                                },
                                {
                                    "TERMEKKOD": "06010112T",
                                    "KAT_NEV": "füzet",
                                    "LISTAAR": "78",
                                    "(No column name)": "78"
                                },
                                {
                                    "TERMEKKOD": "06040357T",
                                    "KAT_NEV": "füzet",
                                    "LISTAAR": "89",
                                    "(No column name)": "89"
                                },
                                {
                                    "TERMEKKOD": "06040356T",
                                    "KAT_NEV": "füzet",
                                    "LISTAAR": "144",
                                    "(No column name)": "144"
                                },
                                {
                                    "TERMEKKOD": "06040355T",
                                    "KAT_NEV": "füzet",
                                    "LISTAAR": "155",
                                    "(No column name)": "155"
                                },
                                {
                                    "TERMEKKOD": "06080426T",
                                    "KAT_NEV": "füzet",
                                    "LISTAAR": "161",
                                    "(No column name)": "161"
                                },
                                {
                                    "TERMEKKOD": "06040354T",
                                    "KAT_NEV": "füzet",
                                    "LISTAAR": "206",
                                    "(No column name)": "206"
                                },
                                {
                                    "TERMEKKOD": "06080118T",
                                    "KAT_NEV": "füzetborító",
                                    "LISTAAR": "8",
                                    "(No column name)": "8"
                                },
                                {
                                    "TERMEKKOD": "06080117T",
                                    "KAT_NEV": "füzetborító",
                                    "LISTAAR": "10",
                                    "(No column name)": "10"
                                },
                                {
                                    "TERMEKKOD": "06080122T",
                                    "KAT_NEV": "füzetborító",
                                    "LISTAAR": "19",
                                    "(No column name)": "19"
                                },
                                {
                                    "TERMEKKOD": "06080119T",
                                    "KAT_NEV": "füzetborító",
                                    "LISTAAR": "19",
                                    "(No column name)": "19"
                                },
                                {
                                    "TERMEKKOD": "06080120T",
                                    "KAT_NEV": "füzetborító",
                                    "LISTAAR": "23",
                                    "(No column name)": "23"
                                },
                                {
                                    "TERMEKKOD": "06080424T",
                                    "KAT_NEV": "füzetborító",
                                    "LISTAAR": "24",
                                    "(No column name)": "24"
                                },
                                {
                                    "TERMEKKOD": "06080121T",
                                    "KAT_NEV": "füzetborító",
                                    "LISTAAR": "195",
                                    "(No column name)": "195"
                                },
                                {
                                    "TERMEKKOD": "06080126T",
                                    "KAT_NEV": "füzettartó",
                                    "LISTAAR": "203",
                                    "(No column name)": "203"
                                },
                                {
                                    "TERMEKKOD": "06080125T",
                                    "KAT_NEV": "füzettartó",
                                    "LISTAAR": "411",
                                    "(No column name)": "411"
                                },
                                {
                                    "TERMEKKOD": "06080124T",
                                    "KAT_NEV": "füzettartó",
                                    "LISTAAR": "508",
                                    "(No column name)": "508"
                                },
                                {
                                    "TERMEKKOD": "06080123T",
                                    "KAT_NEV": "füzettartó",
                                    "LISTAAR": "551",
                                    "(No column name)": "551"
                                },
                                {
                                    "TERMEKKOD": "02040145T",
                                    "KAT_NEV": "gemkapocs",
                                    "LISTAAR": "30",
                                    "(No column name)": "30"
                                },
                                {
                                    "TERMEKKOD": "02040146T",
                                    "KAT_NEV": "gemkapocs",
                                    "LISTAAR": "48",
                                    "(No column name)": "48"
                                },
                                {
                                    "TERMEKKOD": "02080450T",
                                    "KAT_NEV": "gémkapocs",
                                    "LISTAAR": "44",
                                    "(No column name)": "44"
                                },
                                {
                                    "TERMEKKOD": "02080451T",
                                    "KAT_NEV": "gémkapocs",
                                    "LISTAAR": "103",
                                    "(No column name)": "103"
                                },
                                {
                                    "TERMEKKOD": "02080456T",
                                    "KAT_NEV": "genoterm",
                                    "LISTAAR": "89",
                                    "(No column name)": "89"
                                },
                                {
                                    "TERMEKKOD": "02040147T",
                                    "KAT_NEV": "genotherm",
                                    "LISTAAR": "8",
                                    "(No column name)": "8"
                                },
                                {
                                    "TERMEKKOD": "02040148T",
                                    "KAT_NEV": "genotherm",
                                    "LISTAAR": "63",
                                    "(No column name)": "63"
                                },
                                {
                                    "TERMEKKOD": "02040149T",
                                    "KAT_NEV": "genotherm",
                                    "LISTAAR": "110",
                                    "(No column name)": "110"
                                },
                                {
                                    "TERMEKKOD": "07080156T",
                                    "KAT_NEV": "golyóstoll",
                                    "LISTAAR": "23",
                                    "(No column name)": "23"
                                },
                                {
                                    "TERMEKKOD": "07080155T",
                                    "KAT_NEV": "golyóstoll",
                                    "LISTAAR": "33",
                                    "(No column name)": "33"
                                },
                                {
                                    "TERMEKKOD": "07080153T",
                                    "KAT_NEV": "golyóstoll",
                                    "LISTAAR": "41",
                                    "(No column name)": "41"
                                },
                                {
                                    "TERMEKKOD": "07080161T",
                                    "KAT_NEV": "golyóstoll",
                                    "LISTAAR": "44",
                                    "(No column name)": "44"
                                },
                                {
                                    "TERMEKKOD": "07080150T",
                                    "KAT_NEV": "golyóstoll",
                                    "LISTAAR": "51",
                                    "(No column name)": "51"
                                },
                                {
                                    "TERMEKKOD": "07080159T",
                                    "KAT_NEV": "golyóstoll",
                                    "LISTAAR": "63",
                                    "(No column name)": "63"
                                },
                                {
                                    "TERMEKKOD": "07080466T",
                                    "KAT_NEV": "golyóstoll",
                                    "LISTAAR": "81",
                                    "(No column name)": "81"
                                },
                                {
                                    "TERMEKKOD": "07080157T",
                                    "KAT_NEV": "golyóstoll",
                                    "LISTAAR": "93",
                                    "(No column name)": "93"
                                },
                                {
                                    "TERMEKKOD": "07040169T",
                                    "KAT_NEV": "golyóstoll",
                                    "LISTAAR": "94",
                                    "(No column name)": "94"
                                },
                                {
                                    "TERMEKKOD": "07080162T",
                                    "KAT_NEV": "golyóstoll",
                                    "LISTAAR": "101",
                                    "(No column name)": "101"
                                },
                                {
                                    "TERMEKKOD": "07080468T",
                                    "KAT_NEV": "golyóstoll",
                                    "LISTAAR": "110",
                                    "(No column name)": "110"
                                },
                                {
                                    "TERMEKKOD": "07080470T",
                                    "KAT_NEV": "golyóstoll",
                                    "LISTAAR": "188",
                                    "(No column name)": "188"
                                },
                                {
                                    "TERMEKKOD": "07040168T",
                                    "KAT_NEV": "golyóstoll",
                                    "LISTAAR": "189",
                                    "(No column name)": "189"
                                },
                                {
                                    "TERMEKKOD": "07040165T",
                                    "KAT_NEV": "golyóstoll",
                                    "LISTAAR": "218",
                                    "(No column name)": "218"
                                },
                                {
                                    "TERMEKKOD": "07080163T",
                                    "KAT_NEV": "golyóstoll",
                                    "LISTAAR": "230",
                                    "(No column name)": "230"
                                },
                                {
                                    "TERMEKKOD": "07080164T",
                                    "KAT_NEV": "golyóstoll",
                                    "LISTAAR": "231",
                                    "(No column name)": "231"
                                },
                                {
                                    "TERMEKKOD": "07080160T",
                                    "KAT_NEV": "golyóstoll",
                                    "LISTAAR": "239",
                                    "(No column name)": "239"
                                },
                                {
                                    "TERMEKKOD": "07080467T",
                                    "KAT_NEV": "golyóstoll",
                                    "LISTAAR": "273",
                                    "(No column name)": "273"
                                },
                                {
                                    "TERMEKKOD": "07080471T",
                                    "KAT_NEV": "golyóstoll",
                                    "LISTAAR": "294",
                                    "(No column name)": "294"
                                },
                                {
                                    "TERMEKKOD": "07080469T",
                                    "KAT_NEV": "golyóstoll",
                                    "LISTAAR": "364",
                                    "(No column name)": "364"
                                },
                                {
                                    "TERMEKKOD": "07080151T",
                                    "KAT_NEV": "golyóstoll",
                                    "LISTAAR": "390",
                                    "(No column name)": "390"
                                },
                                {
                                    "TERMEKKOD": "07080154T",
                                    "KAT_NEV": "golyóstoll",
                                    "LISTAAR": "401",
                                    "(No column name)": "401"
                                },
                                {
                                    "TERMEKKOD": "07040166T",
                                    "KAT_NEV": "golyóstoll",
                                    "LISTAAR": "455",
                                    "(No column name)": "455"
                                },
                                {
                                    "TERMEKKOD": "07040167T",
                                    "KAT_NEV": "golyóstoll",
                                    "LISTAAR": "655",
                                    "(No column name)": "655"
                                },
                                {
                                    "TERMEKKOD": "07080158T",
                                    "KAT_NEV": "golyóstoll",
                                    "LISTAAR": "773",
                                    "(No column name)": "773"
                                },
                                {
                                    "TERMEKKOD": "07080152T",
                                    "KAT_NEV": "golyóstoll",
                                    "LISTAAR": "1019",
                                    "(No column name)": "1019"
                                },
                                {
                                    "TERMEKKOD": "05050170T",
                                    "KAT_NEV": "gumigyűrű",
                                    "LISTAAR": "19",
                                    "(No column name)": "19"
                                },
                                {
                                    "TERMEKKOD": "G064-CI401",
                                    "KAT_NEV": "gyermek cipő",
                                    "LISTAAR": "6900",
                                    "(No column name)": "6900"
                                },
                                {
                                    "TERMEKKOD": "L064-CI401",
                                    "KAT_NEV": "gyermek cipő",
                                    "LISTAAR": "6900",
                                    "(No column name)": "6900"
                                },
                                {
                                    "TERMEKKOD": "L073-CI410",
                                    "KAT_NEV": "gyermek cipő",
                                    "LISTAAR": "7900",
                                    "(No column name)": "7900"
                                },
                                {
                                    "TERMEKKOD": "G073-CI410",
                                    "KAT_NEV": "gyermek cipő",
                                    "LISTAAR": "7900",
                                    "(No column name)": "7900"
                                },
                                {
                                    "TERMEKKOD": "G082-CI419",
                                    "KAT_NEV": "gyermek cipő",
                                    "LISTAAR": "8000",
                                    "(No column name)": "8000"
                                },
                                {
                                    "TERMEKKOD": "L082-CI419",
                                    "KAT_NEV": "gyermek cipő",
                                    "LISTAAR": "8000",
                                    "(No column name)": "8000"
                                },
                                {
                                    "TERMEKKOD": "L001-KB101",
                                    "KAT_NEV": "gyermek kabát",
                                    "LISTAAR": "8900",
                                    "(No column name)": "8900"
                                },
                                {
                                    "TERMEKKOD": "G001-KB101",
                                    "KAT_NEV": "gyermek kabát",
                                    "LISTAAR": "8900",
                                    "(No column name)": "8900"
                                },
                                {
                                    "TERMEKKOD": "G019-NA207",
                                    "KAT_NEV": "gyermek nadrág",
                                    "LISTAAR": "1290",
                                    "(No column name)": "1290"
                                },
                                {
                                    "TERMEKKOD": "L019-NA207",
                                    "KAT_NEV": "gyermek nadrág",
                                    "LISTAAR": "1290",
                                    "(No column name)": "1290"
                                },
                                {
                                    "TERMEKKOD": "L013-NA201",
                                    "KAT_NEV": "gyermek nadrág",
                                    "LISTAAR": "4990",
                                    "(No column name)": "4990"
                                },
                                {
                                    "TERMEKKOD": "G013-NA201",
                                    "KAT_NEV": "gyermek nadrág",
                                    "LISTAAR": "4990",
                                    "(No column name)": "4990"
                                },
                                {
                                    "TERMEKKOD": "G048-PO218",
                                    "KAT_NEV": "gyermek póló",
                                    "LISTAAR": "3900",
                                    "(No column name)": "3900"
                                },
                                {
                                    "TERMEKKOD": "L048-PO218",
                                    "KAT_NEV": "gyermek póló",
                                    "LISTAAR": "3900",
                                    "(No column name)": "3900"
                                },
                                {
                                    "TERMEKKOD": "02040176T",
                                    "KAT_NEV": "gyorsfűző",
                                    "LISTAAR": "18",
                                    "(No column name)": "18"
                                },
                                {
                                    "TERMEKKOD": "02040177T",
                                    "KAT_NEV": "gyorsfűző",
                                    "LISTAAR": "30",
                                    "(No column name)": "30"
                                },
                                {
                                    "TERMEKKOD": "02040178T",
                                    "KAT_NEV": "gyorsfűző",
                                    "LISTAAR": "35",
                                    "(No column name)": "35"
                                },
                                {
                                    "TERMEKKOD": "06080441T",
                                    "KAT_NEV": "gyurma",
                                    "LISTAAR": "121",
                                    "(No column name)": "121"
                                },
                                {
                                    "TERMEKKOD": "06080440T",
                                    "KAT_NEV": "gyurma",
                                    "LISTAAR": "161",
                                    "(No column name)": "161"
                                },
                                {
                                    "TERMEKKOD": "06040179T",
                                    "KAT_NEV": "gyurma",
                                    "LISTAAR": "180",
                                    "(No column name)": "180"
                                },
                                {
                                    "TERMEKKOD": "06040180T",
                                    "KAT_NEV": "gyurma",
                                    "LISTAAR": "228",
                                    "(No column name)": "228"
                                },
                                {
                                    "TERMEKKOD": "06040183T",
                                    "KAT_NEV": "gyűrűskönyv",
                                    "LISTAAR": "95",
                                    "(No column name)": "95"
                                },
                                {
                                    "TERMEKKOD": "06040182T",
                                    "KAT_NEV": "gyűrűskönyv",
                                    "LISTAAR": "184",
                                    "(No column name)": "184"
                                },
                                {
                                    "TERMEKKOD": "06040184T",
                                    "KAT_NEV": "gyűrűskönyv",
                                    "LISTAAR": "218",
                                    "(No column name)": "218"
                                },
                                {
                                    "TERMEKKOD": "06040185T",
                                    "KAT_NEV": "gyűrűskönyv",
                                    "LISTAAR": "581",
                                    "(No column name)": "581"
                                },
                                {
                                    "TERMEKKOD": "06040186T",
                                    "KAT_NEV": "gyűrűskönyv",
                                    "LISTAAR": "699",
                                    "(No column name)": "699"
                                },
                                {
                                    "TERMEKKOD": "04050187T",
                                    "KAT_NEV": "hajgumi",
                                    "LISTAAR": "66",
                                    "(No column name)": "66"
                                },
                                {
                                    "TERMEKKOD": "02020444T",
                                    "KAT_NEV": "határidő napló",
                                    "LISTAAR": "464",
                                    "(No column name)": "464"
                                },
                                {
                                    "TERMEKKOD": "04020445T",
                                    "KAT_NEV": "határidő napló",
                                    "LISTAAR": "728",
                                    "(No column name)": "728"
                                },
                                {
                                    "TERMEKKOD": "06080190T",
                                    "KAT_NEV": "hegyező",
                                    "LISTAAR": "23",
                                    "(No column name)": "23"
                                },
                                {
                                    "TERMEKKOD": "06080191T",
                                    "KAT_NEV": "hegyező",
                                    "LISTAAR": "30",
                                    "(No column name)": "30"
                                },
                                {
                                    "TERMEKKOD": "06080189T",
                                    "KAT_NEV": "hegyező",
                                    "LISTAAR": "30",
                                    "(No column name)": "30"
                                },
                                {
                                    "TERMEKKOD": "06080188T",
                                    "KAT_NEV": "hegyező",
                                    "LISTAAR": "875",
                                    "(No column name)": "875"
                                },
                                {
                                    "TERMEKKOD": "06080192T",
                                    "KAT_NEV": "hegyző",
                                    "LISTAAR": "70",
                                    "(No column name)": "70"
                                },
                                {
                                    "TERMEKKOD": "06080193T",
                                    "KAT_NEV": "hegyző",
                                    "LISTAAR": "180",
                                    "(No column name)": "180"
                                },
                                {
                                    "TERMEKKOD": "02040197T",
                                    "KAT_NEV": "hibajavító",
                                    "LISTAAR": "81",
                                    "(No column name)": "81"
                                },
                                {
                                    "TERMEKKOD": "02040198T",
                                    "KAT_NEV": "hibajavító",
                                    "LISTAAR": "133",
                                    "(No column name)": "133"
                                },
                                {
                                    "TERMEKKOD": "02040195T",
                                    "KAT_NEV": "hibajavító",
                                    "LISTAAR": "185",
                                    "(No column name)": "185"
                                },
                                {
                                    "TERMEKKOD": "02040196T",
                                    "KAT_NEV": "hibajavító",
                                    "LISTAAR": "273",
                                    "(No column name)": "273"
                                },
                                {
                                    "TERMEKKOD": "02040200T",
                                    "KAT_NEV": "hibajavító",
                                    "LISTAAR": "278",
                                    "(No column name)": "278"
                                },
                                {
                                    "TERMEKKOD": "02040199T",
                                    "KAT_NEV": "hibajavító",
                                    "LISTAAR": "286",
                                    "(No column name)": "286"
                                },
                                {
                                    "TERMEKKOD": "02040194T",
                                    "KAT_NEV": "hibajavító",
                                    "LISTAAR": "794",
                                    "(No column name)": "794"
                                },
                                {
                                    "TERMEKKOD": "04050203T",
                                    "KAT_NEV": "hűtőmágnes",
                                    "LISTAAR": "24",
                                    "(No column name)": "24"
                                },
                                {
                                    "TERMEKKOD": "04050204T",
                                    "KAT_NEV": "hűtőmágnes",
                                    "LISTAAR": "169",
                                    "(No column name)": "169"
                                },
                                {
                                    "TERMEKKOD": "06040206T",
                                    "KAT_NEV": "indigó",
                                    "LISTAAR": "12",
                                    "(No column name)": "12"
                                },
                                {
                                    "TERMEKKOD": "06040205T",
                                    "KAT_NEV": "indigó",
                                    "LISTAAR": "15",
                                    "(No column name)": "15"
                                },
                                {
                                    "TERMEKKOD": "02040207T",
                                    "KAT_NEV": "iratgyűjtő",
                                    "LISTAAR": "19",
                                    "(No column name)": "19"
                                },
                                {
                                    "TERMEKKOD": "02040208T",
                                    "KAT_NEV": "iratgyűjtő",
                                    "LISTAAR": "19",
                                    "(No column name)": "19"
                                },
                                {
                                    "TERMEKKOD": "02040025T",
                                    "KAT_NEV": "iratgyűjtő",
                                    "LISTAAR": "133",
                                    "(No column name)": "133"
                                },
                                {
                                    "TERMEKKOD": "02040211T",
                                    "KAT_NEV": "iratrendező",
                                    "LISTAAR": "243",
                                    "(No column name)": "243"
                                },
                                {
                                    "TERMEKKOD": "02080432T",
                                    "KAT_NEV": "iratrendező",
                                    "LISTAAR": "259",
                                    "(No column name)": "259"
                                },
                                {
                                    "TERMEKKOD": "02040209T",
                                    "KAT_NEV": "iratsín",
                                    "LISTAAR": "44",
                                    "(No column name)": "44"
                                },
                                {
                                    "TERMEKKOD": "02040210T",
                                    "KAT_NEV": "iratsín",
                                    "LISTAAR": "89",
                                    "(No column name)": "89"
                                },
                                {
                                    "TERMEKKOD": "02080436T",
                                    "KAT_NEV": "irattartó",
                                    "LISTAAR": "66",
                                    "(No column name)": "66"
                                },
                                {
                                    "TERMEKKOD": "02080431T",
                                    "KAT_NEV": "irattartó",
                                    "LISTAAR": "214",
                                    "(No column name)": "214"
                                },
                                {
                                    "TERMEKKOD": "02040214T",
                                    "KAT_NEV": "irodaszer",
                                    "LISTAAR": "59",
                                    "(No column name)": "59"
                                },
                                {
                                    "TERMEKKOD": "06040212T",
                                    "KAT_NEV": "írólap",
                                    "LISTAAR": "29",
                                    "(No column name)": "29"
                                },
                                {
                                    "TERMEKKOD": "06040213T",
                                    "KAT_NEV": "írólap",
                                    "LISTAAR": "34",
                                    "(No column name)": "34"
                                },
                                {
                                    "TERMEKKOD": "07040218T",
                                    "KAT_NEV": "ironbél",
                                    "LISTAAR": "23",
                                    "(No column name)": "23"
                                },
                                {
                                    "TERMEKKOD": "07040216T",
                                    "KAT_NEV": "ironbél",
                                    "LISTAAR": "36",
                                    "(No column name)": "36"
                                },
                                {
                                    "TERMEKKOD": "07040217T",
                                    "KAT_NEV": "ironbél",
                                    "LISTAAR": "59",
                                    "(No column name)": "59"
                                },
                                {
                                    "TERMEKKOD": "07040215T",
                                    "KAT_NEV": "ironbél",
                                    "LISTAAR": "74",
                                    "(No column name)": "74"
                                },
                                {
                                    "TERMEKKOD": "07040219T",
                                    "KAT_NEV": "ironbél",
                                    "LISTAAR": "78",
                                    "(No column name)": "78"
                                },
                                {
                                    "TERMEKKOD": "06040089T",
                                    "KAT_NEV": "iskolaszer",
                                    "LISTAAR": "5",
                                    "(No column name)": "5"
                                },
                                {
                                    "TERMEKKOD": "06040353T",
                                    "KAT_NEV": "iskolaszer",
                                    "LISTAAR": "8",
                                    "(No column name)": "8"
                                },
                                {
                                    "TERMEKKOD": "06040181T",
                                    "KAT_NEV": "iskolaszer",
                                    "LISTAAR": "8",
                                    "(No column name)": "8"
                                },
                                {
                                    "TERMEKKOD": "06010305T",
                                    "KAT_NEV": "iskolaszer",
                                    "LISTAAR": "9",
                                    "(No column name)": "9"
                                },
                                {
                                    "TERMEKKOD": "06040383T",
                                    "KAT_NEV": "iskolaszer",
                                    "LISTAAR": "19",
                                    "(No column name)": "19"
                                },
                                {
                                    "TERMEKKOD": "06010202T",
                                    "KAT_NEV": "iskolaszer",
                                    "LISTAAR": "23",
                                    "(No column name)": "23"
                                },
                                {
                                    "TERMEKKOD": "06010036T",
                                    "KAT_NEV": "iskolaszer",
                                    "LISTAAR": "33",
                                    "(No column name)": "33"
                                },
                                {
                                    "TERMEKKOD": "06010367T",
                                    "KAT_NEV": "iskolaszer",
                                    "LISTAAR": "35",
                                    "(No column name)": "35"
                                },
                                {
                                    "TERMEKKOD": "06010365T",
                                    "KAT_NEV": "iskolaszer",
                                    "LISTAAR": "36",
                                    "(No column name)": "36"
                                },
                                {
                                    "TERMEKKOD": "06010201T",
                                    "KAT_NEV": "iskolaszer",
                                    "LISTAAR": "36",
                                    "(No column name)": "36"
                                },
                                {
                                    "TERMEKKOD": "07050463T",
                                    "KAT_NEV": "iskolaszer",
                                    "LISTAAR": "36",
                                    "(No column name)": "36"
                                },
                                {
                                    "TERMEKKOD": "06010373T",
                                    "KAT_NEV": "iskolaszer",
                                    "LISTAAR": "43",
                                    "(No column name)": "43"
                                },
                                {
                                    "TERMEKKOD": "06010374T",
                                    "KAT_NEV": "iskolaszer",
                                    "LISTAAR": "45",
                                    "(No column name)": "45"
                                },
                                {
                                    "TERMEKKOD": "06040088T",
                                    "KAT_NEV": "iskolaszer",
                                    "LISTAAR": "51",
                                    "(No column name)": "51"
                                },
                                {
                                    "TERMEKKOD": "06040384T",
                                    "KAT_NEV": "iskolaszer",
                                    "LISTAAR": "58",
                                    "(No column name)": "58"
                                },
                                {
                                    "TERMEKKOD": "06010368T",
                                    "KAT_NEV": "iskolaszer",
                                    "LISTAAR": "61",
                                    "(No column name)": "61"
                                },
                                {
                                    "TERMEKKOD": "06050249T",
                                    "KAT_NEV": "iskolaszer",
                                    "LISTAAR": "73",
                                    "(No column name)": "73"
                                },
                                {
                                    "TERMEKKOD": "06080430T",
                                    "KAT_NEV": "iskolaszer",
                                    "LISTAAR": "74",
                                    "(No column name)": "74"
                                },
                                {
                                    "TERMEKKOD": "06040352T",
                                    "KAT_NEV": "iskolaszer",
                                    "LISTAAR": "103",
                                    "(No column name)": "103"
                                },
                                {
                                    "TERMEKKOD": "06040399T",
                                    "KAT_NEV": "iskolaszer",
                                    "LISTAAR": "125",
                                    "(No column name)": "125"
                                },
                                {
                                    "TERMEKKOD": "06080259T",
                                    "KAT_NEV": "iskolaszer",
                                    "LISTAAR": "161",
                                    "(No column name)": "161"
                                },
                                {
                                    "TERMEKKOD": "06080427T",
                                    "KAT_NEV": "iskolaszer",
                                    "LISTAAR": "161",
                                    "(No column name)": "161"
                                },
                                {
                                    "TERMEKKOD": "06080422T",
                                    "KAT_NEV": "iskolaszer",
                                    "LISTAAR": "324",
                                    "(No column name)": "324"
                                },
                                {
                                    "TERMEKKOD": "06040400T",
                                    "KAT_NEV": "iskolaszer",
                                    "LISTAAR": "511",
                                    "(No column name)": "511"
                                },
                                {
                                    "TERMEKKOD": "04050220T",
                                    "KAT_NEV": "játékautó",
                                    "LISTAAR": "65",
                                    "(No column name)": "65"
                                },
                                {
                                    "TERMEKKOD": "04050223T",
                                    "KAT_NEV": "játékautó",
                                    "LISTAAR": "73",
                                    "(No column name)": "73"
                                },
                                {
                                    "TERMEKKOD": "04050221T",
                                    "KAT_NEV": "játékautó",
                                    "LISTAAR": "133",
                                    "(No column name)": "133"
                                },
                                {
                                    "TERMEKKOD": "04050222T",
                                    "KAT_NEV": "játékautó",
                                    "LISTAAR": "165",
                                    "(No column name)": "165"
                                },
                                {
                                    "TERMEKKOD": "04050224T",
                                    "KAT_NEV": "jelzőkréta",
                                    "LISTAAR": "48",
                                    "(No column name)": "48"
                                },
                                {
                                    "TERMEKKOD": "02080226T",
                                    "KAT_NEV": "kapocskiszedő",
                                    "LISTAAR": "106",
                                    "(No column name)": "106"
                                },
                                {
                                    "TERMEKKOD": "01090515T",
                                    "KAT_NEV": "karton",
                                    "LISTAAR": "11",
                                    "(No column name)": "11"
                                },
                                {
                                    "TERMEKKOD": "01090516T",
                                    "KAT_NEV": "karton",
                                    "LISTAAR": "25",
                                    "(No column name)": "25"
                                },
                                {
                                    "TERMEKKOD": "01080513T",
                                    "KAT_NEV": "karton",
                                    "LISTAAR": "38",
                                    "(No column name)": "38"
                                },
                                {
                                    "TERMEKKOD": "01100509T",
                                    "KAT_NEV": "karton",
                                    "LISTAAR": "40",
                                    "(No column name)": "40"
                                },
                                {
                                    "TERMEKKOD": "01100070T",
                                    "KAT_NEV": "karton",
                                    "LISTAAR": "73",
                                    "(No column name)": "73"
                                },
                                {
                                    "TERMEKKOD": "01100071T",
                                    "KAT_NEV": "karton",
                                    "LISTAAR": "89",
                                    "(No column name)": "89"
                                },
                                {
                                    "TERMEKKOD": "04050225T",
                                    "KAT_NEV": "kártya",
                                    "LISTAAR": "131",
                                    "(No column name)": "131"
                                },
                                {
                                    "TERMEKKOD": "04030240T",
                                    "KAT_NEV": "képeslap",
                                    "LISTAAR": "14",
                                    "(No column name)": "14"
                                },
                                {
                                    "TERMEKKOD": "04030236T",
                                    "KAT_NEV": "képeslap",
                                    "LISTAAR": "15",
                                    "(No column name)": "15"
                                },
                                {
                                    "TERMEKKOD": "04030234T",
                                    "KAT_NEV": "képeslap",
                                    "LISTAAR": "30",
                                    "(No column name)": "30"
                                },
                                {
                                    "TERMEKKOD": "04110229T",
                                    "KAT_NEV": "képeslap",
                                    "LISTAAR": "33",
                                    "(No column name)": "33"
                                },
                                {
                                    "TERMEKKOD": "04110227T",
                                    "KAT_NEV": "képeslap",
                                    "LISTAAR": "33",
                                    "(No column name)": "33"
                                },
                                {
                                    "TERMEKKOD": "04030237T",
                                    "KAT_NEV": "képeslap",
                                    "LISTAAR": "36",
                                    "(No column name)": "36"
                                },
                                {
                                    "TERMEKKOD": "04030241T",
                                    "KAT_NEV": "képeslap",
                                    "LISTAAR": "44",
                                    "(No column name)": "44"
                                },
                                {
                                    "TERMEKKOD": "04030239T",
                                    "KAT_NEV": "képeslap",
                                    "LISTAAR": "48",
                                    "(No column name)": "48"
                                },
                                {
                                    "TERMEKKOD": "04110232T",
                                    "KAT_NEV": "képeslap",
                                    "LISTAAR": "51",
                                    "(No column name)": "51"
                                },
                                {
                                    "TERMEKKOD": "04110230T",
                                    "KAT_NEV": "képeslap",
                                    "LISTAAR": "55",
                                    "(No column name)": "55"
                                },
                                {
                                    "TERMEKKOD": "04030238T",
                                    "KAT_NEV": "képeslap",
                                    "LISTAAR": "59",
                                    "(No column name)": "59"
                                },
                                {
                                    "TERMEKKOD": "04030235T",
                                    "KAT_NEV": "képeslap",
                                    "LISTAAR": "73",
                                    "(No column name)": "73"
                                },
                                {
                                    "TERMEKKOD": "04110231T",
                                    "KAT_NEV": "képeslap",
                                    "LISTAAR": "81",
                                    "(No column name)": "81"
                                },
                                {
                                    "TERMEKKOD": "04110233T",
                                    "KAT_NEV": "képeslap",
                                    "LISTAAR": "89",
                                    "(No column name)": "89"
                                },
                                {
                                    "TERMEKKOD": "04030242T",
                                    "KAT_NEV": "képeslap",
                                    "LISTAAR": "118",
                                    "(No column name)": "118"
                                },
                                {
                                    "TERMEKKOD": "04110228T",
                                    "KAT_NEV": "képeslap",
                                    "LISTAAR": "184",
                                    "(No column name)": "184"
                                },
                                {
                                    "TERMEKKOD": "04030243T",
                                    "KAT_NEV": "képkirakó",
                                    "LISTAAR": "195",
                                    "(No column name)": "195"
                                },
                                {
                                    "TERMEKKOD": "N035-AL218",
                                    "KAT_NEV": "kosztüm",
                                    "LISTAAR": "39000",
                                    "(No column name)": "39000"
                                },
                                {
                                    "TERMEKKOD": "N039-AL222",
                                    "KAT_NEV": "kosztüm",
                                    "LISTAAR": "46000",
                                    "(No column name)": "46000"
                                },
                                {
                                    "TERMEKKOD": "06040247T",
                                    "KAT_NEV": "körző",
                                    "LISTAAR": "30",
                                    "(No column name)": "30"
                                },
                                {
                                    "TERMEKKOD": "06040246T",
                                    "KAT_NEV": "körző",
                                    "LISTAAR": "161",
                                    "(No column name)": "161"
                                },
                                {
                                    "TERMEKKOD": "06040248T",
                                    "KAT_NEV": "körző",
                                    "LISTAAR": "243",
                                    "(No column name)": "243"
                                },
                                {
                                    "TERMEKKOD": "01090501T",
                                    "KAT_NEV": "kreatív",
                                    "LISTAAR": "4",
                                    "(No column name)": "4"
                                },
                                {
                                    "TERMEKKOD": "01100510T",
                                    "KAT_NEV": "kreatív",
                                    "LISTAAR": "13",
                                    "(No column name)": "13"
                                },
                                {
                                    "TERMEKKOD": "04050255T",
                                    "KAT_NEV": "kulcstartó",
                                    "LISTAAR": "36",
                                    "(No column name)": "36"
                                },
                                {
                                    "TERMEKKOD": "04050253T",
                                    "KAT_NEV": "kulcstartó",
                                    "LISTAAR": "103",
                                    "(No column name)": "103"
                                },
                                {
                                    "TERMEKKOD": "04050250T",
                                    "KAT_NEV": "kulcstartó",
                                    "LISTAAR": "115",
                                    "(No column name)": "115"
                                },
                                {
                                    "TERMEKKOD": "04050252T",
                                    "KAT_NEV": "kulcstartó",
                                    "LISTAAR": "124",
                                    "(No column name)": "124"
                                },
                                {
                                    "TERMEKKOD": "04050256T",
                                    "KAT_NEV": "kulcstartó",
                                    "LISTAAR": "129",
                                    "(No column name)": "129"
                                },
                                {
                                    "TERMEKKOD": "04050251T",
                                    "KAT_NEV": "kulcstartó",
                                    "LISTAAR": "148",
                                    "(No column name)": "148"
                                },
                                {
                                    "TERMEKKOD": "04050254T",
                                    "KAT_NEV": "kulcstartó",
                                    "LISTAAR": "155",
                                    "(No column name)": "155"
                                },
                                {
                                    "TERMEKKOD": "04040387T",
                                    "KAT_NEV": "labda",
                                    "LISTAAR": "81",
                                    "(No column name)": "81"
                                },
                                {
                                    "TERMEKKOD": "04050171T",
                                    "KAT_NEV": "labda",
                                    "LISTAAR": "110",
                                    "(No column name)": "110"
                                },
                                {
                                    "TERMEKKOD": "04030260T",
                                    "KAT_NEV": "levélpapír",
                                    "LISTAAR": "15",
                                    "(No column name)": "15"
                                },
                                {
                                    "TERMEKKOD": "04030262T",
                                    "KAT_NEV": "levélpapír",
                                    "LISTAAR": "56",
                                    "(No column name)": "56"
                                },
                                {
                                    "TERMEKKOD": "04030264T",
                                    "KAT_NEV": "levélpapír",
                                    "LISTAAR": "74",
                                    "(No column name)": "74"
                                },
                                {
                                    "TERMEKKOD": "04030263T",
                                    "KAT_NEV": "levélpapír",
                                    "LISTAAR": "89",
                                    "(No column name)": "89"
                                },
                                {
                                    "TERMEKKOD": "04030265T",
                                    "KAT_NEV": "levélpapír",
                                    "LISTAAR": "103",
                                    "(No column name)": "103"
                                },
                                {
                                    "TERMEKKOD": "04030261T",
                                    "KAT_NEV": "levélpapír",
                                    "LISTAAR": "140",
                                    "(No column name)": "140"
                                },
                                {
                                    "TERMEKKOD": "04030266T",
                                    "KAT_NEV": "levélpapír",
                                    "LISTAAR": "169",
                                    "(No column name)": "169"
                                },
                                {
                                    "TERMEKKOD": "04050269T",
                                    "KAT_NEV": "lufi",
                                    "LISTAAR": "11",
                                    "(No column name)": "11"
                                },
                                {
                                    "TERMEKKOD": "04050268T",
                                    "KAT_NEV": "lufi",
                                    "LISTAAR": "15",
                                    "(No column name)": "15"
                                },
                                {
                                    "TERMEKKOD": "02080453T",
                                    "KAT_NEV": "lyukasztó",
                                    "LISTAAR": "526",
                                    "(No column name)": "526"
                                },
                                {
                                    "TERMEKKOD": "02080454T",
                                    "KAT_NEV": "lyukasztó",
                                    "LISTAAR": "765",
                                    "(No column name)": "765"
                                },
                                {
                                    "TERMEKKOD": "06040174T",
                                    "KAT_NEV": "mappa",
                                    "LISTAAR": "148",
                                    "(No column name)": "148"
                                },
                                {
                                    "TERMEKKOD": "02080435T",
                                    "KAT_NEV": "mappa",
                                    "LISTAAR": "184",
                                    "(No column name)": "184"
                                },
                                {
                                    "TERMEKKOD": "06040175T",
                                    "KAT_NEV": "mappa",
                                    "LISTAAR": "191",
                                    "(No column name)": "191"
                                },
                                {
                                    "TERMEKKOD": "06040172T",
                                    "KAT_NEV": "mappa",
                                    "LISTAAR": "195",
                                    "(No column name)": "195"
                                },
                                {
                                    "TERMEKKOD": "02080434T",
                                    "KAT_NEV": "mappa",
                                    "LISTAAR": "210",
                                    "(No column name)": "210"
                                },
                                {
                                    "TERMEKKOD": "06040173T",
                                    "KAT_NEV": "mappa",
                                    "LISTAAR": "211",
                                    "(No column name)": "211"
                                },
                                {
                                    "TERMEKKOD": "04080271T",
                                    "KAT_NEV": "mappa",
                                    "LISTAAR": "264",
                                    "(No column name)": "264"
                                },
                                {
                                    "TERMEKKOD": "04080272T",
                                    "KAT_NEV": "mappa",
                                    "LISTAAR": "360",
                                    "(No column name)": "360"
                                },
                                {
                                    "TERMEKKOD": "04080270T",
                                    "KAT_NEV": "mappa",
                                    "LISTAAR": "1765",
                                    "(No column name)": "1765"
                                },
                                {
                                    "TERMEKKOD": "04110274T",
                                    "KAT_NEV": "matrica",
                                    "LISTAAR": "49",
                                    "(No column name)": "49"
                                },
                                {
                                    "TERMEKKOD": "04110275T",
                                    "KAT_NEV": "matrica",
                                    "LISTAAR": "49",
                                    "(No column name)": "49"
                                },
                                {
                                    "TERMEKKOD": "04110273T",
                                    "KAT_NEV": "matrica",
                                    "LISTAAR": "55",
                                    "(No column name)": "55"
                                },
                                {
                                    "TERMEKKOD": "04110282T",
                                    "KAT_NEV": "matrica",
                                    "LISTAAR": "56",
                                    "(No column name)": "56"
                                },
                                {
                                    "TERMEKKOD": "04110277T",
                                    "KAT_NEV": "matrica",
                                    "LISTAAR": "93",
                                    "(No column name)": "93"
                                },
                                {
                                    "TERMEKKOD": "04110276T",
                                    "KAT_NEV": "matrica",
                                    "LISTAAR": "109",
                                    "(No column name)": "109"
                                },
                                {
                                    "TERMEKKOD": "04110280T",
                                    "KAT_NEV": "matrica",
                                    "LISTAAR": "148",
                                    "(No column name)": "148"
                                },
                                {
                                    "TERMEKKOD": "04110278T",
                                    "KAT_NEV": "matrica",
                                    "LISTAAR": "161",
                                    "(No column name)": "161"
                                },
                                {
                                    "TERMEKKOD": "04110279T",
                                    "KAT_NEV": "matrica",
                                    "LISTAAR": "168",
                                    "(No column name)": "168"
                                },
                                {
                                    "TERMEKKOD": "04110281T",
                                    "KAT_NEV": "matrica",
                                    "LISTAAR": "175",
                                    "(No column name)": "175"
                                },
                                {
                                    "TERMEKKOD": "01030092T",
                                    "KAT_NEV": "meghívó",
                                    "LISTAAR": "59",
                                    "(No column name)": "59"
                                },
                                {
                                    "TERMEKKOD": "06080429T",
                                    "KAT_NEV": "meghívó",
                                    "LISTAAR": "63",
                                    "(No column name)": "63"
                                },
                                {
                                    "TERMEKKOD": "04110283T",
                                    "KAT_NEV": "meghívó",
                                    "LISTAAR": "155",
                                    "(No column name)": "155"
                                },
                                {
                                    "TERMEKKOD": "04110284T",
                                    "KAT_NEV": "meghívó",
                                    "LISTAAR": "169",
                                    "(No column name)": "169"
                                },
                                {
                                    "TERMEKKOD": "06080425T",
                                    "KAT_NEV": "miliméterpapír",
                                    "LISTAAR": "8",
                                    "(No column name)": "8"
                                },
                                {
                                    "TERMEKKOD": "08070482T",
                                    "KAT_NEV": "munkafüzet",
                                    "LISTAAR": "190",
                                    "(No column name)": "190"
                                },
                                {
                                    "TERMEKKOD": "08070481T",
                                    "KAT_NEV": "munkafüzet",
                                    "LISTAAR": "198",
                                    "(No column name)": "198"
                                },
                                {
                                    "TERMEKKOD": "08070476T",
                                    "KAT_NEV": "munkafüzet",
                                    "LISTAAR": "293",
                                    "(No column name)": "293"
                                },
                                {
                                    "TERMEKKOD": "08070477T",
                                    "KAT_NEV": "munkafüzet",
                                    "LISTAAR": "353",
                                    "(No column name)": "353"
                                },
                                {
                                    "TERMEKKOD": "08070486T",
                                    "KAT_NEV": "munkafüzet",
                                    "LISTAAR": "403",
                                    "(No column name)": "403"
                                },
                                {
                                    "TERMEKKOD": "08070487T",
                                    "KAT_NEV": "munkafüzet",
                                    "LISTAAR": "403",
                                    "(No column name)": "403"
                                },
                                {
                                    "TERMEKKOD": "08070488T",
                                    "KAT_NEV": "munkafüzet",
                                    "LISTAAR": "403",
                                    "(No column name)": "403"
                                },
                                {
                                    "TERMEKKOD": "08070475T",
                                    "KAT_NEV": "munkafüzet",
                                    "LISTAAR": "440",
                                    "(No column name)": "440"
                                },
                                {
                                    "TERMEKKOD": "08070478T",
                                    "KAT_NEV": "munkafüzet",
                                    "LISTAAR": "785",
                                    "(No column name)": "785"
                                },
                                {
                                    "TERMEKKOD": "01090498T",
                                    "KAT_NEV": "műnyomó",
                                    "LISTAAR": "3",
                                    "(No column name)": "3"
                                },
                                {
                                    "TERMEKKOD": "02040290T",
                                    "KAT_NEV": "naptár",
                                    "LISTAAR": "89",
                                    "(No column name)": "89"
                                },
                                {
                                    "TERMEKKOD": "02040291T",
                                    "KAT_NEV": "naptárhát",
                                    "LISTAAR": "15",
                                    "(No column name)": "15"
                                },
                                {
                                    "TERMEKKOD": "02040292T",
                                    "KAT_NEV": "naptárhát",
                                    "LISTAAR": "78",
                                    "(No column name)": "78"
                                },
                                {
                                    "TERMEKKOD": "02040293T",
                                    "KAT_NEV": "névjegytartó",
                                    "LISTAAR": "310",
                                    "(No column name)": "310"
                                },
                                {
                                    "TERMEKKOD": "02040298T",
                                    "KAT_NEV": "notesz",
                                    "LISTAAR": "44",
                                    "(No column name)": "44"
                                },
                                {
                                    "TERMEKKOD": "02040296T",
                                    "KAT_NEV": "notesz",
                                    "LISTAAR": "56",
                                    "(No column name)": "56"
                                },
                                {
                                    "TERMEKKOD": "02040295T",
                                    "KAT_NEV": "notesz",
                                    "LISTAAR": "89",
                                    "(No column name)": "89"
                                },
                                {
                                    "TERMEKKOD": "02040297T",
                                    "KAT_NEV": "notesz",
                                    "LISTAAR": "103",
                                    "(No column name)": "103"
                                },
                                {
                                    "TERMEKKOD": "02040294T",
                                    "KAT_NEV": "notesz",
                                    "LISTAAR": "103",
                                    "(No column name)": "103"
                                },
                                {
                                    "TERMEKKOD": "N001-KB101",
                                    "KAT_NEV": "női kabát",
                                    "LISTAAR": "24000",
                                    "(No column name)": "24000"
                                },
                                {
                                    "TERMEKKOD": "N008-NA201",
                                    "KAT_NEV": "női nadrág",
                                    "LISTAAR": "8290",
                                    "(No column name)": "8290"
                                },
                                {
                                    "TERMEKKOD": "01090517T",
                                    "KAT_NEV": "ofszet",
                                    "LISTAAR": "4",
                                    "(No column name)": "4"
                                },
                                {
                                    "TERMEKKOD": "01020299T",
                                    "KAT_NEV": "oklevél",
                                    "LISTAAR": "48",
                                    "(No column name)": "48"
                                },
                                {
                                    "TERMEKKOD": "01020300T",
                                    "KAT_NEV": "oklevél",
                                    "LISTAAR": "55",
                                    "(No column name)": "55"
                                },
                                {
                                    "TERMEKKOD": "06050301T",
                                    "KAT_NEV": "olló",
                                    "LISTAAR": "133",
                                    "(No column name)": "133"
                                },
                                {
                                    "TERMEKKOD": "06050303T",
                                    "KAT_NEV": "olló",
                                    "LISTAAR": "161",
                                    "(No column name)": "161"
                                },
                                {
                                    "TERMEKKOD": "06050302T",
                                    "KAT_NEV": "olló",
                                    "LISTAAR": "176",
                                    "(No column name)": "176"
                                },
                                {
                                    "TERMEKKOD": "01010304T",
                                    "KAT_NEV": "öntapadó",
                                    "LISTAAR": "59",
                                    "(No column name)": "59"
                                },
                                {
                                    "TERMEKKOD": "01080512T",
                                    "KAT_NEV": "öntapadó",
                                    "LISTAAR": "4575",
                                    "(No column name)": "4575"
                                },
                                {
                                    "TERMEKKOD": "05010306T",
                                    "KAT_NEV": "papízsebkendő",
                                    "LISTAAR": "20",
                                    "(No column name)": "20"
                                },
                                {
                                    "TERMEKKOD": "01040307T",
                                    "KAT_NEV": "pausz",
                                    "LISTAAR": "15",
                                    "(No column name)": "15"
                                },
                                {
                                    "TERMEKKOD": "02020245T",
                                    "KAT_NEV": "pénztárbizonylat",
                                    "LISTAAR": "103",
                                    "(No column name)": "103"
                                },
                                {
                                    "TERMEKKOD": "02020037T",
                                    "KAT_NEV": "pénztárbizonylat",
                                    "LISTAAR": "144",
                                    "(No column name)": "144"
                                },
                                {
                                    "TERMEKKOD": "02040308T",
                                    "KAT_NEV": "pénztárgépszalag",
                                    "LISTAAR": "81",
                                    "(No column name)": "81"
                                },
                                {
                                    "TERMEKKOD": "02040309T",
                                    "KAT_NEV": "pénztárgépszalag",
                                    "LISTAAR": "93",
                                    "(No column name)": "93"
                                },
                                {
                                    "TERMEKKOD": "07080313T",
                                    "KAT_NEV": "pixiron",
                                    "LISTAAR": "59",
                                    "(No column name)": "59"
                                },
                                {
                                    "TERMEKKOD": "07080317T",
                                    "KAT_NEV": "pixiron",
                                    "LISTAAR": "59",
                                    "(No column name)": "59"
                                },
                                {
                                    "TERMEKKOD": "07080315T",
                                    "KAT_NEV": "pixiron",
                                    "LISTAAR": "94",
                                    "(No column name)": "94"
                                },
                                {
                                    "TERMEKKOD": "07080312T",
                                    "KAT_NEV": "pixiron",
                                    "LISTAAR": "125",
                                    "(No column name)": "125"
                                },
                                {
                                    "TERMEKKOD": "07080314T",
                                    "KAT_NEV": "pixiron",
                                    "LISTAAR": "133",
                                    "(No column name)": "133"
                                },
                                {
                                    "TERMEKKOD": "07080318T",
                                    "KAT_NEV": "pixiron",
                                    "LISTAAR": "235",
                                    "(No column name)": "235"
                                },
                                {
                                    "TERMEKKOD": "07080311T",
                                    "KAT_NEV": "pixiron",
                                    "LISTAAR": "276",
                                    "(No column name)": "276"
                                },
                                {
                                    "TERMEKKOD": "07080319T",
                                    "KAT_NEV": "pixiron",
                                    "LISTAAR": "299",
                                    "(No column name)": "299"
                                },
                                {
                                    "TERMEKKOD": "07080316T",
                                    "KAT_NEV": "pixiron",
                                    "LISTAAR": "468",
                                    "(No column name)": "468"
                                },
                                {
                                    "TERMEKKOD": "04050321T",
                                    "KAT_NEV": "plüss",
                                    "LISTAAR": "161",
                                    "(No column name)": "161"
                                },
                                {
                                    "TERMEKKOD": "04050320T",
                                    "KAT_NEV": "plüss",
                                    "LISTAAR": "173",
                                    "(No column name)": "173"
                                },
                                {
                                    "TERMEKKOD": "04050322T",
                                    "KAT_NEV": "plüss",
                                    "LISTAAR": "314",
                                    "(No column name)": "314"
                                },
                                {
                                    "TERMEKKOD": "06040323T",
                                    "KAT_NEV": "post-it",
                                    "LISTAAR": "36",
                                    "(No column name)": "36"
                                },
                                {
                                    "TERMEKKOD": "06040324T",
                                    "KAT_NEV": "post-it",
                                    "LISTAAR": "89",
                                    "(No column name)": "89"
                                },
                                {
                                    "TERMEKKOD": "06040326T",
                                    "KAT_NEV": "radír",
                                    "LISTAAR": "19",
                                    "(No column name)": "19"
                                },
                                {
                                    "TERMEKKOD": "06040327T",
                                    "KAT_NEV": "radír",
                                    "LISTAAR": "36",
                                    "(No column name)": "36"
                                },
                                {
                                    "TERMEKKOD": "06040325T",
                                    "KAT_NEV": "radír",
                                    "LISTAAR": "40",
                                    "(No column name)": "40"
                                },
                                {
                                    "TERMEKKOD": "06040328T",
                                    "KAT_NEV": "radír",
                                    "LISTAAR": "44",
                                    "(No column name)": "44"
                                },
                                {
                                    "TERMEKKOD": "06040329T",
                                    "KAT_NEV": "radír",
                                    "LISTAAR": "44",
                                    "(No column name)": "44"
                                },
                                {
                                    "TERMEKKOD": "06040331T",
                                    "KAT_NEV": "radír",
                                    "LISTAAR": "49",
                                    "(No column name)": "49"
                                },
                                {
                                    "TERMEKKOD": "06040330T",
                                    "KAT_NEV": "radír",
                                    "LISTAAR": "50",
                                    "(No column name)": "50"
                                },
                                {
                                    "TERMEKKOD": "06080332T",
                                    "KAT_NEV": "radírtoll",
                                    "LISTAAR": "74",
                                    "(No column name)": "74"
                                },
                                {
                                    "TERMEKKOD": "06080333T",
                                    "KAT_NEV": "radírtoll",
                                    "LISTAAR": "119",
                                    "(No column name)": "119"
                                },
                                {
                                    "TERMEKKOD": "06080336T",
                                    "KAT_NEV": "ragasztó",
                                    "LISTAAR": "81",
                                    "(No column name)": "81"
                                },
                                {
                                    "TERMEKKOD": "06080339T",
                                    "KAT_NEV": "ragasztó",
                                    "LISTAAR": "89",
                                    "(No column name)": "89"
                                },
                                {
                                    "TERMEKKOD": "06080338T",
                                    "KAT_NEV": "ragasztó",
                                    "LISTAAR": "101",
                                    "(No column name)": "101"
                                },
                                {
                                    "TERMEKKOD": "05040310T",
                                    "KAT_NEV": "ragasztó",
                                    "LISTAAR": "103",
                                    "(No column name)": "103"
                                },
                                {
                                    "TERMEKKOD": "06080335T",
                                    "KAT_NEV": "ragasztó",
                                    "LISTAAR": "110",
                                    "(No column name)": "110"
                                },
                                {
                                    "TERMEKKOD": "06080334T",
                                    "KAT_NEV": "ragasztó",
                                    "LISTAAR": "133",
                                    "(No column name)": "133"
                                },
                                {
                                    "TERMEKKOD": "05080340T",
                                    "KAT_NEV": "ragasztó",
                                    "LISTAAR": "144",
                                    "(No column name)": "144"
                                },
                                {
                                    "TERMEKKOD": "05080341T",
                                    "KAT_NEV": "ragasztó",
                                    "LISTAAR": "144",
                                    "(No column name)": "144"
                                },
                                {
                                    "TERMEKKOD": "06080337T",
                                    "KAT_NEV": "ragasztó",
                                    "LISTAAR": "293",
                                    "(No column name)": "293"
                                },
                                {
                                    "TERMEKKOD": "06010343T",
                                    "KAT_NEV": "ragasztó",
                                    "LISTAAR": "426",
                                    "(No column name)": "426"
                                },
                                {
                                    "TERMEKKOD": "03010342T",
                                    "KAT_NEV": "ragasztószalag",
                                    "LISTAAR": "15",
                                    "(No column name)": "15"
                                },
                                {
                                    "TERMEKKOD": "02080433T",
                                    "KAT_NEV": "ragasztószalag",
                                    "LISTAAR": "55",
                                    "(No column name)": "55"
                                },
                                {
                                    "TERMEKKOD": "03010344T",
                                    "KAT_NEV": "ragasztószalag",
                                    "LISTAAR": "63",
                                    "(No column name)": "63"
                                },
                                {
                                    "TERMEKKOD": "03010345T",
                                    "KAT_NEV": "ragasztószalag",
                                    "LISTAAR": "166",
                                    "(No column name)": "166"
                                },
                                {
                                    "TERMEKKOD": "05050346T",
                                    "KAT_NEV": "rágógumi",
                                    "LISTAAR": "89",
                                    "(No column name)": "89"
                                },
                                {
                                    "TERMEKKOD": "06040347T",
                                    "KAT_NEV": "rajzlap",
                                    "LISTAAR": "28",
                                    "(No column name)": "28"
                                },
                                {
                                    "TERMEKKOD": "01010001T",
                                    "KAT_NEV": "rajzlap",
                                    "LISTAAR": "342",
                                    "(No column name)": "342"
                                },
                                {
                                    "TERMEKKOD": "05040349T",
                                    "KAT_NEV": "rajzszeg",
                                    "LISTAAR": "63",
                                    "(No column name)": "63"
                                },
                                {
                                    "TERMEKKOD": "05040348T",
                                    "KAT_NEV": "rajzszeg",
                                    "LISTAAR": "106",
                                    "(No column name)": "106"
                                },
                                {
                                    "TERMEKKOD": "06040351T",
                                    "KAT_NEV": "regiszteres füzet",
                                    "LISTAAR": "203",
                                    "(No column name)": "203"
                                },
                                {
                                    "TERMEKKOD": "06040350T",
                                    "KAT_NEV": "regiszteres füzet",
                                    "LISTAAR": "256",
                                    "(No column name)": "256"
                                },
                                {
                                    "TERMEKKOD": "U001-KI501",
                                    "KAT_NEV": "sál",
                                    "LISTAAR": "1990",
                                    "(No column name)": "1990"
                                },
                                {
                                    "TERMEKKOD": "02080514T",
                                    "KAT_NEV": "spirál",
                                    "LISTAAR": "45",
                                    "(No column name)": "45"
                                },
                                {
                                    "TERMEKKOD": "04050358T",
                                    "KAT_NEV": "strandlabda",
                                    "LISTAAR": "356",
                                    "(No column name)": "356"
                                },
                                {
                                    "TERMEKKOD": "05110360T",
                                    "KAT_NEV": "szalvéta",
                                    "LISTAAR": "118",
                                    "(No column name)": "118"
                                },
                                {
                                    "TERMEKKOD": "05110363T",
                                    "KAT_NEV": "szalvéta",
                                    "LISTAAR": "133",
                                    "(No column name)": "133"
                                },
                                {
                                    "TERMEKKOD": "05110364T",
                                    "KAT_NEV": "szalvéta",
                                    "LISTAAR": "161",
                                    "(No column name)": "161"
                                },
                                {
                                    "TERMEKKOD": "05110361T",
                                    "KAT_NEV": "szalvéta",
                                    "LISTAAR": "175",
                                    "(No column name)": "175"
                                },
                                {
                                    "TERMEKKOD": "05110359T",
                                    "KAT_NEV": "szalvéta",
                                    "LISTAAR": "176",
                                    "(No column name)": "176"
                                },
                                {
                                    "TERMEKKOD": "04110362T",
                                    "KAT_NEV": "szalvéta",
                                    "LISTAAR": "183",
                                    "(No column name)": "183"
                                },
                                {
                                    "TERMEKKOD": "06010366T",
                                    "KAT_NEV": "számológép",
                                    "LISTAAR": "508",
                                    "(No column name)": "508"
                                },
                                {
                                    "TERMEKKOD": "06040446T",
                                    "KAT_NEV": "számológép",
                                    "LISTAAR": "1173",
                                    "(No column name)": "1173"
                                },
                                {
                                    "TERMEKKOD": "05010369T",
                                    "KAT_NEV": "szemetes",
                                    "LISTAAR": "129",
                                    "(No column name)": "129"
                                },
                                {
                                    "TERMEKKOD": "07010371T",
                                    "KAT_NEV": "színes",
                                    "LISTAAR": "99",
                                    "(No column name)": "99"
                                },
                                {
                                    "TERMEKKOD": "07010372T",
                                    "KAT_NEV": "színes",
                                    "LISTAAR": "161",
                                    "(No column name)": "161"
                                },
                                {
                                    "TERMEKKOD": "06010377T",
                                    "KAT_NEV": "szögmérő",
                                    "LISTAAR": "8",
                                    "(No column name)": "8"
                                },
                                {
                                    "TERMEKKOD": "06010376T",
                                    "KAT_NEV": "szögmérő",
                                    "LISTAAR": "11",
                                    "(No column name)": "11"
                                },
                                {
                                    "TERMEKKOD": "06010375T",
                                    "KAT_NEV": "szögmérő",
                                    "LISTAAR": "24",
                                    "(No column name)": "24"
                                },
                                {
                                    "TERMEKKOD": "06040380T",
                                    "KAT_NEV": "szövegkiemelő",
                                    "LISTAAR": "78",
                                    "(No column name)": "78"
                                },
                                {
                                    "TERMEKKOD": "06040378T",
                                    "KAT_NEV": "szövegkiemelő",
                                    "LISTAAR": "89",
                                    "(No column name)": "89"
                                },
                                {
                                    "TERMEKKOD": "06040379T",
                                    "KAT_NEV": "szövegkiemelő",
                                    "LISTAAR": "93",
                                    "(No column name)": "93"
                                },
                                {
                                    "TERMEKKOD": "06040381T",
                                    "KAT_NEV": "szövegkiemelő",
                                    "LISTAAR": "103",
                                    "(No column name)": "103"
                                },
                                {
                                    "TERMEKKOD": "07050464T",
                                    "KAT_NEV": "szövegkiemelő",
                                    "LISTAAR": "140",
                                    "(No column name)": "140"
                                },
                                {
                                    "TERMEKKOD": "06040382T",
                                    "KAT_NEV": "táblafilc",
                                    "LISTAAR": "633",
                                    "(No column name)": "633"
                                },
                                {
                                    "TERMEKKOD": "05050465T",
                                    "KAT_NEV": "tapétavágó",
                                    "LISTAAR": "40",
                                    "(No column name)": "40"
                                },
                                {
                                    "TERMEKKOD": "06040386T",
                                    "KAT_NEV": "tempera",
                                    "LISTAAR": "48",
                                    "(No column name)": "48"
                                },
                                {
                                    "TERMEKKOD": "06040385T",
                                    "KAT_NEV": "tempera",
                                    "LISTAAR": "96",
                                    "(No column name)": "96"
                                },
                                {
                                    "TERMEKKOD": "02080449T",
                                    "KAT_NEV": "térképtű",
                                    "LISTAAR": "103",
                                    "(No column name)": "103"
                                },
                                {
                                    "TERMEKKOD": "07040388T",
                                    "KAT_NEV": "tintapatron",
                                    "LISTAAR": "9",
                                    "(No column name)": "9"
                                },
                                {
                                    "TERMEKKOD": "07040390T",
                                    "KAT_NEV": "tintapatron",
                                    "LISTAAR": "11",
                                    "(No column name)": "11"
                                },
                                {
                                    "TERMEKKOD": "07040389T",
                                    "KAT_NEV": "tintapatron",
                                    "LISTAAR": "360",
                                    "(No column name)": "360"
                                },
                                {
                                    "TERMEKKOD": "07010244T",
                                    "KAT_NEV": "toll",
                                    "LISTAAR": "74",
                                    "(No column name)": "74"
                                },
                                {
                                    "TERMEKKOD": "07040391T",
                                    "KAT_NEV": "toll",
                                    "LISTAAR": "80",
                                    "(No column name)": "80"
                                },
                                {
                                    "TERMEKKOD": "07010141T",
                                    "KAT_NEV": "tollbetét",
                                    "LISTAAR": "15",
                                    "(No column name)": "15"
                                },
                                {
                                    "TERMEKKOD": "07010140T",
                                    "KAT_NEV": "tollbetét",
                                    "LISTAAR": "23",
                                    "(No column name)": "23"
                                },
                                {
                                    "TERMEKKOD": "07040127T",
                                    "KAT_NEV": "tollbetét",
                                    "LISTAAR": "30",
                                    "(No column name)": "30"
                                },
                                {
                                    "TERMEKKOD": "07040129T",
                                    "KAT_NEV": "tollbetét",
                                    "LISTAAR": "30",
                                    "(No column name)": "30"
                                },
                                {
                                    "TERMEKKOD": "07010138T",
                                    "KAT_NEV": "tollbetét",
                                    "LISTAAR": "33",
                                    "(No column name)": "33"
                                },
                                {
                                    "TERMEKKOD": "07040133T",
                                    "KAT_NEV": "tollbetét",
                                    "LISTAAR": "39",
                                    "(No column name)": "39"
                                },
                                {
                                    "TERMEKKOD": "07040134T",
                                    "KAT_NEV": "tollbetét",
                                    "LISTAAR": "44",
                                    "(No column name)": "44"
                                },
                                {
                                    "TERMEKKOD": "07010137T",
                                    "KAT_NEV": "tollbetét",
                                    "LISTAAR": "48",
                                    "(No column name)": "48"
                                },
                                {
                                    "TERMEKKOD": "07040128T",
                                    "KAT_NEV": "tollbetét",
                                    "LISTAAR": "55",
                                    "(No column name)": "55"
                                },
                                {
                                    "TERMEKKOD": "07040132T",
                                    "KAT_NEV": "tollbetét",
                                    "LISTAAR": "55",
                                    "(No column name)": "55"
                                },
                                {
                                    "TERMEKKOD": "07010143T",
                                    "KAT_NEV": "tollbetét",
                                    "LISTAAR": "78",
                                    "(No column name)": "78"
                                },
                                {
                                    "TERMEKKOD": "07040130T",
                                    "KAT_NEV": "tollbetét",
                                    "LISTAAR": "80",
                                    "(No column name)": "80"
                                },
                                {
                                    "TERMEKKOD": "07040131T",
                                    "KAT_NEV": "tollbetét",
                                    "LISTAAR": "85",
                                    "(No column name)": "85"
                                },
                                {
                                    "TERMEKKOD": "07010144T",
                                    "KAT_NEV": "tollbetét",
                                    "LISTAAR": "89",
                                    "(No column name)": "89"
                                },
                                {
                                    "TERMEKKOD": "07010139T",
                                    "KAT_NEV": "tollbetét",
                                    "LISTAAR": "91",
                                    "(No column name)": "91"
                                },
                                {
                                    "TERMEKKOD": "07010136T",
                                    "KAT_NEV": "tollbetét",
                                    "LISTAAR": "123",
                                    "(No column name)": "123"
                                },
                                {
                                    "TERMEKKOD": "07010142T",
                                    "KAT_NEV": "tollbetét",
                                    "LISTAAR": "228",
                                    "(No column name)": "228"
                                },
                                {
                                    "TERMEKKOD": "07040135T",
                                    "KAT_NEV": "tollbetét",
                                    "LISTAAR": "684",
                                    "(No column name)": "684"
                                },
                                {
                                    "TERMEKKOD": "06040394T",
                                    "KAT_NEV": "tolltartó",
                                    "LISTAAR": "324",
                                    "(No column name)": "324"
                                },
                                {
                                    "TERMEKKOD": "06040396T",
                                    "KAT_NEV": "tolltartó",
                                    "LISTAAR": "410",
                                    "(No column name)": "410"
                                },
                                {
                                    "TERMEKKOD": "06040398T",
                                    "KAT_NEV": "tolltartó",
                                    "LISTAAR": "411",
                                    "(No column name)": "411"
                                },
                                {
                                    "TERMEKKOD": "06040397T",
                                    "KAT_NEV": "tolltartó",
                                    "LISTAAR": "655",
                                    "(No column name)": "655"
                                },
                                {
                                    "TERMEKKOD": "06040395T",
                                    "KAT_NEV": "tolltartó",
                                    "LISTAAR": "728",
                                    "(No column name)": "728"
                                },
                                {
                                    "TERMEKKOD": "06040392T",
                                    "KAT_NEV": "tolltartó",
                                    "LISTAAR": "728",
                                    "(No column name)": "728"
                                },
                                {
                                    "TERMEKKOD": "06040393T",
                                    "KAT_NEV": "tolltartó",
                                    "LISTAAR": "765",
                                    "(No column name)": "765"
                                },
                                {
                                    "TERMEKKOD": "02080511T",
                                    "KAT_NEV": "toner",
                                    "LISTAAR": "14250",
                                    "(No column name)": "14250"
                                },
                                {
                                    "TERMEKKOD": "07050462T",
                                    "KAT_NEV": "töltőtoll",
                                    "LISTAAR": "493",
                                    "(No column name)": "493"
                                },
                                {
                                    "TERMEKKOD": "02040402T",
                                    "KAT_NEV": "tűzőgép",
                                    "LISTAAR": "286",
                                    "(No column name)": "286"
                                },
                                {
                                    "TERMEKKOD": "02040401T",
                                    "KAT_NEV": "tűzőgép",
                                    "LISTAAR": "339",
                                    "(No column name)": "339"
                                },
                                {
                                    "TERMEKKOD": "02040404T",
                                    "KAT_NEV": "tűzőgép",
                                    "LISTAAR": "405",
                                    "(No column name)": "405"
                                },
                                {
                                    "TERMEKKOD": "02080452T",
                                    "KAT_NEV": "tűzőgép",
                                    "LISTAAR": "438",
                                    "(No column name)": "438"
                                },
                                {
                                    "TERMEKKOD": "02040403T",
                                    "KAT_NEV": "tűzőgép",
                                    "LISTAAR": "1351",
                                    "(No column name)": "1351"
                                },
                                {
                                    "TERMEKKOD": "02040002T",
                                    "KAT_NEV": "tűzőgép",
                                    "LISTAAR": "2100",
                                    "(No column name)": "2100"
                                },
                                {
                                    "TERMEKKOD": "02040406T",
                                    "KAT_NEV": "tűzőkapocs",
                                    "LISTAAR": "34",
                                    "(No column name)": "34"
                                },
                                {
                                    "TERMEKKOD": "02040405T",
                                    "KAT_NEV": "tűzőkapocs",
                                    "LISTAAR": "44",
                                    "(No column name)": "44"
                                },
                                {
                                    "TERMEKKOD": "06080410T",
                                    "KAT_NEV": "vízfesték",
                                    "LISTAAR": "176",
                                    "(No column name)": "176"
                                },
                                {
                                    "TERMEKKOD": "06080409T",
                                    "KAT_NEV": "vízfesték",
                                    "LISTAAR": "180",
                                    "(No column name)": "180"
                                },
                                {
                                    "TERMEKKOD": "06080408T",
                                    "KAT_NEV": "vízfesték",
                                    "LISTAAR": "210",
                                    "(No column name)": "210"
                                },
                                {
                                    "TERMEKKOD": "06080407T",
                                    "KAT_NEV": "vízfesték",
                                    "LISTAAR": "249",
                                    "(No column name)": "249"
                                },
                                {
                                    "TERMEKKOD": "06080412T",
                                    "KAT_NEV": "vonalzó",
                                    "LISTAAR": "30",
                                    "(No column name)": "30"
                                },
                                {
                                    "TERMEKKOD": "06080413T",
                                    "KAT_NEV": "vonalzó",
                                    "LISTAAR": "30",
                                    "(No column name)": "30"
                                },
                                {
                                    "TERMEKKOD": "06080414T",
                                    "KAT_NEV": "vonalzó",
                                    "LISTAAR": "30",
                                    "(No column name)": "30"
                                },
                                {
                                    "TERMEKKOD": "06080415T",
                                    "KAT_NEV": "vonalzó",
                                    "LISTAAR": "30",
                                    "(No column name)": "30"
                                },
                                {
                                    "TERMEKKOD": "06080416T",
                                    "KAT_NEV": "vonalzó",
                                    "LISTAAR": "33",
                                    "(No column name)": "33"
                                },
                                {
                                    "TERMEKKOD": "06080411T",
                                    "KAT_NEV": "vonalzó",
                                    "LISTAAR": "58",
                                    "(No column name)": "58"
                                },
                                {
                                    "TERMEKKOD": "06080417T",
                                    "KAT_NEV": "zászló",
                                    "LISTAAR": "20",
                                    "(No column name)": "20"
                                },
                                {
                                    "TERMEKKOD": "07080419T",
                                    "KAT_NEV": "zseléstoll",
                                    "LISTAAR": "66",
                                    "(No column name)": "66"
                                },
                                {
                                    "TERMEKKOD": "07080418T",
                                    "KAT_NEV": "zseléstoll",
                                    "LISTAAR": "95",
                                    "(No column name)": "95"
                                },
                                {
                                    "TERMEKKOD": "07080420T",
                                    "KAT_NEV": "zseléstoll",
                                    "LISTAAR": "161",
                                    "(No column name)": "161"
                                },
                                {
                                    "TERMEKKOD": "07080421T",
                                    "KAT_NEV": "zseléstoll",
                                    "LISTAAR": "228",
                                    "(No column name)": "228"
                                },
                                {
                                    "TERMEKKOD": "02040206T",
                                    "KAT_NEV": "írásvetítő fólia",
                                    "LISTAAR": "81",
                                    "(No column name)": "81"
                                }
                            ]
                        },
                        "text/html": [
                            "<table>",
                            "<tr><th>TERMEKKOD</th><th>KAT_NEV</th><th>LISTAAR</th><th>(No column name)</th><th>(No column name)</th></tr>",
                            "<tr><td>08070491T</td><td>könyv</td><td>214</td><td>214</td><td>214</td></tr>",
                            "<tr><td>08070485T</td><td>könyv</td><td>291</td><td>214</td><td>291</td></tr>",
                            "<tr><td>08070480T</td><td>könyv</td><td>308</td><td>214</td><td>308</td></tr>",
                            "<tr><td>08070483T</td><td>könyv</td><td>324</td><td>214</td><td>324</td></tr>",
                            "<tr><td>08070484T</td><td>könyv</td><td>345</td><td>214</td><td>345</td></tr>",
                            "<tr><td>08070494T</td><td>könyv</td><td>440</td><td>214</td><td>440</td></tr>",
                            "<tr><td>08070495T</td><td>könyv</td><td>440</td><td>214</td><td>440</td></tr>",
                            "<tr><td>08070479T</td><td>könyv</td><td>674</td><td>214</td><td>674</td></tr>",
                            "<tr><td>08070490T</td><td>könyv</td><td>691</td><td>214</td><td>691</td></tr>",
                            "<tr><td>08070493T</td><td>könyv</td><td>720</td><td>214</td><td>720</td></tr>",
                            "<tr><td>08070492T</td><td>könyv</td><td>735</td><td>214</td><td>735</td></tr>",
                            "<tr><td>08070489T</td><td>könyv</td><td>868</td><td>214</td><td>868</td></tr>",
                            "<tr><td>08070472T</td><td>könyv</td><td>1089</td><td>214</td><td>1089</td></tr>",
                            "<tr><td>08070473T</td><td>könyv</td><td>1089</td><td>214</td><td>1089</td></tr>",
                            "<tr><td>08070474T</td><td>könyv</td><td>1089</td><td>214</td><td>1089</td></tr>",
                            "<tr><td>04050035T</td><td>ajándék tárgy</td><td>24</td><td>24</td><td>24</td></tr>",
                            "<tr><td>04110258T</td><td>ajándék tárgy</td><td>73</td><td>24</td><td>73</td></tr>",
                            "<tr><td>04050267T</td><td>ajándék tárgy</td><td>129</td><td>24</td><td>129</td></tr>",
                            "<tr><td>04030285T</td><td>ajándék tasak</td><td>11</td><td>11</td><td>11</td></tr>",
                            "<tr><td>03080004T</td><td>ajándék tasak</td><td>19</td><td>11</td><td>19</td></tr>",
                            "<tr><td>03080006T</td><td>ajándék tasak</td><td>26</td><td>11</td><td>26</td></tr>",
                            "<tr><td>03050457T</td><td>ajándék tasak</td><td>26</td><td>11</td><td>26</td></tr>",
                            "<tr><td>03050459T</td><td>ajándék tasak</td><td>40</td><td>11</td><td>40</td></tr>",
                            "<tr><td>03080013T</td><td>ajándék tasak</td><td>64</td><td>11</td><td>64</td></tr>",
                            "<tr><td>03080014T</td><td>ajándék tasak</td><td>81</td><td>11</td><td>81</td></tr>",
                            "<tr><td>03080008T</td><td>ajándék tasak</td><td>103</td><td>11</td><td>103</td></tr>",
                            "<tr><td>03080439T</td><td>ajándék tasak</td><td>114</td><td>11</td><td>114</td></tr>",
                            "<tr><td>03080012T</td><td>ajándék tasak</td><td>125</td><td>11</td><td>125</td></tr>",
                            "<tr><td>03080009T</td><td>ajándék tasak</td><td>148</td><td>11</td><td>148</td></tr>",
                            "<tr><td>03080011T</td><td>ajándék tasak</td><td>148</td><td>11</td><td>148</td></tr>",
                            "<tr><td>03050458T</td><td>ajándék tasak</td><td>148</td><td>11</td><td>148</td></tr>",
                            "<tr><td>03080015T</td><td>ajándék tasak</td><td>169</td><td>11</td><td>169</td></tr>",
                            "<tr><td>03080437T</td><td>ajándék tasak</td><td>185</td><td>11</td><td>185</td></tr>",
                            "<tr><td>03080003T</td><td>ajándék tasak</td><td>185</td><td>11</td><td>185</td></tr>",
                            "<tr><td>03080007T</td><td>ajándék tasak</td><td>206</td><td>11</td><td>206</td></tr>",
                            "<tr><td>03080010T</td><td>ajándék tasak</td><td>206</td><td>11</td><td>206</td></tr>",
                            "<tr><td>03080438T</td><td>ajándék tasak</td><td>214</td><td>11</td><td>214</td></tr>",
                            "<tr><td>03080005T</td><td>ajándék tasak</td><td>290</td><td>11</td><td>290</td></tr>",
                            "<tr><td>04050022T</td><td>álarc</td><td>89</td><td>89</td><td>89</td></tr>",
                            "<tr><td>04050023T</td><td>álarc</td><td>144</td><td>89</td><td>144</td></tr>",
                            "<tr><td>04050024T</td><td>álarc</td><td>144</td><td>89</td><td>144</td></tr>",
                            "<tr><td>G041-AL211</td><td>alkalmi</td><td>16900</td><td>16900</td><td>16900</td></tr>",
                            "<tr><td>L041-AL211</td><td>alkalmi</td><td>16900</td><td>16900</td><td>16900</td></tr>",
                            "<tr><td>N029-AL212</td><td>alkalmi</td><td>32000</td><td>16900</td><td>32000</td></tr>",
                            "<tr><td>05010026T</td><td>alufólia</td><td>118</td><td>118</td><td>118</td></tr>",
                            "<tr><td>05010027T</td><td>alufólia</td><td>214</td><td>118</td><td>214</td></tr>",
                            "<tr><td>02010028T</td><td>árazószalag</td><td>106</td><td>106</td><td>106</td></tr>",
                            "<tr><td>02020029T</td><td>átírótömb</td><td>115</td><td>115</td><td>115</td></tr>",
                            "<tr><td>06080423T</td><td>beíró</td><td>228</td><td>228</td><td>228</td></tr>",
                            "<tr><td>02020032T</td><td>beírókönyv</td><td>133</td><td>133</td><td>133</td></tr>",
                            "<tr><td>02020033T</td><td>beírókönyv</td><td>328</td><td>133</td><td>328</td></tr>",
                            "<tr><td>02060039T</td><td>bélyegző</td><td>650</td><td>650</td><td>650</td></tr>",
                            "<tr><td>02060038T</td><td>bélyegző</td><td>780</td><td>650</td><td>780</td></tr>",
                            "<tr><td>02060448T</td><td>bélyegző</td><td>1147</td><td>650</td><td>1147</td></tr>",
                            "<tr><td>02060447T</td><td>bélyegző</td><td>1377</td><td>650</td><td>1377</td></tr>",
                            "<tr><td>02060034T</td><td>bélyegzőfesték</td><td>297</td><td>297</td><td>297</td></tr>",
                            "<tr><td>02030042T</td><td>boríték</td><td>3</td><td>3</td><td>3</td></tr>",
                            "<tr><td>02030040T</td><td>boríték</td><td>6</td><td>3</td><td>6</td></tr>",
                            "<tr><td>02030041T</td><td>boríték</td><td>6</td><td>3</td><td>6</td></tr>",
                            "<tr><td>02050460T</td><td>boríték</td><td>15</td><td>3</td><td>15</td></tr>",
                            "<tr><td>02030044T</td><td>boríték</td><td>15</td><td>3</td><td>15</td></tr>",
                            "<tr><td>02050461T</td><td>boríték</td><td>18</td><td>3</td><td>18</td></tr>",
                            "<tr><td>02030043T</td><td>boríték</td><td>39</td><td>3</td><td>39</td></tr>",
                            "<tr><td>02080069T</td><td>cd tok</td><td>30</td><td>30</td><td>30</td></tr>",
                            "<tr><td>05050045T</td><td>celofán</td><td>46</td><td>46</td><td>46</td></tr>",
                            "<tr><td>05050046T</td><td>celofán</td><td>73</td><td>46</td><td>73</td></tr>",
                            "<tr><td>07080065T</td><td>ceruza</td><td>11</td><td>11</td><td>11</td></tr>",
                            "<tr><td>07040058T</td><td>ceruza</td><td>11</td><td>11</td><td>11</td></tr>",
                            "<tr><td>07040053T</td><td>ceruza</td><td>23</td><td>11</td><td>23</td></tr>",
                            "<tr><td>07040050T</td><td>ceruza</td><td>30</td><td>11</td><td>30</td></tr>",
                            "<tr><td>07080063T</td><td>ceruza</td><td>35</td><td>11</td><td>35</td></tr>",
                            "<tr><td>07040060T</td><td>ceruza</td><td>36</td><td>11</td><td>36</td></tr>",
                            "<tr><td>07040051T</td><td>ceruza</td><td>39</td><td>11</td><td>39</td></tr>",
                            "<tr><td>07040047T</td><td>ceruza</td><td>39</td><td>11</td><td>39</td></tr>",
                            "<tr><td>07040049T</td><td>ceruza</td><td>40</td><td>11</td><td>40</td></tr>",
                            "<tr><td>07080064T</td><td>ceruza</td><td>40</td><td>11</td><td>40</td></tr>",
                            "<tr><td>07040056T</td><td>ceruza</td><td>40</td><td>11</td><td>40</td></tr>",
                            "<tr><td>07040061T</td><td>ceruza</td><td>44</td><td>11</td><td>44</td></tr>",
                            "<tr><td>07040052T</td><td>ceruza</td><td>53</td><td>11</td><td>53</td></tr>",
                            "<tr><td>07040054T</td><td>ceruza</td><td>55</td><td>11</td><td>55</td></tr>",
                            "<tr><td>07040048T</td><td>ceruza</td><td>55</td><td>11</td><td>55</td></tr>",
                            "<tr><td>07040059T</td><td>ceruza</td><td>58</td><td>11</td><td>58</td></tr>",
                            "<tr><td>07040055T</td><td>ceruza</td><td>59</td><td>11</td><td>59</td></tr>",
                            "<tr><td>07040057T</td><td>ceruza</td><td>106</td><td>11</td><td>106</td></tr>",
                            "<tr><td>07080062T</td><td>ceruza</td><td>146</td><td>11</td><td>146</td></tr>",
                            "<tr><td>04110068T</td><td>címke</td><td>20</td><td>20</td><td>20</td></tr>",
                            "<tr><td>04110066T</td><td>címke</td><td>26</td><td>20</td><td>26</td></tr>",
                            "<tr><td>04110067T</td><td>címke</td><td>31</td><td>20</td><td>31</td></tr>",
                            "<tr><td>01100503T</td><td>color copy</td><td>10</td><td>10</td><td>10</td></tr>",
                            "<tr><td>01090500T</td><td>color copy</td><td>14</td><td>10</td><td>14</td></tr>",
                            "<tr><td>01100497T</td><td>color copy</td><td>14</td><td>10</td><td>14</td></tr>",
                            "<tr><td>01090499T</td><td>color copy</td><td>15</td><td>10</td><td>15</td></tr>",
                            "<tr><td>01100496T</td><td>color copy</td><td>1500</td><td>10</td><td>1500</td></tr>",
                            "<tr><td>05010370T</td><td>csomagoló</td><td>89</td><td>89</td><td>89</td></tr>",
                            "<tr><td>03080016T</td><td>csomagoló</td><td>110</td><td>89</td><td>110</td></tr>",
                            "<tr><td>03080021T</td><td>csomagoló papír</td><td>23</td><td>23</td><td>23</td></tr>",
                            "<tr><td>03080020T</td><td>csomagoló papír</td><td>44</td><td>23</td><td>44</td></tr>",
                            "<tr><td>03080019T</td><td>csomagoló papír</td><td>56</td><td>23</td><td>56</td></tr>",
                            "<tr><td>03080031T</td><td>csomagoló papír</td><td>106</td><td>23</td><td>106</td></tr>",
                            "<tr><td>03080018T</td><td>csomagoló papír</td><td>121</td><td>23</td><td>121</td></tr>",
                            "<tr><td>03080017T</td><td>csomagoló papír</td><td>148</td><td>23</td><td>148</td></tr>",
                            "<tr><td>03080030T</td><td>csomagoló papír</td><td>220</td><td>23</td><td>220</td></tr>",
                            "<tr><td>04030288T</td><td>dekor</td><td>3</td><td>3</td><td>3</td></tr>",
                            "<tr><td>04030289T</td><td>dekor</td><td>15</td><td>3</td><td>15</td></tr>",
                            "<tr><td>04030287T</td><td>dekor</td><td>23</td><td>3</td><td>23</td></tr>",
                            "<tr><td>04030286T</td><td>dekor</td><td>44</td><td>3</td><td>44</td></tr>",
                            "<tr><td>01100072T</td><td>dipa</td><td>9</td><td>9</td><td>9</td></tr>",
                            "<tr><td>04050075T</td><td>díszdoboz</td><td>44</td><td>44</td><td>44</td></tr>",
                            "<tr><td>04050073T</td><td>díszdoboz</td><td>61</td><td>44</td><td>61</td></tr>",
                            "<tr><td>04050074T</td><td>díszdoboz</td><td>66</td><td>44</td><td>66</td></tr>",
                            "<tr><td>03050078T</td><td>díszkötöző</td><td>15</td><td>15</td><td>15</td></tr>",
                            "<tr><td>03050079T</td><td>díszkötöző</td><td>15</td><td>15</td><td>15</td></tr>",
                            "<tr><td>03050076T</td><td>díszkötöző</td><td>26</td><td>15</td><td>26</td></tr>",
                            "<tr><td>03050077T</td><td>díszkötöző</td><td>44</td><td>15</td><td>44</td></tr>",
                            "<tr><td>03050080T</td><td>díszkötöző</td><td>81</td><td>15</td><td>81</td></tr>",
                            "<tr><td>02080081T</td><td>dvd</td><td>133</td><td>133</td><td>133</td></tr>",
                            "<tr><td>06010083T</td><td>ecset</td><td>33</td><td>33</td><td>33</td></tr>",
                            "<tr><td>06010086T</td><td>ecset</td><td>36</td><td>33</td><td>36</td></tr>",
                            "<tr><td>06010082T</td><td>ecset</td><td>40</td><td>33</td><td>40</td></tr>",
                            "<tr><td>06010084T</td><td>ecset</td><td>60</td><td>33</td><td>60</td></tr>",
                            "<tr><td>06010085T</td><td>ecset</td><td>65</td><td>33</td><td>65</td></tr>",
                            "<tr><td>06040087T</td><td>ecset</td><td>79</td><td>33</td><td>79</td></tr>",
                            "<tr><td>06080428T</td><td>ecset</td><td>180</td><td>33</td><td>180</td></tr>",
                            "<tr><td>01040502T</td><td>előlap</td><td>25</td><td>25</td><td>25</td></tr>",
                            "<tr><td>04080442T</td><td>emlékkönyv</td><td>316</td><td>316</td><td>316</td></tr>",
                            "<tr><td>04080443T</td><td>emlékkönyv</td><td>449</td><td>316</td><td>449</td></tr>",
                            "<tr><td>04040090T</td><td>emlékkönyv</td><td>526</td><td>316</td><td>526</td></tr>",
                            "<tr><td>01030091T</td><td>emléklap</td><td>26</td><td>26</td><td>26</td></tr>",
                            "<tr><td>01080093T</td><td>fax papír</td><td>161</td><td>161</td><td>161</td></tr>",
                            "<tr><td>L029-FE307</td><td>fehérnemű</td><td>240</td><td>240</td><td>240</td></tr>",
                            "<tr><td>G029-FE307</td><td>fehérnemű</td><td>240</td><td>240</td><td>240</td></tr>",
                            "<tr><td>L023-FE301</td><td>fehérnemű</td><td>390</td><td>240</td><td>390</td></tr>",
                            "<tr><td>G023-FE301</td><td>fehérnemű</td><td>390</td><td>240</td><td>390</td></tr>",
                            "<tr><td>N019-FE301</td><td>fehérnemű</td><td>690</td><td>240</td><td>690</td></tr>",
                            "<tr><td>L033-FE311</td><td>fehérnemű</td><td>990</td><td>240</td><td>990</td></tr>",
                            "<tr><td>G038-FE316</td><td>fehérnemű</td><td>990</td><td>240</td><td>990</td></tr>",
                            "<tr><td>01100505T</td><td>fénymásoló papír</td><td>686</td><td>686</td><td>686</td></tr>",
                            "<tr><td>01100095T</td><td>fénymásoló papír</td><td>728</td><td>686</td><td>728</td></tr>",
                            "<tr><td>01100096T</td><td>fénymásoló papír</td><td>728</td><td>686</td><td>728</td></tr>",
                            "<tr><td>01100094T</td><td>fénymásoló papír</td><td>845</td><td>686</td><td>845</td></tr>",
                            "<tr><td>01100504T</td><td>fénymásoló papír</td><td>1488</td><td>686</td><td>1488</td></tr>",
                            "<tr><td>F021-IN215</td><td>férfi ing</td><td>6490</td><td>6490</td><td>6490</td></tr>",
                            "<tr><td>F001-KB101</td><td>férfi kabát</td><td>22000</td><td>22000</td><td>22000</td></tr>",
                            "<tr><td>F007-NA201</td><td>férfi nadrág</td><td>7890</td><td>7890</td><td>7890</td></tr>",
                            "<tr><td>F013-NA207</td><td>férfi nadrág</td><td>11900</td><td>7890</td><td>11900</td></tr>",
                            "<tr><td>02080455T</td><td>festékpatron</td><td>625</td><td>625</td><td>625</td></tr>",
                            "<tr><td>07030108T</td><td>filctoll</td><td>0</td><td>0</td><td>0</td></tr>",
                            "<tr><td>07040097T</td><td>filctoll</td><td>26</td><td>0</td><td>26</td></tr>",
                            "<tr><td>07040102T</td><td>filctoll</td><td>46</td><td>0</td><td>46</td></tr>",
                            "<tr><td>07030103T</td><td>filctoll</td><td>53</td><td>0</td><td>53</td></tr>",
                            "<tr><td>07030104T</td><td>filctoll</td><td>76</td><td>0</td><td>76</td></tr>",
                            "<tr><td>07030106T</td><td>filctoll</td><td>103</td><td>0</td><td>103</td></tr>",
                            "<tr><td>07030105T</td><td>filctoll</td><td>114</td><td>0</td><td>114</td></tr>",
                            "<tr><td>07040101T</td><td>filctoll</td><td>140</td><td>0</td><td>140</td></tr>",
                            "<tr><td>07030107T</td><td>filctoll</td><td>276</td><td>0</td><td>276</td></tr>",
                            "<tr><td>07040098T</td><td>filctoll</td><td>278</td><td>0</td><td>278</td></tr>",
                            "<tr><td>07040100T</td><td>filctoll</td><td>390</td><td>0</td><td>390</td></tr>",
                            "<tr><td>07040099T</td><td>filctoll</td><td>434</td><td>0</td><td>434</td></tr>",
                            "<tr><td>07040257T</td><td>filctoll</td><td>434</td><td>0</td><td>434</td></tr>",
                            "<tr><td>02080109T</td><td>floppy</td><td>51</td><td>51</td><td>51</td></tr>",
                            "<tr><td>02040507T</td><td>fólia</td><td>40</td><td>40</td><td>40</td></tr>",
                            "<tr><td>02040508T</td><td>fólia</td><td>44</td><td>40</td><td>44</td></tr>",
                            "<tr><td>02040506T</td><td>fólia</td><td>44</td><td>40</td><td>44</td></tr>",
                            "<tr><td>01010110T</td><td>fotópapír</td><td>30</td><td>30</td><td>30</td></tr>",
                            "<tr><td>06010114T</td><td>füzet</td><td>30</td><td>30</td><td>30</td></tr>",
                            "<tr><td>06080116T</td><td>füzet</td><td>34</td><td>30</td><td>34</td></tr>",
                            "<tr><td>06010113T</td><td>füzet</td><td>34</td><td>30</td><td>34</td></tr>",
                            "<tr><td>06010115T</td><td>füzet</td><td>48</td><td>30</td><td>48</td></tr>",
                            "<tr><td>06010111T</td><td>füzet</td><td>68</td><td>30</td><td>68</td></tr>",
                            "<tr><td>06010112T</td><td>füzet</td><td>78</td><td>30</td><td>78</td></tr>",
                            "<tr><td>06040357T</td><td>füzet</td><td>89</td><td>30</td><td>89</td></tr>",
                            "<tr><td>06040356T</td><td>füzet</td><td>144</td><td>30</td><td>144</td></tr>",
                            "<tr><td>06040355T</td><td>füzet</td><td>155</td><td>30</td><td>155</td></tr>",
                            "<tr><td>06080426T</td><td>füzet</td><td>161</td><td>30</td><td>161</td></tr>",
                            "<tr><td>06040354T</td><td>füzet</td><td>206</td><td>30</td><td>206</td></tr>",
                            "<tr><td>06080118T</td><td>füzetborító</td><td>8</td><td>8</td><td>8</td></tr>",
                            "<tr><td>06080117T</td><td>füzetborító</td><td>10</td><td>8</td><td>10</td></tr>",
                            "<tr><td>06080122T</td><td>füzetborító</td><td>19</td><td>8</td><td>19</td></tr>",
                            "<tr><td>06080119T</td><td>füzetborító</td><td>19</td><td>8</td><td>19</td></tr>",
                            "<tr><td>06080120T</td><td>füzetborító</td><td>23</td><td>8</td><td>23</td></tr>",
                            "<tr><td>06080424T</td><td>füzetborító</td><td>24</td><td>8</td><td>24</td></tr>",
                            "<tr><td>06080121T</td><td>füzetborító</td><td>195</td><td>8</td><td>195</td></tr>",
                            "<tr><td>06080126T</td><td>füzettartó</td><td>203</td><td>203</td><td>203</td></tr>",
                            "<tr><td>06080125T</td><td>füzettartó</td><td>411</td><td>203</td><td>411</td></tr>",
                            "<tr><td>06080124T</td><td>füzettartó</td><td>508</td><td>203</td><td>508</td></tr>",
                            "<tr><td>06080123T</td><td>füzettartó</td><td>551</td><td>203</td><td>551</td></tr>",
                            "<tr><td>02040145T</td><td>gemkapocs</td><td>30</td><td>30</td><td>30</td></tr>",
                            "<tr><td>02040146T</td><td>gemkapocs</td><td>48</td><td>30</td><td>48</td></tr>",
                            "<tr><td>02080450T</td><td>gémkapocs</td><td>44</td><td>44</td><td>44</td></tr>",
                            "<tr><td>02080451T</td><td>gémkapocs</td><td>103</td><td>44</td><td>103</td></tr>",
                            "<tr><td>02080456T</td><td>genoterm</td><td>89</td><td>89</td><td>89</td></tr>",
                            "<tr><td>02040147T</td><td>genotherm</td><td>8</td><td>8</td><td>8</td></tr>",
                            "<tr><td>02040148T</td><td>genotherm</td><td>63</td><td>8</td><td>63</td></tr>",
                            "<tr><td>02040149T</td><td>genotherm</td><td>110</td><td>8</td><td>110</td></tr>",
                            "<tr><td>07080156T</td><td>golyóstoll</td><td>23</td><td>23</td><td>23</td></tr>",
                            "<tr><td>07080155T</td><td>golyóstoll</td><td>33</td><td>23</td><td>33</td></tr>",
                            "<tr><td>07080153T</td><td>golyóstoll</td><td>41</td><td>23</td><td>41</td></tr>",
                            "<tr><td>07080161T</td><td>golyóstoll</td><td>44</td><td>23</td><td>44</td></tr>",
                            "<tr><td>07080150T</td><td>golyóstoll</td><td>51</td><td>23</td><td>51</td></tr>",
                            "<tr><td>07080159T</td><td>golyóstoll</td><td>63</td><td>23</td><td>63</td></tr>",
                            "<tr><td>07080466T</td><td>golyóstoll</td><td>81</td><td>23</td><td>81</td></tr>",
                            "<tr><td>07080157T</td><td>golyóstoll</td><td>93</td><td>23</td><td>93</td></tr>",
                            "<tr><td>07040169T</td><td>golyóstoll</td><td>94</td><td>23</td><td>94</td></tr>",
                            "<tr><td>07080162T</td><td>golyóstoll</td><td>101</td><td>23</td><td>101</td></tr>",
                            "<tr><td>07080468T</td><td>golyóstoll</td><td>110</td><td>23</td><td>110</td></tr>",
                            "<tr><td>07080470T</td><td>golyóstoll</td><td>188</td><td>23</td><td>188</td></tr>",
                            "<tr><td>07040168T</td><td>golyóstoll</td><td>189</td><td>23</td><td>189</td></tr>",
                            "<tr><td>07040165T</td><td>golyóstoll</td><td>218</td><td>23</td><td>218</td></tr>",
                            "<tr><td>07080163T</td><td>golyóstoll</td><td>230</td><td>23</td><td>230</td></tr>",
                            "<tr><td>07080164T</td><td>golyóstoll</td><td>231</td><td>23</td><td>231</td></tr>",
                            "<tr><td>07080160T</td><td>golyóstoll</td><td>239</td><td>23</td><td>239</td></tr>",
                            "<tr><td>07080467T</td><td>golyóstoll</td><td>273</td><td>23</td><td>273</td></tr>",
                            "<tr><td>07080471T</td><td>golyóstoll</td><td>294</td><td>23</td><td>294</td></tr>",
                            "<tr><td>07080469T</td><td>golyóstoll</td><td>364</td><td>23</td><td>364</td></tr>",
                            "<tr><td>07080151T</td><td>golyóstoll</td><td>390</td><td>23</td><td>390</td></tr>",
                            "<tr><td>07080154T</td><td>golyóstoll</td><td>401</td><td>23</td><td>401</td></tr>",
                            "<tr><td>07040166T</td><td>golyóstoll</td><td>455</td><td>23</td><td>455</td></tr>",
                            "<tr><td>07040167T</td><td>golyóstoll</td><td>655</td><td>23</td><td>655</td></tr>",
                            "<tr><td>07080158T</td><td>golyóstoll</td><td>773</td><td>23</td><td>773</td></tr>",
                            "<tr><td>07080152T</td><td>golyóstoll</td><td>1019</td><td>23</td><td>1019</td></tr>",
                            "<tr><td>05050170T</td><td>gumigyűrű</td><td>19</td><td>19</td><td>19</td></tr>",
                            "<tr><td>G064-CI401</td><td>gyermek cipő</td><td>6900</td><td>6900</td><td>6900</td></tr>",
                            "<tr><td>L064-CI401</td><td>gyermek cipő</td><td>6900</td><td>6900</td><td>6900</td></tr>",
                            "<tr><td>L073-CI410</td><td>gyermek cipő</td><td>7900</td><td>6900</td><td>7900</td></tr>",
                            "<tr><td>G073-CI410</td><td>gyermek cipő</td><td>7900</td><td>6900</td><td>7900</td></tr>",
                            "<tr><td>G082-CI419</td><td>gyermek cipő</td><td>8000</td><td>6900</td><td>8000</td></tr>",
                            "<tr><td>L082-CI419</td><td>gyermek cipő</td><td>8000</td><td>6900</td><td>8000</td></tr>",
                            "<tr><td>L001-KB101</td><td>gyermek kabát</td><td>8900</td><td>8900</td><td>8900</td></tr>",
                            "<tr><td>G001-KB101</td><td>gyermek kabát</td><td>8900</td><td>8900</td><td>8900</td></tr>",
                            "<tr><td>G019-NA207</td><td>gyermek nadrág</td><td>1290</td><td>1290</td><td>1290</td></tr>",
                            "<tr><td>L019-NA207</td><td>gyermek nadrág</td><td>1290</td><td>1290</td><td>1290</td></tr>",
                            "<tr><td>L013-NA201</td><td>gyermek nadrág</td><td>4990</td><td>1290</td><td>4990</td></tr>",
                            "<tr><td>G013-NA201</td><td>gyermek nadrág</td><td>4990</td><td>1290</td><td>4990</td></tr>",
                            "<tr><td>G048-PO218</td><td>gyermek póló</td><td>3900</td><td>3900</td><td>3900</td></tr>",
                            "<tr><td>L048-PO218</td><td>gyermek póló</td><td>3900</td><td>3900</td><td>3900</td></tr>",
                            "<tr><td>02040176T</td><td>gyorsfűző</td><td>18</td><td>18</td><td>18</td></tr>",
                            "<tr><td>02040177T</td><td>gyorsfűző</td><td>30</td><td>18</td><td>30</td></tr>",
                            "<tr><td>02040178T</td><td>gyorsfűző</td><td>35</td><td>18</td><td>35</td></tr>",
                            "<tr><td>06080441T</td><td>gyurma</td><td>121</td><td>121</td><td>121</td></tr>",
                            "<tr><td>06080440T</td><td>gyurma</td><td>161</td><td>121</td><td>161</td></tr>",
                            "<tr><td>06040179T</td><td>gyurma</td><td>180</td><td>121</td><td>180</td></tr>",
                            "<tr><td>06040180T</td><td>gyurma</td><td>228</td><td>121</td><td>228</td></tr>",
                            "<tr><td>06040183T</td><td>gyűrűskönyv</td><td>95</td><td>95</td><td>95</td></tr>",
                            "<tr><td>06040182T</td><td>gyűrűskönyv</td><td>184</td><td>95</td><td>184</td></tr>",
                            "<tr><td>06040184T</td><td>gyűrűskönyv</td><td>218</td><td>95</td><td>218</td></tr>",
                            "<tr><td>06040185T</td><td>gyűrűskönyv</td><td>581</td><td>95</td><td>581</td></tr>",
                            "<tr><td>06040186T</td><td>gyűrűskönyv</td><td>699</td><td>95</td><td>699</td></tr>",
                            "<tr><td>04050187T</td><td>hajgumi</td><td>66</td><td>66</td><td>66</td></tr>",
                            "<tr><td>02020444T</td><td>határidő napló</td><td>464</td><td>464</td><td>464</td></tr>",
                            "<tr><td>04020445T</td><td>határidő napló</td><td>728</td><td>464</td><td>728</td></tr>",
                            "<tr><td>06080190T</td><td>hegyező</td><td>23</td><td>23</td><td>23</td></tr>",
                            "<tr><td>06080191T</td><td>hegyező</td><td>30</td><td>23</td><td>30</td></tr>",
                            "<tr><td>06080189T</td><td>hegyező</td><td>30</td><td>23</td><td>30</td></tr>",
                            "<tr><td>06080188T</td><td>hegyező</td><td>875</td><td>23</td><td>875</td></tr>",
                            "<tr><td>06080192T</td><td>hegyző</td><td>70</td><td>70</td><td>70</td></tr>",
                            "<tr><td>06080193T</td><td>hegyző</td><td>180</td><td>70</td><td>180</td></tr>",
                            "<tr><td>02040197T</td><td>hibajavító</td><td>81</td><td>81</td><td>81</td></tr>",
                            "<tr><td>02040198T</td><td>hibajavító</td><td>133</td><td>81</td><td>133</td></tr>",
                            "<tr><td>02040195T</td><td>hibajavító</td><td>185</td><td>81</td><td>185</td></tr>",
                            "<tr><td>02040196T</td><td>hibajavító</td><td>273</td><td>81</td><td>273</td></tr>",
                            "<tr><td>02040200T</td><td>hibajavító</td><td>278</td><td>81</td><td>278</td></tr>",
                            "<tr><td>02040199T</td><td>hibajavító</td><td>286</td><td>81</td><td>286</td></tr>",
                            "<tr><td>02040194T</td><td>hibajavító</td><td>794</td><td>81</td><td>794</td></tr>",
                            "<tr><td>04050203T</td><td>hűtőmágnes</td><td>24</td><td>24</td><td>24</td></tr>",
                            "<tr><td>04050204T</td><td>hűtőmágnes</td><td>169</td><td>24</td><td>169</td></tr>",
                            "<tr><td>06040206T</td><td>indigó</td><td>12</td><td>12</td><td>12</td></tr>",
                            "<tr><td>06040205T</td><td>indigó</td><td>15</td><td>12</td><td>15</td></tr>",
                            "<tr><td>02040207T</td><td>iratgyűjtő</td><td>19</td><td>19</td><td>19</td></tr>",
                            "<tr><td>02040208T</td><td>iratgyűjtő</td><td>19</td><td>19</td><td>19</td></tr>",
                            "<tr><td>02040025T</td><td>iratgyűjtő</td><td>133</td><td>19</td><td>133</td></tr>",
                            "<tr><td>02040211T</td><td>iratrendező</td><td>243</td><td>243</td><td>243</td></tr>",
                            "<tr><td>02080432T</td><td>iratrendező</td><td>259</td><td>243</td><td>259</td></tr>",
                            "<tr><td>02040209T</td><td>iratsín</td><td>44</td><td>44</td><td>44</td></tr>",
                            "<tr><td>02040210T</td><td>iratsín</td><td>89</td><td>44</td><td>89</td></tr>",
                            "<tr><td>02080436T</td><td>irattartó</td><td>66</td><td>66</td><td>66</td></tr>",
                            "<tr><td>02080431T</td><td>irattartó</td><td>214</td><td>66</td><td>214</td></tr>",
                            "<tr><td>02040214T</td><td>irodaszer</td><td>59</td><td>59</td><td>59</td></tr>",
                            "<tr><td>06040212T</td><td>írólap</td><td>29</td><td>29</td><td>29</td></tr>",
                            "<tr><td>06040213T</td><td>írólap</td><td>34</td><td>29</td><td>34</td></tr>",
                            "<tr><td>07040218T</td><td>ironbél</td><td>23</td><td>23</td><td>23</td></tr>",
                            "<tr><td>07040216T</td><td>ironbél</td><td>36</td><td>23</td><td>36</td></tr>",
                            "<tr><td>07040217T</td><td>ironbél</td><td>59</td><td>23</td><td>59</td></tr>",
                            "<tr><td>07040215T</td><td>ironbél</td><td>74</td><td>23</td><td>74</td></tr>",
                            "<tr><td>07040219T</td><td>ironbél</td><td>78</td><td>23</td><td>78</td></tr>",
                            "<tr><td>06040089T</td><td>iskolaszer</td><td>5</td><td>5</td><td>5</td></tr>",
                            "<tr><td>06040353T</td><td>iskolaszer</td><td>8</td><td>5</td><td>8</td></tr>",
                            "<tr><td>06040181T</td><td>iskolaszer</td><td>8</td><td>5</td><td>8</td></tr>",
                            "<tr><td>06010305T</td><td>iskolaszer</td><td>9</td><td>5</td><td>9</td></tr>",
                            "<tr><td>06040383T</td><td>iskolaszer</td><td>19</td><td>5</td><td>19</td></tr>",
                            "<tr><td>06010202T</td><td>iskolaszer</td><td>23</td><td>5</td><td>23</td></tr>",
                            "<tr><td>06010036T</td><td>iskolaszer</td><td>33</td><td>5</td><td>33</td></tr>",
                            "<tr><td>06010367T</td><td>iskolaszer</td><td>35</td><td>5</td><td>35</td></tr>",
                            "<tr><td>06010365T</td><td>iskolaszer</td><td>36</td><td>5</td><td>36</td></tr>",
                            "<tr><td>06010201T</td><td>iskolaszer</td><td>36</td><td>5</td><td>36</td></tr>",
                            "<tr><td>07050463T</td><td>iskolaszer</td><td>36</td><td>5</td><td>36</td></tr>",
                            "<tr><td>06010373T</td><td>iskolaszer</td><td>43</td><td>5</td><td>43</td></tr>",
                            "<tr><td>06010374T</td><td>iskolaszer</td><td>45</td><td>5</td><td>45</td></tr>",
                            "<tr><td>06040088T</td><td>iskolaszer</td><td>51</td><td>5</td><td>51</td></tr>",
                            "<tr><td>06040384T</td><td>iskolaszer</td><td>58</td><td>5</td><td>58</td></tr>",
                            "<tr><td>06010368T</td><td>iskolaszer</td><td>61</td><td>5</td><td>61</td></tr>",
                            "<tr><td>06050249T</td><td>iskolaszer</td><td>73</td><td>5</td><td>73</td></tr>",
                            "<tr><td>06080430T</td><td>iskolaszer</td><td>74</td><td>5</td><td>74</td></tr>",
                            "<tr><td>06040352T</td><td>iskolaszer</td><td>103</td><td>5</td><td>103</td></tr>",
                            "<tr><td>06040399T</td><td>iskolaszer</td><td>125</td><td>5</td><td>125</td></tr>",
                            "<tr><td>06080259T</td><td>iskolaszer</td><td>161</td><td>5</td><td>161</td></tr>",
                            "<tr><td>06080427T</td><td>iskolaszer</td><td>161</td><td>5</td><td>161</td></tr>",
                            "<tr><td>06080422T</td><td>iskolaszer</td><td>324</td><td>5</td><td>324</td></tr>",
                            "<tr><td>06040400T</td><td>iskolaszer</td><td>511</td><td>5</td><td>511</td></tr>",
                            "<tr><td>04050220T</td><td>játékautó</td><td>65</td><td>65</td><td>65</td></tr>",
                            "<tr><td>04050223T</td><td>játékautó</td><td>73</td><td>65</td><td>73</td></tr>",
                            "<tr><td>04050221T</td><td>játékautó</td><td>133</td><td>65</td><td>133</td></tr>",
                            "<tr><td>04050222T</td><td>játékautó</td><td>165</td><td>65</td><td>165</td></tr>",
                            "<tr><td>04050224T</td><td>jelzőkréta</td><td>48</td><td>48</td><td>48</td></tr>",
                            "<tr><td>02080226T</td><td>kapocskiszedő</td><td>106</td><td>106</td><td>106</td></tr>",
                            "<tr><td>01090515T</td><td>karton</td><td>11</td><td>11</td><td>11</td></tr>",
                            "<tr><td>01090516T</td><td>karton</td><td>25</td><td>11</td><td>25</td></tr>",
                            "<tr><td>01080513T</td><td>karton</td><td>38</td><td>11</td><td>38</td></tr>",
                            "<tr><td>01100509T</td><td>karton</td><td>40</td><td>11</td><td>40</td></tr>",
                            "<tr><td>01100070T</td><td>karton</td><td>73</td><td>11</td><td>73</td></tr>",
                            "<tr><td>01100071T</td><td>karton</td><td>89</td><td>11</td><td>89</td></tr>",
                            "<tr><td>04050225T</td><td>kártya</td><td>131</td><td>131</td><td>131</td></tr>",
                            "<tr><td>04030240T</td><td>képeslap</td><td>14</td><td>14</td><td>14</td></tr>",
                            "<tr><td>04030236T</td><td>képeslap</td><td>15</td><td>14</td><td>15</td></tr>",
                            "<tr><td>04030234T</td><td>képeslap</td><td>30</td><td>14</td><td>30</td></tr>",
                            "<tr><td>04110229T</td><td>képeslap</td><td>33</td><td>14</td><td>33</td></tr>",
                            "<tr><td>04110227T</td><td>képeslap</td><td>33</td><td>14</td><td>33</td></tr>",
                            "<tr><td>04030237T</td><td>képeslap</td><td>36</td><td>14</td><td>36</td></tr>",
                            "<tr><td>04030241T</td><td>képeslap</td><td>44</td><td>14</td><td>44</td></tr>",
                            "<tr><td>04030239T</td><td>képeslap</td><td>48</td><td>14</td><td>48</td></tr>",
                            "<tr><td>04110232T</td><td>képeslap</td><td>51</td><td>14</td><td>51</td></tr>",
                            "<tr><td>04110230T</td><td>képeslap</td><td>55</td><td>14</td><td>55</td></tr>",
                            "<tr><td>04030238T</td><td>képeslap</td><td>59</td><td>14</td><td>59</td></tr>",
                            "<tr><td>04030235T</td><td>képeslap</td><td>73</td><td>14</td><td>73</td></tr>",
                            "<tr><td>04110231T</td><td>képeslap</td><td>81</td><td>14</td><td>81</td></tr>",
                            "<tr><td>04110233T</td><td>képeslap</td><td>89</td><td>14</td><td>89</td></tr>",
                            "<tr><td>04030242T</td><td>képeslap</td><td>118</td><td>14</td><td>118</td></tr>",
                            "<tr><td>04110228T</td><td>képeslap</td><td>184</td><td>14</td><td>184</td></tr>",
                            "<tr><td>04030243T</td><td>képkirakó</td><td>195</td><td>195</td><td>195</td></tr>",
                            "<tr><td>N035-AL218</td><td>kosztüm</td><td>39000</td><td>39000</td><td>39000</td></tr>",
                            "<tr><td>N039-AL222</td><td>kosztüm</td><td>46000</td><td>39000</td><td>46000</td></tr>",
                            "<tr><td>06040247T</td><td>körző</td><td>30</td><td>30</td><td>30</td></tr>",
                            "<tr><td>06040246T</td><td>körző</td><td>161</td><td>30</td><td>161</td></tr>",
                            "<tr><td>06040248T</td><td>körző</td><td>243</td><td>30</td><td>243</td></tr>",
                            "<tr><td>01090501T</td><td>kreatív</td><td>4</td><td>4</td><td>4</td></tr>",
                            "<tr><td>01100510T</td><td>kreatív</td><td>13</td><td>4</td><td>13</td></tr>",
                            "<tr><td>04050255T</td><td>kulcstartó</td><td>36</td><td>36</td><td>36</td></tr>",
                            "<tr><td>04050253T</td><td>kulcstartó</td><td>103</td><td>36</td><td>103</td></tr>",
                            "<tr><td>04050250T</td><td>kulcstartó</td><td>115</td><td>36</td><td>115</td></tr>",
                            "<tr><td>04050252T</td><td>kulcstartó</td><td>124</td><td>36</td><td>124</td></tr>",
                            "<tr><td>04050256T</td><td>kulcstartó</td><td>129</td><td>36</td><td>129</td></tr>",
                            "<tr><td>04050251T</td><td>kulcstartó</td><td>148</td><td>36</td><td>148</td></tr>",
                            "<tr><td>04050254T</td><td>kulcstartó</td><td>155</td><td>36</td><td>155</td></tr>",
                            "<tr><td>04040387T</td><td>labda</td><td>81</td><td>81</td><td>81</td></tr>",
                            "<tr><td>04050171T</td><td>labda</td><td>110</td><td>81</td><td>110</td></tr>",
                            "<tr><td>04030260T</td><td>levélpapír</td><td>15</td><td>15</td><td>15</td></tr>",
                            "<tr><td>04030262T</td><td>levélpapír</td><td>56</td><td>15</td><td>56</td></tr>",
                            "<tr><td>04030264T</td><td>levélpapír</td><td>74</td><td>15</td><td>74</td></tr>",
                            "<tr><td>04030263T</td><td>levélpapír</td><td>89</td><td>15</td><td>89</td></tr>",
                            "<tr><td>04030265T</td><td>levélpapír</td><td>103</td><td>15</td><td>103</td></tr>",
                            "<tr><td>04030261T</td><td>levélpapír</td><td>140</td><td>15</td><td>140</td></tr>",
                            "<tr><td>04030266T</td><td>levélpapír</td><td>169</td><td>15</td><td>169</td></tr>",
                            "<tr><td>04050269T</td><td>lufi</td><td>11</td><td>11</td><td>11</td></tr>",
                            "<tr><td>04050268T</td><td>lufi</td><td>15</td><td>11</td><td>15</td></tr>",
                            "<tr><td>02080453T</td><td>lyukasztó</td><td>526</td><td>526</td><td>526</td></tr>",
                            "<tr><td>02080454T</td><td>lyukasztó</td><td>765</td><td>526</td><td>765</td></tr>",
                            "<tr><td>06040174T</td><td>mappa</td><td>148</td><td>148</td><td>148</td></tr>",
                            "<tr><td>02080435T</td><td>mappa</td><td>184</td><td>148</td><td>184</td></tr>",
                            "<tr><td>06040175T</td><td>mappa</td><td>191</td><td>148</td><td>191</td></tr>",
                            "<tr><td>06040172T</td><td>mappa</td><td>195</td><td>148</td><td>195</td></tr>",
                            "<tr><td>02080434T</td><td>mappa</td><td>210</td><td>148</td><td>210</td></tr>",
                            "<tr><td>06040173T</td><td>mappa</td><td>211</td><td>148</td><td>211</td></tr>",
                            "<tr><td>04080271T</td><td>mappa</td><td>264</td><td>148</td><td>264</td></tr>",
                            "<tr><td>04080272T</td><td>mappa</td><td>360</td><td>148</td><td>360</td></tr>",
                            "<tr><td>04080270T</td><td>mappa</td><td>1765</td><td>148</td><td>1765</td></tr>",
                            "<tr><td>04110274T</td><td>matrica</td><td>49</td><td>49</td><td>49</td></tr>",
                            "<tr><td>04110275T</td><td>matrica</td><td>49</td><td>49</td><td>49</td></tr>",
                            "<tr><td>04110273T</td><td>matrica</td><td>55</td><td>49</td><td>55</td></tr>",
                            "<tr><td>04110282T</td><td>matrica</td><td>56</td><td>49</td><td>56</td></tr>",
                            "<tr><td>04110277T</td><td>matrica</td><td>93</td><td>49</td><td>93</td></tr>",
                            "<tr><td>04110276T</td><td>matrica</td><td>109</td><td>49</td><td>109</td></tr>",
                            "<tr><td>04110280T</td><td>matrica</td><td>148</td><td>49</td><td>148</td></tr>",
                            "<tr><td>04110278T</td><td>matrica</td><td>161</td><td>49</td><td>161</td></tr>",
                            "<tr><td>04110279T</td><td>matrica</td><td>168</td><td>49</td><td>168</td></tr>",
                            "<tr><td>04110281T</td><td>matrica</td><td>175</td><td>49</td><td>175</td></tr>",
                            "<tr><td>01030092T</td><td>meghívó</td><td>59</td><td>59</td><td>59</td></tr>",
                            "<tr><td>06080429T</td><td>meghívó</td><td>63</td><td>59</td><td>63</td></tr>",
                            "<tr><td>04110283T</td><td>meghívó</td><td>155</td><td>59</td><td>155</td></tr>",
                            "<tr><td>04110284T</td><td>meghívó</td><td>169</td><td>59</td><td>169</td></tr>",
                            "<tr><td>06080425T</td><td>miliméterpapír</td><td>8</td><td>8</td><td>8</td></tr>",
                            "<tr><td>08070482T</td><td>munkafüzet</td><td>190</td><td>190</td><td>190</td></tr>",
                            "<tr><td>08070481T</td><td>munkafüzet</td><td>198</td><td>190</td><td>198</td></tr>",
                            "<tr><td>08070476T</td><td>munkafüzet</td><td>293</td><td>190</td><td>293</td></tr>",
                            "<tr><td>08070477T</td><td>munkafüzet</td><td>353</td><td>190</td><td>353</td></tr>",
                            "<tr><td>08070486T</td><td>munkafüzet</td><td>403</td><td>190</td><td>403</td></tr>",
                            "<tr><td>08070487T</td><td>munkafüzet</td><td>403</td><td>190</td><td>403</td></tr>",
                            "<tr><td>08070488T</td><td>munkafüzet</td><td>403</td><td>190</td><td>403</td></tr>",
                            "<tr><td>08070475T</td><td>munkafüzet</td><td>440</td><td>190</td><td>440</td></tr>",
                            "<tr><td>08070478T</td><td>munkafüzet</td><td>785</td><td>190</td><td>785</td></tr>",
                            "<tr><td>01090498T</td><td>műnyomó</td><td>3</td><td>3</td><td>3</td></tr>",
                            "<tr><td>02040290T</td><td>naptár</td><td>89</td><td>89</td><td>89</td></tr>",
                            "<tr><td>02040291T</td><td>naptárhát</td><td>15</td><td>15</td><td>15</td></tr>",
                            "<tr><td>02040292T</td><td>naptárhát</td><td>78</td><td>15</td><td>78</td></tr>",
                            "<tr><td>02040293T</td><td>névjegytartó</td><td>310</td><td>310</td><td>310</td></tr>",
                            "<tr><td>02040298T</td><td>notesz</td><td>44</td><td>44</td><td>44</td></tr>",
                            "<tr><td>02040296T</td><td>notesz</td><td>56</td><td>44</td><td>56</td></tr>",
                            "<tr><td>02040295T</td><td>notesz</td><td>89</td><td>44</td><td>89</td></tr>",
                            "<tr><td>02040297T</td><td>notesz</td><td>103</td><td>44</td><td>103</td></tr>",
                            "<tr><td>02040294T</td><td>notesz</td><td>103</td><td>44</td><td>103</td></tr>",
                            "<tr><td>N001-KB101</td><td>női kabát</td><td>24000</td><td>24000</td><td>24000</td></tr>",
                            "<tr><td>N008-NA201</td><td>női nadrág</td><td>8290</td><td>8290</td><td>8290</td></tr>",
                            "<tr><td>01090517T</td><td>ofszet</td><td>4</td><td>4</td><td>4</td></tr>",
                            "<tr><td>01020299T</td><td>oklevél</td><td>48</td><td>48</td><td>48</td></tr>",
                            "<tr><td>01020300T</td><td>oklevél</td><td>55</td><td>48</td><td>55</td></tr>",
                            "<tr><td>06050301T</td><td>olló</td><td>133</td><td>133</td><td>133</td></tr>",
                            "<tr><td>06050303T</td><td>olló</td><td>161</td><td>133</td><td>161</td></tr>",
                            "<tr><td>06050302T</td><td>olló</td><td>176</td><td>133</td><td>176</td></tr>",
                            "<tr><td>01010304T</td><td>öntapadó</td><td>59</td><td>59</td><td>59</td></tr>",
                            "<tr><td>01080512T</td><td>öntapadó</td><td>4575</td><td>59</td><td>4575</td></tr>",
                            "<tr><td>05010306T</td><td>papízsebkendő</td><td>20</td><td>20</td><td>20</td></tr>",
                            "<tr><td>01040307T</td><td>pausz</td><td>15</td><td>15</td><td>15</td></tr>",
                            "<tr><td>02020245T</td><td>pénztárbizonylat</td><td>103</td><td>103</td><td>103</td></tr>",
                            "<tr><td>02020037T</td><td>pénztárbizonylat</td><td>144</td><td>103</td><td>144</td></tr>",
                            "<tr><td>02040308T</td><td>pénztárgépszalag</td><td>81</td><td>81</td><td>81</td></tr>",
                            "<tr><td>02040309T</td><td>pénztárgépszalag</td><td>93</td><td>81</td><td>93</td></tr>",
                            "<tr><td>07080313T</td><td>pixiron</td><td>59</td><td>59</td><td>59</td></tr>",
                            "<tr><td>07080317T</td><td>pixiron</td><td>59</td><td>59</td><td>59</td></tr>",
                            "<tr><td>07080315T</td><td>pixiron</td><td>94</td><td>59</td><td>94</td></tr>",
                            "<tr><td>07080312T</td><td>pixiron</td><td>125</td><td>59</td><td>125</td></tr>",
                            "<tr><td>07080314T</td><td>pixiron</td><td>133</td><td>59</td><td>133</td></tr>",
                            "<tr><td>07080318T</td><td>pixiron</td><td>235</td><td>59</td><td>235</td></tr>",
                            "<tr><td>07080311T</td><td>pixiron</td><td>276</td><td>59</td><td>276</td></tr>",
                            "<tr><td>07080319T</td><td>pixiron</td><td>299</td><td>59</td><td>299</td></tr>",
                            "<tr><td>07080316T</td><td>pixiron</td><td>468</td><td>59</td><td>468</td></tr>",
                            "<tr><td>04050321T</td><td>plüss</td><td>161</td><td>161</td><td>161</td></tr>",
                            "<tr><td>04050320T</td><td>plüss</td><td>173</td><td>161</td><td>173</td></tr>",
                            "<tr><td>04050322T</td><td>plüss</td><td>314</td><td>161</td><td>314</td></tr>",
                            "<tr><td>06040323T</td><td>post-it</td><td>36</td><td>36</td><td>36</td></tr>",
                            "<tr><td>06040324T</td><td>post-it</td><td>89</td><td>36</td><td>89</td></tr>",
                            "<tr><td>06040326T</td><td>radír</td><td>19</td><td>19</td><td>19</td></tr>",
                            "<tr><td>06040327T</td><td>radír</td><td>36</td><td>19</td><td>36</td></tr>",
                            "<tr><td>06040325T</td><td>radír</td><td>40</td><td>19</td><td>40</td></tr>",
                            "<tr><td>06040328T</td><td>radír</td><td>44</td><td>19</td><td>44</td></tr>",
                            "<tr><td>06040329T</td><td>radír</td><td>44</td><td>19</td><td>44</td></tr>",
                            "<tr><td>06040331T</td><td>radír</td><td>49</td><td>19</td><td>49</td></tr>",
                            "<tr><td>06040330T</td><td>radír</td><td>50</td><td>19</td><td>50</td></tr>",
                            "<tr><td>06080332T</td><td>radírtoll</td><td>74</td><td>74</td><td>74</td></tr>",
                            "<tr><td>06080333T</td><td>radírtoll</td><td>119</td><td>74</td><td>119</td></tr>",
                            "<tr><td>06080336T</td><td>ragasztó</td><td>81</td><td>81</td><td>81</td></tr>",
                            "<tr><td>06080339T</td><td>ragasztó</td><td>89</td><td>81</td><td>89</td></tr>",
                            "<tr><td>06080338T</td><td>ragasztó</td><td>101</td><td>81</td><td>101</td></tr>",
                            "<tr><td>05040310T</td><td>ragasztó</td><td>103</td><td>81</td><td>103</td></tr>",
                            "<tr><td>06080335T</td><td>ragasztó</td><td>110</td><td>81</td><td>110</td></tr>",
                            "<tr><td>06080334T</td><td>ragasztó</td><td>133</td><td>81</td><td>133</td></tr>",
                            "<tr><td>05080340T</td><td>ragasztó</td><td>144</td><td>81</td><td>144</td></tr>",
                            "<tr><td>05080341T</td><td>ragasztó</td><td>144</td><td>81</td><td>144</td></tr>",
                            "<tr><td>06080337T</td><td>ragasztó</td><td>293</td><td>81</td><td>293</td></tr>",
                            "<tr><td>06010343T</td><td>ragasztó</td><td>426</td><td>81</td><td>426</td></tr>",
                            "<tr><td>03010342T</td><td>ragasztószalag</td><td>15</td><td>15</td><td>15</td></tr>",
                            "<tr><td>02080433T</td><td>ragasztószalag</td><td>55</td><td>15</td><td>55</td></tr>",
                            "<tr><td>03010344T</td><td>ragasztószalag</td><td>63</td><td>15</td><td>63</td></tr>",
                            "<tr><td>03010345T</td><td>ragasztószalag</td><td>166</td><td>15</td><td>166</td></tr>",
                            "<tr><td>05050346T</td><td>rágógumi</td><td>89</td><td>89</td><td>89</td></tr>",
                            "<tr><td>06040347T</td><td>rajzlap</td><td>28</td><td>28</td><td>28</td></tr>",
                            "<tr><td>01010001T</td><td>rajzlap</td><td>342</td><td>28</td><td>342</td></tr>",
                            "<tr><td>05040349T</td><td>rajzszeg</td><td>63</td><td>63</td><td>63</td></tr>",
                            "<tr><td>05040348T</td><td>rajzszeg</td><td>106</td><td>63</td><td>106</td></tr>",
                            "<tr><td>06040351T</td><td>regiszteres füzet</td><td>203</td><td>203</td><td>203</td></tr>",
                            "<tr><td>06040350T</td><td>regiszteres füzet</td><td>256</td><td>203</td><td>256</td></tr>",
                            "<tr><td>U001-KI501</td><td>sál</td><td>1990</td><td>1990</td><td>1990</td></tr>",
                            "<tr><td>02080514T</td><td>spirál</td><td>45</td><td>45</td><td>45</td></tr>",
                            "<tr><td>04050358T</td><td>strandlabda</td><td>356</td><td>356</td><td>356</td></tr>",
                            "<tr><td>05110360T</td><td>szalvéta</td><td>118</td><td>118</td><td>118</td></tr>",
                            "<tr><td>05110363T</td><td>szalvéta</td><td>133</td><td>118</td><td>133</td></tr>",
                            "<tr><td>05110364T</td><td>szalvéta</td><td>161</td><td>118</td><td>161</td></tr>",
                            "<tr><td>05110361T</td><td>szalvéta</td><td>175</td><td>118</td><td>175</td></tr>",
                            "<tr><td>05110359T</td><td>szalvéta</td><td>176</td><td>118</td><td>176</td></tr>",
                            "<tr><td>04110362T</td><td>szalvéta</td><td>183</td><td>118</td><td>183</td></tr>",
                            "<tr><td>06010366T</td><td>számológép</td><td>508</td><td>508</td><td>508</td></tr>",
                            "<tr><td>06040446T</td><td>számológép</td><td>1173</td><td>508</td><td>1173</td></tr>",
                            "<tr><td>05010369T</td><td>szemetes</td><td>129</td><td>129</td><td>129</td></tr>",
                            "<tr><td>07010371T</td><td>színes</td><td>99</td><td>99</td><td>99</td></tr>",
                            "<tr><td>07010372T</td><td>színes</td><td>161</td><td>99</td><td>161</td></tr>",
                            "<tr><td>06010377T</td><td>szögmérő</td><td>8</td><td>8</td><td>8</td></tr>",
                            "<tr><td>06010376T</td><td>szögmérő</td><td>11</td><td>8</td><td>11</td></tr>",
                            "<tr><td>06010375T</td><td>szögmérő</td><td>24</td><td>8</td><td>24</td></tr>",
                            "<tr><td>06040380T</td><td>szövegkiemelő</td><td>78</td><td>78</td><td>78</td></tr>",
                            "<tr><td>06040378T</td><td>szövegkiemelő</td><td>89</td><td>78</td><td>89</td></tr>",
                            "<tr><td>06040379T</td><td>szövegkiemelő</td><td>93</td><td>78</td><td>93</td></tr>",
                            "<tr><td>06040381T</td><td>szövegkiemelő</td><td>103</td><td>78</td><td>103</td></tr>",
                            "<tr><td>07050464T</td><td>szövegkiemelő</td><td>140</td><td>78</td><td>140</td></tr>",
                            "<tr><td>06040382T</td><td>táblafilc</td><td>633</td><td>633</td><td>633</td></tr>",
                            "<tr><td>05050465T</td><td>tapétavágó</td><td>40</td><td>40</td><td>40</td></tr>",
                            "<tr><td>06040386T</td><td>tempera</td><td>48</td><td>48</td><td>48</td></tr>",
                            "<tr><td>06040385T</td><td>tempera</td><td>96</td><td>48</td><td>96</td></tr>",
                            "<tr><td>02080449T</td><td>térképtű</td><td>103</td><td>103</td><td>103</td></tr>",
                            "<tr><td>07040388T</td><td>tintapatron</td><td>9</td><td>9</td><td>9</td></tr>",
                            "<tr><td>07040390T</td><td>tintapatron</td><td>11</td><td>9</td><td>11</td></tr>",
                            "<tr><td>07040389T</td><td>tintapatron</td><td>360</td><td>9</td><td>360</td></tr>",
                            "<tr><td>07010244T</td><td>toll</td><td>74</td><td>74</td><td>74</td></tr>",
                            "<tr><td>07040391T</td><td>toll</td><td>80</td><td>74</td><td>80</td></tr>",
                            "<tr><td>07010141T</td><td>tollbetét</td><td>15</td><td>15</td><td>15</td></tr>",
                            "<tr><td>07010140T</td><td>tollbetét</td><td>23</td><td>15</td><td>23</td></tr>",
                            "<tr><td>07040127T</td><td>tollbetét</td><td>30</td><td>15</td><td>30</td></tr>",
                            "<tr><td>07040129T</td><td>tollbetét</td><td>30</td><td>15</td><td>30</td></tr>",
                            "<tr><td>07010138T</td><td>tollbetét</td><td>33</td><td>15</td><td>33</td></tr>",
                            "<tr><td>07040133T</td><td>tollbetét</td><td>39</td><td>15</td><td>39</td></tr>",
                            "<tr><td>07040134T</td><td>tollbetét</td><td>44</td><td>15</td><td>44</td></tr>",
                            "<tr><td>07010137T</td><td>tollbetét</td><td>48</td><td>15</td><td>48</td></tr>",
                            "<tr><td>07040128T</td><td>tollbetét</td><td>55</td><td>15</td><td>55</td></tr>",
                            "<tr><td>07040132T</td><td>tollbetét</td><td>55</td><td>15</td><td>55</td></tr>",
                            "<tr><td>07010143T</td><td>tollbetét</td><td>78</td><td>15</td><td>78</td></tr>",
                            "<tr><td>07040130T</td><td>tollbetét</td><td>80</td><td>15</td><td>80</td></tr>",
                            "<tr><td>07040131T</td><td>tollbetét</td><td>85</td><td>15</td><td>85</td></tr>",
                            "<tr><td>07010144T</td><td>tollbetét</td><td>89</td><td>15</td><td>89</td></tr>",
                            "<tr><td>07010139T</td><td>tollbetét</td><td>91</td><td>15</td><td>91</td></tr>",
                            "<tr><td>07010136T</td><td>tollbetét</td><td>123</td><td>15</td><td>123</td></tr>",
                            "<tr><td>07010142T</td><td>tollbetét</td><td>228</td><td>15</td><td>228</td></tr>",
                            "<tr><td>07040135T</td><td>tollbetét</td><td>684</td><td>15</td><td>684</td></tr>",
                            "<tr><td>06040394T</td><td>tolltartó</td><td>324</td><td>324</td><td>324</td></tr>",
                            "<tr><td>06040396T</td><td>tolltartó</td><td>410</td><td>324</td><td>410</td></tr>",
                            "<tr><td>06040398T</td><td>tolltartó</td><td>411</td><td>324</td><td>411</td></tr>",
                            "<tr><td>06040397T</td><td>tolltartó</td><td>655</td><td>324</td><td>655</td></tr>",
                            "<tr><td>06040395T</td><td>tolltartó</td><td>728</td><td>324</td><td>728</td></tr>",
                            "<tr><td>06040392T</td><td>tolltartó</td><td>728</td><td>324</td><td>728</td></tr>",
                            "<tr><td>06040393T</td><td>tolltartó</td><td>765</td><td>324</td><td>765</td></tr>",
                            "<tr><td>02080511T</td><td>toner</td><td>14250</td><td>14250</td><td>14250</td></tr>",
                            "<tr><td>07050462T</td><td>töltőtoll</td><td>493</td><td>493</td><td>493</td></tr>",
                            "<tr><td>02040402T</td><td>tűzőgép</td><td>286</td><td>286</td><td>286</td></tr>",
                            "<tr><td>02040401T</td><td>tűzőgép</td><td>339</td><td>286</td><td>339</td></tr>",
                            "<tr><td>02040404T</td><td>tűzőgép</td><td>405</td><td>286</td><td>405</td></tr>",
                            "<tr><td>02080452T</td><td>tűzőgép</td><td>438</td><td>286</td><td>438</td></tr>",
                            "<tr><td>02040403T</td><td>tűzőgép</td><td>1351</td><td>286</td><td>1351</td></tr>",
                            "<tr><td>02040002T</td><td>tűzőgép</td><td>2100</td><td>286</td><td>2100</td></tr>",
                            "<tr><td>02040406T</td><td>tűzőkapocs</td><td>34</td><td>34</td><td>34</td></tr>",
                            "<tr><td>02040405T</td><td>tűzőkapocs</td><td>44</td><td>34</td><td>44</td></tr>",
                            "<tr><td>06080410T</td><td>vízfesték</td><td>176</td><td>176</td><td>176</td></tr>",
                            "<tr><td>06080409T</td><td>vízfesték</td><td>180</td><td>176</td><td>180</td></tr>",
                            "<tr><td>06080408T</td><td>vízfesték</td><td>210</td><td>176</td><td>210</td></tr>",
                            "<tr><td>06080407T</td><td>vízfesték</td><td>249</td><td>176</td><td>249</td></tr>",
                            "<tr><td>06080412T</td><td>vonalzó</td><td>30</td><td>30</td><td>30</td></tr>",
                            "<tr><td>06080413T</td><td>vonalzó</td><td>30</td><td>30</td><td>30</td></tr>",
                            "<tr><td>06080414T</td><td>vonalzó</td><td>30</td><td>30</td><td>30</td></tr>",
                            "<tr><td>06080415T</td><td>vonalzó</td><td>30</td><td>30</td><td>30</td></tr>",
                            "<tr><td>06080416T</td><td>vonalzó</td><td>33</td><td>30</td><td>33</td></tr>",
                            "<tr><td>06080411T</td><td>vonalzó</td><td>58</td><td>30</td><td>58</td></tr>",
                            "<tr><td>06080417T</td><td>zászló</td><td>20</td><td>20</td><td>20</td></tr>",
                            "<tr><td>07080419T</td><td>zseléstoll</td><td>66</td><td>66</td><td>66</td></tr>",
                            "<tr><td>07080418T</td><td>zseléstoll</td><td>95</td><td>66</td><td>95</td></tr>",
                            "<tr><td>07080420T</td><td>zseléstoll</td><td>161</td><td>66</td><td>161</td></tr>",
                            "<tr><td>07080421T</td><td>zseléstoll</td><td>228</td><td>66</td><td>228</td></tr>",
                            "<tr><td>02040206T</td><td>írásvetítő fólia</td><td>81</td><td>81</td><td>81</td></tr>",
                            "</table>"
                        ]
                    }
                }
            ],
            "execution_count": 10
        },
        {
            "cell_type": "markdown",
            "source": [
                "10. <span style=\"font-weight: 600; color: rgb(36, 41, 47); font-family: -apple-system, BlinkMacSystemFont, &quot;Segoe UI&quot;, Helvetica, Arial, sans-serif, &quot;Apple Color Emoji&quot;, &quot;Segoe UI Emoji&quot;; font-size: 16px;\">Készítsünk listát a rendelésekről. A lista legyen rendezve ügyfelenként (LOGIN), azon belül a rendelés dátuma szerint. A listához készítsünk sorszámozást is. A sorszám a következő formában jelenjen meg: sorszám_év_login. Pl: 1_2015_adam1</span>\n",
                "\n",
                "1. A számozás login-onként, azon belül rendelési évenként kezdődjön újra.\n",
                "2. A sorszám oszlop neve legyen Azonosító"
            ],
            "metadata": {
                "azdata_cell_guid": "9229e2b6-e200-4499-b95b-2d0222149831"
            },
            "attachments": {}
        },
        {
            "cell_type": "code",
            "source": [
                ""
            ],
            "metadata": {
                "azdata_cell_guid": "8b49ed67-28c6-4880-82a8-cd369e5bba99",
                "language": "sql"
            },
            "outputs": [],
            "execution_count": null
        },
        {
            "cell_type": "markdown",
            "source": [
                "11. <span style=\"color: rgb(36, 41, 47); font-family: -apple-system, BlinkMacSystemFont, &quot;Segoe UI&quot;, Helvetica, Arial, sans-serif, &quot;Apple Color Emoji&quot;, &quot;Segoe UI Emoji&quot;; font-size: 16px;\">Készítsünk listát a termékek adatairól listaár szerint növekvő sorrendben! A lista jelenítse meg két új oszlopban a sorrend szerint előző, illetve következő termék listaárát is a termék saját kategóriájában és raktárában!</span>\n",
                "\n",
                "1. Ahol nincs előző vagy következő érték, ott 0 jelenjen meg!\n",
                "2. Az oszlopokat nevezzük el értelemszerűen!"
            ],
            "metadata": {
                "azdata_cell_guid": "7f5fc7a7-3b6a-4d89-b292-490830afb0c6"
            },
            "attachments": {}
        },
        {
            "cell_type": "code",
            "source": [
                ""
            ],
            "metadata": {
                "azdata_cell_guid": "4a9ece40-f782-4c0d-92cd-9c21969067ed",
                "language": "sql"
            },
            "outputs": [],
            "execution_count": null
        },
        {
            "cell_type": "markdown",
            "source": [
                "12. <span style=\"color: rgb(36, 41, 47); font-family: -apple-system, BlinkMacSystemFont, &quot;Segoe UI&quot;, Helvetica, Arial, sans-serif, &quot;Apple Color Emoji&quot;, &quot;Segoe UI Emoji&quot;; font-size: 16px;\">Listázzuk a termékek kódját, nevét és listaárát listaár szerinti sorrendben!</span>\n",
                "\n",
                "1. Vegyünk fel egy új oszlopot Mozgóátlag néven, amely minden esetben az aktuális termék, az előző, és a következő termék átlagárát tartalmazza!\n",
                "2. A mozgóátlagot kerekítsük két tizedesre!"
            ],
            "metadata": {
                "azdata_cell_guid": "5a483c52-bb98-44bb-bd03-1146d4b0abfa"
            },
            "attachments": {}
        },
        {
            "cell_type": "code",
            "source": [
                "SELECT Termekkod,\r\n",
                "    MEGNEVEZES,\r\n",
                "    LISTAAR\r\n",
                "FROM "
            ],
            "metadata": {
                "azdata_cell_guid": "dd6e89bd-08f9-4b18-8460-03c45b503df0",
                "language": "sql"
            },
            "outputs": [],
            "execution_count": null
        },
        {
            "cell_type": "markdown",
            "source": [
                "13. <span style=\"color: rgb(36, 41, 47); font-family: -apple-system, BlinkMacSystemFont, &quot;Segoe UI&quot;, Helvetica, Arial, sans-serif, &quot;Apple Color Emoji&quot;, &quot;Segoe UI Emoji&quot;; font-size: 16px;\">Készítsünk listát, amely a rendelések sorszámát és a rendelés értékét tartalmazza. A listát egészítsük ki egy új oszloppal, amely minden rendelés esetén addigi rendelések összegét tartalmazza (az aktuálisat is beleértve)!</span>\n",
                "\n",
                "1. A listát rendezzük sorszám szerint növekvő sorrendbe.\n",
                "2. A lista ne tartalmazzon duplikált sorokat!"
            ],
            "metadata": {
                "azdata_cell_guid": "85d5cb66-96c6-42de-99cf-85ab22d08548"
            },
            "attachments": {}
        },
        {
            "cell_type": "code",
            "source": [
                ""
            ],
            "metadata": {
                "azdata_cell_guid": "cb07d64b-0eaa-498b-b4d2-0b46971e95ce",
                "language": "sql"
            },
            "outputs": [],
            "execution_count": null
        },
        {
            "cell_type": "markdown",
            "source": [
                "14. <span style=\"color: rgb(36, 41, 47); font-family: -apple-system, BlinkMacSystemFont, &quot;Segoe UI&quot;, Helvetica, Arial, sans-serif, &quot;Apple Color Emoji&quot;, &quot;Segoe UI Emoji&quot;; font-size: 16px;\">Készítsünk listát a termékek kódjáról, nevéről, kategória azonosítójáról, raktár azonosítójáról és listaáráról, valamint a termék adott szempontok szerinti rangsorokban elfoglalt helyezéseiről. (Szempontonként külön oszlopban, a helyezéseknél növekvő sorrendet feltételezve). A szempontok a következők legyenek: listaár, kategória szerinti listaár, és raktárkód szerinti listaár.</span>\n",
                "\n",
                "1. Az oszlopokat nevezzük el értelemszerűen.\n",
                "2. A helyezések egyenlőség esetén \"sűrűn\" kövessék egymást.\n",
                "3. A lista legyen rendezett kategória azonosító, azon belül listaár szerint!"
            ],
            "metadata": {
                "azdata_cell_guid": "f95ad665-a807-4099-bf06-64ed974f866f"
            },
            "attachments": {}
        },
        {
            "cell_type": "code",
            "source": [
                ""
            ],
            "metadata": {
                "azdata_cell_guid": "74c7ec8a-ae4a-4d03-b1c4-e8f6bb1be12c",
                "language": "sql"
            },
            "outputs": [],
            "execution_count": null
        },
        {
            "cell_type": "markdown",
            "source": [
                "15. <span style=\"color: rgb(36, 41, 47); font-family: -apple-system, BlinkMacSystemFont, &quot;Segoe UI&quot;, Helvetica, Arial, sans-serif, &quot;Apple Color Emoji&quot;, &quot;Segoe UI Emoji&quot;; font-size: 16px;\">Készítsünk listát a rendelési tételekről, amely minden sor esetén göngyölítve tartalmazza az ügyfél adott rendelési tételig meglévő rendelési tételeinek összértékét!</span>\n",
                "\n",
                "1. Az új oszlop neve legyen Eddigi rendelési tételek összértéke!\n",
                "2. Az ügyfél neve is jelenjen meg!"
            ],
            "metadata": {
                "azdata_cell_guid": "93552388-ffec-49ff-99e5-ae8dc8072601"
            },
            "attachments": {}
        },
        {
            "cell_type": "code",
            "source": [
                ""
            ],
            "metadata": {
                "azdata_cell_guid": "0e7f547f-7d96-4611-b1c2-0fa84a581e79",
                "language": "sql"
            },
            "outputs": [],
            "execution_count": null
        }
    ]
}