{
 "cells": [
  {
   "cell_type": "markdown",
   "metadata": {},
   "source": [
    "**SQL feladatok:**"
   ]
  },
  {
   "cell_type": "markdown",
   "metadata": {},
   "source": [
    "1. Feladat:"
   ]
  },
  {
   "cell_type": "code",
   "execution_count": null,
   "metadata": {
    "vscode": {
     "languageId": "sql"
    }
   },
   "outputs": [],
   "source": [
    "SELECT \n",
    "    s.SZOBA_ID,\n",
    "    COUNT(f.FOGLALAS_PK) AS foglalasok_dbszama\n",
    "FROM \n",
    "    Szoba s\n",
    "LEFT JOIN \n",
    "    Foglalas f ON s.SZOBA_ID = f.SZOBA_FK\n",
    "GROUP BY \n",
    "    s.SZOBA_ID;\n"
   ]
  },
  {
   "cell_type": "markdown",
   "metadata": {},
   "source": [
    "2. Feladat:"
   ]
  },
  {
   "cell_type": "code",
   "execution_count": null,
   "metadata": {
    "vscode": {
     "languageId": "sql"
    }
   },
   "outputs": [],
   "source": [
    "SELECT \n",
    "    sz.SZALLAS_ID,\n",
    "    sz.SZALLAS_NEV\n",
    "FROM \n",
    "    Szallashely sz\n",
    "JOIN \n",
    "    (SELECT \n",
    "         HELY,\n",
    "         MAX(CSILLAGOK_SZAMA) AS max_csillagok\n",
    "     FROM \n",
    "         Szallashely\n",
    "     WHERE\n",
    "         CSILLAGOK_SZAMA > 0\n",
    "     GROUP BY \n",
    "         HELY) max_szallas ON sz.HELY = max_szallas.HELY AND sz.CSILLAGOK_SZAMA = max_szallas.max_csillagok;"
   ]
  },
  {
   "cell_type": "markdown",
   "metadata": {},
   "source": [
    "3. Feladat:"
   ]
  },
  {
   "cell_type": "code",
   "execution_count": null,
   "metadata": {},
   "outputs": [],
   "source": []
  },
  {
   "cell_type": "markdown",
   "metadata": {},
   "source": [
    "4. Feladat:"
   ]
  },
  {
   "cell_type": "code",
   "execution_count": null,
   "metadata": {
    "vscode": {
     "languageId": "sql"
    }
   },
   "outputs": [],
   "source": [
    "SELECT \n",
    "    v.USERNEV AS VENDEG_azon,\n",
    "    v.NEV,\n",
    "    v.SZUL_DAT AS Szul_datum,\n",
    "    MIN(f.METTOL) AS Elso_foglalas,\n",
    "    MAX(f.METTOL) AS Utolso_foglalas\n",
    "FROM \n",
    "    VENDEG v\n",
    "LEFT JOIN \n",
    "    FOGLALAS f ON v.USERNEV = f.UGYFEL_FK\n",
    "GROUP BY \n",
    "    v.USERNEV, v.NEV, v.SZUL_DAT;"
   ]
  },
  {
   "cell_type": "markdown",
   "metadata": {},
   "source": [
    "5. Feladat:"
   ]
  },
  {
   "cell_type": "code",
   "execution_count": null,
   "metadata": {
    "vscode": {
     "languageId": "sql"
    }
   },
   "outputs": [],
   "source": [
    "SELECT \n",
    "    COUNT(DISTINCT Ferohely) AS Kul_ertekek,\n",
    "    MIN(Ferohely) AS Minimum_ertek,\n",
    "    MAX(Ferohely) AS Maximum_ertek,\n",
    "    AVG(Ferohely) AS Atlag_ertek,\n",
    "    (COUNT(Ferohely) * 100.0 / COUNT(*)) AS Not_null_szazaleka,\n",
    "    ((COUNT(*) - COUNT(Ferohely)) * 100.0 / COUNT(*)) AS Null_szazaleka\n",
    "FROM Szoba;"
   ]
  },
  {
   "cell_type": "markdown",
   "metadata": {},
   "source": [
    "**NoSQL feladatok:**"
   ]
  },
  {
   "cell_type": "markdown",
   "metadata": {},
   "source": [
    "6. Feladat:"
   ]
  },
  {
   "cell_type": "code",
   "execution_count": null,
   "metadata": {
    "vscode": {
     "languageId": "sql"
    }
   },
   "outputs": [],
   "source": [
    "HSET IRO:1 ID 1 nev \"Petőfi Sándor\" nemzetiseg \"magyar\"\n",
    "HSET IRO:2 ID 2 nev \"J. K. Rowling\" nemzetiseg \"britt\"\n",
    "HSET KONYV:1 ID 1 cim \"János Vitéz\" mufaj \"elbeszélő költemény\" IRO_ID 1\n",
    "HSET KONYV:2 ID 2 cim \"Harry Potter\" mufaj \"Sci-fi\" IRO_ID 2"
   ]
  },
  {
   "cell_type": "markdown",
   "metadata": {},
   "source": [
    "7. Feladat:"
   ]
  },
  {
   "cell_type": "code",
   "execution_count": null,
   "metadata": {
    "vscode": {
     "languageId": "sql"
    }
   },
   "outputs": [],
   "source": [
    "CREATE TABLE STUDENT (\n",
    "    ID int PRIMARY KEY,\n",
    "    Nev text,\n",
    "    Teljesitett_felevek list<int>,\n",
    "    Eredmenyek map<int, float>,\n",
    "    Nyelvtudas set<text>\n",
    ");\n",
    "\n",
    "INSERT INTO STUDENT (ID, Nev, Teljesitett_felevek, Eredmenyek, Nyelvtudas) \n",
    "VALUES (1, 'Kiss Gáspár', [1, 2, 3], {1: 3.00, 2: 4.55, 3: 4.10}, {'Angol', 'Német'});\n",
    "\n",
    "INSERT INTO STUDENT (ID, Nev, Teljesitett_felevek, Eredmenyek, Nyelvtudas) \n",
    "VALUES (2, 'Olajos Dávid', [1, 2, 3, 4], {1: 3.75, 2: 3.85, 3: 4.25, 4: 3.95}, {'Angol', 'Mandarin'});"
   ]
  },
  {
   "cell_type": "markdown",
   "metadata": {},
   "source": [
    "8. Feladat:"
   ]
  },
  {
   "cell_type": "code",
   "execution_count": null,
   "metadata": {
    "vscode": {
     "languageId": "sql"
    }
   },
   "outputs": [],
   "source": [
    "MATCH (tom:Person {name: \"Tom Hanks\"})-[:ACTED_IN]->(movie:Movie)<-[:ACTED_IN]-(coactor:Person)\n",
    "WHERE coactor.name <> \"Tom Hanks\"\n",
    "RETURN DISTINCT coactor.name AS Szinesz"
   ]
  }
 ],
 "metadata": {
  "language_info": {
   "name": "python"
  }
 },
 "nbformat": 4,
 "nbformat_minor": 2
}
