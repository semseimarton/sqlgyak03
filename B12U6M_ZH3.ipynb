{
 "cells": [
  {
   "cell_type": "code",
   "execution_count": null,
   "metadata": {},
   "outputs": [],
   "source": [
    "Filter: \n",
    "{\"languages.0\": \"English\",\"awards.wins\": 2}\n",
    "Project:\n",
    "{     \"_id\": 0,\n",
    "      \"title\": 1,\n",
    "      \"writers\": 1,\n",
    "      \"directors\": 1,\n",
    "      \"year\": 1\n",
    "    }\n",
    "Sort:\n",
    "{ \"year\": -1 }\n"
   ]
  },
  {
   "cell_type": "code",
   "execution_count": null,
   "metadata": {},
   "outputs": [],
   "source": [
    "db.users.find( { \"email\": { $regex: /\\.com$/ } }, { \"name\": 1, \"email\": 1, \"_id\": 0 } );\n"
   ]
  },
  {
   "attachments": {},
   "cell_type": "markdown",
   "metadata": {},
   "source": [
    "db.movies.aggregate([ { $match: { year: { $gt: 1950 } } }, { $group: { _id: \"$rated\", averageRuntime: { $avg: \"$runtime\" } } }, { $project: { _id: 0, rated: \"$_id\", averageRuntime: 1 } } ]);\n"
   ]
  },
  {
   "cell_type": "code",
   "execution_count": null,
   "metadata": {},
   "outputs": [],
   "source": [
    "MATCH (p:Person)-[:ACTED_IN]->(m:Movie)\n",
    "\n",
    "WHERE m.released > 1960\n",
    "\n",
    "RETURN p.name AS Színész, m.title AS Filmcím, m.released AS Kiadás\n",
    "\n",
    "ORDER BY m.released DESC"
   ]
  },
  {
   "cell_type": "code",
   "execution_count": null,
   "metadata": {},
   "outputs": [],
   "source": [
    "MATCH (p:Person)-[:ACTED_IN]->(m:Movie)\n",
    "\n",
    "WHERE p.born > 1980 WITH p, COUNT(m) AS JatszottFilmekSzama\n",
    "\n",
    "RETURN p.name AS Szinesz, p.born AS Szulev, JatszottFilmekSzama\n",
    "\n",
    "ORDER BY p.born, JatszottFilmekSzamaDESC"
   ]
  }
 ],
 "metadata": {
  "language_info": {
   "name": "python"
  },
  "orig_nbformat": 4
 },
 "nbformat": 4,
 "nbformat_minor": 2
}
