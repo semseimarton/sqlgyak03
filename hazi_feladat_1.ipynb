{
    "metadata": {
        "kernelspec": {
            "name": "SQL",
            "display_name": "SQL",
            "language": "sql"
        },
        "language_info": {
            "name": "sql",
            "version": ""
        }
    },
    "nbformat_minor": 2,
    "nbformat": 4,
    "cells": [
        {
            "cell_type": "markdown",
            "source": [
                "1\\. Termékek listás árainak vizsgálata ($)"
            ],
            "metadata": {
                "language": "sql",
                "azdata_cell_guid": "085a2ab9-f6f0-4094-9dfc-7e05c5e3f7b6"
            },
            "attachments": {}
        },
        {
            "cell_type": "code",
            "source": [
                "SELECT MIN(list_price) AS minimum, \r\n",
                "       MAX(list_price) AS maximum, \r\n",
                "       AVG(list_price) AS atlag, \r\n",
                "       STDEV(list_price) AS eloszlas, \r\n",
                "       VAR(list_price) AS variancia\r\n",
                "FROM products\r\n",
                "WHERE list_price IS NOT NULL"
            ],
            "metadata": {
                "azdata_cell_guid": "48dbff30-2ff7-49c4-baf4-01885d417c6a",
                "language": "sql",
                "tags": []
            },
            "outputs": [
                {
                    "output_type": "display_data",
                    "data": {
                        "text/html": "(1 row affected)"
                    },
                    "metadata": {}
                },
                {
                    "output_type": "display_data",
                    "data": {
                        "text/html": "Total execution time: 00:00:00.045"
                    },
                    "metadata": {}
                },
                {
                    "output_type": "execute_result",
                    "execution_count": 25,
                    "data": {
                        "application/vnd.dataresource+json": {
                            "schema": {
                                "fields": [
                                    {
                                        "name": "minimum"
                                    },
                                    {
                                        "name": "maximum"
                                    },
                                    {
                                        "name": "atlag"
                                    },
                                    {
                                        "name": "eloszlas"
                                    },
                                    {
                                        "name": "variancia"
                                    }
                                ]
                            },
                            "data": [
                                {
                                    "minimum": "89.99",
                                    "maximum": "11999.99",
                                    "atlag": "1520.591401",
                                    "eloszlas": "1612,1527653545156",
                                    "variancia": "2599036,538840212"
                                }
                            ]
                        },
                        "text/html": "<table><tr><th>minimum</th><th>maximum</th><th>atlag</th><th>eloszlas</th><th>variancia</th></tr><tr><td>89.99</td><td>11999.99</td><td>1520.591401</td><td>1612,1527653545156</td><td>2599036,538840212</td></tr></table>"
                    },
                    "metadata": {}
                }
            ],
            "execution_count": 25
        },
        {
            "cell_type": "markdown",
            "source": [
                "2. A termékek listás árainak megadott tartományhoz való viszonya, a határokat is beleértve (alatta, benne, felette)"
            ],
            "metadata": {
                "language": "sql",
                "azdata_cell_guid": "15838940-a6db-439e-bd3e-7a13fa39e1e3"
            },
            "attachments": {}
        },
        {
            "cell_type": "code",
            "source": [
                "DECLARE \r\n",
                "@min int = 330,\r\n",
                "@max int = 960;   \r\n",
                "\r\n",
                "SELECT \r\n",
                "    SUM(CASE WHEN list_price < @min THEN 1 ELSE 0 end) AS tartomany_alatt,\r\n",
                "    SUM(CASE WHEN list_price BETWEEN @min and @max THEN 1 ELSE 0 end) AS tartomanyban,\r\n",
                "    SUM(CASE WHEN list_price > @max THEN 1 ELSE 0 end) AS tartomany_felett\r\n",
                "FROM products"
            ],
            "metadata": {
                "language": "sql",
                "azdata_cell_guid": "58a73d76-287f-4970-bdc1-6a2c7e13bd0a"
            },
            "outputs": [
                {
                    "output_type": "display_data",
                    "data": {
                        "text/html": "(1 row affected)"
                    },
                    "metadata": {}
                },
                {
                    "output_type": "display_data",
                    "data": {
                        "text/html": "Total execution time: 00:00:00.051"
                    },
                    "metadata": {}
                },
                {
                    "output_type": "execute_result",
                    "execution_count": 21,
                    "data": {
                        "application/vnd.dataresource+json": {
                            "schema": {
                                "fields": [
                                    {
                                        "name": "tartomany_alatt"
                                    },
                                    {
                                        "name": "tartomanyban"
                                    },
                                    {
                                        "name": "tartomany_felett"
                                    }
                                ]
                            },
                            "data": [
                                {
                                    "tartomany_alatt": "56",
                                    "tartomanyban": "133",
                                    "tartomany_felett": "132"
                                }
                            ]
                        },
                        "text/html": "<table><tr><th>tartomany_alatt</th><th>tartomanyban</th><th>tartomany_felett</th></tr><tr><td>56</td><td>133</td><td>132</td></tr></table>"
                    },
                    "metadata": {
                        "azdata_chartOptions": {
                            "type": "bar",
                            "dataDirection": "horizontal",
                            "columnsAsLabels": true,
                            "labelFirstColumn": false,
                            "legendPosition": "top"
                        }
                    }
                }
            ],
            "execution_count": 21
        },
        {
            "cell_type": "markdown",
            "source": [
                "3. A termékek listás árainak 10 leggyakoribb értéke"
            ],
            "metadata": {
                "azdata_cell_guid": "00c4eab1-db7e-4eb9-82d8-ff1781e3c17c"
            },
            "attachments": {}
        },
        {
            "cell_type": "code",
            "source": [
                "SELECT TOP 10\r\n",
                "    list_price AS ertek, \r\n",
                "    COUNT(*) gyakorisag\r\n",
                "from products\r\n",
                "WHERE list_price IS NOT null\r\n",
                "GROUP BY list_price\r\n",
                "ORDER BY COUNT(*) desc"
            ],
            "metadata": {
                "azdata_cell_guid": "d9b7570e-d7a5-4051-ad52-21d848f81bd7",
                "language": "sql"
            },
            "outputs": [
                {
                    "output_type": "display_data",
                    "data": {
                        "text/html": "(10 rows affected)"
                    },
                    "metadata": {}
                },
                {
                    "output_type": "display_data",
                    "data": {
                        "text/html": "Total execution time: 00:00:00.068"
                    },
                    "metadata": {}
                },
                {
                    "output_type": "execute_result",
                    "execution_count": 24,
                    "data": {
                        "application/vnd.dataresource+json": {
                            "schema": {
                                "fields": [
                                    {
                                        "name": "ertek"
                                    },
                                    {
                                        "name": "gyakorisag"
                                    }
                                ]
                            },
                            "data": [
                                {
                                    "ertek": "749.99",
                                    "gyakorisag": "18"
                                },
                                {
                                    "ertek": "319.99",
                                    "gyakorisag": "13"
                                },
                                {
                                    "ertek": "899.99",
                                    "gyakorisag": "13"
                                },
                                {
                                    "ertek": "3199.99",
                                    "gyakorisag": "10"
                                },
                                {
                                    "ertek": "469.99",
                                    "gyakorisag": "8"
                                },
                                {
                                    "ertek": "2999.99",
                                    "gyakorisag": "8"
                                },
                                {
                                    "ertek": "3499.99",
                                    "gyakorisag": "8"
                                },
                                {
                                    "ertek": "4999.99",
                                    "gyakorisag": "8"
                                },
                                {
                                    "ertek": "269.99",
                                    "gyakorisag": "7"
                                },
                                {
                                    "ertek": "2499.99",
                                    "gyakorisag": "7"
                                }
                            ]
                        },
                        "text/html": "<table><tr><th>ertek</th><th>gyakorisag</th></tr><tr><td>749.99</td><td>18</td></tr><tr><td>319.99</td><td>13</td></tr><tr><td>899.99</td><td>13</td></tr><tr><td>3199.99</td><td>10</td></tr><tr><td>469.99</td><td>8</td></tr><tr><td>2999.99</td><td>8</td></tr><tr><td>3499.99</td><td>8</td></tr><tr><td>4999.99</td><td>8</td></tr><tr><td>269.99</td><td>7</td></tr><tr><td>2499.99</td><td>7</td></tr></table>"
                    },
                    "metadata": {}
                }
            ],
            "execution_count": 24
        },
        {
            "cell_type": "markdown",
            "source": [
                "4. A 10 leghoszabb elnevezésű termék neve és karakterszáma"
            ],
            "metadata": {
                "language": "sql",
                "azdata_cell_guid": "8885d920-3bee-4704-b6a2-bad676b31cc7"
            },
            "attachments": {}
        },
        {
            "cell_type": "code",
            "source": [
                "SELECT TOP 10 product_name AS termek_nev, \r\n",
                "        LEN(product_name) AS hossza\r\n",
                "FROM products\r\n",
                "GROUP BY product_name\r\n",
                "ORDER BY 2 DESC"
            ],
            "metadata": {
                "language": "sql",
                "azdata_cell_guid": "e29084db-ea96-441d-9ce7-624b28621021"
            },
            "outputs": [
                {
                    "output_type": "display_data",
                    "data": {
                        "text/html": "(10 rows affected)"
                    },
                    "metadata": {}
                },
                {
                    "output_type": "display_data",
                    "data": {
                        "text/html": "Total execution time: 00:00:00.073"
                    },
                    "metadata": {}
                },
                {
                    "output_type": "execute_result",
                    "execution_count": 27,
                    "data": {
                        "application/vnd.dataresource+json": {
                            "schema": {
                                "fields": [
                                    {
                                        "name": "termek_nev"
                                    },
                                    {
                                        "name": "hossza"
                                    }
                                ]
                            },
                            "data": [
                                {
                                    "termek_nev": "Electra Townie Balloon 8D EQ Ladies' - 2016/2017/2018",
                                    "hossza": "53"
                                },
                                {
                                    "termek_nev": "Electra Townie Original 7D EQ Ladies' - 2017/2018",
                                    "hossza": "49"
                                },
                                {
                                    "termek_nev": "Pure Cycles Western 3-Speed - Women's - 2015/2016",
                                    "hossza": "49"
                                },
                                {
                                    "termek_nev": "Electra Amsterdam Fashion 3i Ladies' - 2017/2018",
                                    "hossza": "48"
                                },
                                {
                                    "termek_nev": "Electra Cruiser 7D (24-Inch) Ladies' - 2016/2018",
                                    "hossza": "48"
                                },
                                {
                                    "termek_nev": "Electra Sugar Skulls 1 (20-inch) - Girl's - 2017",
                                    "hossza": "48"
                                },
                                {
                                    "termek_nev": "Electra Townie Balloon 7i EQ Ladies' - 2017/2018",
                                    "hossza": "48"
                                },
                                {
                                    "termek_nev": "Electra Sweet Ride 3i (20-inch) - Girls' - 2018",
                                    "hossza": "47"
                                },
                                {
                                    "termek_nev": "Electra Tiger Shark 3i (20-inch) - Boys' - 2018",
                                    "hossza": "47"
                                },
                                {
                                    "termek_nev": "Electra Cyclosaurus 1 (16-inch) - Boy's - 2018",
                                    "hossza": "46"
                                }
                            ]
                        },
                        "text/html": "<table><tr><th>termek_nev</th><th>hossza</th></tr><tr><td>Electra Townie Balloon 8D EQ Ladies&#39; - 2016/2017/2018</td><td>53</td></tr><tr><td>Electra Townie Original 7D EQ Ladies&#39; - 2017/2018</td><td>49</td></tr><tr><td>Pure Cycles Western 3-Speed - Women&#39;s - 2015/2016</td><td>49</td></tr><tr><td>Electra Amsterdam Fashion 3i Ladies&#39; - 2017/2018</td><td>48</td></tr><tr><td>Electra Cruiser 7D (24-Inch) Ladies&#39; - 2016/2018</td><td>48</td></tr><tr><td>Electra Sugar Skulls 1 (20-inch) - Girl&#39;s - 2017</td><td>48</td></tr><tr><td>Electra Townie Balloon 7i EQ Ladies&#39; - 2017/2018</td><td>48</td></tr><tr><td>Electra Sweet Ride 3i (20-inch) - Girls&#39; - 2018</td><td>47</td></tr><tr><td>Electra Tiger Shark 3i (20-inch) - Boys&#39; - 2018</td><td>47</td></tr><tr><td>Electra Cyclosaurus 1 (16-inch) - Boy&#39;s - 2018</td><td>46</td></tr></table>"
                    },
                    "metadata": {}
                }
            ],
            "execution_count": 27
        },
        {
            "cell_type": "markdown",
            "source": [
                "5. A termékek neveinek karakterszámának megoszlása"
            ],
            "metadata": {
                "language": "sql",
                "azdata_cell_guid": "b86da1d4-ae33-4b1f-b180-02bdab8efa68"
            },
            "attachments": {}
        },
        {
            "cell_type": "code",
            "source": [
                "SELECT LEN(product_name) AS karakterszam,\r\n",
                "       count(*) AS db\r\n",
                "FROM products\r\n",
                "GROUP BY LEN(product_name)\r\n",
                "ORDER BY 1"
            ],
            "metadata": {
                "language": "sql",
                "azdata_cell_guid": "d53759f1-9dd4-459d-b99d-239e2bb4b765"
            },
            "outputs": [
                {
                    "output_type": "display_data",
                    "data": {
                        "text/html": "(36 rows affected)"
                    },
                    "metadata": {}
                },
                {
                    "output_type": "display_data",
                    "data": {
                        "text/html": "Total execution time: 00:00:00.101"
                    },
                    "metadata": {}
                },
                {
                    "output_type": "execute_result",
                    "execution_count": 29,
                    "data": {
                        "application/vnd.dataresource+json": {
                            "schema": {
                                "fields": [
                                    {
                                        "name": "karakterszam"
                                    },
                                    {
                                        "name": "db"
                                    }
                                ]
                            },
                            "data": [
                                {
                                    "karakterszam": "15",
                                    "db": "2"
                                },
                                {
                                    "karakterszam": "16",
                                    "db": "2"
                                },
                                {
                                    "karakterszam": "17",
                                    "db": "2"
                                },
                                {
                                    "karakterszam": "18",
                                    "db": "6"
                                },
                                {
                                    "karakterszam": "19",
                                    "db": "1"
                                },
                                {
                                    "karakterszam": "20",
                                    "db": "9"
                                },
                                {
                                    "karakterszam": "21",
                                    "db": "4"
                                },
                                {
                                    "karakterszam": "22",
                                    "db": "14"
                                },
                                {
                                    "karakterszam": "23",
                                    "db": "15"
                                },
                                {
                                    "karakterszam": "24",
                                    "db": "13"
                                },
                                {
                                    "karakterszam": "25",
                                    "db": "6"
                                },
                                {
                                    "karakterszam": "26",
                                    "db": "12"
                                },
                                {
                                    "karakterszam": "27",
                                    "db": "13"
                                },
                                {
                                    "karakterszam": "28",
                                    "db": "11"
                                },
                                {
                                    "karakterszam": "29",
                                    "db": "21"
                                },
                                {
                                    "karakterszam": "30",
                                    "db": "13"
                                },
                                {
                                    "karakterszam": "31",
                                    "db": "24"
                                },
                                {
                                    "karakterszam": "32",
                                    "db": "10"
                                },
                                {
                                    "karakterszam": "33",
                                    "db": "13"
                                },
                                {
                                    "karakterszam": "34",
                                    "db": "18"
                                },
                                {
                                    "karakterszam": "35",
                                    "db": "11"
                                },
                                {
                                    "karakterszam": "36",
                                    "db": "15"
                                },
                                {
                                    "karakterszam": "37",
                                    "db": "10"
                                },
                                {
                                    "karakterszam": "38",
                                    "db": "8"
                                },
                                {
                                    "karakterszam": "39",
                                    "db": "2"
                                },
                                {
                                    "karakterszam": "40",
                                    "db": "12"
                                },
                                {
                                    "karakterszam": "41",
                                    "db": "6"
                                },
                                {
                                    "karakterszam": "42",
                                    "db": "6"
                                },
                                {
                                    "karakterszam": "43",
                                    "db": "5"
                                },
                                {
                                    "karakterszam": "44",
                                    "db": "5"
                                },
                                {
                                    "karakterszam": "45",
                                    "db": "12"
                                },
                                {
                                    "karakterszam": "46",
                                    "db": "8"
                                },
                                {
                                    "karakterszam": "47",
                                    "db": "2"
                                },
                                {
                                    "karakterszam": "48",
                                    "db": "6"
                                },
                                {
                                    "karakterszam": "49",
                                    "db": "2"
                                },
                                {
                                    "karakterszam": "53",
                                    "db": "2"
                                }
                            ]
                        },
                        "text/html": "<table><tr><th>karakterszam</th><th>db</th></tr><tr><td>15</td><td>2</td></tr><tr><td>16</td><td>2</td></tr><tr><td>17</td><td>2</td></tr><tr><td>18</td><td>6</td></tr><tr><td>19</td><td>1</td></tr><tr><td>20</td><td>9</td></tr><tr><td>21</td><td>4</td></tr><tr><td>22</td><td>14</td></tr><tr><td>23</td><td>15</td></tr><tr><td>24</td><td>13</td></tr><tr><td>25</td><td>6</td></tr><tr><td>26</td><td>12</td></tr><tr><td>27</td><td>13</td></tr><tr><td>28</td><td>11</td></tr><tr><td>29</td><td>21</td></tr><tr><td>30</td><td>13</td></tr><tr><td>31</td><td>24</td></tr><tr><td>32</td><td>10</td></tr><tr><td>33</td><td>13</td></tr><tr><td>34</td><td>18</td></tr><tr><td>35</td><td>11</td></tr><tr><td>36</td><td>15</td></tr><tr><td>37</td><td>10</td></tr><tr><td>38</td><td>8</td></tr><tr><td>39</td><td>2</td></tr><tr><td>40</td><td>12</td></tr><tr><td>41</td><td>6</td></tr><tr><td>42</td><td>6</td></tr><tr><td>43</td><td>5</td></tr><tr><td>44</td><td>5</td></tr><tr><td>45</td><td>12</td></tr><tr><td>46</td><td>8</td></tr><tr><td>47</td><td>2</td></tr><tr><td>48</td><td>6</td></tr><tr><td>49</td><td>2</td></tr><tr><td>53</td><td>2</td></tr></table>"
                    },
                    "metadata": {
                        "azdata_chartOptions": {
                            "type": "bar",
                            "dataDirection": "vertical",
                            "columnsAsLabels": true,
                            "labelFirstColumn": false,
                            "legendPosition": "top"
                        }
                    }
                }
            ],
            "execution_count": 29
        },
        {
            "cell_type": "markdown",
            "source": [
                "6. 10 sarab véletlenszerű terméknév"
            ],
            "metadata": {
                "azdata_cell_guid": "84ff655f-085d-4ce5-b20a-ba74de502a0a"
            },
            "attachments": {}
        },
        {
            "cell_type": "code",
            "source": [
                "SELECT TOP (10) product_name\r\n",
                "FROM products\r\n",
                "GROUP BY product_name\r\n",
                "ORDER BY NEWID()"
            ],
            "metadata": {
                "azdata_cell_guid": "7fa1ee9b-a263-4384-ae03-21e441df682a",
                "language": "sql"
            },
            "outputs": [
                {
                    "output_type": "display_data",
                    "data": {
                        "text/html": "(10 rows affected)"
                    },
                    "metadata": {}
                },
                {
                    "output_type": "display_data",
                    "data": {
                        "text/html": "Total execution time: 00:00:00.062"
                    },
                    "metadata": {}
                },
                {
                    "output_type": "execute_result",
                    "metadata": {},
                    "execution_count": 3,
                    "data": {
                        "application/vnd.dataresource+json": {
                            "schema": {
                                "fields": [
                                    {
                                        "name": "product_name"
                                    }
                                ]
                            },
                            "data": [
                                {
                                    "product_name": "Trek Boone 7 Disc - 2018"
                                },
                                {
                                    "product_name": "Electra Townie Commute 8D - 2018"
                                },
                                {
                                    "product_name": "Electra Cruiser Lux Fat Tire 7D - 2018"
                                },
                                {
                                    "product_name": "Sun Bicycles Lil Kitt'n - 2017"
                                },
                                {
                                    "product_name": "Electra Straight 8 1 (20-inch) - Boy's - 2018"
                                },
                                {
                                    "product_name": "Trek Precaliber 20 Boy's - 2018"
                                },
                                {
                                    "product_name": "Electra Cruiser 7D Tall - 2016/2018"
                                },
                                {
                                    "product_name": "Electra Townie Original 21D - 2018"
                                },
                                {
                                    "product_name": "Trek Domane ALR 3 - 2018"
                                },
                                {
                                    "product_name": "Trek Fuel EX 9.8 27.5 Plus - 2017"
                                }
                            ]
                        },
                        "text/html": [
                            "<table>",
                            "<tr><th>product_name</th></tr>",
                            "<tr><td>Trek Boone 7 Disc - 2018</td></tr>",
                            "<tr><td>Electra Townie Commute 8D - 2018</td></tr>",
                            "<tr><td>Electra Cruiser Lux Fat Tire 7D - 2018</td></tr>",
                            "<tr><td>Sun Bicycles Lil Kitt&#39;n - 2017</td></tr>",
                            "<tr><td>Electra Straight 8 1 (20-inch) - Boy&#39;s - 2018</td></tr>",
                            "<tr><td>Trek Precaliber 20 Boy&#39;s - 2018</td></tr>",
                            "<tr><td>Electra Cruiser 7D Tall - 2016/2018</td></tr>",
                            "<tr><td>Electra Townie Original 21D - 2018</td></tr>",
                            "<tr><td>Trek Domane ALR 3 - 2018</td></tr>",
                            "<tr><td>Trek Fuel EX 9.8 27.5 Plus - 2017</td></tr>",
                            "</table>"
                        ]
                    }
                }
            ],
            "execution_count": 3
        }
    ]
}