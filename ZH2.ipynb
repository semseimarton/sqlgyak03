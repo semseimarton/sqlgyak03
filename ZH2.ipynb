{
    "metadata": {
        "kernelspec": {
            "name": "SQL",
            "display_name": "SQL",
            "language": "sql"
        },
        "language_info": {
            "name": "sql",
            "version": ""
        }
    },
    "nbformat_minor": 2,
    "nbformat": 4,
    "cells": [
        {
            "cell_type": "markdown",
            "source": [
                "1# <span style=\"background-color: rgb(255, 255, 255); color: rgb(0, 0, 0); font-family: &quot;Open Sans&quot;, sans-serif; font-size: 14.44px;\">Készítsen lekérdezést, amely megjeleníti, hogy szobánként (SZOBA_FK) hány olyan foglalás történt, ahol a felnőttek száma nagyobb volt a gyermekek számánál!</span>\n",
                "\n",
                "a. A lekérdezés jelenítse meg a végösszeget is megfelelően jelölve!"
            ],
            "metadata": {
                "azdata_cell_guid": "53127562-363f-46ba-995e-b5d562893b16"
            },
            "attachments": {}
        },
        {
            "cell_type": "code",
            "source": [
                "SELECT IIF(SZOBA_FK IS NULL, 'Végösszeg', CAST(SZOBA_FK as NVARCHAR(3))) AS 'Szobaszám',\r\n",
                "       COUNT(*) AS 'kért foglalások darabszáma'\r\n",
                "FROM Foglalas\r\n",
                "WHERE FELNOTT_SZAM>GYERMEK_SZAM\r\n",
                "GROUP BY ROLLUP(SZOBA_FK)\r\n",
                ""
            ],
            "metadata": {
                "azdata_cell_guid": "d4cbcf3f-1d02-454d-b56e-a0855cfe3af9",
                "language": "sql",
                "tags": []
            },
            "outputs": [
                {
                    "output_type": "display_data",
                    "data": {
                        "text/html": "(190 rows affected)"
                    },
                    "metadata": {}
                },
                {
                    "output_type": "display_data",
                    "data": {
                        "text/html": "Total execution time: 00:00:00.015"
                    },
                    "metadata": {}
                },
                {
                    "output_type": "execute_result",
                    "metadata": {},
                    "execution_count": 5,
                    "data": {
                        "application/vnd.dataresource+json": {
                            "schema": {
                                "fields": [
                                    {
                                        "name": "Szobaszám"
                                    },
                                    {
                                        "name": "kért foglalások darabszáma"
                                    }
                                ]
                            },
                            "data": [
                                {
                                    "Szobaszám": "1",
                                    "kért foglalások darabszáma": "7"
                                },
                                {
                                    "Szobaszám": "2",
                                    "kért foglalások darabszáma": "2"
                                },
                                {
                                    "Szobaszám": "3",
                                    "kért foglalások darabszáma": "3"
                                },
                                {
                                    "Szobaszám": "4",
                                    "kért foglalások darabszáma": "5"
                                },
                                {
                                    "Szobaszám": "5",
                                    "kért foglalások darabszáma": "2"
                                },
                                {
                                    "Szobaszám": "6",
                                    "kért foglalások darabszáma": "5"
                                },
                                {
                                    "Szobaszám": "7",
                                    "kért foglalások darabszáma": "6"
                                },
                                {
                                    "Szobaszám": "8",
                                    "kért foglalások darabszáma": "5"
                                },
                                {
                                    "Szobaszám": "9",
                                    "kért foglalások darabszáma": "4"
                                },
                                {
                                    "Szobaszám": "10",
                                    "kért foglalások darabszáma": "4"
                                },
                                {
                                    "Szobaszám": "11",
                                    "kért foglalások darabszáma": "4"
                                },
                                {
                                    "Szobaszám": "12",
                                    "kért foglalások darabszáma": "7"
                                },
                                {
                                    "Szobaszám": "13",
                                    "kért foglalások darabszáma": "4"
                                },
                                {
                                    "Szobaszám": "14",
                                    "kért foglalások darabszáma": "3"
                                },
                                {
                                    "Szobaszám": "15",
                                    "kért foglalások darabszáma": "4"
                                },
                                {
                                    "Szobaszám": "16",
                                    "kért foglalások darabszáma": "1"
                                },
                                {
                                    "Szobaszám": "17",
                                    "kért foglalások darabszáma": "2"
                                },
                                {
                                    "Szobaszám": "18",
                                    "kért foglalások darabszáma": "3"
                                },
                                {
                                    "Szobaszám": "19",
                                    "kért foglalások darabszáma": "4"
                                },
                                {
                                    "Szobaszám": "20",
                                    "kért foglalások darabszáma": "5"
                                },
                                {
                                    "Szobaszám": "21",
                                    "kért foglalások darabszáma": "1"
                                },
                                {
                                    "Szobaszám": "22",
                                    "kért foglalások darabszáma": "2"
                                },
                                {
                                    "Szobaszám": "23",
                                    "kért foglalások darabszáma": "3"
                                },
                                {
                                    "Szobaszám": "24",
                                    "kért foglalások darabszáma": "3"
                                },
                                {
                                    "Szobaszám": "25",
                                    "kért foglalások darabszáma": "1"
                                },
                                {
                                    "Szobaszám": "27",
                                    "kért foglalások darabszáma": "5"
                                },
                                {
                                    "Szobaszám": "28",
                                    "kért foglalások darabszáma": "5"
                                },
                                {
                                    "Szobaszám": "29",
                                    "kért foglalások darabszáma": "3"
                                },
                                {
                                    "Szobaszám": "30",
                                    "kért foglalások darabszáma": "2"
                                },
                                {
                                    "Szobaszám": "31",
                                    "kért foglalások darabszáma": "1"
                                },
                                {
                                    "Szobaszám": "32",
                                    "kért foglalások darabszáma": "1"
                                },
                                {
                                    "Szobaszám": "33",
                                    "kért foglalások darabszáma": "3"
                                },
                                {
                                    "Szobaszám": "34",
                                    "kért foglalások darabszáma": "3"
                                },
                                {
                                    "Szobaszám": "35",
                                    "kért foglalások darabszáma": "6"
                                },
                                {
                                    "Szobaszám": "36",
                                    "kért foglalások darabszáma": "4"
                                },
                                {
                                    "Szobaszám": "37",
                                    "kért foglalások darabszáma": "2"
                                },
                                {
                                    "Szobaszám": "38",
                                    "kért foglalások darabszáma": "5"
                                },
                                {
                                    "Szobaszám": "39",
                                    "kért foglalások darabszáma": "4"
                                },
                                {
                                    "Szobaszám": "40",
                                    "kért foglalások darabszáma": "3"
                                },
                                {
                                    "Szobaszám": "41",
                                    "kért foglalások darabszáma": "1"
                                },
                                {
                                    "Szobaszám": "42",
                                    "kért foglalások darabszáma": "5"
                                },
                                {
                                    "Szobaszám": "43",
                                    "kért foglalások darabszáma": "4"
                                },
                                {
                                    "Szobaszám": "44",
                                    "kért foglalások darabszáma": "6"
                                },
                                {
                                    "Szobaszám": "45",
                                    "kért foglalások darabszáma": "4"
                                },
                                {
                                    "Szobaszám": "46",
                                    "kért foglalások darabszáma": "3"
                                },
                                {
                                    "Szobaszám": "47",
                                    "kért foglalások darabszáma": "2"
                                },
                                {
                                    "Szobaszám": "48",
                                    "kért foglalások darabszáma": "6"
                                },
                                {
                                    "Szobaszám": "49",
                                    "kért foglalások darabszáma": "5"
                                },
                                {
                                    "Szobaszám": "50",
                                    "kért foglalások darabszáma": "3"
                                },
                                {
                                    "Szobaszám": "51",
                                    "kért foglalások darabszáma": "3"
                                },
                                {
                                    "Szobaszám": "52",
                                    "kért foglalások darabszáma": "5"
                                },
                                {
                                    "Szobaszám": "54",
                                    "kért foglalások darabszáma": "4"
                                },
                                {
                                    "Szobaszám": "55",
                                    "kért foglalások darabszáma": "3"
                                },
                                {
                                    "Szobaszám": "56",
                                    "kért foglalások darabszáma": "1"
                                },
                                {
                                    "Szobaszám": "57",
                                    "kért foglalások darabszáma": "3"
                                },
                                {
                                    "Szobaszám": "58",
                                    "kért foglalások darabszáma": "8"
                                },
                                {
                                    "Szobaszám": "59",
                                    "kért foglalások darabszáma": "4"
                                },
                                {
                                    "Szobaszám": "60",
                                    "kért foglalások darabszáma": "1"
                                },
                                {
                                    "Szobaszám": "61",
                                    "kért foglalások darabszáma": "4"
                                },
                                {
                                    "Szobaszám": "62",
                                    "kért foglalások darabszáma": "3"
                                },
                                {
                                    "Szobaszám": "63",
                                    "kért foglalások darabszáma": "3"
                                },
                                {
                                    "Szobaszám": "64",
                                    "kért foglalások darabszáma": "5"
                                },
                                {
                                    "Szobaszám": "66",
                                    "kért foglalások darabszáma": "3"
                                },
                                {
                                    "Szobaszám": "67",
                                    "kért foglalások darabszáma": "2"
                                },
                                {
                                    "Szobaszám": "69",
                                    "kért foglalások darabszáma": "2"
                                },
                                {
                                    "Szobaszám": "70",
                                    "kért foglalások darabszáma": "8"
                                },
                                {
                                    "Szobaszám": "71",
                                    "kért foglalások darabszáma": "2"
                                },
                                {
                                    "Szobaszám": "72",
                                    "kért foglalások darabszáma": "2"
                                },
                                {
                                    "Szobaszám": "73",
                                    "kért foglalások darabszáma": "4"
                                },
                                {
                                    "Szobaszám": "74",
                                    "kért foglalások darabszáma": "8"
                                },
                                {
                                    "Szobaszám": "75",
                                    "kért foglalások darabszáma": "2"
                                },
                                {
                                    "Szobaszám": "76",
                                    "kért foglalások darabszáma": "2"
                                },
                                {
                                    "Szobaszám": "77",
                                    "kért foglalások darabszáma": "3"
                                },
                                {
                                    "Szobaszám": "78",
                                    "kért foglalások darabszáma": "3"
                                },
                                {
                                    "Szobaszám": "79",
                                    "kért foglalások darabszáma": "4"
                                },
                                {
                                    "Szobaszám": "80",
                                    "kért foglalások darabszáma": "5"
                                },
                                {
                                    "Szobaszám": "81",
                                    "kért foglalások darabszáma": "3"
                                },
                                {
                                    "Szobaszám": "82",
                                    "kért foglalások darabszáma": "5"
                                },
                                {
                                    "Szobaszám": "83",
                                    "kért foglalások darabszáma": "5"
                                },
                                {
                                    "Szobaszám": "84",
                                    "kért foglalások darabszáma": "3"
                                },
                                {
                                    "Szobaszám": "85",
                                    "kért foglalások darabszáma": "2"
                                },
                                {
                                    "Szobaszám": "86",
                                    "kért foglalások darabszáma": "4"
                                },
                                {
                                    "Szobaszám": "87",
                                    "kért foglalások darabszáma": "5"
                                },
                                {
                                    "Szobaszám": "88",
                                    "kért foglalások darabszáma": "5"
                                },
                                {
                                    "Szobaszám": "89",
                                    "kért foglalások darabszáma": "8"
                                },
                                {
                                    "Szobaszám": "90",
                                    "kért foglalások darabszáma": "3"
                                },
                                {
                                    "Szobaszám": "91",
                                    "kért foglalások darabszáma": "2"
                                },
                                {
                                    "Szobaszám": "92",
                                    "kért foglalások darabszáma": "5"
                                },
                                {
                                    "Szobaszám": "93",
                                    "kért foglalások darabszáma": "3"
                                },
                                {
                                    "Szobaszám": "94",
                                    "kért foglalások darabszáma": "6"
                                },
                                {
                                    "Szobaszám": "95",
                                    "kért foglalások darabszáma": "3"
                                },
                                {
                                    "Szobaszám": "96",
                                    "kért foglalások darabszáma": "6"
                                },
                                {
                                    "Szobaszám": "97",
                                    "kért foglalások darabszáma": "5"
                                },
                                {
                                    "Szobaszám": "98",
                                    "kért foglalások darabszáma": "4"
                                },
                                {
                                    "Szobaszám": "99",
                                    "kért foglalások darabszáma": "4"
                                },
                                {
                                    "Szobaszám": "100",
                                    "kért foglalások darabszáma": "2"
                                },
                                {
                                    "Szobaszám": "101",
                                    "kért foglalások darabszáma": "1"
                                },
                                {
                                    "Szobaszám": "102",
                                    "kért foglalások darabszáma": "1"
                                },
                                {
                                    "Szobaszám": "103",
                                    "kért foglalások darabszáma": "1"
                                },
                                {
                                    "Szobaszám": "104",
                                    "kért foglalások darabszáma": "3"
                                },
                                {
                                    "Szobaszám": "106",
                                    "kért foglalások darabszáma": "4"
                                },
                                {
                                    "Szobaszám": "107",
                                    "kért foglalások darabszáma": "4"
                                },
                                {
                                    "Szobaszám": "108",
                                    "kért foglalások darabszáma": "1"
                                },
                                {
                                    "Szobaszám": "109",
                                    "kért foglalások darabszáma": "2"
                                },
                                {
                                    "Szobaszám": "110",
                                    "kért foglalások darabszáma": "5"
                                },
                                {
                                    "Szobaszám": "111",
                                    "kért foglalások darabszáma": "1"
                                },
                                {
                                    "Szobaszám": "112",
                                    "kért foglalások darabszáma": "4"
                                },
                                {
                                    "Szobaszám": "113",
                                    "kért foglalások darabszáma": "2"
                                },
                                {
                                    "Szobaszám": "114",
                                    "kért foglalások darabszáma": "1"
                                },
                                {
                                    "Szobaszám": "115",
                                    "kért foglalások darabszáma": "5"
                                },
                                {
                                    "Szobaszám": "117",
                                    "kért foglalások darabszáma": "4"
                                },
                                {
                                    "Szobaszám": "118",
                                    "kért foglalások darabszáma": "2"
                                },
                                {
                                    "Szobaszám": "119",
                                    "kért foglalások darabszáma": "4"
                                },
                                {
                                    "Szobaszám": "120",
                                    "kért foglalások darabszáma": "2"
                                },
                                {
                                    "Szobaszám": "121",
                                    "kért foglalások darabszáma": "5"
                                },
                                {
                                    "Szobaszám": "122",
                                    "kért foglalások darabszáma": "3"
                                },
                                {
                                    "Szobaszám": "123",
                                    "kért foglalások darabszáma": "5"
                                },
                                {
                                    "Szobaszám": "124",
                                    "kért foglalások darabszáma": "4"
                                },
                                {
                                    "Szobaszám": "126",
                                    "kért foglalások darabszáma": "4"
                                },
                                {
                                    "Szobaszám": "127",
                                    "kért foglalások darabszáma": "5"
                                },
                                {
                                    "Szobaszám": "129",
                                    "kért foglalások darabszáma": "3"
                                },
                                {
                                    "Szobaszám": "130",
                                    "kért foglalások darabszáma": "5"
                                },
                                {
                                    "Szobaszám": "131",
                                    "kért foglalások darabszáma": "4"
                                },
                                {
                                    "Szobaszám": "132",
                                    "kért foglalások darabszáma": "4"
                                },
                                {
                                    "Szobaszám": "133",
                                    "kért foglalások darabszáma": "4"
                                },
                                {
                                    "Szobaszám": "134",
                                    "kért foglalások darabszáma": "4"
                                },
                                {
                                    "Szobaszám": "135",
                                    "kért foglalások darabszáma": "3"
                                },
                                {
                                    "Szobaszám": "136",
                                    "kért foglalások darabszáma": "2"
                                },
                                {
                                    "Szobaszám": "137",
                                    "kért foglalások darabszáma": "2"
                                },
                                {
                                    "Szobaszám": "138",
                                    "kért foglalások darabszáma": "5"
                                },
                                {
                                    "Szobaszám": "139",
                                    "kért foglalások darabszáma": "6"
                                },
                                {
                                    "Szobaszám": "140",
                                    "kért foglalások darabszáma": "5"
                                },
                                {
                                    "Szobaszám": "141",
                                    "kért foglalások darabszáma": "4"
                                },
                                {
                                    "Szobaszám": "142",
                                    "kért foglalások darabszáma": "1"
                                },
                                {
                                    "Szobaszám": "143",
                                    "kért foglalások darabszáma": "5"
                                },
                                {
                                    "Szobaszám": "144",
                                    "kért foglalások darabszáma": "2"
                                },
                                {
                                    "Szobaszám": "145",
                                    "kért foglalások darabszáma": "2"
                                },
                                {
                                    "Szobaszám": "146",
                                    "kért foglalások darabszáma": "3"
                                },
                                {
                                    "Szobaszám": "147",
                                    "kért foglalások darabszáma": "1"
                                },
                                {
                                    "Szobaszám": "148",
                                    "kért foglalások darabszáma": "5"
                                },
                                {
                                    "Szobaszám": "149",
                                    "kért foglalások darabszáma": "5"
                                },
                                {
                                    "Szobaszám": "150",
                                    "kért foglalások darabszáma": "6"
                                },
                                {
                                    "Szobaszám": "151",
                                    "kért foglalások darabszáma": "2"
                                },
                                {
                                    "Szobaszám": "152",
                                    "kért foglalások darabszáma": "3"
                                },
                                {
                                    "Szobaszám": "153",
                                    "kért foglalások darabszáma": "4"
                                },
                                {
                                    "Szobaszám": "154",
                                    "kért foglalások darabszáma": "3"
                                },
                                {
                                    "Szobaszám": "155",
                                    "kért foglalások darabszáma": "3"
                                },
                                {
                                    "Szobaszám": "156",
                                    "kért foglalások darabszáma": "2"
                                },
                                {
                                    "Szobaszám": "157",
                                    "kért foglalások darabszáma": "2"
                                },
                                {
                                    "Szobaszám": "158",
                                    "kért foglalások darabszáma": "3"
                                },
                                {
                                    "Szobaszám": "160",
                                    "kért foglalások darabszáma": "2"
                                },
                                {
                                    "Szobaszám": "161",
                                    "kért foglalások darabszáma": "3"
                                },
                                {
                                    "Szobaszám": "162",
                                    "kért foglalások darabszáma": "2"
                                },
                                {
                                    "Szobaszám": "163",
                                    "kért foglalások darabszáma": "5"
                                },
                                {
                                    "Szobaszám": "164",
                                    "kért foglalások darabszáma": "4"
                                },
                                {
                                    "Szobaszám": "165",
                                    "kért foglalások darabszáma": "5"
                                },
                                {
                                    "Szobaszám": "166",
                                    "kért foglalások darabszáma": "3"
                                },
                                {
                                    "Szobaszám": "167",
                                    "kért foglalások darabszáma": "2"
                                },
                                {
                                    "Szobaszám": "168",
                                    "kért foglalások darabszáma": "1"
                                },
                                {
                                    "Szobaszám": "169",
                                    "kért foglalások darabszáma": "3"
                                },
                                {
                                    "Szobaszám": "170",
                                    "kért foglalások darabszáma": "3"
                                },
                                {
                                    "Szobaszám": "171",
                                    "kért foglalások darabszáma": "5"
                                },
                                {
                                    "Szobaszám": "172",
                                    "kért foglalások darabszáma": "6"
                                },
                                {
                                    "Szobaszám": "173",
                                    "kért foglalások darabszáma": "3"
                                },
                                {
                                    "Szobaszám": "174",
                                    "kért foglalások darabszáma": "4"
                                },
                                {
                                    "Szobaszám": "175",
                                    "kért foglalások darabszáma": "3"
                                },
                                {
                                    "Szobaszám": "176",
                                    "kért foglalások darabszáma": "2"
                                },
                                {
                                    "Szobaszám": "177",
                                    "kért foglalások darabszáma": "1"
                                },
                                {
                                    "Szobaszám": "178",
                                    "kért foglalások darabszáma": "1"
                                },
                                {
                                    "Szobaszám": "179",
                                    "kért foglalások darabszáma": "2"
                                },
                                {
                                    "Szobaszám": "180",
                                    "kért foglalások darabszáma": "1"
                                },
                                {
                                    "Szobaszám": "181",
                                    "kért foglalások darabszáma": "5"
                                },
                                {
                                    "Szobaszám": "182",
                                    "kért foglalások darabszáma": "11"
                                },
                                {
                                    "Szobaszám": "183",
                                    "kért foglalások darabszáma": "3"
                                },
                                {
                                    "Szobaszám": "184",
                                    "kért foglalások darabszáma": "4"
                                },
                                {
                                    "Szobaszám": "185",
                                    "kért foglalások darabszáma": "10"
                                },
                                {
                                    "Szobaszám": "186",
                                    "kért foglalások darabszáma": "1"
                                },
                                {
                                    "Szobaszám": "187",
                                    "kért foglalások darabszáma": "6"
                                },
                                {
                                    "Szobaszám": "188",
                                    "kért foglalások darabszáma": "2"
                                },
                                {
                                    "Szobaszám": "189",
                                    "kért foglalások darabszáma": "1"
                                },
                                {
                                    "Szobaszám": "190",
                                    "kért foglalások darabszáma": "5"
                                },
                                {
                                    "Szobaszám": "191",
                                    "kért foglalások darabszáma": "3"
                                },
                                {
                                    "Szobaszám": "192",
                                    "kért foglalások darabszáma": "1"
                                },
                                {
                                    "Szobaszám": "193",
                                    "kért foglalások darabszáma": "2"
                                },
                                {
                                    "Szobaszám": "194",
                                    "kért foglalások darabszáma": "1"
                                },
                                {
                                    "Szobaszám": "195",
                                    "kért foglalások darabszáma": "5"
                                },
                                {
                                    "Szobaszám": "196",
                                    "kért foglalások darabszáma": "2"
                                },
                                {
                                    "Szobaszám": "197",
                                    "kért foglalások darabszáma": "6"
                                },
                                {
                                    "Szobaszám": "198",
                                    "kért foglalások darabszáma": "7"
                                },
                                {
                                    "Szobaszám": "Végösszeg",
                                    "kért foglalások darabszáma": "668"
                                }
                            ]
                        },
                        "text/html": [
                            "<table>",
                            "<tr><th>Szobaszám</th><th>kért foglalások darabszáma</th></tr>",
                            "<tr><td>1</td><td>7</td></tr>",
                            "<tr><td>2</td><td>2</td></tr>",
                            "<tr><td>3</td><td>3</td></tr>",
                            "<tr><td>4</td><td>5</td></tr>",
                            "<tr><td>5</td><td>2</td></tr>",
                            "<tr><td>6</td><td>5</td></tr>",
                            "<tr><td>7</td><td>6</td></tr>",
                            "<tr><td>8</td><td>5</td></tr>",
                            "<tr><td>9</td><td>4</td></tr>",
                            "<tr><td>10</td><td>4</td></tr>",
                            "<tr><td>11</td><td>4</td></tr>",
                            "<tr><td>12</td><td>7</td></tr>",
                            "<tr><td>13</td><td>4</td></tr>",
                            "<tr><td>14</td><td>3</td></tr>",
                            "<tr><td>15</td><td>4</td></tr>",
                            "<tr><td>16</td><td>1</td></tr>",
                            "<tr><td>17</td><td>2</td></tr>",
                            "<tr><td>18</td><td>3</td></tr>",
                            "<tr><td>19</td><td>4</td></tr>",
                            "<tr><td>20</td><td>5</td></tr>",
                            "<tr><td>21</td><td>1</td></tr>",
                            "<tr><td>22</td><td>2</td></tr>",
                            "<tr><td>23</td><td>3</td></tr>",
                            "<tr><td>24</td><td>3</td></tr>",
                            "<tr><td>25</td><td>1</td></tr>",
                            "<tr><td>27</td><td>5</td></tr>",
                            "<tr><td>28</td><td>5</td></tr>",
                            "<tr><td>29</td><td>3</td></tr>",
                            "<tr><td>30</td><td>2</td></tr>",
                            "<tr><td>31</td><td>1</td></tr>",
                            "<tr><td>32</td><td>1</td></tr>",
                            "<tr><td>33</td><td>3</td></tr>",
                            "<tr><td>34</td><td>3</td></tr>",
                            "<tr><td>35</td><td>6</td></tr>",
                            "<tr><td>36</td><td>4</td></tr>",
                            "<tr><td>37</td><td>2</td></tr>",
                            "<tr><td>38</td><td>5</td></tr>",
                            "<tr><td>39</td><td>4</td></tr>",
                            "<tr><td>40</td><td>3</td></tr>",
                            "<tr><td>41</td><td>1</td></tr>",
                            "<tr><td>42</td><td>5</td></tr>",
                            "<tr><td>43</td><td>4</td></tr>",
                            "<tr><td>44</td><td>6</td></tr>",
                            "<tr><td>45</td><td>4</td></tr>",
                            "<tr><td>46</td><td>3</td></tr>",
                            "<tr><td>47</td><td>2</td></tr>",
                            "<tr><td>48</td><td>6</td></tr>",
                            "<tr><td>49</td><td>5</td></tr>",
                            "<tr><td>50</td><td>3</td></tr>",
                            "<tr><td>51</td><td>3</td></tr>",
                            "<tr><td>52</td><td>5</td></tr>",
                            "<tr><td>54</td><td>4</td></tr>",
                            "<tr><td>55</td><td>3</td></tr>",
                            "<tr><td>56</td><td>1</td></tr>",
                            "<tr><td>57</td><td>3</td></tr>",
                            "<tr><td>58</td><td>8</td></tr>",
                            "<tr><td>59</td><td>4</td></tr>",
                            "<tr><td>60</td><td>1</td></tr>",
                            "<tr><td>61</td><td>4</td></tr>",
                            "<tr><td>62</td><td>3</td></tr>",
                            "<tr><td>63</td><td>3</td></tr>",
                            "<tr><td>64</td><td>5</td></tr>",
                            "<tr><td>66</td><td>3</td></tr>",
                            "<tr><td>67</td><td>2</td></tr>",
                            "<tr><td>69</td><td>2</td></tr>",
                            "<tr><td>70</td><td>8</td></tr>",
                            "<tr><td>71</td><td>2</td></tr>",
                            "<tr><td>72</td><td>2</td></tr>",
                            "<tr><td>73</td><td>4</td></tr>",
                            "<tr><td>74</td><td>8</td></tr>",
                            "<tr><td>75</td><td>2</td></tr>",
                            "<tr><td>76</td><td>2</td></tr>",
                            "<tr><td>77</td><td>3</td></tr>",
                            "<tr><td>78</td><td>3</td></tr>",
                            "<tr><td>79</td><td>4</td></tr>",
                            "<tr><td>80</td><td>5</td></tr>",
                            "<tr><td>81</td><td>3</td></tr>",
                            "<tr><td>82</td><td>5</td></tr>",
                            "<tr><td>83</td><td>5</td></tr>",
                            "<tr><td>84</td><td>3</td></tr>",
                            "<tr><td>85</td><td>2</td></tr>",
                            "<tr><td>86</td><td>4</td></tr>",
                            "<tr><td>87</td><td>5</td></tr>",
                            "<tr><td>88</td><td>5</td></tr>",
                            "<tr><td>89</td><td>8</td></tr>",
                            "<tr><td>90</td><td>3</td></tr>",
                            "<tr><td>91</td><td>2</td></tr>",
                            "<tr><td>92</td><td>5</td></tr>",
                            "<tr><td>93</td><td>3</td></tr>",
                            "<tr><td>94</td><td>6</td></tr>",
                            "<tr><td>95</td><td>3</td></tr>",
                            "<tr><td>96</td><td>6</td></tr>",
                            "<tr><td>97</td><td>5</td></tr>",
                            "<tr><td>98</td><td>4</td></tr>",
                            "<tr><td>99</td><td>4</td></tr>",
                            "<tr><td>100</td><td>2</td></tr>",
                            "<tr><td>101</td><td>1</td></tr>",
                            "<tr><td>102</td><td>1</td></tr>",
                            "<tr><td>103</td><td>1</td></tr>",
                            "<tr><td>104</td><td>3</td></tr>",
                            "<tr><td>106</td><td>4</td></tr>",
                            "<tr><td>107</td><td>4</td></tr>",
                            "<tr><td>108</td><td>1</td></tr>",
                            "<tr><td>109</td><td>2</td></tr>",
                            "<tr><td>110</td><td>5</td></tr>",
                            "<tr><td>111</td><td>1</td></tr>",
                            "<tr><td>112</td><td>4</td></tr>",
                            "<tr><td>113</td><td>2</td></tr>",
                            "<tr><td>114</td><td>1</td></tr>",
                            "<tr><td>115</td><td>5</td></tr>",
                            "<tr><td>117</td><td>4</td></tr>",
                            "<tr><td>118</td><td>2</td></tr>",
                            "<tr><td>119</td><td>4</td></tr>",
                            "<tr><td>120</td><td>2</td></tr>",
                            "<tr><td>121</td><td>5</td></tr>",
                            "<tr><td>122</td><td>3</td></tr>",
                            "<tr><td>123</td><td>5</td></tr>",
                            "<tr><td>124</td><td>4</td></tr>",
                            "<tr><td>126</td><td>4</td></tr>",
                            "<tr><td>127</td><td>5</td></tr>",
                            "<tr><td>129</td><td>3</td></tr>",
                            "<tr><td>130</td><td>5</td></tr>",
                            "<tr><td>131</td><td>4</td></tr>",
                            "<tr><td>132</td><td>4</td></tr>",
                            "<tr><td>133</td><td>4</td></tr>",
                            "<tr><td>134</td><td>4</td></tr>",
                            "<tr><td>135</td><td>3</td></tr>",
                            "<tr><td>136</td><td>2</td></tr>",
                            "<tr><td>137</td><td>2</td></tr>",
                            "<tr><td>138</td><td>5</td></tr>",
                            "<tr><td>139</td><td>6</td></tr>",
                            "<tr><td>140</td><td>5</td></tr>",
                            "<tr><td>141</td><td>4</td></tr>",
                            "<tr><td>142</td><td>1</td></tr>",
                            "<tr><td>143</td><td>5</td></tr>",
                            "<tr><td>144</td><td>2</td></tr>",
                            "<tr><td>145</td><td>2</td></tr>",
                            "<tr><td>146</td><td>3</td></tr>",
                            "<tr><td>147</td><td>1</td></tr>",
                            "<tr><td>148</td><td>5</td></tr>",
                            "<tr><td>149</td><td>5</td></tr>",
                            "<tr><td>150</td><td>6</td></tr>",
                            "<tr><td>151</td><td>2</td></tr>",
                            "<tr><td>152</td><td>3</td></tr>",
                            "<tr><td>153</td><td>4</td></tr>",
                            "<tr><td>154</td><td>3</td></tr>",
                            "<tr><td>155</td><td>3</td></tr>",
                            "<tr><td>156</td><td>2</td></tr>",
                            "<tr><td>157</td><td>2</td></tr>",
                            "<tr><td>158</td><td>3</td></tr>",
                            "<tr><td>160</td><td>2</td></tr>",
                            "<tr><td>161</td><td>3</td></tr>",
                            "<tr><td>162</td><td>2</td></tr>",
                            "<tr><td>163</td><td>5</td></tr>",
                            "<tr><td>164</td><td>4</td></tr>",
                            "<tr><td>165</td><td>5</td></tr>",
                            "<tr><td>166</td><td>3</td></tr>",
                            "<tr><td>167</td><td>2</td></tr>",
                            "<tr><td>168</td><td>1</td></tr>",
                            "<tr><td>169</td><td>3</td></tr>",
                            "<tr><td>170</td><td>3</td></tr>",
                            "<tr><td>171</td><td>5</td></tr>",
                            "<tr><td>172</td><td>6</td></tr>",
                            "<tr><td>173</td><td>3</td></tr>",
                            "<tr><td>174</td><td>4</td></tr>",
                            "<tr><td>175</td><td>3</td></tr>",
                            "<tr><td>176</td><td>2</td></tr>",
                            "<tr><td>177</td><td>1</td></tr>",
                            "<tr><td>178</td><td>1</td></tr>",
                            "<tr><td>179</td><td>2</td></tr>",
                            "<tr><td>180</td><td>1</td></tr>",
                            "<tr><td>181</td><td>5</td></tr>",
                            "<tr><td>182</td><td>11</td></tr>",
                            "<tr><td>183</td><td>3</td></tr>",
                            "<tr><td>184</td><td>4</td></tr>",
                            "<tr><td>185</td><td>10</td></tr>",
                            "<tr><td>186</td><td>1</td></tr>",
                            "<tr><td>187</td><td>6</td></tr>",
                            "<tr><td>188</td><td>2</td></tr>",
                            "<tr><td>189</td><td>1</td></tr>",
                            "<tr><td>190</td><td>5</td></tr>",
                            "<tr><td>191</td><td>3</td></tr>",
                            "<tr><td>192</td><td>1</td></tr>",
                            "<tr><td>193</td><td>2</td></tr>",
                            "<tr><td>194</td><td>1</td></tr>",
                            "<tr><td>195</td><td>5</td></tr>",
                            "<tr><td>196</td><td>2</td></tr>",
                            "<tr><td>197</td><td>6</td></tr>",
                            "<tr><td>198</td><td>7</td></tr>",
                            "<tr><td>Végösszeg</td><td>668</td></tr>",
                            "</table>"
                        ]
                    }
                }
            ],
            "execution_count": 5
        }
    ]
}