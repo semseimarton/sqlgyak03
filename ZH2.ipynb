{
    "metadata": {
        "kernelspec": {
            "name": "SQL",
            "display_name": "SQL",
            "language": "sql"
        },
        "language_info": {
            "name": "sql",
            "version": ""
        }
    },
    "nbformat_minor": 2,
    "nbformat": 4,
    "cells": [
        {
            "cell_type": "markdown",
            "source": [
                "1#"
            ],
            "metadata": {
                "azdata_cell_guid": "53127562-363f-46ba-995e-b5d562893b16"
            },
            "attachments": {}
        }
    ]
}